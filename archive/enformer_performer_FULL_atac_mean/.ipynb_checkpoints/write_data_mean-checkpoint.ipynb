{
 "cells": [
  {
   "cell_type": "code",
   "execution_count": 1,
   "id": "af6da237-2f79-4853-9ec7-6524dd9c3512",
   "metadata": {},
   "outputs": [
    {
     "name": "stderr",
     "output_type": "stream",
     "text": [
      "2023-02-06 17:05:34.941819: I tensorflow/core/platform/cpu_feature_guard.cc:193] This TensorFlow binary is optimized with oneAPI Deep Neural Network Library (oneDNN) to use the following CPU instructions in performance-critical operations:  AVX2 FMA\n",
      "To enable them in other operations, rebuild TensorFlow with the appropriate compiler flags.\n",
      "2023-02-06 17:05:35.141165: W tensorflow/compiler/xla/stream_executor/platform/default/dso_loader.cc:64] Could not load dynamic library 'libcudart.so.11.0'; dlerror: libcudart.so.11.0: cannot open shared object file: No such file or directory\n",
      "2023-02-06 17:05:35.141196: I tensorflow/compiler/xla/stream_executor/cuda/cudart_stub.cc:29] Ignore above cudart dlerror if you do not have a GPU set up on your machine.\n",
      "2023-02-06 17:05:36.081322: W tensorflow/compiler/xla/stream_executor/platform/default/dso_loader.cc:64] Could not load dynamic library 'libnvinfer.so.7'; dlerror: libnvinfer.so.7: cannot open shared object file: No such file or directory\n",
      "2023-02-06 17:05:36.081457: W tensorflow/compiler/xla/stream_executor/platform/default/dso_loader.cc:64] Could not load dynamic library 'libnvinfer_plugin.so.7'; dlerror: libnvinfer_plugin.so.7: cannot open shared object file: No such file or directory\n",
      "2023-02-06 17:05:36.081470: W tensorflow/compiler/tf2tensorrt/utils/py_utils.cc:38] TF-TRT Warning: Cannot dlopen some TensorRT libraries. If you would like to use Nvidia GPU with TensorRT, please make sure the missing libraries mentioned above are installed properly.\n"
     ]
    }
   ],
   "source": [
    "import time\n",
    "import os\n",
    "import subprocess\n",
    "import sys\n",
    "import re\n",
    "import argparse\n",
    "import collections\n",
    "import gzip\n",
    "import math\n",
    "import shutil\n",
    "\n",
    "import matplotlib.pyplot as plt\n",
    "import wandb\n",
    "import numpy as np\n",
    "import time\n",
    "from datetime import datetime\n",
    "import random\n",
    "\n",
    "import seaborn as sns\n",
    "%matplotlib inline\n",
    "import logging\n",
    "from silence_tensorflow import silence_tensorflow\n",
    "#silence_tensorflow()\n",
    "#os.environ['TPU_LOAD_LIBRARY']='0'\n",
    "os.environ['TF_ENABLE_EAGER_CLIENT_STREAMING_ENQUEUE']='False'\n",
    "import tensorflow as tf\n",
    "\n",
    "\n",
    "import tensorflow.experimental.numpy as tnp\n",
    "import tensorflow_addons as tfa\n",
    "from tensorflow import strings as tfs\n",
    "from tensorflow.keras import mixed_precision\n",
    "from scipy.stats.stats import pearsonr  \n",
    "from scipy.stats.stats import spearmanr  \n",
    "## custom modules\n",
    "import metrics as metrics\n",
    "from optimizers import *\n",
    "import schedulers as schedulers\n",
    "\n",
    "import training_utils_enformer_performer as training_utils\n",
    "\n",
    "import enformer_performer as enformer_performer\n",
    "\n",
    "from scipy import stats\n"
   ]
  },
  {
   "cell_type": "code",
   "execution_count": null,
   "id": "28c55c88-e4ae-4a47-9bad-b960e35209e0",
   "metadata": {},
   "outputs": [],
   "source": []
  },
  {
   "cell_type": "code",
   "execution_count": null,
   "id": "f7cdbc8d-6c3d-4cb5-821c-8c6ea717dc2e",
   "metadata": {},
   "outputs": [],
   "source": []
  },
  {
   "cell_type": "code",
   "execution_count": null,
   "id": "1cd05e8c-762f-480a-9232-ab6a46dcc2c7",
   "metadata": {},
   "outputs": [],
   "source": [
    "\"gs://picard-testing-176520/enformer_baseline_paired_ATAC_RAMPAGE/tfrecords\""
   ]
  },
  {
   "cell_type": "code",
   "execution_count": null,
   "id": "cf319fc4-b02e-4392-9b5d-e87da3fa944d",
   "metadata": {},
   "outputs": [],
   "source": [
    "def deserialize_tr(serialized_example,input_length,max_shift):\n",
    "    \"\"\"Deserialize bytes stored in TFRecordFile.\"\"\"\n",
    "    feature_map = {\n",
    "      'sequence': tf.io.FixedLenFeature([], tf.string),\n",
    "      'target': tf.io.FixedLenFeature([], tf.string),\n",
    "    }\n",
    "    ### stochastic sequence shift and gaussian noise\n",
    "\n",
    "    rev_comp = tf.math.round(g.uniform([], 0, 1))\n",
    "\n",
    "    shift =5\n",
    "\n",
    "    input_seq_length = input_length + max_shift\n",
    "\n",
    "\n",
    "    example = tf.io.parse_example(serialized_example, feature_map)\n",
    "\n",
    "    target = tf.io.decode_raw(example['target'], tf.float16)\n",
    "    target = tf.reshape(target,\n",
    "                        (1536, 62))\n",
    "\n",
    "    dnase_atac = tf.reduce_mean(target[:,31:],axis=1,keepdims=True)\n",
    "\n",
    "\n",
    "    return {'mean_acc': tf.ensure_shape(dnase_atac,\n",
    "                                        [1536,1])}\n",
    "                    "
   ]
  },
  {
   "cell_type": "code",
   "execution_count": null,
   "id": "b7136a70-3547-4297-95dc-f4d89b47b5bf",
   "metadata": {},
   "outputs": [],
   "source": [
    "def return_dataset(gcs_path,\n",
    "                   batch,\n",
    "                   input_length,\n",
    "                   max_shift,\n",
    "                   num_targets,\n",
    "                   options,\n",
    "                   num_parallel,\n",
    "                   num_epoch,\n",
    "                   g):\n",
    "    \"\"\"\n",
    "    return a tf dataset object for given gcs path\n",
    "    \"\"\"\n",
    "    wc = \"*.tfr\"\n",
    "\n",
    "    list_files = (tf.io.gfile.glob(os.path.join(gcs_path,\n",
    "                                                organism,\n",
    "                                                \"tfrecords\",\n",
    "                                                wc)))\n",
    "    #print(list_files)\n",
    "    random.shuffle(list_files)\n",
    "    files = tf.data.Dataset.list_files(list_files,shuffle=True)\n",
    "    \n",
    "    dataset = tf.data.TFRecordDataset(files,\n",
    "                                      compression_type='ZLIB',\n",
    "                                      num_parallel_reads=num_parallel)\n",
    "    dataset = dataset.with_options(options)\n",
    "\n",
    "        \n",
    "    dataset = dataset.map(lambda record: deserialize_tr(record,\n",
    "                                                        input_length,\n",
    "                                                        max_shift,\n",
    "                                                        num_targets,\n",
    "                                                        g),\n",
    "                          deterministic=False,\n",
    "                          num_parallel_calls=num_parallel)\n",
    "        \n",
    "\n",
    "    return dataset.repeat(num_epoch).batch(batch,drop_remainder=True).prefetch(1)\n"
   ]
  }
 ],
 "metadata": {
  "environment": {
   "name": "tf2-cpu.2-6.m81",
   "type": "gcloud",
   "uri": "gcr.io/deeplearning-platform-release/tf2-cpu.2-6:m81"
  },
  "kernelspec": {
   "display_name": "Python 3",
   "language": "python",
   "name": "python3"
  },
  "language_info": {
   "codemirror_mode": {
    "name": "ipython",
    "version": 3
   },
   "file_extension": ".py",
   "mimetype": "text/x-python",
   "name": "python",
   "nbconvert_exporter": "python",
   "pygments_lexer": "ipython3",
   "version": "3.7.10"
  }
 },
 "nbformat": 4,
 "nbformat_minor": 5
}
