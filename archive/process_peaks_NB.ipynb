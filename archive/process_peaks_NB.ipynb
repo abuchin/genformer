{
 "cells": [
  {
   "cell_type": "code",
   "execution_count": 1,
   "id": "208bbf7e-a5b2-4c2e-8c51-b1dc424cac85",
   "metadata": {},
   "outputs": [
    {
     "name": "stderr",
     "output_type": "stream",
     "text": [
      "2022-12-17 03:26:48.264763: W tensorflow/stream_executor/platform/default/dso_loader.cc:64] Could not load dynamic library 'libcudart.so.11.0'; dlerror: libcudart.so.11.0: cannot open shared object file: No such file or directory\n",
      "2022-12-17 03:26:48.264810: I tensorflow/stream_executor/cuda/cudart_stub.cc:29] Ignore above cudart dlerror if you do not have a GPU set up on your machine.\n",
      "/opt/conda/lib/python3.7/site-packages/tensorflow_addons/utils/ensure_tf_install.py:67: UserWarning: Tensorflow Addons supports using Python ops for all Tensorflow versions above or equal to 2.6.0 and strictly below 2.9.0 (nightly versions are not supported). \n",
      " The versions of TensorFlow you are currently using is 2.9.1 and is not supported. \n",
      "Some things might work, some things might not.\n",
      "If you were to encounter a bug, do not file an issue.\n",
      "If you want to make sure you're using a tested and supported configuration, either change the TensorFlow version or the TensorFlow Addons's version. \n",
      "You can find the compatibility matrix in TensorFlow Addon's readme:\n",
      "https://github.com/tensorflow/addons\n",
      "  UserWarning,\n"
     ]
    }
   ],
   "source": [
    "import time\n",
    "import os\n",
    "import subprocess\n",
    "import sys\n",
    "import re\n",
    "import argparse\n",
    "import collections\n",
    "import gzip\n",
    "import math\n",
    "import shutil\n",
    "import matplotlib.pyplot as plt\n",
    "import wandb\n",
    "import numpy as np\n",
    "import time\n",
    "from datetime import datetime\n",
    "import random\n",
    "\n",
    "import seaborn as sns\n",
    "%matplotlib inline\n",
    "import logging\n",
    "from silence_tensorflow import silence_tensorflow\n",
    "#silence_tensorflow()\n",
    "os.environ['TPU_LOAD_LIBRARY']='0'\n",
    "os.environ['TF_ENABLE_EAGER_CLIENT_STREAMING_ENQUEUE']='False'\n",
    "import tensorflow as tf\n",
    "\n",
    "\n",
    "import tensorflow.experimental.numpy as tnp\n",
    "import tensorflow_addons as tfa\n",
    "from tensorflow import strings as tfs\n",
    "from tensorflow.keras import mixed_precision\n",
    "from scipy.stats.stats import pearsonr  \n",
    "from scipy.stats.stats import spearmanr  \n",
    "## custom modules\n",
    "#import src.aformer_TF as aformer\n",
    "from src.layers.layers import *\n",
    "import src.metrics as metrics\n",
    "from src.optimizers import *\n",
    "import src.schedulers as schedulers\n",
    "import src.utils as utils\n",
    "\n",
    "import src.enformer_convs as enformer_convs\n",
    "\n",
    "import training_utils_PEAKS as training_utils\n",
    "\n",
    "from scipy import stats"
   ]
  },
  {
   "cell_type": "code",
   "execution_count": 2,
   "id": "3de7668d-79f1-4b21-9a51-e34390e5a28e",
   "metadata": {},
   "outputs": [
    {
     "name": "stderr",
     "output_type": "stream",
     "text": [
      "2022-12-17 03:26:50.303732: W tensorflow/stream_executor/platform/default/dso_loader.cc:64] Could not load dynamic library 'libcuda.so.1'; dlerror: libcuda.so.1: cannot open shared object file: No such file or directory\n",
      "2022-12-17 03:26:50.303780: W tensorflow/stream_executor/cuda/cuda_driver.cc:269] failed call to cuInit: UNKNOWN ERROR (303)\n",
      "2022-12-17 03:26:50.303802: I tensorflow/stream_executor/cuda/cuda_diagnostics.cc:156] kernel driver does not appear to be running on this host (tpu-genformer-v2-6): /proc/driver/nvidia/version does not exist\n",
      "2022-12-17 03:26:50.304089: I tensorflow/core/platform/cpu_feature_guard.cc:193] This TensorFlow binary is optimized with oneAPI Deep Neural Network Library (oneDNN) to use the following CPU instructions in performance-critical operations:  AVX2 FMA\n",
      "To enable them in other operations, rebuild TensorFlow with the appropriate compiler flags.\n"
     ]
    }
   ],
   "source": [
    "inits = training_utils.get_initializers(\"/home/jupyter/dev/BE_CD69_paper_2022/enformer_fine_tuning/checkpoint/sonnet_weights\")\n",
    "model = enformer_convs.enformer_convs(load_init=True,inits=inits)"
   ]
  },
  {
   "cell_type": "code",
   "execution_count": 3,
   "id": "f5cf659b-2a79-4c56-9e8a-09d733e7a7d2",
   "metadata": {},
   "outputs": [],
   "source": [
    "list_files = (tf.io.gfile.glob(os.path.join(\"gs://picard-testing-176520/enformer_baseline_ATAC_peaks_genomewide\",\n",
    "                                            \"*.tfr\")))"
   ]
  },
  {
   "cell_type": "code",
   "execution_count": 4,
   "id": "d47b3196-9fe4-4b68-9d76-5fe70347586b",
   "metadata": {},
   "outputs": [],
   "source": [
    "def one_hot(sequence):\n",
    "    '''\n",
    "    convert input string tensor to one hot encoded\n",
    "    will replace all N character with 0 0 0 0\n",
    "    '''\n",
    "    vocabulary = tf.constant(['A', 'C', 'G', 'T'])\n",
    "    mapping = tf.constant([0, 1, 2, 3])\n",
    "\n",
    "    init = tf.lookup.KeyValueTensorInitializer(keys=vocabulary,\n",
    "                                               values=mapping)\n",
    "    table = tf.lookup.StaticHashTable(init, default_value=5) # makes N correspond to all 0s\n",
    "\n",
    "    input_characters = tfs.upper(tfs.unicode_split(sequence, 'UTF-8'))\n",
    "\n",
    "    out = tf.one_hot(table.lookup(input_characters), \n",
    "                      depth = 4, \n",
    "                      dtype=tf.float32)\n",
    "    return out\n",
    "\n",
    "def rev_comp_one_hot(sequence):\n",
    "    '''\n",
    "    convert input string tensor to one hot encoded\n",
    "    will replace all N character with 0 0 0 0\n",
    "    '''\n",
    "    input_characters = tfs.upper(tfs.unicode_split(sequence, 'UTF-8'))\n",
    "    input_characters = tf.reverse(input_characters,[0])\n",
    "    \n",
    "    vocabulary = tf.constant(['T', 'G', 'C', 'A'])\n",
    "    mapping = tf.constant([0, 1, 2, 3])\n",
    "\n",
    "    init = tf.lookup.KeyValueTensorInitializer(keys=vocabulary,\n",
    "                                               values=mapping)\n",
    "    table = tf.lookup.StaticHashTable(init, default_value=1)\n",
    "\n",
    "    out = tf.one_hot(table.lookup(input_characters), \n",
    "                      depth = 4, \n",
    "                      dtype=tf.float32)\n",
    "    return out\n",
    "\n",
    "def random_encode(input_tuple):\n",
    "    sequence, randint = input_tuple\n",
    "    if randint == 0:\n",
    "        return one_hot(sequence)\n",
    "    else:\n",
    "        return rev_comp_one_hot(sequence)"
   ]
  },
  {
   "cell_type": "code",
   "execution_count": 5,
   "id": "0342c305-8ff1-4cbd-87f7-a7af0e9d6765",
   "metadata": {},
   "outputs": [],
   "source": [
    "def deserialize(serialized_example,\n",
    "                peaks_center_length,\n",
    "                number_peaks):\n",
    "    \"\"\"\n",
    "    Deserialize bytes stored in TFRecordFile.\n",
    "    \"\"\"\n",
    "    feature_map = {\n",
    "        'peaks_sequences': tf.io.FixedLenFeature([],tf.string)\n",
    "    }\n",
    "    \n",
    "    data = tf.io.parse_example(serialized_example, feature_map)\n",
    "    \n",
    "    \n",
    "    \n",
    "    ### process peaks\n",
    "    # first we want to randomly select the input peaks, let's say top 2000 out of 5000\n",
    "    split_test=tf.strings.split(\n",
    "        data['peaks_sequences'], sep='|', maxsplit=-1, name=None\n",
    "    )\n",
    "    split_test = split_test[:-1]\n",
    "    \n",
    "    idxs = tf.range(tf.shape(split_test)[0])\n",
    "    ridxs = tf.random.shuffle(idxs)[:number_peaks]\n",
    "    random_sample = tf.gather(split_test, ridxs)\n",
    "    \n",
    "    randints=tf.math.round(tf.random.uniform(shape=[number_peaks,],minval=0,maxval=1))\n",
    "    \n",
    "    peaks_sequences=tf.map_fn(random_encode,(random_sample,randints),fn_output_signature=tf.float32)\n",
    "    \n",
    "    return {\n",
    "        'peaks_sequences': tf.ensure_shape(peaks_sequences,[number_peaks,peaks_center_length,4])\n",
    "    }"
   ]
  },
  {
   "cell_type": "code",
   "execution_count": null,
   "id": "a02bf074-5e1b-46b5-9882-04958b18fa21",
   "metadata": {},
   "outputs": [],
   "source": [
    "for ind_file in list_files:\n",
    "    \n",
    "    files = tf.data.Dataset.list_files(ind_file)\n",
    "    \n",
    "    dataset = tf.data.TFRecordDataset(files,\n",
    "                                      compression_type='ZLIB',\n",
    "                                      num_parallel_reads=1)\n",
    "    \n",
    "    dataset = dataset.map(lambda record: deserialize(record,\n",
    "                                                     128,\n",
    "                                                     10000),\n",
    "                          deterministic=False,\n",
    "                          num_parallel_calls=1)\n",
    "    dataset= dataset.repeat(1).batch(1)\n",
    "    \n",
    "    out=next(iter(dataset))\n",
    "    model_out=model(out['peaks_sequences'])\n",
    "    mean=tf.reduce_mean(model_out[0,:,0,:],axis=0)\n",
    "    \n",
    "    name=ind_file.split('/')[-1].split('.')[0]\n",
    "    np.savetxt('enformer_base_line_GAP_peaks/' + name + '.out', mean, delimiter=',')\n",
    "    \n",
    "    "
   ]
  },
  {
   "cell_type": "code",
   "execution_count": 8,
   "id": "7c25549d-4de3-4766-8ce4-083ea1d4278a",
   "metadata": {},
   "outputs": [],
   "source": [
    "mean=tf.reduce_mean(model_out[0,:,0,:],axis=0)"
   ]
  },
  {
   "cell_type": "code",
   "execution_count": 10,
   "id": "21960142-c419-42e9-a6a9-08d2f00ffbce",
   "metadata": {},
   "outputs": [],
   "source": [
    "np.savetxt('test.out', mean, delimiter=',')"
   ]
  },
  {
   "cell_type": "code",
   "execution_count": null,
   "id": "5a51ad59-a9d2-4d88-8453-cdb99e627cbf",
   "metadata": {},
   "outputs": [],
   "source": [
    "len(unstacked)"
   ]
  },
  {
   "cell_type": "code",
   "execution_count": 13,
   "id": "ac280ece-2062-4286-894b-0da4fe48a8ca",
   "metadata": {},
   "outputs": [
    {
     "data": {
      "text/plain": [
       "array([ 51.32778168, -29.50163078, 110.26683807, ...,  43.71905518,\n",
       "         0.2550846 ,  36.57140732])"
      ]
     },
     "execution_count": 13,
     "metadata": {},
     "output_type": "execute_result"
    }
   ],
   "source": [
    "np.genfromtxt(\"test.out\", delimiter=\",\")"
   ]
  },
  {
   "cell_type": "code",
   "execution_count": 16,
   "id": "8e394378-7aaf-4af0-9d53-97b2a2a4fc48",
   "metadata": {},
   "outputs": [
    {
     "data": {
      "text/plain": [
       "'HG_A375'"
      ]
     },
     "execution_count": 16,
     "metadata": {},
     "output_type": "execute_result"
    }
   ],
   "source": [
    "ind_file.split('/')[-1].split('.')[0]"
   ]
  },
  {
   "cell_type": "code",
   "execution_count": null,
   "id": "9607e8ac-f877-4f7e-b3fe-a141d999ee8f",
   "metadata": {},
   "outputs": [],
   "source": []
  }
 ],
 "metadata": {
  "environment": {
   "name": "tf2-cpu.2-6.m81",
   "type": "gcloud",
   "uri": "gcr.io/deeplearning-platform-release/tf2-cpu.2-6:m81"
  },
  "kernelspec": {
   "display_name": "Python 3",
   "language": "python",
   "name": "python3"
  },
  "language_info": {
   "codemirror_mode": {
    "name": "ipython",
    "version": 3
   },
   "file_extension": ".py",
   "mimetype": "text/x-python",
   "name": "python",
   "nbconvert_exporter": "python",
   "pygments_lexer": "ipython3",
   "version": "3.7.10"
  }
 },
 "nbformat": 4,
 "nbformat_minor": 5
}
