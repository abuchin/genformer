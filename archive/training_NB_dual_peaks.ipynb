{
 "cells": [
  {
   "cell_type": "code",
   "execution_count": 1,
   "id": "68257381-79f5-437a-82d8-d69394e399f0",
   "metadata": {},
   "outputs": [
    {
     "name": "stderr",
     "output_type": "stream",
     "text": [
      "2022-11-11 18:02:49.039456: W tensorflow/stream_executor/platform/default/dso_loader.cc:64] Could not load dynamic library 'libcudart.so.11.0'; dlerror: libcudart.so.11.0: cannot open shared object file: No such file or directory\n",
      "2022-11-11 18:02:49.039507: I tensorflow/stream_executor/cuda/cudart_stub.cc:29] Ignore above cudart dlerror if you do not have a GPU set up on your machine.\n",
      "/opt/conda/lib/python3.7/site-packages/tensorflow_addons/utils/ensure_tf_install.py:67: UserWarning: Tensorflow Addons supports using Python ops for all Tensorflow versions above or equal to 2.6.0 and strictly below 2.9.0 (nightly versions are not supported). \n",
      " The versions of TensorFlow you are currently using is 2.9.1 and is not supported. \n",
      "Some things might work, some things might not.\n",
      "If you were to encounter a bug, do not file an issue.\n",
      "If you want to make sure you're using a tested and supported configuration, either change the TensorFlow version or the TensorFlow Addons's version. \n",
      "You can find the compatibility matrix in TensorFlow Addon's readme:\n",
      "https://github.com/tensorflow/addons\n",
      "  UserWarning,\n"
     ]
    }
   ],
   "source": [
    "import time\n",
    "import os\n",
    "import subprocess\n",
    "import sys\n",
    "import re\n",
    "import argparse\n",
    "import collections\n",
    "import gzip\n",
    "import math\n",
    "import shutil\n",
    "import matplotlib.pyplot as plt\n",
    "import wandb\n",
    "import numpy as np\n",
    "import time\n",
    "from datetime import datetime\n",
    "import random\n",
    "\n",
    "import seaborn as sns\n",
    "%matplotlib inline\n",
    "import logging\n",
    "from silence_tensorflow import silence_tensorflow\n",
    "#silence_tensorflow()\n",
    "#os.environ['TPU_LOAD_LIBRARY']='0'\n",
    "os.environ['TF_ENABLE_EAGER_CLIENT_STREAMING_ENQUEUE']='False'\n",
    "import tensorflow as tf\n",
    "\n",
    "\n",
    "import tensorflow.experimental.numpy as tnp\n",
    "import tensorflow_addons as tfa\n",
    "from tensorflow import strings as tfs\n",
    "from tensorflow.keras import mixed_precision\n",
    "from scipy.stats.stats import pearsonr  \n",
    "from scipy.stats.stats import spearmanr  \n",
    "## custom modules\n",
    "import src.aformer_dual_peaks as aformer\n",
    "#import src.aformer_TF as aformer\n",
    "from src.layers.layers_dual_peaks import *\n",
    "import src.metrics as metrics\n",
    "from src.optimizers import *\n",
    "import src.schedulers as schedulers\n",
    "import src.utils as utils\n",
    "\n",
    "import training_utils_aformer_TF_expression_peaks as training_utils\n",
    "\n",
    "from scipy import stats\n"
   ]
  },
  {
   "cell_type": "code",
   "execution_count": 16,
   "id": "cbe4e7f1-3968-44a6-b255-d24b26e7c1e8",
   "metadata": {},
   "outputs": [
    {
     "name": "stderr",
     "output_type": "stream",
     "text": [
      "/opt/conda/lib/python3.7/site-packages/seaborn/distributions.py:2619: FutureWarning: `distplot` is a deprecated function and will be removed in a future version. Please adapt your code to use either `displot` (a figure-level function with similar flexibility) or `histplot` (an axes-level function for histograms).\n",
      "  warnings.warn(msg, FutureWarning)\n",
      "/opt/conda/lib/python3.7/site-packages/seaborn/distributions.py:2619: FutureWarning: `distplot` is a deprecated function and will be removed in a future version. Please adapt your code to use either `displot` (a figure-level function with similar flexibility) or `histplot` (an axes-level function for histograms).\n",
      "  warnings.warn(msg, FutureWarning)\n",
      "/opt/conda/lib/python3.7/site-packages/seaborn/distributions.py:2619: FutureWarning: `distplot` is a deprecated function and will be removed in a future version. Please adapt your code to use either `displot` (a figure-level function with similar flexibility) or `histplot` (an axes-level function for histograms).\n",
      "  warnings.warn(msg, FutureWarning)\n",
      "/opt/conda/lib/python3.7/site-packages/seaborn/distributions.py:2619: FutureWarning: `distplot` is a deprecated function and will be removed in a future version. Please adapt your code to use either `displot` (a figure-level function with similar flexibility) or `histplot` (an axes-level function for histograms).\n",
      "  warnings.warn(msg, FutureWarning)\n",
      "/opt/conda/lib/python3.7/site-packages/seaborn/distributions.py:2619: FutureWarning: `distplot` is a deprecated function and will be removed in a future version. Please adapt your code to use either `displot` (a figure-level function with similar flexibility) or `histplot` (an axes-level function for histograms).\n",
      "  warnings.warn(msg, FutureWarning)\n",
      "/opt/conda/lib/python3.7/site-packages/seaborn/distributions.py:2619: FutureWarning: `distplot` is a deprecated function and will be removed in a future version. Please adapt your code to use either `displot` (a figure-level function with similar flexibility) or `histplot` (an axes-level function for histograms).\n",
      "  warnings.warn(msg, FutureWarning)\n",
      "/opt/conda/lib/python3.7/site-packages/seaborn/distributions.py:2619: FutureWarning: `distplot` is a deprecated function and will be removed in a future version. Please adapt your code to use either `displot` (a figure-level function with similar flexibility) or `histplot` (an axes-level function for histograms).\n",
      "  warnings.warn(msg, FutureWarning)\n",
      "/opt/conda/lib/python3.7/site-packages/seaborn/distributions.py:2619: FutureWarning: `distplot` is a deprecated function and will be removed in a future version. Please adapt your code to use either `displot` (a figure-level function with similar flexibility) or `histplot` (an axes-level function for histograms).\n",
      "  warnings.warn(msg, FutureWarning)\n",
      "/opt/conda/lib/python3.7/site-packages/seaborn/distributions.py:2619: FutureWarning: `distplot` is a deprecated function and will be removed in a future version. Please adapt your code to use either `displot` (a figure-level function with similar flexibility) or `histplot` (an axes-level function for histograms).\n",
      "  warnings.warn(msg, FutureWarning)\n",
      "/opt/conda/lib/python3.7/site-packages/seaborn/distributions.py:2619: FutureWarning: `distplot` is a deprecated function and will be removed in a future version. Please adapt your code to use either `displot` (a figure-level function with similar flexibility) or `histplot` (an axes-level function for histograms).\n",
      "  warnings.warn(msg, FutureWarning)\n",
      "/opt/conda/lib/python3.7/site-packages/seaborn/distributions.py:2619: FutureWarning: `distplot` is a deprecated function and will be removed in a future version. Please adapt your code to use either `displot` (a figure-level function with similar flexibility) or `histplot` (an axes-level function for histograms).\n",
      "  warnings.warn(msg, FutureWarning)\n",
      "/opt/conda/lib/python3.7/site-packages/seaborn/distributions.py:2619: FutureWarning: `distplot` is a deprecated function and will be removed in a future version. Please adapt your code to use either `displot` (a figure-level function with similar flexibility) or `histplot` (an axes-level function for histograms).\n",
      "  warnings.warn(msg, FutureWarning)\n",
      "/opt/conda/lib/python3.7/site-packages/seaborn/distributions.py:2619: FutureWarning: `distplot` is a deprecated function and will be removed in a future version. Please adapt your code to use either `displot` (a figure-level function with similar flexibility) or `histplot` (an axes-level function for histograms).\n",
      "  warnings.warn(msg, FutureWarning)\n"
     ]
    },
    {
     "data": {
      "image/png": "[encoded data removed]",
      "text/plain": [
       "<Figure size 432x288 with 1 Axes>"
      ]
     },
     "metadata": {
      "needs_background": "light"
     },
     "output_type": "display_data"
    }
   ],
   "source": [
    "def get_initializers(checkpoint_path):\n",
    "    \n",
    "    inside_checkpoint=tf.train.list_variables(tf.train.latest_checkpoint(checkpoint_path))\n",
    "    reader = tf.train.load_checkpoint(checkpoint_path)\n",
    "\n",
    "    initializers_dict = {'stem_conv_k': (reader.get_tensor('module/_trunk/_layers/0/_layers/0/w/.ATTRIBUTES/VARIABLE_VALUE')),\n",
    "                         'stem_conv_b': (reader.get_tensor('module/_trunk/_layers/0/_layers/0/b/.ATTRIBUTES/VARIABLE_VALUE')),\n",
    "                         'stem_res_conv_k': (reader.get_tensor('module/_trunk/_layers/0/_layers/1/_module/_layers/2/w/.ATTRIBUTES/VARIABLE_VALUE')),\n",
    "                         'stem_res_conv_b': (reader.get_tensor('module/_trunk/_layers/0/_layers/1/_module/_layers/2/b/.ATTRIBUTES/VARIABLE_VALUE')),\n",
    "                         'stem_res_conv_BN_g': (reader.get_tensor('module/_trunk/_layers/0/_layers/1/_module/_layers/0/scale/.ATTRIBUTES/VARIABLE_VALUE')),\n",
    "                         'stem_res_conv_BN_b': (reader.get_tensor('module/_trunk/_layers/0/_layers/1/_module/_layers/0/offset/.ATTRIBUTES/VARIABLE_VALUE')),\n",
    "                         'stem_res_conv_BN_m': (reader.get_tensor('module/_trunk/_layers/0/_layers/1/_module/_layers/0/moving_mean/average/.ATTRIBUTES/VARIABLE_VALUE')[0,0:]),\n",
    "                         'stem_res_conv_BN_v': (reader.get_tensor('module/_trunk/_layers/0/_layers/1/_module/_layers/0/moving_variance/average/.ATTRIBUTES/VARIABLE_VALUE')[0,0:]),\n",
    "                         'stem_pool': (reader.get_tensor('module/_trunk/_layers/0/_layers/2/_logit_linear/w/.ATTRIBUTES/VARIABLE_VALUE'))}\n",
    "\n",
    "    for i in range(6):\n",
    "        var_name_stem = 'module/_trunk/_layers/1/_layers/' + str(i) + '/_layers/' #0/moving_mean/_counter/.ATTRIBUTES/VARIABLE_VALUE'\n",
    "\n",
    "        conv1_k = var_name_stem + '0/_layers/2/w/.ATTRIBUTES/VARIABLE_VALUE'\n",
    "        conv1_b = var_name_stem + '0/_layers/2/b/.ATTRIBUTES/VARIABLE_VALUE'\n",
    "        BN1_g = var_name_stem + '0/_layers/0/scale/.ATTRIBUTES/VARIABLE_VALUE'\n",
    "        BN1_b = var_name_stem + '0/_layers/0/offset/.ATTRIBUTES/VARIABLE_VALUE'\n",
    "        BN1_m = var_name_stem + '0/_layers/0/moving_mean/average/.ATTRIBUTES/VARIABLE_VALUE'\n",
    "        BN1_v = var_name_stem + '0/_layers/0/moving_variance/average/.ATTRIBUTES/VARIABLE_VALUE'\n",
    "        conv2_k = var_name_stem + '1/_module/_layers/2/w/.ATTRIBUTES/VARIABLE_VALUE'\n",
    "        conv2_b = var_name_stem + '1/_module/_layers/2/b/.ATTRIBUTES/VARIABLE_VALUE'\n",
    "        BN2_g = var_name_stem + '1/_module/_layers/0/scale/.ATTRIBUTES/VARIABLE_VALUE'\n",
    "        BN2_b = var_name_stem + '1/_module/_layers/0/offset/.ATTRIBUTES/VARIABLE_VALUE'\n",
    "        BN2_m = var_name_stem + '1/_module/_layers/0/moving_mean/average/.ATTRIBUTES/VARIABLE_VALUE'\n",
    "        BN2_v = var_name_stem + '1/_module/_layers/0/moving_variance/average/.ATTRIBUTES/VARIABLE_VALUE'\n",
    "        pool = var_name_stem + '2/_logit_linear/w/.ATTRIBUTES/VARIABLE_VALUE'\n",
    "        all_vars = [conv1_k,\n",
    "                    conv1_b,\n",
    "                    BN1_g,\n",
    "                    BN1_b,\n",
    "                    BN1_m,\n",
    "                    BN1_v,\n",
    "                    conv2_k,\n",
    "                    conv2_b,\n",
    "                    BN2_g,\n",
    "                    BN2_b,\n",
    "                    BN2_m,\n",
    "                    BN2_v,\n",
    "                    pool]\n",
    "\n",
    "        out_dict = {'conv1_k_' + str(i): (reader.get_tensor(conv1_k)),\n",
    "                    'conv1_b_' + str(i): (reader.get_tensor(conv1_b)),\n",
    "                    'BN1_g_' + str(i): (reader.get_tensor(BN1_g)),\n",
    "                    'BN1_b_' + str(i): (reader.get_tensor(BN1_b)),\n",
    "                    'BN1_m_' + str(i): (reader.get_tensor(BN1_m)[0,0:]),\n",
    "                    'BN1_v_' + str(i): (reader.get_tensor(BN1_v)[0,0:]),\n",
    "                    'conv2_k_' + str(i): (reader.get_tensor(conv2_k)),\n",
    "                    'conv2_b_' + str(i): (reader.get_tensor(conv2_b)),\n",
    "                    'BN2_g_' + str(i): (reader.get_tensor(BN2_g)),\n",
    "                    'BN2_b_' + str(i): (reader.get_tensor(BN2_b)),\n",
    "                    'BN2_m_' + str(i): (reader.get_tensor(BN2_m)[0,0:]),\n",
    "                    'BN2_v_' + str(i): (reader.get_tensor(BN2_v)[0,0:]),\n",
    "                    'pool_' + str(i): (reader.get_tensor(pool))}\n",
    "\n",
    "        initializers_dict.update(out_dict)\n",
    "    return initializers_dict\n",
    "\n",
    "inits = get_initializers(\"/home/jupyter/dev/BE_CD69_paper_2022/enformer_fine_tuning/checkpoint/sonnet_weights\")\n",
    "\n",
    "counter = 0\n",
    "lst = []\n",
    "\n",
    "for k,v in inits.items():\n",
    "    if 'BN' in k:\n",
    "        if '_v' in k:\n",
    "            counter += 1\n",
    "            lst.append(str(counter))\n",
    "            sns.distplot(np.log10(1.0+v),\n",
    "                         label=counter)\n",
    "plt.legend(labels=lst)\n",
    "plt.show()"
   ]
  },
  {
   "cell_type": "code",
   "execution_count": 2,
   "id": "9aadaa2b-97e6-4744-8615-7525528f1123",
   "metadata": {},
   "outputs": [
    {
     "name": "stderr",
     "output_type": "stream",
     "text": [
      "2022-10-26 01:49:41.898206: W tensorflow/stream_executor/platform/default/dso_loader.cc:64] Could not load dynamic library 'libcuda.so.1'; dlerror: libcuda.so.1: cannot open shared object file: No such file or directory\n",
      "2022-10-26 01:49:41.898268: W tensorflow/stream_executor/cuda/cuda_driver.cc:269] failed call to cuInit: UNKNOWN ERROR (303)\n",
      "2022-10-26 01:49:41.898303: I tensorflow/stream_executor/cuda/cuda_diagnostics.cc:156] kernel driver does not appear to be running on this host (tpu-genformer-v2-6): /proc/driver/nvidia/version does not exist\n"
     ]
    },
    {
     "name": "stdout",
     "output_type": "stream",
     "text": [
      "INFO:tensorflow:Deallocate tpu buffers before initializing tpu system.\n"
     ]
    },
    {
     "name": "stderr",
     "output_type": "stream",
     "text": [
      "2022-10-26 01:49:42.340198: I tensorflow/core/platform/cpu_feature_guard.cc:193] This TensorFlow binary is optimized with oneAPI Deep Neural Network Library (oneDNN) to use the following CPU instructions in performance-critical operations:  AVX2 FMA\n",
      "To enable them in other operations, rebuild TensorFlow with the appropriate compiler flags.\n",
      "2022-10-26 01:49:42.655253: I tensorflow/core/distributed_runtime/rpc/grpc_channel.cc:272] Initialize GrpcChannelCache for job worker -> {0 -> 10.97.8.202:8470}\n",
      "2022-10-26 01:49:42.655320: I tensorflow/core/distributed_runtime/rpc/grpc_channel.cc:272] Initialize GrpcChannelCache for job localhost -> {0 -> localhost:36870}\n",
      "2022-10-26 01:49:42.847604: I tensorflow/core/distributed_runtime/rpc/grpc_channel.cc:272] Initialize GrpcChannelCache for job worker -> {0 -> 10.97.8.202:8470}\n",
      "2022-10-26 01:49:42.847653: I tensorflow/core/distributed_runtime/rpc/grpc_channel.cc:272] Initialize GrpcChannelCache for job localhost -> {0 -> localhost:36870}\n",
      "2022-10-26 01:49:42.849818: I tensorflow/core/distributed_runtime/rpc/grpc_server_lib.cc:438] Started server with target: grpc://localhost:36870\n",
      "INFO:tensorflow:Deallocate tpu buffers before initializing tpu system.\n"
     ]
    },
    {
     "name": "stdout",
     "output_type": "stream",
     "text": [
      "INFO:tensorflow:Initializing the TPU system: node-3\n"
     ]
    },
    {
     "name": "stderr",
     "output_type": "stream",
     "text": [
      "INFO:tensorflow:Initializing the TPU system: node-3\n"
     ]
    },
    {
     "name": "stdout",
     "output_type": "stream",
     "text": [
      "INFO:tensorflow:Finished initializing TPU system.\n"
     ]
    },
    {
     "name": "stderr",
     "output_type": "stream",
     "text": [
      "INFO:tensorflow:Finished initializing TPU system.\n"
     ]
    },
    {
     "name": "stdout",
     "output_type": "stream",
     "text": [
      "INFO:tensorflow:Found TPU system:\n"
     ]
    },
    {
     "name": "stderr",
     "output_type": "stream",
     "text": [
      "INFO:tensorflow:Found TPU system:\n"
     ]
    },
    {
     "name": "stdout",
     "output_type": "stream",
     "text": [
      "INFO:tensorflow:*** Num TPU Cores: 8\n"
     ]
    },
    {
     "name": "stderr",
     "output_type": "stream",
     "text": [
      "INFO:tensorflow:*** Num TPU Cores: 8\n"
     ]
    },
    {
     "name": "stdout",
     "output_type": "stream",
     "text": [
      "INFO:tensorflow:*** Num TPU Workers: 1\n"
     ]
    },
    {
     "name": "stderr",
     "output_type": "stream",
     "text": [
      "INFO:tensorflow:*** Num TPU Workers: 1\n"
     ]
    },
    {
     "name": "stdout",
     "output_type": "stream",
     "text": [
      "INFO:tensorflow:*** Num TPU Cores Per Worker: 8\n"
     ]
    },
    {
     "name": "stderr",
     "output_type": "stream",
     "text": [
      "INFO:tensorflow:*** Num TPU Cores Per Worker: 8\n"
     ]
    },
    {
     "name": "stdout",
     "output_type": "stream",
     "text": [
      "INFO:tensorflow:*** Available Device: _DeviceAttributes(/job:localhost/replica:0/task:0/device:CPU:0, CPU, 0, 0)\n"
     ]
    },
    {
     "name": "stderr",
     "output_type": "stream",
     "text": [
      "INFO:tensorflow:*** Available Device: _DeviceAttributes(/job:localhost/replica:0/task:0/device:CPU:0, CPU, 0, 0)\n"
     ]
    },
    {
     "name": "stdout",
     "output_type": "stream",
     "text": [
      "INFO:tensorflow:*** Available Device: _DeviceAttributes(/job:worker/replica:0/task:0/device:CPU:0, CPU, 0, 0)\n"
     ]
    },
    {
     "name": "stderr",
     "output_type": "stream",
     "text": [
      "INFO:tensorflow:*** Available Device: _DeviceAttributes(/job:worker/replica:0/task:0/device:CPU:0, CPU, 0, 0)\n"
     ]
    },
    {
     "name": "stdout",
     "output_type": "stream",
     "text": [
      "INFO:tensorflow:*** Available Device: _DeviceAttributes(/job:worker/replica:0/task:0/device:TPU:0, TPU, 0, 0)\n"
     ]
    },
    {
     "name": "stderr",
     "output_type": "stream",
     "text": [
      "INFO:tensorflow:*** Available Device: _DeviceAttributes(/job:worker/replica:0/task:0/device:TPU:0, TPU, 0, 0)\n"
     ]
    },
    {
     "name": "stdout",
     "output_type": "stream",
     "text": [
      "INFO:tensorflow:*** Available Device: _DeviceAttributes(/job:worker/replica:0/task:0/device:TPU:1, TPU, 0, 0)\n"
     ]
    },
    {
     "name": "stderr",
     "output_type": "stream",
     "text": [
      "INFO:tensorflow:*** Available Device: _DeviceAttributes(/job:worker/replica:0/task:0/device:TPU:1, TPU, 0, 0)\n"
     ]
    },
    {
     "name": "stdout",
     "output_type": "stream",
     "text": [
      "INFO:tensorflow:*** Available Device: _DeviceAttributes(/job:worker/replica:0/task:0/device:TPU:2, TPU, 0, 0)\n"
     ]
    },
    {
     "name": "stderr",
     "output_type": "stream",
     "text": [
      "INFO:tensorflow:*** Available Device: _DeviceAttributes(/job:worker/replica:0/task:0/device:TPU:2, TPU, 0, 0)\n"
     ]
    },
    {
     "name": "stdout",
     "output_type": "stream",
     "text": [
      "INFO:tensorflow:*** Available Device: _DeviceAttributes(/job:worker/replica:0/task:0/device:TPU:3, TPU, 0, 0)\n"
     ]
    },
    {
     "name": "stderr",
     "output_type": "stream",
     "text": [
      "INFO:tensorflow:*** Available Device: _DeviceAttributes(/job:worker/replica:0/task:0/device:TPU:3, TPU, 0, 0)\n"
     ]
    },
    {
     "name": "stdout",
     "output_type": "stream",
     "text": [
      "INFO:tensorflow:*** Available Device: _DeviceAttributes(/job:worker/replica:0/task:0/device:TPU:4, TPU, 0, 0)\n"
     ]
    },
    {
     "name": "stderr",
     "output_type": "stream",
     "text": [
      "INFO:tensorflow:*** Available Device: _DeviceAttributes(/job:worker/replica:0/task:0/device:TPU:4, TPU, 0, 0)\n"
     ]
    },
    {
     "name": "stdout",
     "output_type": "stream",
     "text": [
      "INFO:tensorflow:*** Available Device: _DeviceAttributes(/job:worker/replica:0/task:0/device:TPU:5, TPU, 0, 0)\n"
     ]
    },
    {
     "name": "stderr",
     "output_type": "stream",
     "text": [
      "INFO:tensorflow:*** Available Device: _DeviceAttributes(/job:worker/replica:0/task:0/device:TPU:5, TPU, 0, 0)\n"
     ]
    },
    {
     "name": "stdout",
     "output_type": "stream",
     "text": [
      "INFO:tensorflow:*** Available Device: _DeviceAttributes(/job:worker/replica:0/task:0/device:TPU:6, TPU, 0, 0)\n"
     ]
    },
    {
     "name": "stderr",
     "output_type": "stream",
     "text": [
      "INFO:tensorflow:*** Available Device: _DeviceAttributes(/job:worker/replica:0/task:0/device:TPU:6, TPU, 0, 0)\n"
     ]
    },
    {
     "name": "stdout",
     "output_type": "stream",
     "text": [
      "INFO:tensorflow:*** Available Device: _DeviceAttributes(/job:worker/replica:0/task:0/device:TPU:7, TPU, 0, 0)\n"
     ]
    },
    {
     "name": "stderr",
     "output_type": "stream",
     "text": [
      "INFO:tensorflow:*** Available Device: _DeviceAttributes(/job:worker/replica:0/task:0/device:TPU:7, TPU, 0, 0)\n"
     ]
    },
    {
     "name": "stdout",
     "output_type": "stream",
     "text": [
      "INFO:tensorflow:*** Available Device: _DeviceAttributes(/job:worker/replica:0/task:0/device:TPU_SYSTEM:0, TPU_SYSTEM, 0, 0)\n"
     ]
    },
    {
     "name": "stderr",
     "output_type": "stream",
     "text": [
      "INFO:tensorflow:*** Available Device: _DeviceAttributes(/job:worker/replica:0/task:0/device:TPU_SYSTEM:0, TPU_SYSTEM, 0, 0)\n"
     ]
    },
    {
     "name": "stdout",
     "output_type": "stream",
     "text": [
      "INFO:tensorflow:*** Available Device: _DeviceAttributes(/job:worker/replica:0/task:0/device:XLA_CPU:0, XLA_CPU, 0, 0)\n"
     ]
    },
    {
     "name": "stderr",
     "output_type": "stream",
     "text": [
      "INFO:tensorflow:*** Available Device: _DeviceAttributes(/job:worker/replica:0/task:0/device:XLA_CPU:0, XLA_CPU, 0, 0)\n",
      "WARNING:absl:options.experimental_threading is deprecated. Use options.threading instead.\n"
     ]
    }
   ],
   "source": [
    "resolver = tf.distribute.cluster_resolver.TPUClusterResolver(tpu='node-3')\n",
    "tf.config.experimental_connect_to_cluster(resolver)\n",
    "tf.tpu.experimental.initialize_tpu_system(resolver)\n",
    "strategy = tf.distribute.TPUStrategy(resolver)\n",
    "\n",
    "with strategy.scope():\n",
    "    options = tf.data.Options()\n",
    "    options.experimental_distribute.auto_shard_policy=\\\n",
    "        tf.data.experimental.AutoShardPolicy.FILE\n",
    "    options.deterministic=False\n",
    "    options.experimental_threading.max_intra_op_parallelism=1\n",
    "    mixed_precision.set_global_policy('mixed_bfloat16')\n",
    "    #options.num_devices = 64\n",
    "\n",
    "    BATCH_SIZE_PER_REPLICA = 8 # batch size 24, use LR ~ 2.5 e -04\n",
    "    NUM_REPLICAS = strategy.num_replicas_in_sync\n",
    "    GLOBAL_BATCH_SIZE = BATCH_SIZE_PER_REPLICA * NUM_REPLICAS\n",
    "    "
   ]
  },
  {
   "cell_type": "code",
   "execution_count": 3,
   "id": "9a80ed32-f9cb-4211-a9f4-e7338b167975",
   "metadata": {},
   "outputs": [],
   "source": [
    "with strategy.scope():\n",
    "    data_dict_tr,data_dict_val,data_dict_val_ho = training_utils.return_distributed_iterators(\"gs://picard-testing-176520/seqtoatac_98k_57kstride_blacklist0.25_peaks/preprocessed\",\n",
    "                                                                             \"gs://picard-testing-176520/seqtoatac_98k_57kstride_blacklist0.25_peaks/val_holdout/preprocessed\",\n",
    "                                                                             \"atac_only\",\n",
    "                                                                              GLOBAL_BATCH_SIZE,\n",
    "                                                                              98304,\n",
    "                                                                              768,\n",
    "                                                                              128,\n",
    "                                                                               20,\n",
    "                                                                               8,\n",
    "                                                                               50,\n",
    "                                                                               strategy,\n",
    "                                                                               options)\n"
   ]
  },
  {
   "cell_type": "code",
   "execution_count": 4,
   "id": "e7a41f23-f4de-415f-bd5d-8d47e9b278e5",
   "metadata": {},
   "outputs": [],
   "source": [
    "with strategy.scope():\n",
    "    inits = training_utils.get_initializers(\"/home/jupyter/dev/BE_CD69_paper_2022/enformer_fine_tuning/checkpoint/sonnet_weights\")\n",
    "    model = aformer.aformer(kernel_transformation = 'softmax_kernel_transformation',\n",
    "                            dropout_rate = 0.40,\n",
    "                            attention_dropout_rate = 0.25,\n",
    "                            tf_dropout_rate=0.25,\n",
    "                            pointwise_dropout_rate=0.15,\n",
    "                            input_length = 98304,\n",
    "                            atac_length_uncropped = 768,\n",
    "                            atac_output_length = 448,\n",
    "                             num_heads = 8,\n",
    "                             numerical_stabilizer = 0.001,\n",
    "                             nb_random_features = 256,\n",
    "                             hidden_size = 1600,\n",
    "                             transformer_depth_rna = 3,\n",
    "                             shared_transformer_depth = 4,\n",
    "                             pre_transf_channels = 1600,\n",
    "                             d_model = 1600,\n",
    "                             TF_inputs=256,\n",
    "                             norm=True,\n",
    "                             dim = 200, \n",
    "                             max_seq_length = 768,\n",
    "                             use_rot_emb = True,\n",
    "                             use_mask_pos = False, \n",
    "                             normalize = True,\n",
    "                             seed = 3,\n",
    "                             load_init=True,\n",
    "                             inits=inits,\n",
    "                             freeze_conv_layers=False)\n",
    "    "
   ]
  },
  {
   "cell_type": "code",
   "execution_count": 5,
   "id": "e4fbd23a-1806-49ab-b66b-b3474b39c443",
   "metadata": {},
   "outputs": [],
   "source": [
    "with strategy.scope():\n",
    "    scheduler1= tf.keras.optimizers.schedules.CosineDecay(\n",
    "        initial_learning_rate=2.0e-05,\n",
    "        decay_steps=1000, alpha=1.0)\n",
    "    scheduler1=WarmUp(initial_learning_rate=5.0e-05,\n",
    "                                 warmup_steps=50,\n",
    "                                 decay_schedule_fn=scheduler1)\n",
    "    optimizer1 = tfa.optimizers.AdamW(learning_rate=scheduler1,\n",
    "                                           weight_decay=5.0e-07)\n",
    "    \n",
    "    scheduler2= tf.keras.optimizers.schedules.CosineDecay(\n",
    "    initial_learning_rate=2.0e-04,\n",
    "    decay_steps=1000, alpha=1.0)\n",
    "    scheduler2=WarmUp(initial_learning_rate=2.0e-04,\n",
    "                                 warmup_steps=50,\n",
    "                                 decay_schedule_fn=scheduler2)\n",
    "    optimizer2 = tfa.optimizers.AdamW(learning_rate=scheduler2,\n",
    "                                          weight_decay=5.0e-07)\n",
    "    \n",
    "    scheduler3= tf.keras.optimizers.schedules.CosineDecay(\n",
    "    initial_learning_rate=12.0e-04,\n",
    "    decay_steps=1000, alpha=1.0)\n",
    "    scheduler3=WarmUp(initial_learning_rate=2.0e-04,\n",
    "                                 warmup_steps=50,\n",
    "                                 decay_schedule_fn=scheduler3)\n",
    "    optimizer3 = tfa.optimizers.AdamW(learning_rate=scheduler3,\n",
    "                                          weight_decay=5.0e-07)\n",
    "\n",
    "\n",
    "    optimizers_in=optimizer1,optimizer2,optimizer3\n",
    "    "
   ]
  },
  {
   "cell_type": "code",
   "execution_count": 6,
   "id": "5651b9f1-4546-40e5-badd-eb67ef423c79",
   "metadata": {},
   "outputs": [
    {
     "data": {
      "text/plain": [
       "TPUDistributedVariable:{\n",
       "  0: <tf.Variable 'iter:0' shape=() dtype=int64, numpy=0>,\n",
       "  1: <tf.Variable 'iter/replica_1:0' shape=() dtype=int64, numpy=0>,\n",
       "  2: <tf.Variable 'iter/replica_2:0' shape=() dtype=int64, numpy=0>,\n",
       "  3: <tf.Variable 'iter/replica_3:0' shape=() dtype=int64, numpy=0>,\n",
       "  4: <tf.Variable 'iter/replica_4:0' shape=() dtype=int64, numpy=0>,\n",
       "  5: <tf.Variable 'iter/replica_5:0' shape=() dtype=int64, numpy=0>,\n",
       "  6: <tf.Variable 'iter/replica_6:0' shape=() dtype=int64, numpy=0>,\n",
       "  7: <tf.Variable 'iter/replica_7:0' shape=() dtype=int64, numpy=0>\n",
       "}"
      ]
     },
     "execution_count": 6,
     "metadata": {},
     "output_type": "execute_result"
    }
   ],
   "source": [
    "optimizer3.iterations"
   ]
  },
  {
   "cell_type": "code",
   "execution_count": null,
   "id": "d199db55-b427-4081-bdd7-f1538b0e4f9e",
   "metadata": {},
   "outputs": [
    {
     "ename": "NameError",
     "evalue": "name 'strategy' is not defined",
     "output_type": "error",
     "traceback": [
      "\u001b[0;31m---------------------------------------------------------------------------\u001b[0m",
      "\u001b[0;31mNameError\u001b[0m                                 Traceback (most recent call last)",
      "\u001b[0;32m/tmp/ipykernel_2864/334786650.py\u001b[0m in \u001b[0;36m<module>\u001b[0;34m\u001b[0m\n\u001b[0;32m----> 1\u001b[0;31m \u001b[0;32mwith\u001b[0m \u001b[0mstrategy\u001b[0m\u001b[0;34m.\u001b[0m\u001b[0mscope\u001b[0m\u001b[0;34m(\u001b[0m\u001b[0;34m)\u001b[0m\u001b[0;34m:\u001b[0m\u001b[0;34m\u001b[0m\u001b[0;34m\u001b[0m\u001b[0m\n\u001b[0m\u001b[1;32m      2\u001b[0m     \u001b[0mmetric_dict\u001b[0m \u001b[0;34m=\u001b[0m \u001b[0;34m{\u001b[0m\u001b[0;34m}\u001b[0m\u001b[0;34m\u001b[0m\u001b[0;34m\u001b[0m\u001b[0m\n\u001b[1;32m      3\u001b[0m     \u001b[0mdist_train_step\u001b[0m\u001b[0;34m,\u001b[0m \u001b[0mdist_val_step\u001b[0m\u001b[0;34m,\u001b[0m\u001b[0mdist_val_step_atac_ho\u001b[0m\u001b[0;34m,\u001b[0m\u001b[0;31m\\\u001b[0m\u001b[0;34m\u001b[0m\u001b[0;34m\u001b[0m\u001b[0m\n\u001b[1;32m      4\u001b[0m         metric_dict = training_utils.return_train_val_functions(model,\n\u001b[1;32m      5\u001b[0m                                                                \u001b[0moptimizers_in\u001b[0m\u001b[0;34m,\u001b[0m\u001b[0;34m\u001b[0m\u001b[0;34m\u001b[0m\u001b[0m\n",
      "\u001b[0;31mNameError\u001b[0m: name 'strategy' is not defined"
     ]
    }
   ],
   "source": [
    "with strategy.scope():\n",
    "    metric_dict = {}\n",
    "    dist_train_step, dist_val_step,dist_val_step_atac_ho,\\\n",
    "        metric_dict = training_utils.return_train_val_functions(model,\n",
    "                                                                                               optimizers_in,\n",
    "                                                                                               strategy,\n",
    "                                                                                               metric_dict,\n",
    "                                                                                               250, \n",
    "                                                                                               100,\n",
    "                                                                                               100,\n",
    "                                                                                               GLOBAL_BATCH_SIZE,\n",
    "                                                                                               5.0,\n",
    "                                                                                               BATCH_SIZE_PER_REPLICA,       \n",
    "                                                                                               loss_fn_main='mse')\n"
   ]
  },
  {
   "cell_type": "code",
   "execution_count": null,
   "id": "dd2e13f2-2e3a-4413-ab0f-015296d538d7",
   "metadata": {},
   "outputs": [],
   "source": [
    "from scipy.stats.stats import pearsonr  \n",
    "with strategy.scope():\n",
    "    def sum_log(x):\n",
    "        return np.log10(1.0 + np.nansum(x))\n",
    "    \n",
    "    global_step = 0\n",
    "    val_losses = []\n",
    "    val_pearsons = []\n",
    "    val_R2 = [] \n",
    "    patience_counter = 0\n",
    "    stop_criteria = False\n",
    "    best_epoch = 0\n",
    "\n",
    "    for epoch_i in range(1, 15):\n",
    "        if epoch_i == 1:\n",
    "            build_step(data_dict_val)\n",
    "        start = time.time()\n",
    "\n",
    "        \n",
    "        #if epoch_i > 2 : \n",
    "        dist_train_step_atac(data_dict_tr)\n",
    "\n",
    "        print('hg_train_loss: ' + str(metric_dict['hg_tr'].result().numpy()))\n",
    "        \n",
    "        print('hg_train_loss_bce: ' + str(metric_dict['hg_tr_bce'].result().numpy()))\n",
    "        print('hg_train_loss_corr: ' + str(metric_dict['hg_tr_corr'].result().numpy()))\n",
    "        print('hg_train_loss_mse: ' + str(metric_dict['hg_tr_mse'].result().numpy()))\n",
    "\n",
    "        dist_val_step_atac(data_dict_val)\n",
    "        \n",
    "        dist_val_step_atac_ho(data_dict_val_ho)\n",
    "\n",
    "        print('hg_val_loss: ' + str(metric_dict['hg_val'].result().numpy()))\n",
    "        print('hg_ATAC_pearsons: ' + str(metric_dict['hg_pearsonsR_ATAC'].result()['PearsonR'].numpy()))\n",
    "        print('hg_ATAC_R2: ' + str(metric_dict['hg_R2_ATAC'].result()['R2'].numpy()))\n",
    "        print('hg_ATAC_pearsons_ho: ' + str(metric_dict['hg_pearsonsR_ATAC_ho'].result()['PearsonR'].numpy()))\n",
    "        print('hg_ATAC_R2_ho: ' + str(metric_dict['hg_R2_ATAC_ho'].result()['R2'].numpy()))\n",
    "        \n",
    "        #print('hg_val_AUPRC: ' + str(metric_dict['hg_val_AUPRC'].result().numpy()))\n",
    "        print('hg_val_AUPRC_ho: ' + str(metric_dict['hg_val_AUPRC_ho'].result().numpy()))\n",
    "        \n",
    "        end = time.time()\n",
    "        duration = (end - start) / 60.\n",
    "        print('completed epoch ' + str(epoch_i))\n",
    "        print('duration(mins): ' + str(duration))\n",
    "        print('patience counter at: ' + str(patience_counter))\n",
    "\n",
    "        for key, item in metric_dict.items():\n",
    "            item.reset_state()"
   ]
  },
  {
   "cell_type": "code",
   "execution_count": null,
   "id": "0f9b362f-f02f-4675-8d8b-9a77041e3691",
   "metadata": {},
   "outputs": [],
   "source": [
    "for k in model.trainable_variables:\n",
    "    var = k.values[0]\n",
    "    print(var.name)\n",
    "    print(var.shape)\n",
    "    #total_params += tf.size(var)"
   ]
  },
  {
   "cell_type": "code",
   "execution_count": null,
   "id": "649ea3ff-99b3-45e3-9bb9-cf5bf241b2bb",
   "metadata": {},
   "outputs": [],
   "source": []
  },
  {
   "cell_type": "code",
   "execution_count": null,
   "id": "a686afa1-2326-49e5-b73b-7db0dcaed93e",
   "metadata": {},
   "outputs": [],
   "source": []
  }
 ],
 "metadata": {
  "environment": {
   "name": "tf2-cpu.2-6.m81",
   "type": "gcloud",
   "uri": "gcr.io/deeplearning-platform-release/tf2-cpu.2-6:m81"
  },
  "kernelspec": {
   "display_name": "Python 3",
   "language": "python",
   "name": "python3"
  },
  "language_info": {
   "codemirror_mode": {
    "name": "ipython",
    "version": 3
   },
   "file_extension": ".py",
   "mimetype": "text/x-python",
   "name": "python",
   "nbconvert_exporter": "python",
   "pygments_lexer": "ipython3",
   "version": "3.7.10"
  }
 },
 "nbformat": 4,
 "nbformat_minor": 5
}
