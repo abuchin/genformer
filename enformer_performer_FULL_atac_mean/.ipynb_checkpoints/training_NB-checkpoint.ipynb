{
 "cells": [
  {
   "cell_type": "code",
   "execution_count": 1,
   "id": "f0f91784-f159-4d80-a394-1c57ea7d900c",
   "metadata": {},
   "outputs": [
    {
     "name": "stderr",
     "output_type": "stream",
     "text": [
      "2023-02-20 04:00:13.251844: I tensorflow/core/platform/cpu_feature_guard.cc:193] This TensorFlow binary is optimized with oneAPI Deep Neural Network Library (oneDNN) to use the following CPU instructions in performance-critical operations:  AVX2 FMA\n",
      "To enable them in other operations, rebuild TensorFlow with the appropriate compiler flags.\n",
      "2023-02-20 04:00:13.420514: W tensorflow/compiler/xla/stream_executor/platform/default/dso_loader.cc:64] Could not load dynamic library 'libcudart.so.11.0'; dlerror: libcudart.so.11.0: cannot open shared object file: No such file or directory\n",
      "2023-02-20 04:00:13.420560: I tensorflow/compiler/xla/stream_executor/cuda/cudart_stub.cc:29] Ignore above cudart dlerror if you do not have a GPU set up on your machine.\n",
      "2023-02-20 04:00:14.469241: W tensorflow/compiler/xla/stream_executor/platform/default/dso_loader.cc:64] Could not load dynamic library 'libnvinfer.so.7'; dlerror: libnvinfer.so.7: cannot open shared object file: No such file or directory\n",
      "2023-02-20 04:00:14.469386: W tensorflow/compiler/xla/stream_executor/platform/default/dso_loader.cc:64] Could not load dynamic library 'libnvinfer_plugin.so.7'; dlerror: libnvinfer_plugin.so.7: cannot open shared object file: No such file or directory\n",
      "2023-02-20 04:00:14.469401: W tensorflow/compiler/tf2tensorrt/utils/py_utils.cc:38] TF-TRT Warning: Cannot dlopen some TensorRT libraries. If you would like to use Nvidia GPU with TensorRT, please make sure the missing libraries mentioned above are installed properly.\n"
     ]
    }
   ],
   "source": [
    "import time\n",
    "import os\n",
    "import subprocess\n",
    "import sys\n",
    "import re\n",
    "import argparse\n",
    "import collections\n",
    "import gzip\n",
    "import math\n",
    "import shutil\n",
    "\n",
    "\n",
    "\n",
    "import matplotlib.pyplot as plt\n",
    "import wandb\n",
    "import numpy as np\n",
    "import time\n",
    "from datetime import datetime\n",
    "import random\n",
    "\n",
    "import seaborn as sns\n",
    "%matplotlib inline\n",
    "import logging\n",
    "from silence_tensorflow import silence_tensorflow\n",
    "#silence_tensorflow()\n",
    "#os.environ['TPU_LOAD_LIBRARY']='0'\n",
    "os.environ['TF_ENABLE_EAGER_CLIENT_STREAMING_ENQUEUE']='False'\n",
    "import tensorflow as tf\n",
    "\n",
    "\n",
    "import tensorflow.experimental.numpy as tnp\n",
    "import tensorflow_addons as tfa\n",
    "from tensorflow import strings as tfs\n",
    "from tensorflow.keras import mixed_precision\n",
    "from scipy.stats.stats import pearsonr  \n",
    "from scipy.stats.stats import spearmanr  \n",
    "## custom modules\n",
    "import metrics as metrics\n",
    "from optimizers import *\n",
    "import schedulers as schedulers\n",
    "\n",
    "import training_utils_enformer_performer as training_utils\n",
    "\n",
    "import enformer_performer as enformer_performer\n",
    "\n",
    "from scipy import stats\n"
   ]
  },
  {
   "cell_type": "code",
   "execution_count": 2,
   "id": "d33684ed-393f-4af6-83b8-ed8150d9be72",
   "metadata": {},
   "outputs": [
    {
     "name": "stderr",
     "output_type": "stream",
     "text": [
      "2023-02-20 04:00:15.836905: W tensorflow/compiler/xla/stream_executor/platform/default/dso_loader.cc:64] Could not load dynamic library 'libcuda.so.1'; dlerror: libcuda.so.1: cannot open shared object file: No such file or directory\n",
      "2023-02-20 04:00:15.836971: W tensorflow/compiler/xla/stream_executor/cuda/cuda_driver.cc:265] failed call to cuInit: UNKNOWN ERROR (303)\n",
      "2023-02-20 04:00:15.837008: I tensorflow/compiler/xla/stream_executor/cuda/cuda_diagnostics.cc:156] kernel driver does not appear to be running on this host (tpu-genformer-v2-6): /proc/driver/nvidia/version does not exist\n"
     ]
    },
    {
     "name": "stdout",
     "output_type": "stream",
     "text": [
      "INFO:tensorflow:Deallocate tpu buffers before initializing tpu system.\n"
     ]
    },
    {
     "name": "stderr",
     "output_type": "stream",
     "text": [
      "2023-02-20 04:00:16.136528: I tensorflow/core/platform/cpu_feature_guard.cc:193] This TensorFlow binary is optimized with oneAPI Deep Neural Network Library (oneDNN) to use the following CPU instructions in performance-critical operations:  AVX2 FMA\n",
      "To enable them in other operations, rebuild TensorFlow with the appropriate compiler flags.\n",
      "2023-02-20 04:00:16.163931: I tensorflow/core/distributed_runtime/rpc/grpc_server_lib.cc:447] Started server with target: grpc://localhost:34367\n",
      "INFO:tensorflow:Deallocate tpu buffers before initializing tpu system.\n"
     ]
    },
    {
     "name": "stdout",
     "output_type": "stream",
     "text": [
      "INFO:tensorflow:Initializing the TPU system: node-6\n"
     ]
    },
    {
     "name": "stderr",
     "output_type": "stream",
     "text": [
      "INFO:tensorflow:Initializing the TPU system: node-6\n"
     ]
    },
    {
     "name": "stdout",
     "output_type": "stream",
     "text": [
      "INFO:tensorflow:Finished initializing TPU system.\n"
     ]
    },
    {
     "name": "stderr",
     "output_type": "stream",
     "text": [
      "INFO:tensorflow:Finished initializing TPU system.\n"
     ]
    },
    {
     "name": "stdout",
     "output_type": "stream",
     "text": [
      "INFO:tensorflow:Found TPU system:\n"
     ]
    },
    {
     "name": "stderr",
     "output_type": "stream",
     "text": [
      "INFO:tensorflow:Found TPU system:\n"
     ]
    },
    {
     "name": "stdout",
     "output_type": "stream",
     "text": [
      "INFO:tensorflow:*** Num TPU Cores: 8\n"
     ]
    },
    {
     "name": "stderr",
     "output_type": "stream",
     "text": [
      "INFO:tensorflow:*** Num TPU Cores: 8\n"
     ]
    },
    {
     "name": "stdout",
     "output_type": "stream",
     "text": [
      "INFO:tensorflow:*** Num TPU Workers: 1\n"
     ]
    },
    {
     "name": "stderr",
     "output_type": "stream",
     "text": [
      "INFO:tensorflow:*** Num TPU Workers: 1\n"
     ]
    },
    {
     "name": "stdout",
     "output_type": "stream",
     "text": [
      "INFO:tensorflow:*** Num TPU Cores Per Worker: 8\n"
     ]
    },
    {
     "name": "stderr",
     "output_type": "stream",
     "text": [
      "INFO:tensorflow:*** Num TPU Cores Per Worker: 8\n"
     ]
    },
    {
     "name": "stdout",
     "output_type": "stream",
     "text": [
      "INFO:tensorflow:*** Available Device: _DeviceAttributes(/job:localhost/replica:0/task:0/device:CPU:0, CPU, 0, 0)\n"
     ]
    },
    {
     "name": "stderr",
     "output_type": "stream",
     "text": [
      "INFO:tensorflow:*** Available Device: _DeviceAttributes(/job:localhost/replica:0/task:0/device:CPU:0, CPU, 0, 0)\n"
     ]
    },
    {
     "name": "stdout",
     "output_type": "stream",
     "text": [
      "INFO:tensorflow:*** Available Device: _DeviceAttributes(/job:worker/replica:0/task:0/device:CPU:0, CPU, 0, 0)\n"
     ]
    },
    {
     "name": "stderr",
     "output_type": "stream",
     "text": [
      "INFO:tensorflow:*** Available Device: _DeviceAttributes(/job:worker/replica:0/task:0/device:CPU:0, CPU, 0, 0)\n"
     ]
    },
    {
     "name": "stdout",
     "output_type": "stream",
     "text": [
      "INFO:tensorflow:*** Available Device: _DeviceAttributes(/job:worker/replica:0/task:0/device:TPU:0, TPU, 0, 0)\n"
     ]
    },
    {
     "name": "stderr",
     "output_type": "stream",
     "text": [
      "INFO:tensorflow:*** Available Device: _DeviceAttributes(/job:worker/replica:0/task:0/device:TPU:0, TPU, 0, 0)\n"
     ]
    },
    {
     "name": "stdout",
     "output_type": "stream",
     "text": [
      "INFO:tensorflow:*** Available Device: _DeviceAttributes(/job:worker/replica:0/task:0/device:TPU:1, TPU, 0, 0)\n"
     ]
    },
    {
     "name": "stderr",
     "output_type": "stream",
     "text": [
      "INFO:tensorflow:*** Available Device: _DeviceAttributes(/job:worker/replica:0/task:0/device:TPU:1, TPU, 0, 0)\n"
     ]
    },
    {
     "name": "stdout",
     "output_type": "stream",
     "text": [
      "INFO:tensorflow:*** Available Device: _DeviceAttributes(/job:worker/replica:0/task:0/device:TPU:2, TPU, 0, 0)\n"
     ]
    },
    {
     "name": "stderr",
     "output_type": "stream",
     "text": [
      "INFO:tensorflow:*** Available Device: _DeviceAttributes(/job:worker/replica:0/task:0/device:TPU:2, TPU, 0, 0)\n"
     ]
    },
    {
     "name": "stdout",
     "output_type": "stream",
     "text": [
      "INFO:tensorflow:*** Available Device: _DeviceAttributes(/job:worker/replica:0/task:0/device:TPU:3, TPU, 0, 0)\n"
     ]
    },
    {
     "name": "stderr",
     "output_type": "stream",
     "text": [
      "INFO:tensorflow:*** Available Device: _DeviceAttributes(/job:worker/replica:0/task:0/device:TPU:3, TPU, 0, 0)\n"
     ]
    },
    {
     "name": "stdout",
     "output_type": "stream",
     "text": [
      "INFO:tensorflow:*** Available Device: _DeviceAttributes(/job:worker/replica:0/task:0/device:TPU:4, TPU, 0, 0)\n"
     ]
    },
    {
     "name": "stderr",
     "output_type": "stream",
     "text": [
      "INFO:tensorflow:*** Available Device: _DeviceAttributes(/job:worker/replica:0/task:0/device:TPU:4, TPU, 0, 0)\n"
     ]
    },
    {
     "name": "stdout",
     "output_type": "stream",
     "text": [
      "INFO:tensorflow:*** Available Device: _DeviceAttributes(/job:worker/replica:0/task:0/device:TPU:5, TPU, 0, 0)\n"
     ]
    },
    {
     "name": "stderr",
     "output_type": "stream",
     "text": [
      "INFO:tensorflow:*** Available Device: _DeviceAttributes(/job:worker/replica:0/task:0/device:TPU:5, TPU, 0, 0)\n"
     ]
    },
    {
     "name": "stdout",
     "output_type": "stream",
     "text": [
      "INFO:tensorflow:*** Available Device: _DeviceAttributes(/job:worker/replica:0/task:0/device:TPU:6, TPU, 0, 0)\n"
     ]
    },
    {
     "name": "stderr",
     "output_type": "stream",
     "text": [
      "INFO:tensorflow:*** Available Device: _DeviceAttributes(/job:worker/replica:0/task:0/device:TPU:6, TPU, 0, 0)\n"
     ]
    },
    {
     "name": "stdout",
     "output_type": "stream",
     "text": [
      "INFO:tensorflow:*** Available Device: _DeviceAttributes(/job:worker/replica:0/task:0/device:TPU:7, TPU, 0, 0)\n"
     ]
    },
    {
     "name": "stderr",
     "output_type": "stream",
     "text": [
      "INFO:tensorflow:*** Available Device: _DeviceAttributes(/job:worker/replica:0/task:0/device:TPU:7, TPU, 0, 0)\n"
     ]
    },
    {
     "name": "stdout",
     "output_type": "stream",
     "text": [
      "INFO:tensorflow:*** Available Device: _DeviceAttributes(/job:worker/replica:0/task:0/device:TPU_SYSTEM:0, TPU_SYSTEM, 0, 0)\n"
     ]
    },
    {
     "name": "stderr",
     "output_type": "stream",
     "text": [
      "INFO:tensorflow:*** Available Device: _DeviceAttributes(/job:worker/replica:0/task:0/device:TPU_SYSTEM:0, TPU_SYSTEM, 0, 0)\n"
     ]
    },
    {
     "name": "stdout",
     "output_type": "stream",
     "text": [
      "INFO:tensorflow:*** Available Device: _DeviceAttributes(/job:worker/replica:0/task:0/device:XLA_CPU:0, XLA_CPU, 0, 0)\n"
     ]
    },
    {
     "name": "stderr",
     "output_type": "stream",
     "text": [
      "INFO:tensorflow:*** Available Device: _DeviceAttributes(/job:worker/replica:0/task:0/device:XLA_CPU:0, XLA_CPU, 0, 0)\n",
      "WARNING:absl:options.experimental_threading is deprecated. Use options.threading instead.\n"
     ]
    }
   ],
   "source": [
    "resolver = tf.distribute.cluster_resolver.TPUClusterResolver(tpu='node-6')\n",
    "tf.config.experimental_connect_to_cluster(resolver)\n",
    "tf.tpu.experimental.initialize_tpu_system(resolver)\n",
    "strategy = tf.distribute.TPUStrategy(resolver)\n",
    "\n",
    "with strategy.scope():\n",
    "    options = tf.data.Options()\n",
    "    options.experimental_distribute.auto_shard_policy=\\\n",
    "        tf.data.experimental.AutoShardPolicy.FILE\n",
    "    options.deterministic=False\n",
    "    options.experimental_threading.max_intra_op_parallelism=1\n",
    "    mixed_precision.set_global_policy('mixed_bfloat16')\n",
    "    #options.num_devices = 64\n",
    "\n",
    "    BATCH_SIZE_PER_REPLICA = 64 # batch size 24, use LR ~ 2.5 e -04\n",
    "    NUM_REPLICAS = strategy.num_replicas_in_sync\n",
    "    GLOBAL_BATCH_SIZE = BATCH_SIZE_PER_REPLICA * NUM_REPLICAS\n",
    "    "
   ]
  },
  {
   "cell_type": "code",
   "execution_count": 3,
   "id": "93effd89-8681-48e6-be68-36e027605040",
   "metadata": {},
   "outputs": [
    {
     "name": "stdout",
     "output_type": "stream",
     "text": [
      "WARNING:tensorflow:From /opt/conda/lib/python3.7/site-packages/tensorflow/python/autograph/pyct/static_analysis/liveness.py:83: Analyzer.lamba_check (from tensorflow.python.autograph.pyct.static_analysis.liveness) is deprecated and will be removed after 2023-09-23.\n",
      "Instructions for updating:\n",
      "Lambda fuctions will be no more assumed to be used in the statement where they are used, or at least in the same block. https://github.com/tensorflow/tensorflow/issues/56089\n"
     ]
    },
    {
     "name": "stderr",
     "output_type": "stream",
     "text": [
      "WARNING:tensorflow:From /opt/conda/lib/python3.7/site-packages/tensorflow/python/autograph/pyct/static_analysis/liveness.py:83: Analyzer.lamba_check (from tensorflow.python.autograph.pyct.static_analysis.liveness) is deprecated and will be removed after 2023-09-23.\n",
      "Instructions for updating:\n",
      "Lambda fuctions will be no more assumed to be used in the statement where they are used, or at least in the same block. https://github.com/tensorflow/tensorflow/issues/56089\n"
     ]
    }
   ],
   "source": [
    "g = tf.random.Generator.from_non_deterministic_state()\n",
    "with strategy.scope():\n",
    "    iterators={'human': ('gs://genformer_data/expanded_originals/196k',5313),\n",
    "               'mouse': ('gs://genformer_data/expanded_originals/196k',1643)}\n",
    "\n",
    "\n",
    "    tr_data_it_dict,val_data_it_dict,val_data_TSS_it =  \\\n",
    "        training_utils.return_distributed_iterators(iterators,\n",
    "                                                    \"gs://genformer_data/expanded_originals/196k/human/tfrecords_tss\",\n",
    "                                                     GLOBAL_BATCH_SIZE,\n",
    "                                                     196608,\n",
    "                                                     10,\n",
    "                                                     4,\n",
    "                                                     10,\n",
    "                                                     strategy,\n",
    "                                                     options,\n",
    "                                                     g)\n"
   ]
  },
  {
   "cell_type": "code",
   "execution_count": 4,
   "id": "3bda31f4-8b22-49af-ab29-8ebe11c95022",
   "metadata": {},
   "outputs": [],
   "source": [
    "test = next(tr_data_it_dict['human'])"
   ]
  },
  {
   "cell_type": "code",
   "execution_count": 5,
   "id": "3538c425-f8c9-401c-931c-560834fea10e",
   "metadata": {},
   "outputs": [],
   "source": [
    "out = test['target'].values"
   ]
  },
  {
   "cell_type": "code",
   "execution_count": 6,
   "id": "df9302f9-df83-4ba7-823b-a67e0eb05881",
   "metadata": {},
   "outputs": [
    {
     "name": "stdout",
     "output_type": "stream",
     "text": [
      "(896, 673)\n"
     ]
    }
   ],
   "source": [
    "atac = []\n",
    "dnase = []\n",
    "for i in range(8):\n",
    "    for k in out[i]:\n",
    "        dnase_sub = tf.reduce_mean(k[:,:673],axis=1)\n",
    "        atac_sub = tf.reduce_mean(k[:,673:683],axis=1)\n",
    "        atac.append(atac_sub)\n",
    "        dnase.append(dnase_sub)\n",
    "        #print(dnase_sub.shape)\n",
    "        #print(atac_sub.shape)\n",
    "        break\n",
    "    break"
   ]
  },
  {
   "cell_type": "code",
   "execution_count": 4,
   "id": "b0de2869-14d8-46c8-9efd-77cb51e28a8d",
   "metadata": {},
   "outputs": [],
   "source": [
    "with strategy.scope():\n",
    "    model = enformer_performer.enformer_performer(\n",
    "        num_transformer_layers=4,\n",
    "        num_heads=8,\n",
    "        heads_channels= {'human': 5313,\n",
    "                         'mouse': 1643},\n",
    "        dim=194,\n",
    "        d_model=1552,\n",
    "        norm=True,\n",
    "        max_seq_length=1536,\n",
    "        nb_random_features=256,\n",
    "        hidden_size=1552,\n",
    "        numerical_stabilizer=0.001,\n",
    "        rel_pos_bins=1536,\n",
    "        use_mask_pos=False,\n",
    "        use_rot_emb=True,\n",
    "        freeze_conv_layers=True,\n",
    "        kernel_transformation=\"relu_kernel_transformation\",\n",
    "        normalize=True,\n",
    "        seed=5)"
   ]
  },
  {
   "cell_type": "code",
   "execution_count": 5,
   "id": "cb20d1ad-4e38-4e69-9e29-75a19e7bfc91",
   "metadata": {},
   "outputs": [],
   "source": [
    "with strategy.scope():        \n",
    "\n",
    "    optimizer1 = tf.keras.optimizers.Adam(learning_rate=1.0e-04)\n",
    "\n",
    "    optimizer2 = tf.keras.optimizers.Adam(learning_rate=1.0e-04)\n",
    "    optimizers_in = optimizer1,optimizer2\n",
    "\n",
    "    metric_dict = {}\n",
    "    organism_dict = {'human': (1000,100),\n",
    "                     'mouse': (1000,100)}\n",
    "\n",
    "    dist_train_step, dist_val_step_h,dist_val_step_m, val_step_TSS, build_step,metric_dict = training_utils.return_train_val_functions(model,\n",
    "                                                                                                                                         300,\n",
    "                                                                                                                                       150,\n",
    "                                                                                                                                       150,\n",
    "                                                                                                                                         150,\n",
    "                                                                                                                                         optimizers_in,\n",
    "                                                                                                                                         strategy,\n",
    "                                                                                                                                         metric_dict, \n",
    "                                                                                                                                         GLOBAL_BATCH_SIZE,\n",
    "                                                                                                                                        0.20,\n",
    "                                                                                                                                         BATCH_SIZE_PER_REPLICA,\n",
    "                                                                                                                                        loss_fn_main='poisson')\n",
    "\n",
    "    \n",
    "    \n",
    "    "
   ]
  },
  {
   "cell_type": "code",
   "execution_count": 6,
   "id": "2400a655-9fec-4661-aa56-415bf14c3191",
   "metadata": {},
   "outputs": [
    {
     "name": "stdout",
     "output_type": "stream",
     "text": [
      "starting epoch_ 1\n"
     ]
    },
    {
     "name": "stderr",
     "output_type": "stream",
     "text": [
      "/opt/conda/lib/python3.7/site-packages/keras/initializers/initializers_v2.py:121: UserWarning: The initializer RandomUniform is unseeded and being called multiple times, which will return identical values  each time (even if the initializer is unseeded). Please update your code to provide a seed to the initializer, or avoid using the same initalizer instance more than once.\n",
      "  f\"The initializer {self.__class__.__name__} is unseeded \"\n"
     ]
    }
   ],
   "source": [
    "with strategy.scope():        \n",
    "    ### main training loop\n",
    "    global_step = 0\n",
    "    val_losses = []\n",
    "    val_pearsons = []\n",
    "    val_R2 = []\n",
    "    patience_counter = 0\n",
    "    stop_criteria = False\n",
    "    best_epoch = 0\n",
    "\n",
    "    for epoch_i in range(1, 4):\n",
    "        print('starting epoch_', str(epoch_i))\n",
    "        start = time.time()\n",
    "        if epoch_i == 1:\n",
    "            # run once to build the model w/o updating anything\n",
    "            build_step(val_data_it_dict['human'])\n",
    "\n",
    "        break\n",
    "        dist_train_step(tr_data_it_dict['human'],\n",
    "                        tr_data_it_dict['mouse'])\n",
    "        \n",
    "\n",
    "\n",
    "        end = time.time()\n",
    "        duration = (end - start) / 60.\n",
    "        print('completed epoch ' + str(epoch_i))\n",
    "        print('hg_train_loss: ' + str(metric_dict['human_tr'].result().numpy()))\n",
    "        \n",
    "        print('training duration(mins): ' + str(duration))\n",
    "\n",
    "        start = time.time()\n",
    "        dist_val_step_h(val_data_it_dict['human'])\n",
    "\n",
    "        print('val_loss: ' + str(metric_dict['human_val'].result().numpy()))\n",
    "        val_losses.append(metric_dict['human_val'].result().numpy())\n",
    "\n",
    "        print('human_pearsonsR: ')\n",
    "        pearsonsR=np.nanmean(metric_dict['human_pearsonsR'].result()['PearsonR'].numpy())\n",
    "        print(pearsonsR)\n",
    "\n",
    "        val_pearsons.append(np.nanmedian(pearsonsR))\n",
    "        print('human_R2: ')\n",
    "        print(np.nanmean(metric_dict['human_R2'].result()['R2'].numpy()))\n",
    "\n",
    "\n",
    "        end = time.time()\n",
    "        duration = (end - start) / 60.\n",
    "        print('completed epoch ' + str(epoch_i) + ' validation')\n",
    "        print('validation duration(mins): ' + str(duration))\n",
    "        print('patience counter at: ' + str(patience_counter))\n",
    "\n",
    "        \n",
    "        val_step_TSS(val_data_TSS_it)\n",
    "        \n",
    "\n",
    "        y_trues = metric_dict['hg_corr_stats'].result()['y_trues'].numpy()\n",
    "        y_preds = metric_dict['hg_corr_stats'].result()['y_preds'].numpy()\n",
    "        cell_types = metric_dict['hg_corr_stats'].result()['cell_types'].numpy()\n",
    "        gene_map = metric_dict['hg_corr_stats'].result()['gene_map'].numpy()\n",
    "        \n",
    "        \n",
    "        \n",
    "        if (epoch_i > 2):\n",
    "            stop_criteria,patience_counter,best_epoch = \\\n",
    "                training_utils.early_stopping(current_val_loss=val_losses[-1],\n",
    "                                                logged_val_losses=val_losses,\n",
    "                                                current_pearsons=val_pearsons[-1],\n",
    "                                                logged_pearsons=val_pearsons,\n",
    "                                                current_epoch=epoch_i,\n",
    "                                                best_epoch=best_epoch,\n",
    "                                                save_freq=5,\n",
    "                                                patience=5,\n",
    "                                                patience_counter=patience_counter,\n",
    "                                                min_delta=1.0e-05,\n",
    "                                                model=enformer_model,\n",
    "                                                save_directory=\"gs://picard-testing-176520/test\",\n",
    "                                                saved_model_basename=\"test_model\",\n",
    "                                                checkpoint=checkpoint)\n",
    "        #plt.close('all')\n",
    "        print('patience counter at: ' + str(patience_counter))\n",
    "        for key, item in metric_dict.items():\n",
    "            item.reset_state()"
   ]
  },
  {
   "cell_type": "code",
   "execution_count": 8,
   "id": "3472f238-8ef0-4026-a003-56eaa4520b51",
   "metadata": {},
   "outputs": [
    {
     "name": "stdout",
     "output_type": "stream",
     "text": [
      "total params: tf.Tensor(117443132, shape=(), dtype=int32)\n"
     ]
    }
   ],
   "source": [
    "total_params=0\n",
    "for k in model.trainable_variables:\n",
    "    var = k.values[0]\n",
    "    total_params += tf.size(var)\n",
    "print('total params: ' + str(total_params)) "
   ]
  },
  {
   "cell_type": "code",
   "execution_count": null,
   "id": "1a7a8d0d-1b08-483d-a758-6e713ed85015",
   "metadata": {},
   "outputs": [],
   "source": [
    "def deserialize_val_TSS(serialized_example,input_length=196608,max_shift=10, out_length=896,num_targets=5313):\n",
    "    \"\"\"Deserialize bytes stored in TFRecordFile.\"\"\"\n",
    "    feature_map = {\n",
    "        'sequence': tf.io.FixedLenFeature([], tf.string),\n",
    "        'target': tf.io.FixedLenFeature([], tf.string),\n",
    "        'tss_mask': tf.io.FixedLenFeature([], tf.string),\n",
    "        'gene_name': tf.io.FixedLenFeature([], tf.string)\n",
    "    }\n",
    "    \n",
    "    data = tf.io.parse_example(serialized_example, feature_map)\n",
    "\n",
    "    shift = 5\n",
    "    input_seq_length = input_length + max_shift\n",
    "    interval_end = input_length + shift\n",
    "    \n",
    "    ### rev_comp\n",
    "    #rev_comp = random.randrange(0,2)\n",
    "\n",
    "    example = tf.io.parse_example(serialized_example, feature_map)\n",
    "    sequence = tf.io.decode_raw(example['sequence'], tf.bool)\n",
    "    sequence = tf.reshape(sequence, (input_length + max_shift, 4))\n",
    "    sequence = tf.cast(sequence, tf.float32)\n",
    "    sequence = tf.slice(sequence, [shift,0],[input_length,-1])\n",
    "    \n",
    "    target = tf.io.decode_raw(example['target'], tf.float16)\n",
    "    target = tf.reshape(target,\n",
    "                        (out_length, num_targets))\n",
    "    \n",
    "    tss_mask = tf.io.parse_tensor(data['tss_mask'],\n",
    "                                  out_type=tf.int32)\n",
    "\n",
    "    \n",
    "    gene_name= tf.io.parse_tensor(example['gene_name'],out_type=tf.int32)\n",
    "    gene_name = tf.tile(tf.expand_dims(gene_name,axis=0),[638])\n",
    "    cell_types = tf.range(0,638)\n",
    "    \n",
    "    return {'sequence': tf.ensure_shape(sequence,\n",
    "                                        [input_length,4]),\n",
    "            'target': tf.ensure_shape(target,\n",
    "                                      [896,num_targets]),\n",
    "            'tss_mask': tf.ensure_shape(tss_mask,\n",
    "                                        [896,1]),\n",
    "            'gene_name': tf.ensure_shape(gene_name,\n",
    "                                         [638,]),\n",
    "            'cell_types': tf.ensure_shape(cell_types,\n",
    "                                           [638,])}"
   ]
  },
  {
   "cell_type": "code",
   "execution_count": 31,
   "id": "c8c1bbdf-81e3-4530-87c4-dbc9ea9dedb5",
   "metadata": {},
   "outputs": [],
   "source": [
    "dataset = tf.data.TFRecordDataset(\"gs://genformer_data/expanded_originals/196k/human/tfrecords_tss/tssmask-valid-0-0.tfr\",\n",
    "                                  compression_type='ZLIB',\n",
    "                                  num_parallel_reads=4)\n",
    "#dataset = dataset.with_options(options)\n",
    "dataset = dataset.map(lambda record: deserialize_val_TSS(record),\n",
    "                      deterministic=False,\n",
    "                      num_parallel_calls=4)\n",
    "dataset=iter(dataset)"
   ]
  },
  {
   "cell_type": "code",
   "execution_count": 33,
   "id": "3e5d7a6a-5118-4056-8807-913310017ad7",
   "metadata": {},
   "outputs": [
    {
     "data": {
      "text/plain": [
       "(array([281, 282, 283, 284]), array([0, 0, 0, 0]))"
      ]
     },
     "execution_count": 33,
     "metadata": {},
     "output_type": "execute_result"
    }
   ],
   "source": [
    "test=next(dataset)\n",
    "np.nonzero(test['tss_mask'].numpy())"
   ]
  },
  {
   "cell_type": "code",
   "execution_count": 8,
   "id": "d2d5f341-041c-4ea8-9be9-e34627ce3d95",
   "metadata": {},
   "outputs": [],
   "source": []
  },
  {
   "cell_type": "code",
   "execution_count": 9,
   "id": "c05db38b-1d58-477a-8e79-0af019181aec",
   "metadata": {},
   "outputs": [
    {
     "data": {
      "text/plain": [
       "PerReplica:{\n",
       "  0: <tf.Tensor: shape=(1, 896, 5313), dtype=float16, numpy=\n",
       "array([[[0.01155 , 0.02716 , 0.0206  , ..., 0.      , 0.      ,\n",
       "         0.      ],\n",
       "        [0.0109  , 0.04666 , 0.0309  , ..., 0.      , 0.      ,\n",
       "         0.      ],\n",
       "        [0.00792 , 0.035   , 0.01932 , ..., 0.      , 0.      ,\n",
       "         0.      ],\n",
       "        ...,\n",
       "        [0.      , 0.006863, 0.      , ..., 0.      , 0.      ,\n",
       "         0.      ],\n",
       "        [0.      , 0.      , 0.002575, ..., 0.      , 0.0795  ,\n",
       "         0.      ],\n",
       "        [0.014786, 0.      , 0.03992 , ..., 0.      , 0.1423  ,\n",
       "         0.      ]]], dtype=float16)>,\n",
       "  1: <tf.Tensor: shape=(1, 896, 5313), dtype=float16, numpy=\n",
       "array([[[0.09924 , 0.0927  , 0.01834 , ..., 0.      , 0.      ,\n",
       "         0.      ],\n",
       "        [0.11127 , 0.1686  , 0.03397 , ..., 0.      , 0.9844  ,\n",
       "         0.      ],\n",
       "        [0.1432  , 0.2322  , 0.01851 , ..., 0.      , 0.      ,\n",
       "         0.      ],\n",
       "        ...,\n",
       "        [0.00663 , 0.01672 , 0.007565, ..., 0.01852 , 0.11566 ,\n",
       "         0.      ],\n",
       "        [0.004112, 0.001557, 0.      , ..., 0.      , 0.      ,\n",
       "         0.      ],\n",
       "        [0.0696  , 0.03845 , 0.04312 , ..., 0.      , 0.      ,\n",
       "         0.      ]]], dtype=float16)>,\n",
       "  2: <tf.Tensor: shape=(1, 896, 5313), dtype=float16, numpy=\n",
       "array([[[0.0323 , 0.02287, 0.01996, ..., 0.     , 0.     , 0.     ],\n",
       "        [0.03558, 0.0332 , 0.07806, ..., 0.     , 0.     , 0.     ],\n",
       "        [0.03824, 0.0284 , 0.00499, ..., 0.     , 0.     , 0.     ],\n",
       "        ...,\n",
       "        [0.     , 0.     , 0.     , ..., 0.     , 0.     , 0.     ],\n",
       "        [0.     , 0.     , 0.     , ..., 0.     , 0.     , 0.     ],\n",
       "        [0.     , 0.     , 0.     , ..., 0.     , 0.     , 0.     ]]],\n",
       "      dtype=float16)>,\n",
       "  3: <tf.Tensor: shape=(1, 896, 5313), dtype=float16, numpy=\n",
       "array([[[0.      , 0.      , 0.      , ..., 0.      , 0.1184  ,\n",
       "         0.      ],\n",
       "        [0.00742 , 0.005264, 0.      , ..., 0.      , 0.02199 ,\n",
       "         0.003363],\n",
       "        [0.00866 , 0.02127 , 0.01723 , ..., 0.      , 0.      ,\n",
       "         0.0611  ],\n",
       "        ...,\n",
       "        [0.0377  , 0.04834 , 0.      , ..., 0.      , 0.      ,\n",
       "         0.      ],\n",
       "        [0.04605 , 0.08356 , 0.01336 , ..., 0.      , 0.      ,\n",
       "         0.11633 ],\n",
       "        [0.06158 , 0.08026 , 0.06018 , ..., 0.      , 0.      ,\n",
       "         0.      ]]], dtype=float16)>,\n",
       "  4: <tf.Tensor: shape=(1, 896, 5313), dtype=float16, numpy=\n",
       "array([[[0.1236 , 0.1312 , 0.04828, ..., 0.08575, 0.     , 0.2308 ],\n",
       "        [0.1071 , 0.1121 , 0.0584 , ..., 0.03528, 0.09454, 0.3313 ],\n",
       "        [0.0879 , 0.08386, 0.01883, ..., 0.     , 0.     , 0.     ],\n",
       "        ...,\n",
       "        [0.1232 , 0.1165 , 0.066  , ..., 0.     , 0.     , 0.     ],\n",
       "        [0.1432 , 0.1168 , 0.1409 , ..., 0.     , 0.     , 0.     ],\n",
       "        [0.1416 , 0.1624 , 0.2174 , ..., 0.     , 0.     , 0.     ]]],\n",
       "      dtype=float16)>,\n",
       "  5: <tf.Tensor: shape=(1, 896, 5313), dtype=float16, numpy=\n",
       "array([[[0.      , 0.006336, 0.      , ..., 0.      , 0.      ,\n",
       "         0.      ],\n",
       "        [0.006214, 0.0087  , 0.      , ..., 0.      , 0.1772  ,\n",
       "         0.      ],\n",
       "        [0.01516 , 0.      , 0.      , ..., 0.      , 0.      ,\n",
       "         0.      ],\n",
       "        ...,\n",
       "        [0.02126 , 0.01666 , 0.01014 , ..., 0.      , 0.      ,\n",
       "         0.      ],\n",
       "        [0.0131  , 0.02234 , 0.05133 , ..., 0.      , 0.      ,\n",
       "         0.03116 ],\n",
       "        [0.0215  , 0.01453 , 0.01578 , ..., 0.      , 0.      ,\n",
       "         0.      ]]], dtype=float16)>,\n",
       "  6: <tf.Tensor: shape=(1, 896, 5313), dtype=float16, numpy=\n",
       "array([[[0.0171 , 0.01828, 0.0641 , ..., 0.     , 0.     , 0.     ],\n",
       "        [0.0739 , 0.0766 , 0.07513, ..., 0.     , 0.     , 0.     ],\n",
       "        [0.1009 , 0.10986, 0.1041 , ..., 0.     , 0.     , 0.     ],\n",
       "        ...,\n",
       "        [0.04416, 0.0361 , 0.02013, ..., 0.     , 0.     , 0.     ],\n",
       "        [0.1658 , 0.1466 , 0.0925 , ..., 0.10693, 1.861  , 0.226  ],\n",
       "        [0.169  , 0.1389 , 0.1335 , ..., 0.     , 0.     , 0.     ]]],\n",
       "      dtype=float16)>,\n",
       "  7: <tf.Tensor: shape=(1, 896, 5313), dtype=float16, numpy=\n",
       "array([[[0.11694 , 0.10345 , 0.05698 , ..., 0.      , 0.      ,\n",
       "         0.      ],\n",
       "        [0.01694 , 0.02464 , 0.007404, ..., 0.      , 0.      ,\n",
       "         0.      ],\n",
       "        [0.02943 , 0.0111  , 0.1101  , ..., 0.      , 0.      ,\n",
       "         0.      ],\n",
       "        ...,\n",
       "        [0.02324 , 0.0518  , 0.      , ..., 0.      , 0.      ,\n",
       "         0.      ],\n",
       "        [0.0357  , 0.04636 , 0.0531  , ..., 0.      , 0.      ,\n",
       "         0.      ],\n",
       "        [0.010414, 0.01159 , 0.02414 , ..., 0.      , 0.      ,\n",
       "         0.      ]]], dtype=float16)>\n",
       "}"
      ]
     },
     "execution_count": 9,
     "metadata": {},
     "output_type": "execute_result"
    }
   ],
   "source": []
  },
  {
   "cell_type": "code",
   "execution_count": 2,
   "id": "cc56688c-1efe-4d26-82b1-6d50175008e3",
   "metadata": {},
   "outputs": [],
   "source": [
    "def exponential_linspace_int(start, end, num, divisible_by=1):\n",
    "  \"\"\"Exponentially increasing values of integers.\"\"\"\n",
    "  def _round(x):\n",
    "    return int(np.round(x / divisible_by) * divisible_by)\n",
    "\n",
    "  base = np.exp(np.log(end / start) / (num - 1))\n",
    "  return [_round(start * base**i) for i in range(num)]"
   ]
  },
  {
   "cell_type": "code",
   "execution_count": 3,
   "id": "37f19548-3db5-4ce9-affc-036e33c0b999",
   "metadata": {},
   "outputs": [
    {
     "name": "stdout",
     "output_type": "stream",
     "text": [
      "[192, 221, 253, 291, 334, 384]\n"
     ]
    }
   ],
   "source": [
    "print(exponential_linspace_int(192,384,6))"
   ]
  },
  {
   "cell_type": "code",
   "execution_count": null,
   "id": "4a248a50-8ff5-4977-ad56-5aa46b58e32f",
   "metadata": {},
   "outputs": [],
   "source": []
  }
 ],
 "metadata": {
  "environment": {
   "name": "tf2-cpu.2-6.m81",
   "type": "gcloud",
   "uri": "gcr.io/deeplearning-platform-release/tf2-cpu.2-6:m81"
  },
  "kernelspec": {
   "display_name": "Python 3",
   "language": "python",
   "name": "python3"
  },
  "language_info": {
   "codemirror_mode": {
    "name": "ipython",
    "version": 3
   },
   "file_extension": ".py",
   "mimetype": "text/x-python",
   "name": "python",
   "nbconvert_exporter": "python",
   "pygments_lexer": "ipython3",
   "version": "3.7.10"
  }
 },
 "nbformat": 4,
 "nbformat_minor": 5
}
