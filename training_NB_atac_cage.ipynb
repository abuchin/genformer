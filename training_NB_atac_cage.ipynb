{
 "cells": [
  {
   "cell_type": "code",
   "execution_count": 1,
   "id": "ab370951-f6d4-4a16-858a-58d08b64c855",
   "metadata": {},
   "outputs": [
    {
     "name": "stderr",
     "output_type": "stream",
     "text": [
      "2023-03-18 21:28:55.276798: I tensorflow/core/platform/cpu_feature_guard.cc:193] This TensorFlow binary is optimized with oneAPI Deep Neural Network Library (oneDNN) to use the following CPU instructions in performance-critical operations:  AVX2 FMA\n",
      "To enable them in other operations, rebuild TensorFlow with the appropriate compiler flags.\n",
      "2023-03-18 21:28:55.491274: W tensorflow/compiler/xla/stream_executor/platform/default/dso_loader.cc:64] Could not load dynamic library 'libcudart.so.11.0'; dlerror: libcudart.so.11.0: cannot open shared object file: No such file or directory\n",
      "2023-03-18 21:28:55.491325: I tensorflow/compiler/xla/stream_executor/cuda/cudart_stub.cc:29] Ignore above cudart dlerror if you do not have a GPU set up on your machine.\n",
      "2023-03-18 21:28:56.495739: W tensorflow/compiler/xla/stream_executor/platform/default/dso_loader.cc:64] Could not load dynamic library 'libnvinfer.so.7'; dlerror: libnvinfer.so.7: cannot open shared object file: No such file or directory\n",
      "2023-03-18 21:28:56.495915: W tensorflow/compiler/xla/stream_executor/platform/default/dso_loader.cc:64] Could not load dynamic library 'libnvinfer_plugin.so.7'; dlerror: libnvinfer_plugin.so.7: cannot open shared object file: No such file or directory\n",
      "2023-03-18 21:28:56.495939: W tensorflow/compiler/tf2tensorrt/utils/py_utils.cc:38] TF-TRT Warning: Cannot dlopen some TensorRT libraries. If you would like to use Nvidia GPU with TensorRT, please make sure the missing libraries mentioned above are installed properly.\n"
     ]
    }
   ],
   "source": [
    "import time\n",
    "import os\n",
    "import subprocess\n",
    "import sys\n",
    "import re\n",
    "import argparse\n",
    "import collections\n",
    "import gzip\n",
    "import math\n",
    "import shutil\n",
    "import matplotlib.pyplot as plt\n",
    "import wandb\n",
    "import numpy as np\n",
    "import time\n",
    "from datetime import datetime\n",
    "import random\n",
    "\n",
    "import seaborn as sns\n",
    "%matplotlib inline\n",
    "import logging\n",
    "from silence_tensorflow import silence_tensorflow\n",
    "#silence_tensorflow()\n",
    "os.environ['TPU_LOAD_LIBRARY']='0'\n",
    "os.environ['TF_ENABLE_EAGER_CLIENT_STREAMING_ENQUEUE']='False'\n",
    "import tensorflow as tf\n",
    "\n",
    "\n",
    "import tensorflow.experimental.numpy as tnp\n",
    "import tensorflow_addons as tfa\n",
    "from tensorflow import strings as tfs\n",
    "from tensorflow.keras import mixed_precision\n",
    "from scipy.stats.stats import pearsonr  \n",
    "from scipy.stats.stats import spearmanr  \n",
    "## custom modules\n",
    "import src.aformer_atac_cage_early as aformer\n",
    "#import src.aformer_TF as aformer\n",
    "from src.layers.layers import *\n",
    "import src.metrics as metrics\n",
    "from src.optimizers import *\n",
    "import src.schedulers as schedulers\n",
    "import src.utils as utils\n",
    "\n",
    "import training_utils_atac as training_utils\n",
    "\n",
    "\n",
    "from scipy import stats"
   ]
  },
  {
   "cell_type": "code",
   "execution_count": 2,
   "id": "4d333d7e-5e30-4865-b2a0-f04221ade9ce",
   "metadata": {},
   "outputs": [
    {
     "name": "stderr",
     "output_type": "stream",
     "text": [
      "2023-03-18 21:28:58.055886: W tensorflow/compiler/xla/stream_executor/platform/default/dso_loader.cc:64] Could not load dynamic library 'libcuda.so.1'; dlerror: libcuda.so.1: cannot open shared object file: No such file or directory\n",
      "2023-03-18 21:28:58.056001: W tensorflow/compiler/xla/stream_executor/cuda/cuda_driver.cc:265] failed call to cuInit: UNKNOWN ERROR (303)\n",
      "2023-03-18 21:28:58.056043: I tensorflow/compiler/xla/stream_executor/cuda/cuda_diagnostics.cc:156] kernel driver does not appear to be running on this host (tpu-genformer-v2-6): /proc/driver/nvidia/version does not exist\n"
     ]
    },
    {
     "name": "stdout",
     "output_type": "stream",
     "text": [
      "INFO:tensorflow:Deallocate tpu buffers before initializing tpu system.\n"
     ]
    },
    {
     "name": "stderr",
     "output_type": "stream",
     "text": [
      "2023-03-18 21:28:58.424258: I tensorflow/core/platform/cpu_feature_guard.cc:193] This TensorFlow binary is optimized with oneAPI Deep Neural Network Library (oneDNN) to use the following CPU instructions in performance-critical operations:  AVX2 FMA\n",
      "To enable them in other operations, rebuild TensorFlow with the appropriate compiler flags.\n",
      "2023-03-18 21:28:58.450867: I tensorflow/core/distributed_runtime/rpc/grpc_server_lib.cc:447] Started server with target: grpc://localhost:54566\n",
      "INFO:tensorflow:Deallocate tpu buffers before initializing tpu system.\n"
     ]
    },
    {
     "name": "stdout",
     "output_type": "stream",
     "text": [
      "INFO:tensorflow:Initializing the TPU system: node-3\n"
     ]
    },
    {
     "name": "stderr",
     "output_type": "stream",
     "text": [
      "INFO:tensorflow:Initializing the TPU system: node-3\n"
     ]
    },
    {
     "name": "stdout",
     "output_type": "stream",
     "text": [
      "INFO:tensorflow:Finished initializing TPU system.\n"
     ]
    },
    {
     "name": "stderr",
     "output_type": "stream",
     "text": [
      "INFO:tensorflow:Finished initializing TPU system.\n"
     ]
    },
    {
     "name": "stdout",
     "output_type": "stream",
     "text": [
      "INFO:tensorflow:Found TPU system:\n"
     ]
    },
    {
     "name": "stderr",
     "output_type": "stream",
     "text": [
      "INFO:tensorflow:Found TPU system:\n"
     ]
    },
    {
     "name": "stdout",
     "output_type": "stream",
     "text": [
      "INFO:tensorflow:*** Num TPU Cores: 8\n"
     ]
    },
    {
     "name": "stderr",
     "output_type": "stream",
     "text": [
      "INFO:tensorflow:*** Num TPU Cores: 8\n"
     ]
    },
    {
     "name": "stdout",
     "output_type": "stream",
     "text": [
      "INFO:tensorflow:*** Num TPU Workers: 1\n"
     ]
    },
    {
     "name": "stderr",
     "output_type": "stream",
     "text": [
      "INFO:tensorflow:*** Num TPU Workers: 1\n"
     ]
    },
    {
     "name": "stdout",
     "output_type": "stream",
     "text": [
      "INFO:tensorflow:*** Num TPU Cores Per Worker: 8\n"
     ]
    },
    {
     "name": "stderr",
     "output_type": "stream",
     "text": [
      "INFO:tensorflow:*** Num TPU Cores Per Worker: 8\n"
     ]
    },
    {
     "name": "stdout",
     "output_type": "stream",
     "text": [
      "INFO:tensorflow:*** Available Device: _DeviceAttributes(/job:localhost/replica:0/task:0/device:CPU:0, CPU, 0, 0)\n"
     ]
    },
    {
     "name": "stderr",
     "output_type": "stream",
     "text": [
      "INFO:tensorflow:*** Available Device: _DeviceAttributes(/job:localhost/replica:0/task:0/device:CPU:0, CPU, 0, 0)\n"
     ]
    },
    {
     "name": "stdout",
     "output_type": "stream",
     "text": [
      "INFO:tensorflow:*** Available Device: _DeviceAttributes(/job:worker/replica:0/task:0/device:CPU:0, CPU, 0, 0)\n"
     ]
    },
    {
     "name": "stderr",
     "output_type": "stream",
     "text": [
      "INFO:tensorflow:*** Available Device: _DeviceAttributes(/job:worker/replica:0/task:0/device:CPU:0, CPU, 0, 0)\n"
     ]
    },
    {
     "name": "stdout",
     "output_type": "stream",
     "text": [
      "INFO:tensorflow:*** Available Device: _DeviceAttributes(/job:worker/replica:0/task:0/device:TPU:0, TPU, 0, 0)\n"
     ]
    },
    {
     "name": "stderr",
     "output_type": "stream",
     "text": [
      "INFO:tensorflow:*** Available Device: _DeviceAttributes(/job:worker/replica:0/task:0/device:TPU:0, TPU, 0, 0)\n"
     ]
    },
    {
     "name": "stdout",
     "output_type": "stream",
     "text": [
      "INFO:tensorflow:*** Available Device: _DeviceAttributes(/job:worker/replica:0/task:0/device:TPU:1, TPU, 0, 0)\n"
     ]
    },
    {
     "name": "stderr",
     "output_type": "stream",
     "text": [
      "INFO:tensorflow:*** Available Device: _DeviceAttributes(/job:worker/replica:0/task:0/device:TPU:1, TPU, 0, 0)\n"
     ]
    },
    {
     "name": "stdout",
     "output_type": "stream",
     "text": [
      "INFO:tensorflow:*** Available Device: _DeviceAttributes(/job:worker/replica:0/task:0/device:TPU:2, TPU, 0, 0)\n"
     ]
    },
    {
     "name": "stderr",
     "output_type": "stream",
     "text": [
      "INFO:tensorflow:*** Available Device: _DeviceAttributes(/job:worker/replica:0/task:0/device:TPU:2, TPU, 0, 0)\n"
     ]
    },
    {
     "name": "stdout",
     "output_type": "stream",
     "text": [
      "INFO:tensorflow:*** Available Device: _DeviceAttributes(/job:worker/replica:0/task:0/device:TPU:3, TPU, 0, 0)\n"
     ]
    },
    {
     "name": "stderr",
     "output_type": "stream",
     "text": [
      "INFO:tensorflow:*** Available Device: _DeviceAttributes(/job:worker/replica:0/task:0/device:TPU:3, TPU, 0, 0)\n"
     ]
    },
    {
     "name": "stdout",
     "output_type": "stream",
     "text": [
      "INFO:tensorflow:*** Available Device: _DeviceAttributes(/job:worker/replica:0/task:0/device:TPU:4, TPU, 0, 0)\n"
     ]
    },
    {
     "name": "stderr",
     "output_type": "stream",
     "text": [
      "INFO:tensorflow:*** Available Device: _DeviceAttributes(/job:worker/replica:0/task:0/device:TPU:4, TPU, 0, 0)\n"
     ]
    },
    {
     "name": "stdout",
     "output_type": "stream",
     "text": [
      "INFO:tensorflow:*** Available Device: _DeviceAttributes(/job:worker/replica:0/task:0/device:TPU:5, TPU, 0, 0)\n"
     ]
    },
    {
     "name": "stderr",
     "output_type": "stream",
     "text": [
      "INFO:tensorflow:*** Available Device: _DeviceAttributes(/job:worker/replica:0/task:0/device:TPU:5, TPU, 0, 0)\n"
     ]
    },
    {
     "name": "stdout",
     "output_type": "stream",
     "text": [
      "INFO:tensorflow:*** Available Device: _DeviceAttributes(/job:worker/replica:0/task:0/device:TPU:6, TPU, 0, 0)\n"
     ]
    },
    {
     "name": "stderr",
     "output_type": "stream",
     "text": [
      "INFO:tensorflow:*** Available Device: _DeviceAttributes(/job:worker/replica:0/task:0/device:TPU:6, TPU, 0, 0)\n"
     ]
    },
    {
     "name": "stdout",
     "output_type": "stream",
     "text": [
      "INFO:tensorflow:*** Available Device: _DeviceAttributes(/job:worker/replica:0/task:0/device:TPU:7, TPU, 0, 0)\n"
     ]
    },
    {
     "name": "stderr",
     "output_type": "stream",
     "text": [
      "INFO:tensorflow:*** Available Device: _DeviceAttributes(/job:worker/replica:0/task:0/device:TPU:7, TPU, 0, 0)\n"
     ]
    },
    {
     "name": "stdout",
     "output_type": "stream",
     "text": [
      "INFO:tensorflow:*** Available Device: _DeviceAttributes(/job:worker/replica:0/task:0/device:TPU_SYSTEM:0, TPU_SYSTEM, 0, 0)\n"
     ]
    },
    {
     "name": "stderr",
     "output_type": "stream",
     "text": [
      "INFO:tensorflow:*** Available Device: _DeviceAttributes(/job:worker/replica:0/task:0/device:TPU_SYSTEM:0, TPU_SYSTEM, 0, 0)\n"
     ]
    },
    {
     "name": "stdout",
     "output_type": "stream",
     "text": [
      "INFO:tensorflow:*** Available Device: _DeviceAttributes(/job:worker/replica:0/task:0/device:XLA_CPU:0, XLA_CPU, 0, 0)\n"
     ]
    },
    {
     "name": "stderr",
     "output_type": "stream",
     "text": [
      "INFO:tensorflow:*** Available Device: _DeviceAttributes(/job:worker/replica:0/task:0/device:XLA_CPU:0, XLA_CPU, 0, 0)\n"
     ]
    }
   ],
   "source": [
    "resolver = tf.distribute.cluster_resolver.TPUClusterResolver(tpu='node-3')\n",
    "tf.config.experimental_connect_to_cluster(resolver)\n",
    "tf.tpu.experimental.initialize_tpu_system(resolver)\n",
    "strategy = tf.distribute.TPUStrategy(resolver)\n",
    "\n",
    "with strategy.scope():\n",
    "    options = tf.data.Options()\n",
    "    options.experimental_distribute.auto_shard_policy = tf.data.experimental.AutoShardPolicy.FILE\n",
    "    options.deterministic=False\n",
    "    #options.experimental_threading.max_intra_op_parallelism = 1\n",
    "    mixed_precision.set_global_policy('mixed_bfloat16')\n",
    "    tf.config.optimizer.set_jit(True)\n",
    "    #options.num_devices = 64\n",
    "\n",
    "    BATCH_SIZE_PER_REPLICA = 1\n",
    "    NUM_REPLICAS = strategy.num_replicas_in_sync\n",
    "    GLOBAL_BATCH_SIZE = BATCH_SIZE_PER_REPLICA * NUM_REPLICAS"
   ]
  },
  {
   "cell_type": "code",
   "execution_count": null,
   "id": "c83ee30b-bf73-4231-aff5-6cfd183387d4",
   "metadata": {},
   "outputs": [
    {
     "name": "stdout",
     "output_type": "stream",
     "text": [
      "WARNING:tensorflow:From /opt/conda/lib/python3.7/site-packages/tensorflow/python/autograph/pyct/static_analysis/liveness.py:83: Analyzer.lamba_check (from tensorflow.python.autograph.pyct.static_analysis.liveness) is deprecated and will be removed after 2023-09-23.\n",
      "Instructions for updating:\n",
      "Lambda fuctions will be no more assumed to be used in the statement where they are used, or at least in the same block. https://github.com/tensorflow/tensorflow/issues/56089\n"
     ]
    },
    {
     "name": "stderr",
     "output_type": "stream",
     "text": [
      "WARNING:tensorflow:From /opt/conda/lib/python3.7/site-packages/tensorflow/python/autograph/pyct/static_analysis/liveness.py:83: Analyzer.lamba_check (from tensorflow.python.autograph.pyct.static_analysis.liveness) is deprecated and will be removed after 2023-09-23.\n",
      "Instructions for updating:\n",
      "Lambda fuctions will be no more assumed to be used in the statement where they are used, or at least in the same block. https://github.com/tensorflow/tensorflow/issues/56089\n"
     ]
    }
   ],
   "source": [
    "g = tf.random.Generator.from_seed(1)\n",
    "with strategy.scope():\n",
    "    data_tr,data_val,data_val_ho = training_utils.return_distributed_iterators(\"gs://picard-testing-176520/genformer_atac_pretrain/196k/genformer_atac_pretrain_globalacc_conv_rpgc\",\n",
    "                                                                                                            \"gs://picard-testing-176520/genformer_atac_pretrain/196k/genformer_atac_pretrain_globalacc_conv_rpgc\",\n",
    "                                                                                                           GLOBAL_BATCH_SIZE,\n",
    "                                                                                                           196608,\n",
    "                                                                                                           10,\n",
    "                                                                                                            49152,\n",
    "                                                                                                           1536,\n",
    "                                                                                                           320,\n",
    "                                                                                                           128,\n",
    "                                                                                                           8,\n",
    "                                                                                                           50,\n",
    "                                                                                                           strategy,\n",
    "                                                                                                           options,\n",
    "                                                                                                           0.025,\n",
    "                                                                                                            0.10,\n",
    "                                                                                                            True,\n",
    "                                                                                                           g)\n"
   ]
  },
  {
   "cell_type": "code",
   "execution_count": null,
   "id": "b8f9d938-b205-4fc0-a3ab-5d2d438329b2",
   "metadata": {},
   "outputs": [],
   "source": [
    "with strategy.scope():\n",
    "    #inits = training_utils.get_initializers_enformer_performer(\"gs://picard-testing-176520/enformer_performer_pretrain_atac_mean/models/enformer_performer_pretrain_atac_mean_EP_full_dataset__196k_load_init-True_freeze-False_LR1-1e-06_LR2-0.0001_T-4_F-1536_D-0.4_2023-02-24_16:27:50/iteration_16\",\n",
    "    #                                                           4,\n",
    "     #                                                          stable_variant=False)\n",
    "    #inits = training_utils.get_initializers_enformer_conv(\"gs://picard-testing-176520/sonnet_weights/sonnet_weights\",\n",
    "    #                                                      True,\n",
    "    #                                                      6)\n",
    "    inits = training_utils.get_initializers_enformer_performer(\"gs://picard-testing-176520/genformer_atac_pretrain/models/aformer_baseline_genformer_atac_196k_glob_acc-False_load-True_frz-False_LR1-7.5e-06_LR2-0.00025_T-9_D-0.05_2023-03-18_01:43:51/iteration_20\",\n",
    "                                                              9,\n",
    "                                                               stable_variant=False)\n",
    "                                                          \n",
    "    model = aformer.aformer(kernel_transformation = 'relu_kernel_transformation',\n",
    "                             dropout_rate = 0.05,\n",
    "                             pointwise_dropout_rate=0.1,\n",
    "                             input_length = 196608,\n",
    "                             output_length = 1536,\n",
    "                             final_output_length = 896,\n",
    "                             num_heads = 8,\n",
    "                             numerical_stabilizer = 0.001,\n",
    "                             nb_random_features = 256,\n",
    "                             num_transformer_layers = 9,\n",
    "                             norm=True,\n",
    "                             BN_momentum=0.90,\n",
    "                             max_seq_length = 1536,\n",
    "                             use_rot_emb = True,\n",
    "                             use_mask_pos = False, \n",
    "                             normalize = True,\n",
    "                             seed = 3,\n",
    "                             load_init=True,\n",
    "                             stable_variant=False,\n",
    "                             inits=inits,\n",
    "                             freeze_conv_layers=False,\n",
    "                             learnable_PE=True,\n",
    "                             filter_list_seq=[768,896,1024,1152,1280,1536],\n",
    "                             inits_type='enformer_performer')"
   ]
  },
  {
   "cell_type": "code",
   "execution_count": null,
   "id": "16d8558d-6d83-4558-b8b5-db84a59e282b",
   "metadata": {},
   "outputs": [],
   "source": [
    "with strategy.scope():\n",
    "    optimizer1 = tfa.optimizers.AdaBelief(\n",
    "        learning_rate= 1.0e-06,\n",
    "        epsilon= 1.0e-14,\n",
    "        weight_decay= 1.0e-08,\n",
    "        rectify=True\n",
    "    )\n",
    "    optimizer2 = tfa.optimizers.AdaBelief(\n",
    "        learning_rate= 1.0e-04,\n",
    "        epsilon= 1.0e-14,\n",
    "        weight_decay= 1.0e-08,\n",
    "        rectify=True\n",
    "    )\n",
    "    \n",
    "    optimizers_in=optimizer1,optimizer2\n",
    "    "
   ]
  },
  {
   "cell_type": "code",
   "execution_count": null,
   "id": "b7839285-c85c-4bf9-9ca0-d8cd3ef7f290",
   "metadata": {},
   "outputs": [],
   "source": [
    "with strategy.scope():\n",
    "    metric_dict = {}\n",
    "    train_step, val_step,val_step_ho, build_step, metric_dict = training_utils.return_train_val_functions(model,\n",
    "                                                                                    450,\n",
    "                                                                                    200,\n",
    "                                                                                     200,\n",
    "                                                                                      optimizers_in,\n",
    "                                                                                      strategy,\n",
    "                                                                                      metric_dict,\n",
    "                                                                                      GLOBAL_BATCH_SIZE,\n",
    "                                                                                    10.0)"
   ]
  },
  {
   "cell_type": "code",
   "execution_count": null,
   "id": "d13d7eb8-7b92-44d8-92a7-2759896f8c89",
   "metadata": {},
   "outputs": [],
   "source": [
    "from scipy.stats.stats import pearsonr  \n",
    "with strategy.scope():\n",
    "    def sum_log(x):\n",
    "        return np.log10(1.0 + np.nansum(x))\n",
    "    \n",
    "    global_step = 0\n",
    "    val_losses = []\n",
    "    val_pearsons = []\n",
    "    val_R2 = []\n",
    "    patience_counter = 0\n",
    "    stop_criteria = False\n",
    "    best_epoch = 0\n",
    "\n",
    "    for epoch_i in range(1, 10):\n",
    "        start = time.time()\n",
    "        if epoch_i == 1:\n",
    "            build_step(data_val)\n",
    "            total_params = 0\n",
    "            for k in model.trainable_variables:\n",
    "                var = k.values[0]\n",
    "                total_params += tf.size(var)\n",
    "            print('total params: ' + str(total_params))\n",
    "\n",
    "\n",
    "        train_step(data_tr)\n",
    "        #train_step(data_tr)\n",
    "\n",
    "        print('hg_train_loss: ' + str(metric_dict['train_loss'].result().numpy()))\n",
    "        \n",
    "        val_step(data_val)\n",
    "        #val_step(data_val)\n",
    "\n",
    "        val_losses.append(metric_dict['val_loss'].result().numpy())\n",
    "        print('hg_val_loss: ' + str(metric_dict['val_loss'].result().numpy()))\n",
    "        print('hg_val_loss_CAGE: ' + str(metric_dict['val_loss_CAGE'].result().numpy()))\n",
    "        print('hg_val_loss_ATAC: ' + str(metric_dict['val_loss_ATAC'].result().numpy()))\n",
    "        print('hg_val_cage_pearson: ' + str(metric_dict['CAGE_PearsonR'].result()['PearsonR'].numpy()))\n",
    "        print('hg_val_cage_R2: ' + str(metric_dict['CAGE_R2'].result()['R2'].numpy()))\n",
    "        \n",
    "        print('hg_val_atac_pearson: ' + str(metric_dict['ATAC_PearsonR'].result()['PearsonR'].numpy()))\n",
    "        print('hg_val_atac_R2: ' + str(metric_dict['ATAC_R2'].result()['R2'].numpy()))\n",
    "        \n",
    "        \n",
    "        #print('hg_val_atac_baseline_pearson: ' + str(metric_dict['ATAC_PearsonR_baseline'].result()['PearsonR'].numpy()))\n",
    "        #print('hg_val_atac_baseline_R2: ' + str(metric_dict['ATAC_R2_baseline'].result()['R2'].numpy()))\n",
    "        \n",
    "        val_step_ho(data_val_TSS)\n",
    "        #val_step_TSS(data_val_TSS)\n",
    "        \n",
    "        y_trues = metric_dict['corr_stats'].result()['y_trues'].numpy()\n",
    "        y_preds = metric_dict['corr_stats'].result()['y_preds'].numpy()\n",
    "        cell_types = metric_dict['corr_stats'].result()['cell_types'].numpy()\n",
    "        gene_map = metric_dict['corr_stats'].result()['gene_map'].numpy()\n",
    "\n",
    "\n",
    "        figures, corrs_overall = training_utils.make_plots(y_trues,\n",
    "                                           y_preds, \n",
    "                                           cell_types, \n",
    "                                           gene_map,100)\n",
    "        \n",
    "        cell_spec,gene_spec,cell_spec_sp,gene_spec_sp = corrs_overall\n",
    "        \n",
    "        print('cell spec corr: ' + str(cell_spec))\n",
    "        print('gene_spec_corr:' + str(gene_spec))\n",
    "        print('cell spec corr_sp: ' + str(cell_spec_sp))\n",
    "        print('gene_spec_corr_sp:' + str(gene_spec_sp))\n",
    "\n",
    "        end = time.time()\n",
    "        duration = (end - start) / 60.\n",
    "        print('completed epoch ' + str(epoch_i))\n",
    "        print('duration(mins): ' + str(duration))\n",
    "        print('patience counter at: ' + str(patience_counter))\n",
    "        \n",
    "        for key, item in metric_dict.items():\n",
    "            item.reset_state()\n",
    "        "
   ]
  },
  {
   "cell_type": "code",
   "execution_count": 6,
   "id": "47ac7e69-44a6-4184-a21b-7ec02d704400",
   "metadata": {},
   "outputs": [
    {
     "name": "stdout",
     "output_type": "stream",
     "text": [
      "<tensorflow.python.ops.stateful_random_ops.Generator object at 0x7f40e8696d90>\n"
     ]
    }
   ],
   "source": [
    "with strategy.scope():\n",
    "    g = tf.random.Generator.from_seed(1)\n",
    "    "
   ]
  },
  {
   "cell_type": "code",
   "execution_count": 3,
   "id": "d4519a99-e8d5-43ff-b580-59da2a8b1258",
   "metadata": {},
   "outputs": [],
   "source": [
    "checkpoint_path=\"gs://picard-testing-176520/genformer_atac_pretrain/models/aformer_baseline_genformer_atac_196k_glob_acc-True_load-True_frz-False_LR1-5e-06_LR2-0.0001_T-7_D-0.05_2023-03-15_03:26:43/iteration_60\"\n",
    "\n",
    "inside_checkpoint=tf.train.list_variables(tf.train.latest_checkpoint(checkpoint_path))\n",
    "reader = tf.train.load_checkpoint(checkpoint_path)"
   ]
  },
  {
   "cell_type": "code",
   "execution_count": 4,
   "id": "45aeabbe-5916-4e59-b40d-ee32af947037",
   "metadata": {},
   "outputs": [
    {
     "data": {
      "text/plain": [
       "[('_CHECKPOINTABLE_OBJECT_GRAPH', []),\n",
       " ('conv_tower/layer_with_weights-0/layer_with_weights-0/layer_with_weights-0/batch_norm/beta/.ATTRIBUTES/VARIABLE_VALUE',\n",
       "  [768]),\n",
       " ('conv_tower/layer_with_weights-0/layer_with_weights-0/layer_with_weights-0/batch_norm/gamma/.ATTRIBUTES/VARIABLE_VALUE',\n",
       "  [768]),\n",
       " ('conv_tower/layer_with_weights-0/layer_with_weights-0/layer_with_weights-0/batch_norm/moving_mean/.ATTRIBUTES/VARIABLE_VALUE',\n",
       "  [768]),\n",
       " ('conv_tower/layer_with_weights-0/layer_with_weights-0/layer_with_weights-0/batch_norm/moving_variance/.ATTRIBUTES/VARIABLE_VALUE',\n",
       "  [768]),\n",
       " ('conv_tower/layer_with_weights-0/layer_with_weights-0/layer_with_weights-1/bias/.ATTRIBUTES/VARIABLE_VALUE',\n",
       "  [768]),\n",
       " ('conv_tower/layer_with_weights-0/layer_with_weights-0/layer_with_weights-1/kernel/.ATTRIBUTES/VARIABLE_VALUE',\n",
       "  [5, 768, 768]),\n",
       " ('conv_tower/layer_with_weights-0/layer_with_weights-1/_layer/layer_with_weights-0/batch_norm/beta/.ATTRIBUTES/VARIABLE_VALUE',\n",
       "  [768]),\n",
       " ('conv_tower/layer_with_weights-0/layer_with_weights-1/_layer/layer_with_weights-0/batch_norm/gamma/.ATTRIBUTES/VARIABLE_VALUE',\n",
       "  [768]),\n",
       " ('conv_tower/layer_with_weights-0/layer_with_weights-1/_layer/layer_with_weights-0/batch_norm/moving_mean/.ATTRIBUTES/VARIABLE_VALUE',\n",
       "  [768]),\n",
       " ('conv_tower/layer_with_weights-0/layer_with_weights-1/_layer/layer_with_weights-0/batch_norm/moving_variance/.ATTRIBUTES/VARIABLE_VALUE',\n",
       "  [768]),\n",
       " ('conv_tower/layer_with_weights-0/layer_with_weights-1/_layer/layer_with_weights-1/bias/.ATTRIBUTES/VARIABLE_VALUE',\n",
       "  [768]),\n",
       " ('conv_tower/layer_with_weights-0/layer_with_weights-1/_layer/layer_with_weights-1/kernel/.ATTRIBUTES/VARIABLE_VALUE',\n",
       "  [1, 768, 768]),\n",
       " ('conv_tower/layer_with_weights-0/layer_with_weights-2/_logit_linear/kernel/.ATTRIBUTES/VARIABLE_VALUE',\n",
       "  [768, 768]),\n",
       " ('conv_tower/layer_with_weights-1/layer_with_weights-0/layer_with_weights-0/batch_norm/beta/.ATTRIBUTES/VARIABLE_VALUE',\n",
       "  [768]),\n",
       " ('conv_tower/layer_with_weights-1/layer_with_weights-0/layer_with_weights-0/batch_norm/gamma/.ATTRIBUTES/VARIABLE_VALUE',\n",
       "  [768]),\n",
       " ('conv_tower/layer_with_weights-1/layer_with_weights-0/layer_with_weights-0/batch_norm/moving_mean/.ATTRIBUTES/VARIABLE_VALUE',\n",
       "  [768]),\n",
       " ('conv_tower/layer_with_weights-1/layer_with_weights-0/layer_with_weights-0/batch_norm/moving_variance/.ATTRIBUTES/VARIABLE_VALUE',\n",
       "  [768]),\n",
       " ('conv_tower/layer_with_weights-1/layer_with_weights-0/layer_with_weights-1/bias/.ATTRIBUTES/VARIABLE_VALUE',\n",
       "  [896]),\n",
       " ('conv_tower/layer_with_weights-1/layer_with_weights-0/layer_with_weights-1/kernel/.ATTRIBUTES/VARIABLE_VALUE',\n",
       "  [5, 768, 896]),\n",
       " ('conv_tower/layer_with_weights-1/layer_with_weights-1/_layer/layer_with_weights-0/batch_norm/beta/.ATTRIBUTES/VARIABLE_VALUE',\n",
       "  [896]),\n",
       " ('conv_tower/layer_with_weights-1/layer_with_weights-1/_layer/layer_with_weights-0/batch_norm/gamma/.ATTRIBUTES/VARIABLE_VALUE',\n",
       "  [896]),\n",
       " ('conv_tower/layer_with_weights-1/layer_with_weights-1/_layer/layer_with_weights-0/batch_norm/moving_mean/.ATTRIBUTES/VARIABLE_VALUE',\n",
       "  [896]),\n",
       " ('conv_tower/layer_with_weights-1/layer_with_weights-1/_layer/layer_with_weights-0/batch_norm/moving_variance/.ATTRIBUTES/VARIABLE_VALUE',\n",
       "  [896]),\n",
       " ('conv_tower/layer_with_weights-1/layer_with_weights-1/_layer/layer_with_weights-1/bias/.ATTRIBUTES/VARIABLE_VALUE',\n",
       "  [896]),\n",
       " ('conv_tower/layer_with_weights-1/layer_with_weights-1/_layer/layer_with_weights-1/kernel/.ATTRIBUTES/VARIABLE_VALUE',\n",
       "  [1, 896, 896]),\n",
       " ('conv_tower/layer_with_weights-1/layer_with_weights-2/_logit_linear/kernel/.ATTRIBUTES/VARIABLE_VALUE',\n",
       "  [896, 896]),\n",
       " ('conv_tower/layer_with_weights-2/layer_with_weights-0/layer_with_weights-0/batch_norm/beta/.ATTRIBUTES/VARIABLE_VALUE',\n",
       "  [896]),\n",
       " ('conv_tower/layer_with_weights-2/layer_with_weights-0/layer_with_weights-0/batch_norm/gamma/.ATTRIBUTES/VARIABLE_VALUE',\n",
       "  [896]),\n",
       " ('conv_tower/layer_with_weights-2/layer_with_weights-0/layer_with_weights-0/batch_norm/moving_mean/.ATTRIBUTES/VARIABLE_VALUE',\n",
       "  [896]),\n",
       " ('conv_tower/layer_with_weights-2/layer_with_weights-0/layer_with_weights-0/batch_norm/moving_variance/.ATTRIBUTES/VARIABLE_VALUE',\n",
       "  [896]),\n",
       " ('conv_tower/layer_with_weights-2/layer_with_weights-0/layer_with_weights-1/bias/.ATTRIBUTES/VARIABLE_VALUE',\n",
       "  [1024]),\n",
       " ('conv_tower/layer_with_weights-2/layer_with_weights-0/layer_with_weights-1/kernel/.ATTRIBUTES/VARIABLE_VALUE',\n",
       "  [5, 896, 1024]),\n",
       " ('conv_tower/layer_with_weights-2/layer_with_weights-1/_layer/layer_with_weights-0/batch_norm/beta/.ATTRIBUTES/VARIABLE_VALUE',\n",
       "  [1024]),\n",
       " ('conv_tower/layer_with_weights-2/layer_with_weights-1/_layer/layer_with_weights-0/batch_norm/gamma/.ATTRIBUTES/VARIABLE_VALUE',\n",
       "  [1024]),\n",
       " ('conv_tower/layer_with_weights-2/layer_with_weights-1/_layer/layer_with_weights-0/batch_norm/moving_mean/.ATTRIBUTES/VARIABLE_VALUE',\n",
       "  [1024]),\n",
       " ('conv_tower/layer_with_weights-2/layer_with_weights-1/_layer/layer_with_weights-0/batch_norm/moving_variance/.ATTRIBUTES/VARIABLE_VALUE',\n",
       "  [1024]),\n",
       " ('conv_tower/layer_with_weights-2/layer_with_weights-1/_layer/layer_with_weights-1/bias/.ATTRIBUTES/VARIABLE_VALUE',\n",
       "  [1024]),\n",
       " ('conv_tower/layer_with_weights-2/layer_with_weights-1/_layer/layer_with_weights-1/kernel/.ATTRIBUTES/VARIABLE_VALUE',\n",
       "  [1, 1024, 1024]),\n",
       " ('conv_tower/layer_with_weights-2/layer_with_weights-2/_logit_linear/kernel/.ATTRIBUTES/VARIABLE_VALUE',\n",
       "  [1024, 1024]),\n",
       " ('conv_tower/layer_with_weights-3/layer_with_weights-0/layer_with_weights-0/batch_norm/beta/.ATTRIBUTES/VARIABLE_VALUE',\n",
       "  [1024]),\n",
       " ('conv_tower/layer_with_weights-3/layer_with_weights-0/layer_with_weights-0/batch_norm/gamma/.ATTRIBUTES/VARIABLE_VALUE',\n",
       "  [1024]),\n",
       " ('conv_tower/layer_with_weights-3/layer_with_weights-0/layer_with_weights-0/batch_norm/moving_mean/.ATTRIBUTES/VARIABLE_VALUE',\n",
       "  [1024]),\n",
       " ('conv_tower/layer_with_weights-3/layer_with_weights-0/layer_with_weights-0/batch_norm/moving_variance/.ATTRIBUTES/VARIABLE_VALUE',\n",
       "  [1024]),\n",
       " ('conv_tower/layer_with_weights-3/layer_with_weights-0/layer_with_weights-1/bias/.ATTRIBUTES/VARIABLE_VALUE',\n",
       "  [1152]),\n",
       " ('conv_tower/layer_with_weights-3/layer_with_weights-0/layer_with_weights-1/kernel/.ATTRIBUTES/VARIABLE_VALUE',\n",
       "  [5, 1024, 1152]),\n",
       " ('conv_tower/layer_with_weights-3/layer_with_weights-1/_layer/layer_with_weights-0/batch_norm/beta/.ATTRIBUTES/VARIABLE_VALUE',\n",
       "  [1152]),\n",
       " ('conv_tower/layer_with_weights-3/layer_with_weights-1/_layer/layer_with_weights-0/batch_norm/gamma/.ATTRIBUTES/VARIABLE_VALUE',\n",
       "  [1152]),\n",
       " ('conv_tower/layer_with_weights-3/layer_with_weights-1/_layer/layer_with_weights-0/batch_norm/moving_mean/.ATTRIBUTES/VARIABLE_VALUE',\n",
       "  [1152]),\n",
       " ('conv_tower/layer_with_weights-3/layer_with_weights-1/_layer/layer_with_weights-0/batch_norm/moving_variance/.ATTRIBUTES/VARIABLE_VALUE',\n",
       "  [1152]),\n",
       " ('conv_tower/layer_with_weights-3/layer_with_weights-1/_layer/layer_with_weights-1/bias/.ATTRIBUTES/VARIABLE_VALUE',\n",
       "  [1152]),\n",
       " ('conv_tower/layer_with_weights-3/layer_with_weights-1/_layer/layer_with_weights-1/kernel/.ATTRIBUTES/VARIABLE_VALUE',\n",
       "  [1, 1152, 1152]),\n",
       " ('conv_tower/layer_with_weights-3/layer_with_weights-2/_logit_linear/kernel/.ATTRIBUTES/VARIABLE_VALUE',\n",
       "  [1152, 1152]),\n",
       " ('conv_tower/layer_with_weights-4/layer_with_weights-0/layer_with_weights-0/batch_norm/beta/.ATTRIBUTES/VARIABLE_VALUE',\n",
       "  [1152]),\n",
       " ('conv_tower/layer_with_weights-4/layer_with_weights-0/layer_with_weights-0/batch_norm/gamma/.ATTRIBUTES/VARIABLE_VALUE',\n",
       "  [1152]),\n",
       " ('conv_tower/layer_with_weights-4/layer_with_weights-0/layer_with_weights-0/batch_norm/moving_mean/.ATTRIBUTES/VARIABLE_VALUE',\n",
       "  [1152]),\n",
       " ('conv_tower/layer_with_weights-4/layer_with_weights-0/layer_with_weights-0/batch_norm/moving_variance/.ATTRIBUTES/VARIABLE_VALUE',\n",
       "  [1152]),\n",
       " ('conv_tower/layer_with_weights-4/layer_with_weights-0/layer_with_weights-1/bias/.ATTRIBUTES/VARIABLE_VALUE',\n",
       "  [1280]),\n",
       " ('conv_tower/layer_with_weights-4/layer_with_weights-0/layer_with_weights-1/kernel/.ATTRIBUTES/VARIABLE_VALUE',\n",
       "  [5, 1152, 1280]),\n",
       " ('conv_tower/layer_with_weights-4/layer_with_weights-1/_layer/layer_with_weights-0/batch_norm/beta/.ATTRIBUTES/VARIABLE_VALUE',\n",
       "  [1280]),\n",
       " ('conv_tower/layer_with_weights-4/layer_with_weights-1/_layer/layer_with_weights-0/batch_norm/gamma/.ATTRIBUTES/VARIABLE_VALUE',\n",
       "  [1280]),\n",
       " ('conv_tower/layer_with_weights-4/layer_with_weights-1/_layer/layer_with_weights-0/batch_norm/moving_mean/.ATTRIBUTES/VARIABLE_VALUE',\n",
       "  [1280]),\n",
       " ('conv_tower/layer_with_weights-4/layer_with_weights-1/_layer/layer_with_weights-0/batch_norm/moving_variance/.ATTRIBUTES/VARIABLE_VALUE',\n",
       "  [1280]),\n",
       " ('conv_tower/layer_with_weights-4/layer_with_weights-1/_layer/layer_with_weights-1/bias/.ATTRIBUTES/VARIABLE_VALUE',\n",
       "  [1280]),\n",
       " ('conv_tower/layer_with_weights-4/layer_with_weights-1/_layer/layer_with_weights-1/kernel/.ATTRIBUTES/VARIABLE_VALUE',\n",
       "  [1, 1280, 1280]),\n",
       " ('conv_tower/layer_with_weights-4/layer_with_weights-2/_logit_linear/kernel/.ATTRIBUTES/VARIABLE_VALUE',\n",
       "  [1280, 1280]),\n",
       " ('conv_tower/layer_with_weights-5/layer_with_weights-0/layer_with_weights-0/batch_norm/beta/.ATTRIBUTES/VARIABLE_VALUE',\n",
       "  [1280]),\n",
       " ('conv_tower/layer_with_weights-5/layer_with_weights-0/layer_with_weights-0/batch_norm/gamma/.ATTRIBUTES/VARIABLE_VALUE',\n",
       "  [1280]),\n",
       " ('conv_tower/layer_with_weights-5/layer_with_weights-0/layer_with_weights-0/batch_norm/moving_mean/.ATTRIBUTES/VARIABLE_VALUE',\n",
       "  [1280]),\n",
       " ('conv_tower/layer_with_weights-5/layer_with_weights-0/layer_with_weights-0/batch_norm/moving_variance/.ATTRIBUTES/VARIABLE_VALUE',\n",
       "  [1280]),\n",
       " ('conv_tower/layer_with_weights-5/layer_with_weights-0/layer_with_weights-1/bias/.ATTRIBUTES/VARIABLE_VALUE',\n",
       "  [1536]),\n",
       " ('conv_tower/layer_with_weights-5/layer_with_weights-0/layer_with_weights-1/kernel/.ATTRIBUTES/VARIABLE_VALUE',\n",
       "  [5, 1280, 1536]),\n",
       " ('conv_tower/layer_with_weights-5/layer_with_weights-1/_layer/layer_with_weights-0/batch_norm/beta/.ATTRIBUTES/VARIABLE_VALUE',\n",
       "  [1536]),\n",
       " ('conv_tower/layer_with_weights-5/layer_with_weights-1/_layer/layer_with_weights-0/batch_norm/gamma/.ATTRIBUTES/VARIABLE_VALUE',\n",
       "  [1536]),\n",
       " ('conv_tower/layer_with_weights-5/layer_with_weights-1/_layer/layer_with_weights-0/batch_norm/moving_mean/.ATTRIBUTES/VARIABLE_VALUE',\n",
       "  [1536]),\n",
       " ('conv_tower/layer_with_weights-5/layer_with_weights-1/_layer/layer_with_weights-0/batch_norm/moving_variance/.ATTRIBUTES/VARIABLE_VALUE',\n",
       "  [1536]),\n",
       " ('conv_tower/layer_with_weights-5/layer_with_weights-1/_layer/layer_with_weights-1/bias/.ATTRIBUTES/VARIABLE_VALUE',\n",
       "  [1536]),\n",
       " ('conv_tower/layer_with_weights-5/layer_with_weights-1/_layer/layer_with_weights-1/kernel/.ATTRIBUTES/VARIABLE_VALUE',\n",
       "  [1, 1536, 1536]),\n",
       " ('conv_tower/layer_with_weights-5/layer_with_weights-2/_logit_linear/kernel/.ATTRIBUTES/VARIABLE_VALUE',\n",
       "  [1536, 1536]),\n",
       " ('conv_tower_atac/layer_with_weights-0/layer_with_weights-0/layer_with_weights-0/batch_norm/beta/.ATTRIBUTES/VARIABLE_VALUE',\n",
       "  [16]),\n",
       " ('conv_tower_atac/layer_with_weights-0/layer_with_weights-0/layer_with_weights-0/batch_norm/gamma/.ATTRIBUTES/VARIABLE_VALUE',\n",
       "  [16]),\n",
       " ('conv_tower_atac/layer_with_weights-0/layer_with_weights-0/layer_with_weights-0/batch_norm/moving_mean/.ATTRIBUTES/VARIABLE_VALUE',\n",
       "  [16]),\n",
       " ('conv_tower_atac/layer_with_weights-0/layer_with_weights-0/layer_with_weights-0/batch_norm/moving_variance/.ATTRIBUTES/VARIABLE_VALUE',\n",
       "  [16]),\n",
       " ('conv_tower_atac/layer_with_weights-0/layer_with_weights-0/layer_with_weights-1/bias/.ATTRIBUTES/VARIABLE_VALUE',\n",
       "  [32]),\n",
       " ('conv_tower_atac/layer_with_weights-0/layer_with_weights-0/layer_with_weights-1/kernel/.ATTRIBUTES/VARIABLE_VALUE',\n",
       "  [5, 16, 32]),\n",
       " ('conv_tower_atac/layer_with_weights-0/layer_with_weights-1/_layer/layer_with_weights-0/batch_norm/beta/.ATTRIBUTES/VARIABLE_VALUE',\n",
       "  [32]),\n",
       " ('conv_tower_atac/layer_with_weights-0/layer_with_weights-1/_layer/layer_with_weights-0/batch_norm/gamma/.ATTRIBUTES/VARIABLE_VALUE',\n",
       "  [32]),\n",
       " ('conv_tower_atac/layer_with_weights-0/layer_with_weights-1/_layer/layer_with_weights-0/batch_norm/moving_mean/.ATTRIBUTES/VARIABLE_VALUE',\n",
       "  [32]),\n",
       " ('conv_tower_atac/layer_with_weights-0/layer_with_weights-1/_layer/layer_with_weights-0/batch_norm/moving_variance/.ATTRIBUTES/VARIABLE_VALUE',\n",
       "  [32]),\n",
       " ('conv_tower_atac/layer_with_weights-0/layer_with_weights-1/_layer/layer_with_weights-1/bias/.ATTRIBUTES/VARIABLE_VALUE',\n",
       "  [32]),\n",
       " ('conv_tower_atac/layer_with_weights-0/layer_with_weights-1/_layer/layer_with_weights-1/kernel/.ATTRIBUTES/VARIABLE_VALUE',\n",
       "  [1, 32, 32]),\n",
       " ('conv_tower_atac/layer_with_weights-0/layer_with_weights-2/_logit_linear/kernel/.ATTRIBUTES/VARIABLE_VALUE',\n",
       "  [32, 32]),\n",
       " ('conv_tower_atac/layer_with_weights-1/layer_with_weights-0/layer_with_weights-0/batch_norm/beta/.ATTRIBUTES/VARIABLE_VALUE',\n",
       "  [32]),\n",
       " ('conv_tower_atac/layer_with_weights-1/layer_with_weights-0/layer_with_weights-0/batch_norm/gamma/.ATTRIBUTES/VARIABLE_VALUE',\n",
       "  [32]),\n",
       " ('conv_tower_atac/layer_with_weights-1/layer_with_weights-0/layer_with_weights-0/batch_norm/moving_mean/.ATTRIBUTES/VARIABLE_VALUE',\n",
       "  [32]),\n",
       " ('conv_tower_atac/layer_with_weights-1/layer_with_weights-0/layer_with_weights-0/batch_norm/moving_variance/.ATTRIBUTES/VARIABLE_VALUE',\n",
       "  [32]),\n",
       " ('conv_tower_atac/layer_with_weights-1/layer_with_weights-0/layer_with_weights-1/bias/.ATTRIBUTES/VARIABLE_VALUE',\n",
       "  [64]),\n",
       " ('conv_tower_atac/layer_with_weights-1/layer_with_weights-0/layer_with_weights-1/kernel/.ATTRIBUTES/VARIABLE_VALUE',\n",
       "  [5, 32, 64]),\n",
       " ('conv_tower_atac/layer_with_weights-1/layer_with_weights-1/_layer/layer_with_weights-0/batch_norm/beta/.ATTRIBUTES/VARIABLE_VALUE',\n",
       "  [64]),\n",
       " ('conv_tower_atac/layer_with_weights-1/layer_with_weights-1/_layer/layer_with_weights-0/batch_norm/gamma/.ATTRIBUTES/VARIABLE_VALUE',\n",
       "  [64]),\n",
       " ('conv_tower_atac/layer_with_weights-1/layer_with_weights-1/_layer/layer_with_weights-0/batch_norm/moving_mean/.ATTRIBUTES/VARIABLE_VALUE',\n",
       "  [64]),\n",
       " ('conv_tower_atac/layer_with_weights-1/layer_with_weights-1/_layer/layer_with_weights-0/batch_norm/moving_variance/.ATTRIBUTES/VARIABLE_VALUE',\n",
       "  [64]),\n",
       " ('conv_tower_atac/layer_with_weights-1/layer_with_weights-1/_layer/layer_with_weights-1/bias/.ATTRIBUTES/VARIABLE_VALUE',\n",
       "  [64]),\n",
       " ('conv_tower_atac/layer_with_weights-1/layer_with_weights-1/_layer/layer_with_weights-1/kernel/.ATTRIBUTES/VARIABLE_VALUE',\n",
       "  [1, 64, 64]),\n",
       " ('conv_tower_atac/layer_with_weights-1/layer_with_weights-2/_logit_linear/kernel/.ATTRIBUTES/VARIABLE_VALUE',\n",
       "  [64, 64]),\n",
       " ('final_dense_profile/bias/.ATTRIBUTES/VARIABLE_VALUE', [1]),\n",
       " ('final_dense_profile/kernel/.ATTRIBUTES/VARIABLE_VALUE', [256, 1]),\n",
       " ('final_pointwise_conv/layer_with_weights-0/batch_norm/beta/.ATTRIBUTES/VARIABLE_VALUE',\n",
       "  [1664]),\n",
       " ('final_pointwise_conv/layer_with_weights-0/batch_norm/gamma/.ATTRIBUTES/VARIABLE_VALUE',\n",
       "  [1664]),\n",
       " ('final_pointwise_conv/layer_with_weights-0/batch_norm/moving_mean/.ATTRIBUTES/VARIABLE_VALUE',\n",
       "  [1664]),\n",
       " ('final_pointwise_conv/layer_with_weights-0/batch_norm/moving_variance/.ATTRIBUTES/VARIABLE_VALUE',\n",
       "  [1664]),\n",
       " ('final_pointwise_conv/layer_with_weights-1/bias/.ATTRIBUTES/VARIABLE_VALUE',\n",
       "  [256]),\n",
       " ('final_pointwise_conv/layer_with_weights-1/kernel/.ATTRIBUTES/VARIABLE_VALUE',\n",
       "  [1, 1664, 256]),\n",
       " ('global_acc_block/layer_with_weights-0/batch_norm/beta/.ATTRIBUTES/VARIABLE_VALUE',\n",
       "  [1536]),\n",
       " ('global_acc_block/layer_with_weights-0/batch_norm/gamma/.ATTRIBUTES/VARIABLE_VALUE',\n",
       "  [1536]),\n",
       " ('global_acc_block/layer_with_weights-0/batch_norm/moving_mean/.ATTRIBUTES/VARIABLE_VALUE',\n",
       "  [1536]),\n",
       " ('global_acc_block/layer_with_weights-0/batch_norm/moving_variance/.ATTRIBUTES/VARIABLE_VALUE',\n",
       "  [1536]),\n",
       " ('global_acc_block/layer_with_weights-1/bias/.ATTRIBUTES/VARIABLE_VALUE',\n",
       "  [64]),\n",
       " ('global_acc_block/layer_with_weights-1/kernel/.ATTRIBUTES/VARIABLE_VALUE',\n",
       "  [1, 1536, 64]),\n",
       " ('performer/layer_norm/layer_norm/beta/.ATTRIBUTES/VARIABLE_VALUE', [1664]),\n",
       " ('performer/layer_norm/layer_norm/gamma/.ATTRIBUTES/VARIABLE_VALUE', [1664]),\n",
       " ('performer/layers/0/FFN/FFN_dense_narrow/bias/.ATTRIBUTES/VARIABLE_VALUE',\n",
       "  [1664]),\n",
       " ('performer/layers/0/FFN/FFN_dense_narrow/kernel/.ATTRIBUTES/VARIABLE_VALUE',\n",
       "  [3328, 1664]),\n",
       " ('performer/layers/0/FFN/FFN_dense_wide/bias/.ATTRIBUTES/VARIABLE_VALUE',\n",
       "  [3328]),\n",
       " ('performer/layers/0/FFN/FFN_dense_wide/kernel/.ATTRIBUTES/VARIABLE_VALUE',\n",
       "  [1664, 3328]),\n",
       " ('performer/layers/0/FFN/FFN_layer_norm/layer_norm/beta/.ATTRIBUTES/VARIABLE_VALUE',\n",
       "  [1664]),\n",
       " ('performer/layers/0/FFN/FFN_layer_norm/layer_norm/gamma/.ATTRIBUTES/VARIABLE_VALUE',\n",
       "  [1664]),\n",
       " ('performer/layers/0/layer_norm/layer_norm/beta/.ATTRIBUTES/VARIABLE_VALUE',\n",
       "  [1664]),\n",
       " ('performer/layers/0/layer_norm/layer_norm/gamma/.ATTRIBUTES/VARIABLE_VALUE',\n",
       "  [1664]),\n",
       " ('performer/layers/0/self_attention/key_dense_layer/kernel/.ATTRIBUTES/VARIABLE_VALUE',\n",
       "  [1664, 8, 208]),\n",
       " ('performer/layers/0/self_attention/output_dense_layer/kernel/.ATTRIBUTES/VARIABLE_VALUE',\n",
       "  [8, 208, 1664]),\n",
       " ('performer/layers/0/self_attention/query_dense_layer/kernel/.ATTRIBUTES/VARIABLE_VALUE',\n",
       "  [1664, 8, 208]),\n",
       " ('performer/layers/0/self_attention/value_dense_layer/kernel/.ATTRIBUTES/VARIABLE_VALUE',\n",
       "  [1664, 8, 208]),\n",
       " ('performer/layers/1/FFN/FFN_dense_narrow/bias/.ATTRIBUTES/VARIABLE_VALUE',\n",
       "  [1664]),\n",
       " ('performer/layers/1/FFN/FFN_dense_narrow/kernel/.ATTRIBUTES/VARIABLE_VALUE',\n",
       "  [3328, 1664]),\n",
       " ('performer/layers/1/FFN/FFN_dense_wide/bias/.ATTRIBUTES/VARIABLE_VALUE',\n",
       "  [3328]),\n",
       " ('performer/layers/1/FFN/FFN_dense_wide/kernel/.ATTRIBUTES/VARIABLE_VALUE',\n",
       "  [1664, 3328]),\n",
       " ('performer/layers/1/FFN/FFN_layer_norm/layer_norm/beta/.ATTRIBUTES/VARIABLE_VALUE',\n",
       "  [1664]),\n",
       " ('performer/layers/1/FFN/FFN_layer_norm/layer_norm/gamma/.ATTRIBUTES/VARIABLE_VALUE',\n",
       "  [1664]),\n",
       " ('performer/layers/1/layer_norm/layer_norm/beta/.ATTRIBUTES/VARIABLE_VALUE',\n",
       "  [1664]),\n",
       " ('performer/layers/1/layer_norm/layer_norm/gamma/.ATTRIBUTES/VARIABLE_VALUE',\n",
       "  [1664]),\n",
       " ('performer/layers/1/self_attention/key_dense_layer/kernel/.ATTRIBUTES/VARIABLE_VALUE',\n",
       "  [1664, 8, 208]),\n",
       " ('performer/layers/1/self_attention/output_dense_layer/kernel/.ATTRIBUTES/VARIABLE_VALUE',\n",
       "  [8, 208, 1664]),\n",
       " ('performer/layers/1/self_attention/query_dense_layer/kernel/.ATTRIBUTES/VARIABLE_VALUE',\n",
       "  [1664, 8, 208]),\n",
       " ('performer/layers/1/self_attention/value_dense_layer/kernel/.ATTRIBUTES/VARIABLE_VALUE',\n",
       "  [1664, 8, 208]),\n",
       " ('performer/layers/2/FFN/FFN_dense_narrow/bias/.ATTRIBUTES/VARIABLE_VALUE',\n",
       "  [1664]),\n",
       " ('performer/layers/2/FFN/FFN_dense_narrow/kernel/.ATTRIBUTES/VARIABLE_VALUE',\n",
       "  [3328, 1664]),\n",
       " ('performer/layers/2/FFN/FFN_dense_wide/bias/.ATTRIBUTES/VARIABLE_VALUE',\n",
       "  [3328]),\n",
       " ('performer/layers/2/FFN/FFN_dense_wide/kernel/.ATTRIBUTES/VARIABLE_VALUE',\n",
       "  [1664, 3328]),\n",
       " ('performer/layers/2/FFN/FFN_layer_norm/layer_norm/beta/.ATTRIBUTES/VARIABLE_VALUE',\n",
       "  [1664]),\n",
       " ('performer/layers/2/FFN/FFN_layer_norm/layer_norm/gamma/.ATTRIBUTES/VARIABLE_VALUE',\n",
       "  [1664]),\n",
       " ('performer/layers/2/layer_norm/layer_norm/beta/.ATTRIBUTES/VARIABLE_VALUE',\n",
       "  [1664]),\n",
       " ('performer/layers/2/layer_norm/layer_norm/gamma/.ATTRIBUTES/VARIABLE_VALUE',\n",
       "  [1664]),\n",
       " ('performer/layers/2/self_attention/key_dense_layer/kernel/.ATTRIBUTES/VARIABLE_VALUE',\n",
       "  [1664, 8, 208]),\n",
       " ('performer/layers/2/self_attention/output_dense_layer/kernel/.ATTRIBUTES/VARIABLE_VALUE',\n",
       "  [8, 208, 1664]),\n",
       " ('performer/layers/2/self_attention/query_dense_layer/kernel/.ATTRIBUTES/VARIABLE_VALUE',\n",
       "  [1664, 8, 208]),\n",
       " ('performer/layers/2/self_attention/value_dense_layer/kernel/.ATTRIBUTES/VARIABLE_VALUE',\n",
       "  [1664, 8, 208]),\n",
       " ('performer/layers/3/FFN/FFN_dense_narrow/bias/.ATTRIBUTES/VARIABLE_VALUE',\n",
       "  [1664]),\n",
       " ('performer/layers/3/FFN/FFN_dense_narrow/kernel/.ATTRIBUTES/VARIABLE_VALUE',\n",
       "  [3328, 1664]),\n",
       " ('performer/layers/3/FFN/FFN_dense_wide/bias/.ATTRIBUTES/VARIABLE_VALUE',\n",
       "  [3328]),\n",
       " ('performer/layers/3/FFN/FFN_dense_wide/kernel/.ATTRIBUTES/VARIABLE_VALUE',\n",
       "  [1664, 3328]),\n",
       " ('performer/layers/3/FFN/FFN_layer_norm/layer_norm/beta/.ATTRIBUTES/VARIABLE_VALUE',\n",
       "  [1664]),\n",
       " ('performer/layers/3/FFN/FFN_layer_norm/layer_norm/gamma/.ATTRIBUTES/VARIABLE_VALUE',\n",
       "  [1664]),\n",
       " ('performer/layers/3/layer_norm/layer_norm/beta/.ATTRIBUTES/VARIABLE_VALUE',\n",
       "  [1664]),\n",
       " ('performer/layers/3/layer_norm/layer_norm/gamma/.ATTRIBUTES/VARIABLE_VALUE',\n",
       "  [1664]),\n",
       " ('performer/layers/3/self_attention/key_dense_layer/kernel/.ATTRIBUTES/VARIABLE_VALUE',\n",
       "  [1664, 8, 208]),\n",
       " ('performer/layers/3/self_attention/output_dense_layer/kernel/.ATTRIBUTES/VARIABLE_VALUE',\n",
       "  [8, 208, 1664]),\n",
       " ('performer/layers/3/self_attention/query_dense_layer/kernel/.ATTRIBUTES/VARIABLE_VALUE',\n",
       "  [1664, 8, 208]),\n",
       " ('performer/layers/3/self_attention/value_dense_layer/kernel/.ATTRIBUTES/VARIABLE_VALUE',\n",
       "  [1664, 8, 208]),\n",
       " ('performer/layers/4/FFN/FFN_dense_narrow/bias/.ATTRIBUTES/VARIABLE_VALUE',\n",
       "  [1664]),\n",
       " ('performer/layers/4/FFN/FFN_dense_narrow/kernel/.ATTRIBUTES/VARIABLE_VALUE',\n",
       "  [3328, 1664]),\n",
       " ('performer/layers/4/FFN/FFN_dense_wide/bias/.ATTRIBUTES/VARIABLE_VALUE',\n",
       "  [3328]),\n",
       " ('performer/layers/4/FFN/FFN_dense_wide/kernel/.ATTRIBUTES/VARIABLE_VALUE',\n",
       "  [1664, 3328]),\n",
       " ('performer/layers/4/FFN/FFN_layer_norm/layer_norm/beta/.ATTRIBUTES/VARIABLE_VALUE',\n",
       "  [1664]),\n",
       " ('performer/layers/4/FFN/FFN_layer_norm/layer_norm/gamma/.ATTRIBUTES/VARIABLE_VALUE',\n",
       "  [1664]),\n",
       " ('performer/layers/4/layer_norm/layer_norm/beta/.ATTRIBUTES/VARIABLE_VALUE',\n",
       "  [1664]),\n",
       " ('performer/layers/4/layer_norm/layer_norm/gamma/.ATTRIBUTES/VARIABLE_VALUE',\n",
       "  [1664]),\n",
       " ('performer/layers/4/self_attention/key_dense_layer/kernel/.ATTRIBUTES/VARIABLE_VALUE',\n",
       "  [1664, 8, 208]),\n",
       " ('performer/layers/4/self_attention/output_dense_layer/kernel/.ATTRIBUTES/VARIABLE_VALUE',\n",
       "  [8, 208, 1664]),\n",
       " ('performer/layers/4/self_attention/query_dense_layer/kernel/.ATTRIBUTES/VARIABLE_VALUE',\n",
       "  [1664, 8, 208]),\n",
       " ('performer/layers/4/self_attention/value_dense_layer/kernel/.ATTRIBUTES/VARIABLE_VALUE',\n",
       "  [1664, 8, 208]),\n",
       " ('performer/layers/5/FFN/FFN_dense_narrow/bias/.ATTRIBUTES/VARIABLE_VALUE',\n",
       "  [1664]),\n",
       " ('performer/layers/5/FFN/FFN_dense_narrow/kernel/.ATTRIBUTES/VARIABLE_VALUE',\n",
       "  [3328, 1664]),\n",
       " ('performer/layers/5/FFN/FFN_dense_wide/bias/.ATTRIBUTES/VARIABLE_VALUE',\n",
       "  [3328]),\n",
       " ('performer/layers/5/FFN/FFN_dense_wide/kernel/.ATTRIBUTES/VARIABLE_VALUE',\n",
       "  [1664, 3328]),\n",
       " ('performer/layers/5/FFN/FFN_layer_norm/layer_norm/beta/.ATTRIBUTES/VARIABLE_VALUE',\n",
       "  [1664]),\n",
       " ('performer/layers/5/FFN/FFN_layer_norm/layer_norm/gamma/.ATTRIBUTES/VARIABLE_VALUE',\n",
       "  [1664]),\n",
       " ('performer/layers/5/layer_norm/layer_norm/beta/.ATTRIBUTES/VARIABLE_VALUE',\n",
       "  [1664]),\n",
       " ('performer/layers/5/layer_norm/layer_norm/gamma/.ATTRIBUTES/VARIABLE_VALUE',\n",
       "  [1664]),\n",
       " ('performer/layers/5/self_attention/key_dense_layer/kernel/.ATTRIBUTES/VARIABLE_VALUE',\n",
       "  [1664, 8, 208]),\n",
       " ('performer/layers/5/self_attention/output_dense_layer/kernel/.ATTRIBUTES/VARIABLE_VALUE',\n",
       "  [8, 208, 1664]),\n",
       " ('performer/layers/5/self_attention/query_dense_layer/kernel/.ATTRIBUTES/VARIABLE_VALUE',\n",
       "  [1664, 8, 208]),\n",
       " ('performer/layers/5/self_attention/value_dense_layer/kernel/.ATTRIBUTES/VARIABLE_VALUE',\n",
       "  [1664, 8, 208]),\n",
       " ('performer/layers/6/FFN/FFN_dense_narrow/bias/.ATTRIBUTES/VARIABLE_VALUE',\n",
       "  [1664]),\n",
       " ('performer/layers/6/FFN/FFN_dense_narrow/kernel/.ATTRIBUTES/VARIABLE_VALUE',\n",
       "  [3328, 1664]),\n",
       " ('performer/layers/6/FFN/FFN_dense_wide/bias/.ATTRIBUTES/VARIABLE_VALUE',\n",
       "  [3328]),\n",
       " ('performer/layers/6/FFN/FFN_dense_wide/kernel/.ATTRIBUTES/VARIABLE_VALUE',\n",
       "  [1664, 3328]),\n",
       " ('performer/layers/6/FFN/FFN_layer_norm/layer_norm/beta/.ATTRIBUTES/VARIABLE_VALUE',\n",
       "  [1664]),\n",
       " ('performer/layers/6/FFN/FFN_layer_norm/layer_norm/gamma/.ATTRIBUTES/VARIABLE_VALUE',\n",
       "  [1664]),\n",
       " ('performer/layers/6/layer_norm/layer_norm/beta/.ATTRIBUTES/VARIABLE_VALUE',\n",
       "  [1664]),\n",
       " ('performer/layers/6/layer_norm/layer_norm/gamma/.ATTRIBUTES/VARIABLE_VALUE',\n",
       "  [1664]),\n",
       " ('performer/layers/6/self_attention/key_dense_layer/kernel/.ATTRIBUTES/VARIABLE_VALUE',\n",
       "  [1664, 8, 208]),\n",
       " ('performer/layers/6/self_attention/output_dense_layer/kernel/.ATTRIBUTES/VARIABLE_VALUE',\n",
       "  [8, 208, 1664]),\n",
       " ('performer/layers/6/self_attention/query_dense_layer/kernel/.ATTRIBUTES/VARIABLE_VALUE',\n",
       "  [1664, 8, 208]),\n",
       " ('performer/layers/6/self_attention/value_dense_layer/kernel/.ATTRIBUTES/VARIABLE_VALUE',\n",
       "  [1664, 8, 208]),\n",
       " ('pos_embedding_learned/embeddings/.ATTRIBUTES/VARIABLE_VALUE', [1536, 1664]),\n",
       " ('stem_conv/bias/.ATTRIBUTES/VARIABLE_VALUE', [768]),\n",
       " ('stem_conv/kernel/.ATTRIBUTES/VARIABLE_VALUE', [15, 4, 768]),\n",
       " ('stem_conv_atac/bias/.ATTRIBUTES/VARIABLE_VALUE', [16]),\n",
       " ('stem_conv_atac/kernel/.ATTRIBUTES/VARIABLE_VALUE', [15, 1, 16]),\n",
       " ('stem_pool/_logit_linear/kernel/.ATTRIBUTES/VARIABLE_VALUE', [768, 768]),\n",
       " ('stem_pool_atac/_logit_linear/kernel/.ATTRIBUTES/VARIABLE_VALUE', [16, 16]),\n",
       " ('stem_res_conv/_layer/layer_with_weights-0/batch_norm/beta/.ATTRIBUTES/VARIABLE_VALUE',\n",
       "  [768]),\n",
       " ('stem_res_conv/_layer/layer_with_weights-0/batch_norm/gamma/.ATTRIBUTES/VARIABLE_VALUE',\n",
       "  [768]),\n",
       " ('stem_res_conv/_layer/layer_with_weights-0/batch_norm/moving_mean/.ATTRIBUTES/VARIABLE_VALUE',\n",
       "  [768]),\n",
       " ('stem_res_conv/_layer/layer_with_weights-0/batch_norm/moving_variance/.ATTRIBUTES/VARIABLE_VALUE',\n",
       "  [768]),\n",
       " ('stem_res_conv/_layer/layer_with_weights-1/bias/.ATTRIBUTES/VARIABLE_VALUE',\n",
       "  [768]),\n",
       " ('stem_res_conv/_layer/layer_with_weights-1/kernel/.ATTRIBUTES/VARIABLE_VALUE',\n",
       "  [1, 768, 768]),\n",
       " ('stem_res_conv_atac/_layer/layer_with_weights-0/batch_norm/beta/.ATTRIBUTES/VARIABLE_VALUE',\n",
       "  [16]),\n",
       " ('stem_res_conv_atac/_layer/layer_with_weights-0/batch_norm/gamma/.ATTRIBUTES/VARIABLE_VALUE',\n",
       "  [16]),\n",
       " ('stem_res_conv_atac/_layer/layer_with_weights-0/batch_norm/moving_mean/.ATTRIBUTES/VARIABLE_VALUE',\n",
       "  [16]),\n",
       " ('stem_res_conv_atac/_layer/layer_with_weights-0/batch_norm/moving_variance/.ATTRIBUTES/VARIABLE_VALUE',\n",
       "  [16]),\n",
       " ('stem_res_conv_atac/_layer/layer_with_weights-1/bias/.ATTRIBUTES/VARIABLE_VALUE',\n",
       "  [16]),\n",
       " ('stem_res_conv_atac/_layer/layer_with_weights-1/kernel/.ATTRIBUTES/VARIABLE_VALUE',\n",
       "  [1, 16, 16])]"
      ]
     },
     "execution_count": 4,
     "metadata": {},
     "output_type": "execute_result"
    }
   ],
   "source": [
    "inside_checkpoint"
   ]
  },
  {
   "cell_type": "code",
   "execution_count": null,
   "id": "45c805c4-8db7-4da2-ba3a-cb708ad16f7b",
   "metadata": {},
   "outputs": [],
   "source": []
  }
 ],
 "metadata": {
  "environment": {
   "name": "tf2-cpu.2-6.m81",
   "type": "gcloud",
   "uri": "gcr.io/deeplearning-platform-release/tf2-cpu.2-6:m81"
  },
  "kernelspec": {
   "display_name": "Python 3",
   "language": "python",
   "name": "python3"
  },
  "language_info": {
   "codemirror_mode": {
    "name": "ipython",
    "version": 3
   },
   "file_extension": ".py",
   "mimetype": "text/x-python",
   "name": "python",
   "nbconvert_exporter": "python",
   "pygments_lexer": "ipython3",
   "version": "3.7.10"
  }
 },
 "nbformat": 4,
 "nbformat_minor": 5
}
