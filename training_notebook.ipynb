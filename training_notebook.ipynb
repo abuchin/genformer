{
 "cells": [
  {
   "cell_type": "code",
   "execution_count": 7,
   "id": "ab370951-f6d4-4a16-858a-58d08b64c855",
   "metadata": {},
   "outputs": [],
   "source": [
    "import time\n",
    "import os\n",
    "import subprocess\n",
    "import sys\n",
    "import re\n",
    "import argparse\n",
    "import collections\n",
    "import gzip\n",
    "import math\n",
    "import shutil\n",
    "import matplotlib.pyplot as plt\n",
    "import wandb\n",
    "import numpy as np\n",
    "import time\n",
    "from datetime import datetime\n",
    "import random\n",
    "\n",
    "import seaborn as sns\n",
    "%matplotlib inline\n",
    "import logging\n",
    "from silence_tensorflow import silence_tensorflow\n",
    "#silence_tensorflow()\n",
    "os.environ['TPU_LOAD_LIBRARY']='0'\n",
    "os.environ['TF_ENABLE_EAGER_CLIENT_STREAMING_ENQUEUE']='False'\n",
    "import tensorflow as tf\n",
    "\n",
    "\n",
    "import tensorflow.experimental.numpy as tnp\n",
    "import tensorflow_addons as tfa\n",
    "from tensorflow import strings as tfs\n",
    "from tensorflow.keras import mixed_precision\n",
    "from scipy.stats.stats import pearsonr  \n",
    "from scipy.stats.stats import spearmanr  \n",
    "## custom modules\n",
    "import src.aformer_atac_cage as aformer\n",
    "#import src.aformer_TF as aformer\n",
    "from src.layers.layers import *\n",
    "import src.metrics as metrics\n",
    "from src.optimizers import *\n",
    "import src.schedulers as schedulers\n",
    "import src.utils as utils\n",
    "\n",
    "import training_utils_atac_cage as training_utils\n",
    "\n",
    "\n",
    "from scipy import stats"
   ]
  },
  {
   "cell_type": "code",
   "execution_count": 9,
   "id": "4d333d7e-5e30-4865-b2a0-f04221ade9ce",
   "metadata": {},
   "outputs": [
    {
     "name": "stderr",
     "output_type": "stream",
     "text": [
      "2023-04-27 23:14:39.956831: E tensorflow/core/common_runtime/eager/context.cc:575] Unable to close remote context with ID 13174737909895361916 for worker: /job:worker/replica:0/task:0 due to failed to connect to all addresses\n",
      "Additional GRPC error information from remote target /job:worker/replica:0/task:0:\n",
      ":{\"created\":\"@1682637279.956459071\",\"description\":\"Failed to pick subchannel\",\"file\":\"external/com_github_grpc_grpc/src/core/ext/filters/client_channel/client_channel.cc\",\"file_line\":3940,\"referenced_errors\":[{\"created\":\"@1682637279.956455463\",\"description\":\"failed to connect to all addresses\",\"file\":\"external/com_github_grpc_grpc/src/core/ext/filters/client_channel/lb_policy/pick_first/pick_first.cc\",\"file_line\":392,\"grpc_status\":14}]}\n",
      "2023-04-27 23:14:39.957096: W tensorflow/core/common_runtime/eager/context.cc:1607] Unable to destroy server_ object, so releasing instead. Servers don't support clean shutdown.\n",
      "2023-04-27 23:14:39.963198: I tensorflow/core/distributed_runtime/rpc/grpc_server_lib.cc:447] Started server with target: grpc://localhost:41115\n"
     ]
    },
    {
     "name": "stdout",
     "output_type": "stream",
     "text": [
      "INFO:tensorflow:Deallocate tpu buffers before initializing tpu system.\n"
     ]
    },
    {
     "name": "stderr",
     "output_type": "stream",
     "text": [
      "INFO:tensorflow:Deallocate tpu buffers before initializing tpu system.\n"
     ]
    },
    {
     "name": "stdout",
     "output_type": "stream",
     "text": [
      "INFO:tensorflow:Initializing the TPU system: node-5\n"
     ]
    },
    {
     "name": "stderr",
     "output_type": "stream",
     "text": [
      "INFO:tensorflow:Initializing the TPU system: node-5\n"
     ]
    },
    {
     "name": "stdout",
     "output_type": "stream",
     "text": [
      "INFO:tensorflow:Finished initializing TPU system.\n"
     ]
    },
    {
     "name": "stderr",
     "output_type": "stream",
     "text": [
      "INFO:tensorflow:Finished initializing TPU system.\n"
     ]
    },
    {
     "name": "stdout",
     "output_type": "stream",
     "text": [
      "INFO:tensorflow:Found TPU system:\n"
     ]
    },
    {
     "name": "stderr",
     "output_type": "stream",
     "text": [
      "INFO:tensorflow:Found TPU system:\n"
     ]
    },
    {
     "name": "stdout",
     "output_type": "stream",
     "text": [
      "INFO:tensorflow:*** Num TPU Cores: 8\n"
     ]
    },
    {
     "name": "stderr",
     "output_type": "stream",
     "text": [
      "INFO:tensorflow:*** Num TPU Cores: 8\n"
     ]
    },
    {
     "name": "stdout",
     "output_type": "stream",
     "text": [
      "INFO:tensorflow:*** Num TPU Workers: 1\n"
     ]
    },
    {
     "name": "stderr",
     "output_type": "stream",
     "text": [
      "INFO:tensorflow:*** Num TPU Workers: 1\n"
     ]
    },
    {
     "name": "stdout",
     "output_type": "stream",
     "text": [
      "INFO:tensorflow:*** Num TPU Cores Per Worker: 8\n"
     ]
    },
    {
     "name": "stderr",
     "output_type": "stream",
     "text": [
      "INFO:tensorflow:*** Num TPU Cores Per Worker: 8\n"
     ]
    },
    {
     "name": "stdout",
     "output_type": "stream",
     "text": [
      "INFO:tensorflow:*** Available Device: _DeviceAttributes(/job:localhost/replica:0/task:0/device:CPU:0, CPU, 0, 0)\n"
     ]
    },
    {
     "name": "stderr",
     "output_type": "stream",
     "text": [
      "INFO:tensorflow:*** Available Device: _DeviceAttributes(/job:localhost/replica:0/task:0/device:CPU:0, CPU, 0, 0)\n"
     ]
    },
    {
     "name": "stdout",
     "output_type": "stream",
     "text": [
      "INFO:tensorflow:*** Available Device: _DeviceAttributes(/job:worker/replica:0/task:0/device:CPU:0, CPU, 0, 0)\n"
     ]
    },
    {
     "name": "stderr",
     "output_type": "stream",
     "text": [
      "INFO:tensorflow:*** Available Device: _DeviceAttributes(/job:worker/replica:0/task:0/device:CPU:0, CPU, 0, 0)\n"
     ]
    },
    {
     "name": "stdout",
     "output_type": "stream",
     "text": [
      "INFO:tensorflow:*** Available Device: _DeviceAttributes(/job:worker/replica:0/task:0/device:TPU:0, TPU, 0, 0)\n"
     ]
    },
    {
     "name": "stderr",
     "output_type": "stream",
     "text": [
      "INFO:tensorflow:*** Available Device: _DeviceAttributes(/job:worker/replica:0/task:0/device:TPU:0, TPU, 0, 0)\n"
     ]
    },
    {
     "name": "stdout",
     "output_type": "stream",
     "text": [
      "INFO:tensorflow:*** Available Device: _DeviceAttributes(/job:worker/replica:0/task:0/device:TPU:1, TPU, 0, 0)\n"
     ]
    },
    {
     "name": "stderr",
     "output_type": "stream",
     "text": [
      "INFO:tensorflow:*** Available Device: _DeviceAttributes(/job:worker/replica:0/task:0/device:TPU:1, TPU, 0, 0)\n"
     ]
    },
    {
     "name": "stdout",
     "output_type": "stream",
     "text": [
      "INFO:tensorflow:*** Available Device: _DeviceAttributes(/job:worker/replica:0/task:0/device:TPU:2, TPU, 0, 0)\n"
     ]
    },
    {
     "name": "stderr",
     "output_type": "stream",
     "text": [
      "INFO:tensorflow:*** Available Device: _DeviceAttributes(/job:worker/replica:0/task:0/device:TPU:2, TPU, 0, 0)\n"
     ]
    },
    {
     "name": "stdout",
     "output_type": "stream",
     "text": [
      "INFO:tensorflow:*** Available Device: _DeviceAttributes(/job:worker/replica:0/task:0/device:TPU:3, TPU, 0, 0)\n"
     ]
    },
    {
     "name": "stderr",
     "output_type": "stream",
     "text": [
      "INFO:tensorflow:*** Available Device: _DeviceAttributes(/job:worker/replica:0/task:0/device:TPU:3, TPU, 0, 0)\n"
     ]
    },
    {
     "name": "stdout",
     "output_type": "stream",
     "text": [
      "INFO:tensorflow:*** Available Device: _DeviceAttributes(/job:worker/replica:0/task:0/device:TPU:4, TPU, 0, 0)\n"
     ]
    },
    {
     "name": "stderr",
     "output_type": "stream",
     "text": [
      "INFO:tensorflow:*** Available Device: _DeviceAttributes(/job:worker/replica:0/task:0/device:TPU:4, TPU, 0, 0)\n"
     ]
    },
    {
     "name": "stdout",
     "output_type": "stream",
     "text": [
      "INFO:tensorflow:*** Available Device: _DeviceAttributes(/job:worker/replica:0/task:0/device:TPU:5, TPU, 0, 0)\n"
     ]
    },
    {
     "name": "stderr",
     "output_type": "stream",
     "text": [
      "INFO:tensorflow:*** Available Device: _DeviceAttributes(/job:worker/replica:0/task:0/device:TPU:5, TPU, 0, 0)\n"
     ]
    },
    {
     "name": "stdout",
     "output_type": "stream",
     "text": [
      "INFO:tensorflow:*** Available Device: _DeviceAttributes(/job:worker/replica:0/task:0/device:TPU:6, TPU, 0, 0)\n"
     ]
    },
    {
     "name": "stderr",
     "output_type": "stream",
     "text": [
      "INFO:tensorflow:*** Available Device: _DeviceAttributes(/job:worker/replica:0/task:0/device:TPU:6, TPU, 0, 0)\n"
     ]
    },
    {
     "name": "stdout",
     "output_type": "stream",
     "text": [
      "INFO:tensorflow:*** Available Device: _DeviceAttributes(/job:worker/replica:0/task:0/device:TPU:7, TPU, 0, 0)\n"
     ]
    },
    {
     "name": "stderr",
     "output_type": "stream",
     "text": [
      "INFO:tensorflow:*** Available Device: _DeviceAttributes(/job:worker/replica:0/task:0/device:TPU:7, TPU, 0, 0)\n"
     ]
    },
    {
     "name": "stdout",
     "output_type": "stream",
     "text": [
      "INFO:tensorflow:*** Available Device: _DeviceAttributes(/job:worker/replica:0/task:0/device:TPU_SYSTEM:0, TPU_SYSTEM, 0, 0)\n"
     ]
    },
    {
     "name": "stderr",
     "output_type": "stream",
     "text": [
      "INFO:tensorflow:*** Available Device: _DeviceAttributes(/job:worker/replica:0/task:0/device:TPU_SYSTEM:0, TPU_SYSTEM, 0, 0)\n"
     ]
    },
    {
     "name": "stdout",
     "output_type": "stream",
     "text": [
      "INFO:tensorflow:*** Available Device: _DeviceAttributes(/job:worker/replica:0/task:0/device:XLA_CPU:0, XLA_CPU, 0, 0)\n"
     ]
    },
    {
     "name": "stderr",
     "output_type": "stream",
     "text": [
      "INFO:tensorflow:*** Available Device: _DeviceAttributes(/job:worker/replica:0/task:0/device:XLA_CPU:0, XLA_CPU, 0, 0)\n"
     ]
    }
   ],
   "source": [
    "resolver = tf.distribute.cluster_resolver.TPUClusterResolver(tpu='node-5')\n",
    "tf.config.experimental_connect_to_cluster(resolver)\n",
    "tf.tpu.experimental.initialize_tpu_system(resolver)\n",
    "strategy = tf.distribute.TPUStrategy(resolver)\n",
    "\n",
    "with strategy.scope():\n",
    "    options = tf.data.Options()\n",
    "    options.experimental_distribute.auto_shard_policy = tf.data.experimental.AutoShardPolicy.FILE\n",
    "    options.deterministic=False\n",
    "    #options.experimental_threading.max_intra_op_parallelism = 1\n",
    "    mixed_precision.set_global_policy('mixed_bfloat16')\n",
    "    tf.config.optimizer.set_jit(True)\n",
    "    #options.num_devices = 64\n",
    "\n",
    "    BATCH_SIZE_PER_REPLICA = 1\n",
    "    NUM_REPLICAS = strategy.num_replicas_in_sync\n",
    "    GLOBAL_BATCH_SIZE = BATCH_SIZE_PER_REPLICA * NUM_REPLICAS"
   ]
  },
  {
   "cell_type": "code",
   "execution_count": 10,
   "id": "797537b8-5aab-49a2-8cb6-53e04a27f378",
   "metadata": {},
   "outputs": [],
   "source": [
    "g = tf.random.Generator.from_seed(1)\n",
    "with strategy.scope():\n",
    "\n",
    "    tr_data_it,val_data_it,val_data_ho_it, val_data_TSS_it,val_data_TSS_ho_it = \\\n",
    "        training_utils.return_distributed_iterators(\"gs://picard-testing-176520/paired_rampage_atac/262k/genformer_atac_rampage_globalacc_conv_rpgc_5prime\",\n",
    "                                     \"gs://picard-testing-176520/paired_rampage_atac/262k/genformer_atac_rampage_globalacc_conv_rpgc_5prime_holdout\",\n",
    "                                     \"gs://picard-testing-176520/paired_rampage_atac/262k/genformer_atac_rampage_globalacc_conv_rpgc_TSS_5prime\",\n",
    "                                     \"gs://picard-testing-176520/paired_rampage_atac/262k/genformer_atac_rampage_globalacc_conv_rpgc_TSS_5prime_holdout\",\n",
    "                                     8,\n",
    "                                     262144,\n",
    "                                     10,\n",
    "                                     65536,\n",
    "                                     2048,\n",
    "                                     256,\n",
    "                                     128,\n",
    "                                     4,\n",
    "                                     5,\n",
    "                                     strategy,\n",
    "                                     options,\n",
    "                                     0.025,\n",
    "                                     1024,\n",
    "                                     False,\n",
    "                                     True,\n",
    "                                     True,\n",
    "                                     False,\n",
    "                                     g)\n",
    "\n"
   ]
  },
  {
   "cell_type": "code",
   "execution_count": 11,
   "id": "b8f9d938-b205-4fc0-a3ab-5d2d438329b2",
   "metadata": {},
   "outputs": [
    {
     "name": "stderr",
     "output_type": "stream",
     "text": [
      "/opt/conda/lib/python3.7/site-packages/keras/initializers/initializers_v2.py:121: UserWarning: The initializer RandomUniform is unseeded and being called multiple times, which will return identical values  each time (even if the initializer is unseeded). Please update your code to provide a seed to the initializer, or avoid using the same initalizer instance more than once.\n",
      "  f\"The initializer {self.__class__.__name__} is unseeded \"\n"
     ]
    },
    {
     "name": "stdout",
     "output_type": "stream",
     "text": [
      "ran test input\n",
      "loaded weights\n"
     ]
    }
   ],
   "source": [
    "with strategy.scope():\n",
    "\n",
    "\n",
    "    model = aformer.aformer(kernel_transformation = 'relu_kernel_transformation',\n",
    "                             dropout_rate = 0.30,\n",
    "                             pointwise_dropout_rate=0.1,\n",
    "                             input_length = 262144,\n",
    "                             output_length = 2048,\n",
    "                             final_output_length = 1536,\n",
    "                             num_heads = 8,\n",
    "                             numerical_stabilizer = 0.001,\n",
    "                             nb_random_features = 256,\n",
    "                             num_transformer_layers = 6,\n",
    "                             norm=True,\n",
    "                             BN_momentum=0.90,\n",
    "                             max_seq_length = 2048,\n",
    "                             use_rot_emb = True,\n",
    "                             use_mask_pos = False, \n",
    "                             normalize = True,\n",
    "                             seed = 3,\n",
    "                             load_init=False,\n",
    "                             stable_variant=False,\n",
    "                             inits=None,\n",
    "                             freeze_conv_layers=False,\n",
    "                             freeze_BN_layers=False,\n",
    "                             predict_atac=False,\n",
    "                             learnable_PE=True,\n",
    "                             filter_list_seq=[768,896,1024,1152,1280,1536])\n",
    "    \n",
    "    def build_step(iterator): #input_batch, model, optimizer, organism, gradient_clip):\n",
    "        @tf.function(jit_compile=True)\n",
    "        def test_step(inputs):\n",
    "            sequence=tf.cast(inputs['sequence'],dtype=tf.bfloat16)\n",
    "            atac=tf.cast(inputs['atac'],dtype=tf.bfloat16)\n",
    "            target=tf.cast(inputs['target'],dtype=tf.float32)\n",
    "            #global_acc=tf.cast(inputs['global_acc'],dtype=tf.bfloat16)         \n",
    "            input_tuple = sequence,atac#,global_acc\n",
    "\n",
    "            output = model(input_tuple,\n",
    "                           training=False)\n",
    "\n",
    "        for _ in tf.range(1): ## for loop within @tf.fuction for improved TPU performance\n",
    "            strategy.run(test_step, args=(next(iterator),))\n",
    "            \n",
    "            \n",
    "    build_step(val_data_it)\n",
    "\n",
    "    print('ran test input')\n",
    "    #model.load_weights(\"gs://picard-testing-176520/genformer_atac_pretrain/models/aformer_hg_262k_load-True_LR-0.01_T-7_D-0.3_2023-04-13_15:39:43/final/saved_model\")\n",
    "    model.load_weights(\"gs://picard-testing-176520/genformer_atac_pretrain/models/aformer_hg_262k_load-True_LR-0.01_T-6_D-0.3_2023-04-26_00:40:44/iteration_84/saved_model\")\n",
    "    print('loaded weights')"
   ]
  },
  {
   "cell_type": "code",
   "execution_count": 5,
   "id": "b7839285-c85c-4bf9-9ca0-d8cd3ef7f290",
   "metadata": {},
   "outputs": [],
   "source": [
    "with strategy.scope():\n",
    "    metric_dict = {}\n",
    "    \"\"\"\n",
    "    optimizer1 = tf.keras.optimizers.Adam(learning_rate=1.0e-07,\n",
    "                                          epsilon=1.0e-08)\n",
    "    optimizer2 = tf.keras.optimizers.Adam(learning_rate=1.0e-07,\n",
    "                                          epsilon=1.0e-08)\n",
    "    optimizer3 = tf.keras.optimizers.Adam(learning_rate=1.0e-04,\n",
    "                                          epsilon=1.0e-08)\n",
    "    \"\"\"\n",
    "    optimizer1 = tfa.optimizers.AdaBelief(\n",
    "        learning_rate= 1.0e-08, \n",
    "        epsilon=1.0e-14,\n",
    "        rectify=True)\n",
    "    optimizer2 = tfa.optimizers.AdaBelief(\n",
    "        learning_rate= 1.0e-08, \n",
    "        epsilon=1.0e-14,\n",
    "        rectify=True)\n",
    "    optimizer3 = tfa.optimizers.AdaBelief(\n",
    "        learning_rate= 1.0e-04, \n",
    "        epsilon=1.0e-14,\n",
    "        rectify=True)\n",
    "    optimizers_in=optimizer1,optimizer2,optimizer3\n",
    "\n",
    "    loss_fn = tf.keras.losses.Poisson(reduction=tf.keras.losses.Reduction.NONE)\n",
    "    \n",
    "    metric_dict[\"train_loss\"] = tf.keras.metrics.Mean(\"train_loss\",\n",
    "                                                 dtype=tf.float32)\n",
    "    \n",
    "    def dist_train_step_cage_only(iterator):    \n",
    "        @tf.function(jit_compile=True)\n",
    "        def train_step(inputs):\n",
    "            sequence=tf.cast(inputs['sequence'],dtype=tf.bfloat16)\n",
    "            atac=tf.cast(inputs['atac'],dtype=tf.bfloat16)\n",
    "            target=tf.cast(inputs['target'],dtype=tf.float32)\n",
    "            mask=tf.cast(inputs['mask'],dtype=tf.float32)\n",
    "            mask_gathered=tf.cast(inputs['mask_gathered'],dtype=tf.int32)\n",
    "            peaks=tf.cast(inputs['peaks'],dtype=tf.int32)\n",
    "            atac_orig=tf.cast(inputs['atac_orig'],dtype=tf.bfloat16)\n",
    "            tss_tokens=tf.cast(inputs['tss_tokens'],dtype=tf.int32)\n",
    "            \n",
    "\n",
    "            input_tuple = sequence, atac\n",
    "\n",
    "            with tf.GradientTape() as tape:\n",
    "\n",
    "                conv_vars = model.stem_conv.trainable_variables + \\\n",
    "                            model.stem_res_conv.trainable_variables + \\\n",
    "                            model.stem_pool.trainable_variables + \\\n",
    "                            model.conv_tower.trainable_variables + \\\n",
    "                            model.stem_conv_atac.trainable_variables + \\\n",
    "                                model.stem_res_conv_atac.trainable_variables + \\\n",
    "                                        model.stem_pool_atac.trainable_variables + \\\n",
    "                                            model.conv_tower_atac.trainable_variables\n",
    "                \n",
    "                performer_vars =model.pos_embedding_learned.trainable_variables + \\\n",
    "                                    model.performer.trainable_variables + \\\n",
    "                                        model.final_pointwise_conv.trainable_variables\n",
    "                                                \n",
    "\n",
    "                heads_vars = model.final_dense_profile_FT.trainable_variables \n",
    "\n",
    "                vars_all = conv_vars + performer_vars + heads_vars\n",
    "\n",
    "                output_profile = model(input_tuple,\n",
    "                                       training=True)\n",
    "\n",
    "                output_profile = tf.cast(output_profile,dtype=tf.float32)\n",
    "                \n",
    "\n",
    "                cage_loss = tf.reduce_mean(loss_fn(target[:,:,:],\n",
    "                                                             output_profile[:,:,:])) * (1. / 24)\n",
    "                loss = cage_loss\n",
    "            \n",
    "\n",
    "            gradients = tape.gradient(loss, vars_all)\n",
    "            \"\"\"\n",
    "            gradients, _ = tf.clip_by_global_norm(gradients, \n",
    "                                                  0.2)\n",
    "\n",
    "            optimizer1.apply_gradients(zip(gradients[:len(conv_vars)], \n",
    "                                           conv_vars))\n",
    "            optimizer2.apply_gradients(zip(gradients[len(conv_vars):len(conv_vars+pointwise_vars)], \n",
    "                                           pointwise_vars))\n",
    "            optimizer3.apply_gradients(zip(gradients[len(conv_vars+pointwise_vars):], \n",
    "                                           heads_vars))\n",
    "            metric_dict[\"train_loss\"].update_state(loss)\n",
    "            \"\"\"\n",
    "            return gradients,loss,output_profile,sequence,atac,target,atac_orig,mask,tss_tokens\n",
    "\n",
    "        for _ in tf.range(1):\n",
    "            gradients_out,loss,output_profile,sequence,atac,target,atac_orig,mask,tss_tokens = strategy.run(train_step,\n",
    "                         args=(next(iterator),))\n",
    "        return gradients_out,loss,output_profile,sequence,atac,target,atac_orig,mask,tss_tokens\n"
   ]
  },
  {
   "cell_type": "code",
   "execution_count": 6,
   "id": "d13d7eb8-7b92-44d8-92a7-2759896f8c89",
   "metadata": {},
   "outputs": [
    {
     "name": "stdout",
     "output_type": "stream",
     "text": [
      "[<tf.Tensor: shape=(), dtype=float32, numpy=0.0>, <tf.Tensor: shape=(), dtype=float32, numpy=0.0>, <tf.Tensor: shape=(), dtype=float32, numpy=0.0>, <tf.Tensor: shape=(), dtype=float32, numpy=0.0>, <tf.Tensor: shape=(), dtype=float32, numpy=0.0>, <tf.Tensor: shape=(), dtype=float32, numpy=0.0>, <tf.Tensor: shape=(), dtype=float32, numpy=0.0>, <tf.Tensor: shape=(), dtype=float32, numpy=0.0>, <tf.Tensor: shape=(), dtype=float32, numpy=0.0>, <tf.Tensor: shape=(), dtype=float32, numpy=0.0>, <tf.Tensor: shape=(), dtype=float32, numpy=0.0>, <tf.Tensor: shape=(), dtype=float32, numpy=0.0>, <tf.Tensor: shape=(), dtype=float32, numpy=0.0>, <tf.Tensor: shape=(), dtype=float32, numpy=0.0>, <tf.Tensor: shape=(), dtype=float32, numpy=0.0>, <tf.Tensor: shape=(), dtype=float32, numpy=0.0>, <tf.Tensor: shape=(), dtype=float32, numpy=0.0>, <tf.Tensor: shape=(), dtype=float32, numpy=0.0>, <tf.Tensor: shape=(), dtype=float32, numpy=0.0>, <tf.Tensor: shape=(), dtype=float32, numpy=0.0>, <tf.Tensor: shape=(), dtype=float32, numpy=0.0>, <tf.Tensor: shape=(), dtype=float32, numpy=0.0>, <tf.Tensor: shape=(), dtype=float32, numpy=0.0>, <tf.Tensor: shape=(), dtype=float32, numpy=0.0>, <tf.Tensor: shape=(), dtype=float32, numpy=0.0>, <tf.Tensor: shape=(), dtype=float32, numpy=0.0>, <tf.Tensor: shape=(), dtype=float32, numpy=0.0>, <tf.Tensor: shape=(), dtype=float32, numpy=0.0>, <tf.Tensor: shape=(), dtype=float32, numpy=0.0>, <tf.Tensor: shape=(), dtype=float32, numpy=0.0>, <tf.Tensor: shape=(), dtype=float32, numpy=0.0>, <tf.Tensor: shape=(), dtype=float32, numpy=0.0>, <tf.Tensor: shape=(), dtype=float32, numpy=0.0>, <tf.Tensor: shape=(), dtype=float32, numpy=0.0>, <tf.Tensor: shape=(), dtype=float32, numpy=0.0>, <tf.Tensor: shape=(), dtype=float32, numpy=0.0>, <tf.Tensor: shape=(), dtype=float32, numpy=0.0>, <tf.Tensor: shape=(), dtype=float32, numpy=0.0>, <tf.Tensor: shape=(), dtype=float32, numpy=0.0>, <tf.Tensor: shape=(), dtype=float32, numpy=0.0>, <tf.Tensor: shape=(), dtype=float32, numpy=0.0>, <tf.Tensor: shape=(), dtype=float32, numpy=0.0>, <tf.Tensor: shape=(), dtype=float32, numpy=0.0>, <tf.Tensor: shape=(), dtype=float32, numpy=0.0>, <tf.Tensor: shape=(), dtype=float32, numpy=0.0>, <tf.Tensor: shape=(), dtype=float32, numpy=0.0>, <tf.Tensor: shape=(), dtype=float32, numpy=0.0>, <tf.Tensor: shape=(), dtype=float32, numpy=0.0>, <tf.Tensor: shape=(), dtype=float32, numpy=0.0>, <tf.Tensor: shape=(), dtype=float32, numpy=0.0>, <tf.Tensor: shape=(), dtype=float32, numpy=0.0>, <tf.Tensor: shape=(), dtype=float32, numpy=0.0>, <tf.Tensor: shape=(), dtype=float32, numpy=0.0>, <tf.Tensor: shape=(), dtype=float32, numpy=0.0>, <tf.Tensor: shape=(), dtype=float32, numpy=0.0>, <tf.Tensor: shape=(), dtype=float32, numpy=0.0>, <tf.Tensor: shape=(), dtype=float32, numpy=0.0>, <tf.Tensor: shape=(), dtype=float32, numpy=0.0>, <tf.Tensor: shape=(), dtype=float32, numpy=0.0>, <tf.Tensor: shape=(), dtype=float32, numpy=0.0>, <tf.Tensor: shape=(), dtype=float32, numpy=0.0>, <tf.Tensor: shape=(), dtype=float32, numpy=0.0>, <tf.Tensor: shape=(), dtype=float32, numpy=0.0>, <tf.Tensor: shape=(), dtype=float32, numpy=0.0>, <tf.Tensor: shape=(), dtype=float32, numpy=0.0>, <tf.Tensor: shape=(), dtype=float32, numpy=0.0>, <tf.Tensor: shape=(), dtype=float32, numpy=0.0>, <tf.Tensor: shape=(), dtype=float32, numpy=0.0>, <tf.Tensor: shape=(), dtype=float32, numpy=0.0>, <tf.Tensor: shape=(), dtype=float32, numpy=0.0>, <tf.Tensor: shape=(), dtype=float32, numpy=0.0>, <tf.Tensor: shape=(), dtype=float32, numpy=0.0>, <tf.Tensor: shape=(), dtype=float32, numpy=0.0>, <tf.Tensor: shape=(), dtype=float32, numpy=0.0>, <tf.Tensor: shape=(), dtype=float32, numpy=0.0>, <tf.Tensor: shape=(), dtype=float32, numpy=0.0>, <tf.Tensor: shape=(), dtype=float32, numpy=0.0>, <tf.Tensor: shape=(), dtype=float32, numpy=0.0>, <tf.Tensor: shape=(), dtype=float32, numpy=0.0>, <tf.Tensor: shape=(), dtype=float32, numpy=0.0>, <tf.Tensor: shape=(), dtype=float32, numpy=0.0>, <tf.Tensor: shape=(), dtype=float32, numpy=0.0>, <tf.Tensor: shape=(), dtype=float32, numpy=0.0>, <tf.Tensor: shape=(), dtype=float32, numpy=0.0>, <tf.Tensor: shape=(), dtype=float32, numpy=0.0>, <tf.Tensor: shape=(), dtype=float32, numpy=0.0>, <tf.Tensor: shape=(), dtype=float32, numpy=0.0>, <tf.Tensor: shape=(), dtype=float32, numpy=0.0>, <tf.Tensor: shape=(), dtype=float32, numpy=0.0>, <tf.Tensor: shape=(), dtype=float32, numpy=0.0>, <tf.Tensor: shape=(), dtype=float32, numpy=0.0>, <tf.Tensor: shape=(), dtype=float32, numpy=0.0>, <tf.Tensor: shape=(), dtype=float32, numpy=0.0>, <tf.Tensor: shape=(), dtype=float32, numpy=0.0>, <tf.Tensor: shape=(), dtype=float32, numpy=0.0>, <tf.Tensor: shape=(), dtype=float32, numpy=0.0>, <tf.Tensor: shape=(), dtype=float32, numpy=0.0>, <tf.Tensor: shape=(), dtype=float32, numpy=0.0>, <tf.Tensor: shape=(), dtype=float32, numpy=0.0>, <tf.Tensor: shape=(), dtype=float32, numpy=0.0>, <tf.Tensor: shape=(), dtype=float32, numpy=0.0>, <tf.Tensor: shape=(), dtype=float32, numpy=0.0>, <tf.Tensor: shape=(), dtype=float32, numpy=0.0>, <tf.Tensor: shape=(), dtype=float32, numpy=0.0>, <tf.Tensor: shape=(), dtype=float32, numpy=0.0>, <tf.Tensor: shape=(), dtype=float32, numpy=0.0>, <tf.Tensor: shape=(), dtype=float32, numpy=0.0>, <tf.Tensor: shape=(), dtype=float32, numpy=0.0>, <tf.Tensor: shape=(), dtype=float32, numpy=0.0>, <tf.Tensor: shape=(), dtype=float32, numpy=0.0>, <tf.Tensor: shape=(), dtype=float32, numpy=0.0>, <tf.Tensor: shape=(), dtype=float32, numpy=0.0>, <tf.Tensor: shape=(), dtype=float32, numpy=0.0>, <tf.Tensor: shape=(), dtype=float32, numpy=0.0>, <tf.Tensor: shape=(), dtype=float32, numpy=0.0>, <tf.Tensor: shape=(), dtype=float32, numpy=0.0>, <tf.Tensor: shape=(), dtype=float32, numpy=0.0>, <tf.Tensor: shape=(), dtype=float32, numpy=0.0>, <tf.Tensor: shape=(), dtype=float32, numpy=0.0>, <tf.Tensor: shape=(), dtype=float32, numpy=0.0>, <tf.Tensor: shape=(), dtype=float32, numpy=0.0>, <tf.Tensor: shape=(), dtype=float32, numpy=0.0>, <tf.Tensor: shape=(), dtype=float32, numpy=0.0>, <tf.Tensor: shape=(), dtype=float32, numpy=0.0>, <tf.Tensor: shape=(), dtype=float32, numpy=0.0>, <tf.Tensor: shape=(), dtype=float32, numpy=0.0>, <tf.Tensor: shape=(), dtype=float32, numpy=0.0>, <tf.Tensor: shape=(), dtype=float32, numpy=0.0>, <tf.Tensor: shape=(), dtype=float32, numpy=0.0>, <tf.Tensor: shape=(), dtype=float32, numpy=0.0>, <tf.Tensor: shape=(), dtype=float32, numpy=0.0>, <tf.Tensor: shape=(), dtype=float32, numpy=0.0>, <tf.Tensor: shape=(), dtype=float32, numpy=0.0>, <tf.Tensor: shape=(), dtype=float32, numpy=0.0>, <tf.Tensor: shape=(), dtype=float32, numpy=0.0>, <tf.Tensor: shape=(), dtype=float32, numpy=0.0>, <tf.Tensor: shape=(), dtype=float32, numpy=0.0>, <tf.Tensor: shape=(), dtype=float32, numpy=0.0>, <tf.Tensor: shape=(), dtype=float32, numpy=0.0>, <tf.Tensor: shape=(), dtype=float32, numpy=0.0>, <tf.Tensor: shape=(), dtype=float32, numpy=0.0>, <tf.Tensor: shape=(), dtype=float32, numpy=0.0>, <tf.Tensor: shape=(), dtype=float32, numpy=0.0>, <tf.Tensor: shape=(), dtype=float32, numpy=0.0>, <tf.Tensor: shape=(), dtype=float32, numpy=0.0>, <tf.Tensor: shape=(), dtype=float32, numpy=0.0>, <tf.Tensor: shape=(), dtype=float32, numpy=0.0>, <tf.Tensor: shape=(), dtype=float32, numpy=0.0>, <tf.Tensor: shape=(), dtype=float32, numpy=0.0>, <tf.Tensor: shape=(), dtype=float32, numpy=0.0>, <tf.Tensor: shape=(), dtype=float32, numpy=0.0>, <tf.Tensor: shape=(), dtype=float32, numpy=0.0>, <tf.Tensor: shape=(), dtype=float32, numpy=0.0>, <tf.Tensor: shape=(), dtype=float32, numpy=0.0>, <tf.Tensor: shape=(), dtype=float32, numpy=0.0>, <tf.Tensor: shape=(), dtype=float32, numpy=0.0>, <tf.Tensor: shape=(), dtype=float32, numpy=0.0>, <tf.Tensor: shape=(), dtype=float32, numpy=0.0>, <tf.Tensor: shape=(), dtype=float32, numpy=0.0>, <tf.Tensor: shape=(), dtype=float32, numpy=0.0>, <tf.Tensor: shape=(), dtype=float32, numpy=0.0>, <tf.Tensor: shape=(), dtype=float32, numpy=0.0>, <tf.Tensor: shape=(), dtype=float32, numpy=0.0>, <tf.Tensor: shape=(), dtype=float32, numpy=0.0>, <tf.Tensor: shape=(), dtype=float32, numpy=0.0>, <tf.Tensor: shape=(), dtype=float32, numpy=0.0>, <tf.Tensor: shape=(), dtype=float32, numpy=0.0>]\n",
      "PerReplica:{\n",
      "  0: tf.Tensor(0.023463516, shape=(), dtype=float32),\n",
      "  1: tf.Tensor(0.002983895, shape=(), dtype=float32),\n",
      "  2: tf.Tensor(0.02628904, shape=(), dtype=float32),\n",
      "  3: tf.Tensor(0.035570942, shape=(), dtype=float32),\n",
      "  4: tf.Tensor(0.030939277, shape=(), dtype=float32),\n",
      "  5: tf.Tensor(0.014682291, shape=(), dtype=float32),\n",
      "  6: tf.Tensor(0.031573724, shape=(), dtype=float32),\n",
      "  7: tf.Tensor(0.034509104, shape=(), dtype=float32)\n",
      "}\n",
      "hg_train_loss: 0.0\n"
     ]
    }
   ],
   "source": [
    "from scipy.stats.stats import pearsonr  \n",
    "with strategy.scope():\n",
    "    def sum_log(x):\n",
    "        return np.log10(1.0 + np.nansum(x))\n",
    "    \n",
    "    global_step = 0\n",
    "    val_losses = []\n",
    "    val_pearsons = []\n",
    "    val_R2 = []\n",
    "    patience_counter = 0\n",
    "    stop_criteria = False\n",
    "    best_epoch = 0\n",
    "\n",
    "    for epoch_i in range(2, 10):\n",
    "        start = time.time()\n",
    "        if epoch_i == 1:\n",
    "            build_step(tr_data_it)\n",
    "            total_params = 0\n",
    "            for k in model.trainable_variables:\n",
    "                var = k.values[0]\n",
    "                total_params += tf.size(var)\n",
    "            print('total params: ' + str(total_params))\n",
    "        \n",
    "\n",
    "        grads_out,loss,output_profile,sequence,atac,target,atac_orig,mask,tss_tokens = dist_train_step_cage_only(tr_data_it)\n",
    "        \n",
    "        print([tf.reduce_sum(tf.cast(tf.math.is_nan(x.values[0]),dtype=tf.float32)) for x in grads_out])\n",
    "        print(loss)\n",
    "        #train_step(data_tr)\n",
    "        \n",
    "        print('hg_train_loss: ' + str(metric_dict['train_loss'].result().numpy()))\n",
    "        break\n",
    "        #continue\n",
    "        '''\n",
    "        val_step(data_val)\n",
    "        #val_step(data_val)\n",
    "\n",
    "        val_losses.append(metric_dict['val_loss'].result().numpy())\n",
    "        print('hg_val_loss: ' + str(metric_dict['val_loss'].result().numpy()))\n",
    "        #print('hg_val_loss_CAGE: ' + str(metric_dict['val_loss_CAGE'].result().numpy()))\n",
    "        #print('hg_val_loss_ATAC: ' + str(metric_dict['val_loss_ATAC'].result().numpy()))\n",
    "        #print('hg_val_cage_pearson: ' + str(metric_dict['CAGE_PearsonR'].result()['PearsonR'].numpy()))\n",
    "        #print('hg_val_cage_R2: ' + str(metric_dict['CAGE_R2'].result()['R2'].numpy()))\n",
    "        \n",
    "        print('hg_val_atac_pearson: ' + str(metric_dict['ATAC_PearsonR'].result()['PearsonR'].numpy()))\n",
    "        print('hg_val_atac_R2: ' + str(metric_dict['ATAC_R2'].result()['R2'].numpy()))\n",
    "        \n",
    "        \n",
    "        #print('hg_val_atac_baseline_pearson: ' + str(metric_dict['ATAC_PearsonR_baseline'].result()['PearsonR'].numpy()))\n",
    "        #print('hg_val_atac_baseline_R2: ' + str(metric_dict['ATAC_R2_baseline'].result()['R2'].numpy()))\n",
    "        \"\"\"\n",
    "        val_step_TSS(data_val_TSS)\n",
    "        #val_step_TSS(data_val_TSS)\n",
    "        \n",
    "        y_trues = metric_dict['corr_stats'].result()['y_trues'].numpy()\n",
    "        y_preds = metric_dict['corr_stats'].result()['y_preds'].numpy()\n",
    "        cell_types = metric_dict['corr_stats'].result()['cell_types'].numpy()\n",
    "        gene_map = metric_dict['corr_stats'].result()['gene_map'].numpy()\n",
    "\n",
    "\n",
    "        figures, corrs_overall = training_utils.make_plots(y_trues,\n",
    "                                           y_preds, \n",
    "                                           cell_types, \n",
    "                                           gene_map,50)\n",
    "        \n",
    "        cell_spec,gene_spec,cell_spec_sp,gene_spec_sp = corrs_overall\n",
    "        \n",
    "        print('cell spec corr: ' + str(cell_spec))\n",
    "        print('gene_spec_corr:' + str(gene_spec))\n",
    "        print('cell spec corr_sp: ' + str(cell_spec_sp))\n",
    "        print('gene_spec_corr_sp:' + str(gene_spec_sp))\n",
    "        \"\"\"\n",
    "        end = time.time()\n",
    "        duration = (end - start) / 60.\n",
    "        print('completed epoch ' + str(epoch_i))\n",
    "        print('duration(mins): ' + str(duration))\n",
    "        print('patience counter at: ' + str(patience_counter))\n",
    "        \n",
    "        for key, item in metric_dict.items():\n",
    "            item.reset_state()\n",
    "        '''"
   ]
  },
  {
   "cell_type": "code",
   "execution_count": 11,
   "id": "47ac7e69-44a6-4184-a21b-7ec02d704400",
   "metadata": {},
   "outputs": [
    {
     "data": {
      "text/plain": [
       "<tf.Tensor: shape=(), dtype=int32, numpy=1>"
      ]
     },
     "execution_count": 11,
     "metadata": {},
     "output_type": "execute_result"
    }
   ],
   "source": [
    "tf.reduce_max(tss_tokens.values[0])"
   ]
  },
  {
   "cell_type": "code",
   "execution_count": 17,
   "id": "4a0778d1-feb2-4f0c-aa74-5f9a53d9c8a4",
   "metadata": {},
   "outputs": [
    {
     "data": {
      "text/plain": [
       "[('_CHECKPOINTABLE_OBJECT_GRAPH', []),\n",
       " ('conv_tower/layer_with_weights-0/layer_with_weights-0/layer_with_weights-0/batch_norm/beta/.ATTRIBUTES/VARIABLE_VALUE',\n",
       "  [768]),\n",
       " ('conv_tower/layer_with_weights-0/layer_with_weights-0/layer_with_weights-0/batch_norm/gamma/.ATTRIBUTES/VARIABLE_VALUE',\n",
       "  [768]),\n",
       " ('conv_tower/layer_with_weights-0/layer_with_weights-0/layer_with_weights-0/batch_norm/moving_mean/.ATTRIBUTES/VARIABLE_VALUE',\n",
       "  [768]),\n",
       " ('conv_tower/layer_with_weights-0/layer_with_weights-0/layer_with_weights-0/batch_norm/moving_variance/.ATTRIBUTES/VARIABLE_VALUE',\n",
       "  [768]),\n",
       " ('conv_tower/layer_with_weights-0/layer_with_weights-0/layer_with_weights-1/bias/.ATTRIBUTES/VARIABLE_VALUE',\n",
       "  [768]),\n",
       " ('conv_tower/layer_with_weights-0/layer_with_weights-0/layer_with_weights-1/kernel/.ATTRIBUTES/VARIABLE_VALUE',\n",
       "  [5, 768, 768]),\n",
       " ('conv_tower/layer_with_weights-0/layer_with_weights-1/_layer/layer_with_weights-0/batch_norm/beta/.ATTRIBUTES/VARIABLE_VALUE',\n",
       "  [768]),\n",
       " ('conv_tower/layer_with_weights-0/layer_with_weights-1/_layer/layer_with_weights-0/batch_norm/gamma/.ATTRIBUTES/VARIABLE_VALUE',\n",
       "  [768]),\n",
       " ('conv_tower/layer_with_weights-0/layer_with_weights-1/_layer/layer_with_weights-0/batch_norm/moving_mean/.ATTRIBUTES/VARIABLE_VALUE',\n",
       "  [768]),\n",
       " ('conv_tower/layer_with_weights-0/layer_with_weights-1/_layer/layer_with_weights-0/batch_norm/moving_variance/.ATTRIBUTES/VARIABLE_VALUE',\n",
       "  [768]),\n",
       " ('conv_tower/layer_with_weights-0/layer_with_weights-1/_layer/layer_with_weights-1/bias/.ATTRIBUTES/VARIABLE_VALUE',\n",
       "  [768]),\n",
       " ('conv_tower/layer_with_weights-0/layer_with_weights-1/_layer/layer_with_weights-1/kernel/.ATTRIBUTES/VARIABLE_VALUE',\n",
       "  [1, 768, 768]),\n",
       " ('conv_tower/layer_with_weights-0/layer_with_weights-2/_logit_linear/kernel/.ATTRIBUTES/VARIABLE_VALUE',\n",
       "  [768, 768]),\n",
       " ('conv_tower/layer_with_weights-1/layer_with_weights-0/layer_with_weights-0/batch_norm/beta/.ATTRIBUTES/VARIABLE_VALUE',\n",
       "  [768]),\n",
       " ('conv_tower/layer_with_weights-1/layer_with_weights-0/layer_with_weights-0/batch_norm/gamma/.ATTRIBUTES/VARIABLE_VALUE',\n",
       "  [768]),\n",
       " ('conv_tower/layer_with_weights-1/layer_with_weights-0/layer_with_weights-0/batch_norm/moving_mean/.ATTRIBUTES/VARIABLE_VALUE',\n",
       "  [768]),\n",
       " ('conv_tower/layer_with_weights-1/layer_with_weights-0/layer_with_weights-0/batch_norm/moving_variance/.ATTRIBUTES/VARIABLE_VALUE',\n",
       "  [768]),\n",
       " ('conv_tower/layer_with_weights-1/layer_with_weights-0/layer_with_weights-1/bias/.ATTRIBUTES/VARIABLE_VALUE',\n",
       "  [896]),\n",
       " ('conv_tower/layer_with_weights-1/layer_with_weights-0/layer_with_weights-1/kernel/.ATTRIBUTES/VARIABLE_VALUE',\n",
       "  [5, 768, 896]),\n",
       " ('conv_tower/layer_with_weights-1/layer_with_weights-1/_layer/layer_with_weights-0/batch_norm/beta/.ATTRIBUTES/VARIABLE_VALUE',\n",
       "  [896]),\n",
       " ('conv_tower/layer_with_weights-1/layer_with_weights-1/_layer/layer_with_weights-0/batch_norm/gamma/.ATTRIBUTES/VARIABLE_VALUE',\n",
       "  [896]),\n",
       " ('conv_tower/layer_with_weights-1/layer_with_weights-1/_layer/layer_with_weights-0/batch_norm/moving_mean/.ATTRIBUTES/VARIABLE_VALUE',\n",
       "  [896]),\n",
       " ('conv_tower/layer_with_weights-1/layer_with_weights-1/_layer/layer_with_weights-0/batch_norm/moving_variance/.ATTRIBUTES/VARIABLE_VALUE',\n",
       "  [896]),\n",
       " ('conv_tower/layer_with_weights-1/layer_with_weights-1/_layer/layer_with_weights-1/bias/.ATTRIBUTES/VARIABLE_VALUE',\n",
       "  [896]),\n",
       " ('conv_tower/layer_with_weights-1/layer_with_weights-1/_layer/layer_with_weights-1/kernel/.ATTRIBUTES/VARIABLE_VALUE',\n",
       "  [1, 896, 896]),\n",
       " ('conv_tower/layer_with_weights-1/layer_with_weights-2/_logit_linear/kernel/.ATTRIBUTES/VARIABLE_VALUE',\n",
       "  [896, 896]),\n",
       " ('conv_tower/layer_with_weights-2/layer_with_weights-0/layer_with_weights-0/batch_norm/beta/.ATTRIBUTES/VARIABLE_VALUE',\n",
       "  [896]),\n",
       " ('conv_tower/layer_with_weights-2/layer_with_weights-0/layer_with_weights-0/batch_norm/gamma/.ATTRIBUTES/VARIABLE_VALUE',\n",
       "  [896]),\n",
       " ('conv_tower/layer_with_weights-2/layer_with_weights-0/layer_with_weights-0/batch_norm/moving_mean/.ATTRIBUTES/VARIABLE_VALUE',\n",
       "  [896]),\n",
       " ('conv_tower/layer_with_weights-2/layer_with_weights-0/layer_with_weights-0/batch_norm/moving_variance/.ATTRIBUTES/VARIABLE_VALUE',\n",
       "  [896]),\n",
       " ('conv_tower/layer_with_weights-2/layer_with_weights-0/layer_with_weights-1/bias/.ATTRIBUTES/VARIABLE_VALUE',\n",
       "  [1024]),\n",
       " ('conv_tower/layer_with_weights-2/layer_with_weights-0/layer_with_weights-1/kernel/.ATTRIBUTES/VARIABLE_VALUE',\n",
       "  [5, 896, 1024]),\n",
       " ('conv_tower/layer_with_weights-2/layer_with_weights-1/_layer/layer_with_weights-0/batch_norm/beta/.ATTRIBUTES/VARIABLE_VALUE',\n",
       "  [1024]),\n",
       " ('conv_tower/layer_with_weights-2/layer_with_weights-1/_layer/layer_with_weights-0/batch_norm/gamma/.ATTRIBUTES/VARIABLE_VALUE',\n",
       "  [1024]),\n",
       " ('conv_tower/layer_with_weights-2/layer_with_weights-1/_layer/layer_with_weights-0/batch_norm/moving_mean/.ATTRIBUTES/VARIABLE_VALUE',\n",
       "  [1024]),\n",
       " ('conv_tower/layer_with_weights-2/layer_with_weights-1/_layer/layer_with_weights-0/batch_norm/moving_variance/.ATTRIBUTES/VARIABLE_VALUE',\n",
       "  [1024]),\n",
       " ('conv_tower/layer_with_weights-2/layer_with_weights-1/_layer/layer_with_weights-1/bias/.ATTRIBUTES/VARIABLE_VALUE',\n",
       "  [1024]),\n",
       " ('conv_tower/layer_with_weights-2/layer_with_weights-1/_layer/layer_with_weights-1/kernel/.ATTRIBUTES/VARIABLE_VALUE',\n",
       "  [1, 1024, 1024]),\n",
       " ('conv_tower/layer_with_weights-2/layer_with_weights-2/_logit_linear/kernel/.ATTRIBUTES/VARIABLE_VALUE',\n",
       "  [1024, 1024]),\n",
       " ('conv_tower/layer_with_weights-3/layer_with_weights-0/layer_with_weights-0/batch_norm/beta/.ATTRIBUTES/VARIABLE_VALUE',\n",
       "  [1024]),\n",
       " ('conv_tower/layer_with_weights-3/layer_with_weights-0/layer_with_weights-0/batch_norm/gamma/.ATTRIBUTES/VARIABLE_VALUE',\n",
       "  [1024]),\n",
       " ('conv_tower/layer_with_weights-3/layer_with_weights-0/layer_with_weights-0/batch_norm/moving_mean/.ATTRIBUTES/VARIABLE_VALUE',\n",
       "  [1024]),\n",
       " ('conv_tower/layer_with_weights-3/layer_with_weights-0/layer_with_weights-0/batch_norm/moving_variance/.ATTRIBUTES/VARIABLE_VALUE',\n",
       "  [1024]),\n",
       " ('conv_tower/layer_with_weights-3/layer_with_weights-0/layer_with_weights-1/bias/.ATTRIBUTES/VARIABLE_VALUE',\n",
       "  [1152]),\n",
       " ('conv_tower/layer_with_weights-3/layer_with_weights-0/layer_with_weights-1/kernel/.ATTRIBUTES/VARIABLE_VALUE',\n",
       "  [5, 1024, 1152]),\n",
       " ('conv_tower/layer_with_weights-3/layer_with_weights-1/_layer/layer_with_weights-0/batch_norm/beta/.ATTRIBUTES/VARIABLE_VALUE',\n",
       "  [1152]),\n",
       " ('conv_tower/layer_with_weights-3/layer_with_weights-1/_layer/layer_with_weights-0/batch_norm/gamma/.ATTRIBUTES/VARIABLE_VALUE',\n",
       "  [1152]),\n",
       " ('conv_tower/layer_with_weights-3/layer_with_weights-1/_layer/layer_with_weights-0/batch_norm/moving_mean/.ATTRIBUTES/VARIABLE_VALUE',\n",
       "  [1152]),\n",
       " ('conv_tower/layer_with_weights-3/layer_with_weights-1/_layer/layer_with_weights-0/batch_norm/moving_variance/.ATTRIBUTES/VARIABLE_VALUE',\n",
       "  [1152]),\n",
       " ('conv_tower/layer_with_weights-3/layer_with_weights-1/_layer/layer_with_weights-1/bias/.ATTRIBUTES/VARIABLE_VALUE',\n",
       "  [1152]),\n",
       " ('conv_tower/layer_with_weights-3/layer_with_weights-1/_layer/layer_with_weights-1/kernel/.ATTRIBUTES/VARIABLE_VALUE',\n",
       "  [1, 1152, 1152]),\n",
       " ('conv_tower/layer_with_weights-3/layer_with_weights-2/_logit_linear/kernel/.ATTRIBUTES/VARIABLE_VALUE',\n",
       "  [1152, 1152]),\n",
       " ('conv_tower/layer_with_weights-4/layer_with_weights-0/layer_with_weights-0/batch_norm/beta/.ATTRIBUTES/VARIABLE_VALUE',\n",
       "  [1152]),\n",
       " ('conv_tower/layer_with_weights-4/layer_with_weights-0/layer_with_weights-0/batch_norm/gamma/.ATTRIBUTES/VARIABLE_VALUE',\n",
       "  [1152]),\n",
       " ('conv_tower/layer_with_weights-4/layer_with_weights-0/layer_with_weights-0/batch_norm/moving_mean/.ATTRIBUTES/VARIABLE_VALUE',\n",
       "  [1152]),\n",
       " ('conv_tower/layer_with_weights-4/layer_with_weights-0/layer_with_weights-0/batch_norm/moving_variance/.ATTRIBUTES/VARIABLE_VALUE',\n",
       "  [1152]),\n",
       " ('conv_tower/layer_with_weights-4/layer_with_weights-0/layer_with_weights-1/bias/.ATTRIBUTES/VARIABLE_VALUE',\n",
       "  [1280]),\n",
       " ('conv_tower/layer_with_weights-4/layer_with_weights-0/layer_with_weights-1/kernel/.ATTRIBUTES/VARIABLE_VALUE',\n",
       "  [5, 1152, 1280]),\n",
       " ('conv_tower/layer_with_weights-4/layer_with_weights-1/_layer/layer_with_weights-0/batch_norm/beta/.ATTRIBUTES/VARIABLE_VALUE',\n",
       "  [1280]),\n",
       " ('conv_tower/layer_with_weights-4/layer_with_weights-1/_layer/layer_with_weights-0/batch_norm/gamma/.ATTRIBUTES/VARIABLE_VALUE',\n",
       "  [1280]),\n",
       " ('conv_tower/layer_with_weights-4/layer_with_weights-1/_layer/layer_with_weights-0/batch_norm/moving_mean/.ATTRIBUTES/VARIABLE_VALUE',\n",
       "  [1280]),\n",
       " ('conv_tower/layer_with_weights-4/layer_with_weights-1/_layer/layer_with_weights-0/batch_norm/moving_variance/.ATTRIBUTES/VARIABLE_VALUE',\n",
       "  [1280]),\n",
       " ('conv_tower/layer_with_weights-4/layer_with_weights-1/_layer/layer_with_weights-1/bias/.ATTRIBUTES/VARIABLE_VALUE',\n",
       "  [1280]),\n",
       " ('conv_tower/layer_with_weights-4/layer_with_weights-1/_layer/layer_with_weights-1/kernel/.ATTRIBUTES/VARIABLE_VALUE',\n",
       "  [1, 1280, 1280]),\n",
       " ('conv_tower/layer_with_weights-4/layer_with_weights-2/_logit_linear/kernel/.ATTRIBUTES/VARIABLE_VALUE',\n",
       "  [1280, 1280]),\n",
       " ('conv_tower/layer_with_weights-5/layer_with_weights-0/layer_with_weights-0/batch_norm/beta/.ATTRIBUTES/VARIABLE_VALUE',\n",
       "  [1280]),\n",
       " ('conv_tower/layer_with_weights-5/layer_with_weights-0/layer_with_weights-0/batch_norm/gamma/.ATTRIBUTES/VARIABLE_VALUE',\n",
       "  [1280]),\n",
       " ('conv_tower/layer_with_weights-5/layer_with_weights-0/layer_with_weights-0/batch_norm/moving_mean/.ATTRIBUTES/VARIABLE_VALUE',\n",
       "  [1280]),\n",
       " ('conv_tower/layer_with_weights-5/layer_with_weights-0/layer_with_weights-0/batch_norm/moving_variance/.ATTRIBUTES/VARIABLE_VALUE',\n",
       "  [1280]),\n",
       " ('conv_tower/layer_with_weights-5/layer_with_weights-0/layer_with_weights-1/bias/.ATTRIBUTES/VARIABLE_VALUE',\n",
       "  [1536]),\n",
       " ('conv_tower/layer_with_weights-5/layer_with_weights-0/layer_with_weights-1/kernel/.ATTRIBUTES/VARIABLE_VALUE',\n",
       "  [5, 1280, 1536]),\n",
       " ('conv_tower/layer_with_weights-5/layer_with_weights-1/_layer/layer_with_weights-0/batch_norm/beta/.ATTRIBUTES/VARIABLE_VALUE',\n",
       "  [1536]),\n",
       " ('conv_tower/layer_with_weights-5/layer_with_weights-1/_layer/layer_with_weights-0/batch_norm/gamma/.ATTRIBUTES/VARIABLE_VALUE',\n",
       "  [1536]),\n",
       " ('conv_tower/layer_with_weights-5/layer_with_weights-1/_layer/layer_with_weights-0/batch_norm/moving_mean/.ATTRIBUTES/VARIABLE_VALUE',\n",
       "  [1536]),\n",
       " ('conv_tower/layer_with_weights-5/layer_with_weights-1/_layer/layer_with_weights-0/batch_norm/moving_variance/.ATTRIBUTES/VARIABLE_VALUE',\n",
       "  [1536]),\n",
       " ('conv_tower/layer_with_weights-5/layer_with_weights-1/_layer/layer_with_weights-1/bias/.ATTRIBUTES/VARIABLE_VALUE',\n",
       "  [1536]),\n",
       " ('conv_tower/layer_with_weights-5/layer_with_weights-1/_layer/layer_with_weights-1/kernel/.ATTRIBUTES/VARIABLE_VALUE',\n",
       "  [1, 1536, 1536]),\n",
       " ('conv_tower/layer_with_weights-5/layer_with_weights-2/_logit_linear/kernel/.ATTRIBUTES/VARIABLE_VALUE',\n",
       "  [1536, 1536]),\n",
       " ('conv_tower_atac/layer_with_weights-0/layer_with_weights-0/layer_with_weights-0/batch_norm/beta/.ATTRIBUTES/VARIABLE_VALUE',\n",
       "  [16]),\n",
       " ('conv_tower_atac/layer_with_weights-0/layer_with_weights-0/layer_with_weights-0/batch_norm/gamma/.ATTRIBUTES/VARIABLE_VALUE',\n",
       "  [16]),\n",
       " ('conv_tower_atac/layer_with_weights-0/layer_with_weights-0/layer_with_weights-0/batch_norm/moving_mean/.ATTRIBUTES/VARIABLE_VALUE',\n",
       "  [16]),\n",
       " ('conv_tower_atac/layer_with_weights-0/layer_with_weights-0/layer_with_weights-0/batch_norm/moving_variance/.ATTRIBUTES/VARIABLE_VALUE',\n",
       "  [16]),\n",
       " ('conv_tower_atac/layer_with_weights-0/layer_with_weights-0/layer_with_weights-1/bias/.ATTRIBUTES/VARIABLE_VALUE',\n",
       "  [32]),\n",
       " ('conv_tower_atac/layer_with_weights-0/layer_with_weights-0/layer_with_weights-1/kernel/.ATTRIBUTES/VARIABLE_VALUE',\n",
       "  [5, 16, 32]),\n",
       " ('conv_tower_atac/layer_with_weights-0/layer_with_weights-1/_layer/layer_with_weights-0/batch_norm/beta/.ATTRIBUTES/VARIABLE_VALUE',\n",
       "  [32]),\n",
       " ('conv_tower_atac/layer_with_weights-0/layer_with_weights-1/_layer/layer_with_weights-0/batch_norm/gamma/.ATTRIBUTES/VARIABLE_VALUE',\n",
       "  [32]),\n",
       " ('conv_tower_atac/layer_with_weights-0/layer_with_weights-1/_layer/layer_with_weights-0/batch_norm/moving_mean/.ATTRIBUTES/VARIABLE_VALUE',\n",
       "  [32]),\n",
       " ('conv_tower_atac/layer_with_weights-0/layer_with_weights-1/_layer/layer_with_weights-0/batch_norm/moving_variance/.ATTRIBUTES/VARIABLE_VALUE',\n",
       "  [32]),\n",
       " ('conv_tower_atac/layer_with_weights-0/layer_with_weights-1/_layer/layer_with_weights-1/bias/.ATTRIBUTES/VARIABLE_VALUE',\n",
       "  [32]),\n",
       " ('conv_tower_atac/layer_with_weights-0/layer_with_weights-1/_layer/layer_with_weights-1/kernel/.ATTRIBUTES/VARIABLE_VALUE',\n",
       "  [1, 32, 32]),\n",
       " ('conv_tower_atac/layer_with_weights-0/layer_with_weights-2/_logit_linear/kernel/.ATTRIBUTES/VARIABLE_VALUE',\n",
       "  [32, 32]),\n",
       " ('conv_tower_atac/layer_with_weights-1/layer_with_weights-0/layer_with_weights-0/batch_norm/beta/.ATTRIBUTES/VARIABLE_VALUE',\n",
       "  [32]),\n",
       " ('conv_tower_atac/layer_with_weights-1/layer_with_weights-0/layer_with_weights-0/batch_norm/gamma/.ATTRIBUTES/VARIABLE_VALUE',\n",
       "  [32]),\n",
       " ('conv_tower_atac/layer_with_weights-1/layer_with_weights-0/layer_with_weights-0/batch_norm/moving_mean/.ATTRIBUTES/VARIABLE_VALUE',\n",
       "  [32]),\n",
       " ('conv_tower_atac/layer_with_weights-1/layer_with_weights-0/layer_with_weights-0/batch_norm/moving_variance/.ATTRIBUTES/VARIABLE_VALUE',\n",
       "  [32]),\n",
       " ('conv_tower_atac/layer_with_weights-1/layer_with_weights-0/layer_with_weights-1/bias/.ATTRIBUTES/VARIABLE_VALUE',\n",
       "  [64]),\n",
       " ('conv_tower_atac/layer_with_weights-1/layer_with_weights-0/layer_with_weights-1/kernel/.ATTRIBUTES/VARIABLE_VALUE',\n",
       "  [5, 32, 64]),\n",
       " ('conv_tower_atac/layer_with_weights-1/layer_with_weights-1/_layer/layer_with_weights-0/batch_norm/beta/.ATTRIBUTES/VARIABLE_VALUE',\n",
       "  [64]),\n",
       " ('conv_tower_atac/layer_with_weights-1/layer_with_weights-1/_layer/layer_with_weights-0/batch_norm/gamma/.ATTRIBUTES/VARIABLE_VALUE',\n",
       "  [64]),\n",
       " ('conv_tower_atac/layer_with_weights-1/layer_with_weights-1/_layer/layer_with_weights-0/batch_norm/moving_mean/.ATTRIBUTES/VARIABLE_VALUE',\n",
       "  [64]),\n",
       " ('conv_tower_atac/layer_with_weights-1/layer_with_weights-1/_layer/layer_with_weights-0/batch_norm/moving_variance/.ATTRIBUTES/VARIABLE_VALUE',\n",
       "  [64]),\n",
       " ('conv_tower_atac/layer_with_weights-1/layer_with_weights-1/_layer/layer_with_weights-1/bias/.ATTRIBUTES/VARIABLE_VALUE',\n",
       "  [64]),\n",
       " ('conv_tower_atac/layer_with_weights-1/layer_with_weights-1/_layer/layer_with_weights-1/kernel/.ATTRIBUTES/VARIABLE_VALUE',\n",
       "  [1, 64, 64]),\n",
       " ('conv_tower_atac/layer_with_weights-1/layer_with_weights-2/_logit_linear/kernel/.ATTRIBUTES/VARIABLE_VALUE',\n",
       "  [64, 64]),\n",
       " ('final_dense_peaks/human/layer_with_weights-0/_logit_linear/kernel/.ATTRIBUTES/VARIABLE_VALUE',\n",
       "  [384, 384]),\n",
       " ('final_dense_peaks/human/layer_with_weights-1/bias/.ATTRIBUTES/VARIABLE_VALUE',\n",
       "  [1]),\n",
       " ('final_dense_peaks/human/layer_with_weights-1/kernel/.ATTRIBUTES/VARIABLE_VALUE',\n",
       "  [384, 1]),\n",
       " ('final_dense_profile/human/bias/.ATTRIBUTES/VARIABLE_VALUE', [1]),\n",
       " ('final_dense_profile/human/kernel/.ATTRIBUTES/VARIABLE_VALUE', [384, 1]),\n",
       " ('final_pointwise_conv/layer_with_weights-0/batch_norm/beta/.ATTRIBUTES/VARIABLE_VALUE',\n",
       "  [1600]),\n",
       " ('final_pointwise_conv/layer_with_weights-0/batch_norm/gamma/.ATTRIBUTES/VARIABLE_VALUE',\n",
       "  [1600]),\n",
       " ('final_pointwise_conv/layer_with_weights-0/batch_norm/moving_mean/.ATTRIBUTES/VARIABLE_VALUE',\n",
       "  [1600]),\n",
       " ('final_pointwise_conv/layer_with_weights-0/batch_norm/moving_variance/.ATTRIBUTES/VARIABLE_VALUE',\n",
       "  [1600]),\n",
       " ('final_pointwise_conv/layer_with_weights-1/bias/.ATTRIBUTES/VARIABLE_VALUE',\n",
       "  [384]),\n",
       " ('final_pointwise_conv/layer_with_weights-1/kernel/.ATTRIBUTES/VARIABLE_VALUE',\n",
       "  [1, 1600, 384]),\n",
       " ('performer/layer_norm/layer_norm/beta/.ATTRIBUTES/VARIABLE_VALUE', [1600]),\n",
       " ('performer/layer_norm/layer_norm/gamma/.ATTRIBUTES/VARIABLE_VALUE', [1600]),\n",
       " ('performer/layers/0/FFN/FFN_dense_narrow/bias/.ATTRIBUTES/VARIABLE_VALUE',\n",
       "  [1600]),\n",
       " ('performer/layers/0/FFN/FFN_dense_narrow/kernel/.ATTRIBUTES/VARIABLE_VALUE',\n",
       "  [3200, 1600]),\n",
       " ('performer/layers/0/FFN/FFN_dense_wide/bias/.ATTRIBUTES/VARIABLE_VALUE',\n",
       "  [3200]),\n",
       " ('performer/layers/0/FFN/FFN_dense_wide/kernel/.ATTRIBUTES/VARIABLE_VALUE',\n",
       "  [1600, 3200]),\n",
       " ('performer/layers/0/FFN/FFN_layer_norm/layer_norm/beta/.ATTRIBUTES/VARIABLE_VALUE',\n",
       "  [1600]),\n",
       " ('performer/layers/0/FFN/FFN_layer_norm/layer_norm/gamma/.ATTRIBUTES/VARIABLE_VALUE',\n",
       "  [1600]),\n",
       " ('performer/layers/0/layer_norm/layer_norm/beta/.ATTRIBUTES/VARIABLE_VALUE',\n",
       "  [1600]),\n",
       " ('performer/layers/0/layer_norm/layer_norm/gamma/.ATTRIBUTES/VARIABLE_VALUE',\n",
       "  [1600]),\n",
       " ('performer/layers/0/self_attention/key_dense_layer/kernel/.ATTRIBUTES/VARIABLE_VALUE',\n",
       "  [1600, 8, 200]),\n",
       " ('performer/layers/0/self_attention/output_dense_layer/kernel/.ATTRIBUTES/VARIABLE_VALUE',\n",
       "  [8, 200, 1600]),\n",
       " ('performer/layers/0/self_attention/query_dense_layer/kernel/.ATTRIBUTES/VARIABLE_VALUE',\n",
       "  [1600, 8, 200]),\n",
       " ('performer/layers/0/self_attention/value_dense_layer/kernel/.ATTRIBUTES/VARIABLE_VALUE',\n",
       "  [1600, 8, 200]),\n",
       " ('performer/layers/1/FFN/FFN_dense_narrow/bias/.ATTRIBUTES/VARIABLE_VALUE',\n",
       "  [1600]),\n",
       " ('performer/layers/1/FFN/FFN_dense_narrow/kernel/.ATTRIBUTES/VARIABLE_VALUE',\n",
       "  [3200, 1600]),\n",
       " ('performer/layers/1/FFN/FFN_dense_wide/bias/.ATTRIBUTES/VARIABLE_VALUE',\n",
       "  [3200]),\n",
       " ('performer/layers/1/FFN/FFN_dense_wide/kernel/.ATTRIBUTES/VARIABLE_VALUE',\n",
       "  [1600, 3200]),\n",
       " ('performer/layers/1/FFN/FFN_layer_norm/layer_norm/beta/.ATTRIBUTES/VARIABLE_VALUE',\n",
       "  [1600]),\n",
       " ('performer/layers/1/FFN/FFN_layer_norm/layer_norm/gamma/.ATTRIBUTES/VARIABLE_VALUE',\n",
       "  [1600]),\n",
       " ('performer/layers/1/layer_norm/layer_norm/beta/.ATTRIBUTES/VARIABLE_VALUE',\n",
       "  [1600]),\n",
       " ('performer/layers/1/layer_norm/layer_norm/gamma/.ATTRIBUTES/VARIABLE_VALUE',\n",
       "  [1600]),\n",
       " ('performer/layers/1/self_attention/key_dense_layer/kernel/.ATTRIBUTES/VARIABLE_VALUE',\n",
       "  [1600, 8, 200]),\n",
       " ('performer/layers/1/self_attention/output_dense_layer/kernel/.ATTRIBUTES/VARIABLE_VALUE',\n",
       "  [8, 200, 1600]),\n",
       " ('performer/layers/1/self_attention/query_dense_layer/kernel/.ATTRIBUTES/VARIABLE_VALUE',\n",
       "  [1600, 8, 200]),\n",
       " ('performer/layers/1/self_attention/value_dense_layer/kernel/.ATTRIBUTES/VARIABLE_VALUE',\n",
       "  [1600, 8, 200]),\n",
       " ('performer/layers/2/FFN/FFN_dense_narrow/bias/.ATTRIBUTES/VARIABLE_VALUE',\n",
       "  [1600]),\n",
       " ('performer/layers/2/FFN/FFN_dense_narrow/kernel/.ATTRIBUTES/VARIABLE_VALUE',\n",
       "  [3200, 1600]),\n",
       " ('performer/layers/2/FFN/FFN_dense_wide/bias/.ATTRIBUTES/VARIABLE_VALUE',\n",
       "  [3200]),\n",
       " ('performer/layers/2/FFN/FFN_dense_wide/kernel/.ATTRIBUTES/VARIABLE_VALUE',\n",
       "  [1600, 3200]),\n",
       " ('performer/layers/2/FFN/FFN_layer_norm/layer_norm/beta/.ATTRIBUTES/VARIABLE_VALUE',\n",
       "  [1600]),\n",
       " ('performer/layers/2/FFN/FFN_layer_norm/layer_norm/gamma/.ATTRIBUTES/VARIABLE_VALUE',\n",
       "  [1600]),\n",
       " ('performer/layers/2/layer_norm/layer_norm/beta/.ATTRIBUTES/VARIABLE_VALUE',\n",
       "  [1600]),\n",
       " ('performer/layers/2/layer_norm/layer_norm/gamma/.ATTRIBUTES/VARIABLE_VALUE',\n",
       "  [1600]),\n",
       " ('performer/layers/2/self_attention/key_dense_layer/kernel/.ATTRIBUTES/VARIABLE_VALUE',\n",
       "  [1600, 8, 200]),\n",
       " ('performer/layers/2/self_attention/output_dense_layer/kernel/.ATTRIBUTES/VARIABLE_VALUE',\n",
       "  [8, 200, 1600]),\n",
       " ('performer/layers/2/self_attention/query_dense_layer/kernel/.ATTRIBUTES/VARIABLE_VALUE',\n",
       "  [1600, 8, 200]),\n",
       " ('performer/layers/2/self_attention/value_dense_layer/kernel/.ATTRIBUTES/VARIABLE_VALUE',\n",
       "  [1600, 8, 200]),\n",
       " ('performer/layers/3/FFN/FFN_dense_narrow/bias/.ATTRIBUTES/VARIABLE_VALUE',\n",
       "  [1600]),\n",
       " ('performer/layers/3/FFN/FFN_dense_narrow/kernel/.ATTRIBUTES/VARIABLE_VALUE',\n",
       "  [3200, 1600]),\n",
       " ('performer/layers/3/FFN/FFN_dense_wide/bias/.ATTRIBUTES/VARIABLE_VALUE',\n",
       "  [3200]),\n",
       " ('performer/layers/3/FFN/FFN_dense_wide/kernel/.ATTRIBUTES/VARIABLE_VALUE',\n",
       "  [1600, 3200]),\n",
       " ('performer/layers/3/FFN/FFN_layer_norm/layer_norm/beta/.ATTRIBUTES/VARIABLE_VALUE',\n",
       "  [1600]),\n",
       " ('performer/layers/3/FFN/FFN_layer_norm/layer_norm/gamma/.ATTRIBUTES/VARIABLE_VALUE',\n",
       "  [1600]),\n",
       " ('performer/layers/3/layer_norm/layer_norm/beta/.ATTRIBUTES/VARIABLE_VALUE',\n",
       "  [1600]),\n",
       " ('performer/layers/3/layer_norm/layer_norm/gamma/.ATTRIBUTES/VARIABLE_VALUE',\n",
       "  [1600]),\n",
       " ('performer/layers/3/self_attention/key_dense_layer/kernel/.ATTRIBUTES/VARIABLE_VALUE',\n",
       "  [1600, 8, 200]),\n",
       " ('performer/layers/3/self_attention/output_dense_layer/kernel/.ATTRIBUTES/VARIABLE_VALUE',\n",
       "  [8, 200, 1600]),\n",
       " ('performer/layers/3/self_attention/query_dense_layer/kernel/.ATTRIBUTES/VARIABLE_VALUE',\n",
       "  [1600, 8, 200]),\n",
       " ('performer/layers/3/self_attention/value_dense_layer/kernel/.ATTRIBUTES/VARIABLE_VALUE',\n",
       "  [1600, 8, 200]),\n",
       " ('performer/layers/4/FFN/FFN_dense_narrow/bias/.ATTRIBUTES/VARIABLE_VALUE',\n",
       "  [1600]),\n",
       " ('performer/layers/4/FFN/FFN_dense_narrow/kernel/.ATTRIBUTES/VARIABLE_VALUE',\n",
       "  [3200, 1600]),\n",
       " ('performer/layers/4/FFN/FFN_dense_wide/bias/.ATTRIBUTES/VARIABLE_VALUE',\n",
       "  [3200]),\n",
       " ('performer/layers/4/FFN/FFN_dense_wide/kernel/.ATTRIBUTES/VARIABLE_VALUE',\n",
       "  [1600, 3200]),\n",
       " ('performer/layers/4/FFN/FFN_layer_norm/layer_norm/beta/.ATTRIBUTES/VARIABLE_VALUE',\n",
       "  [1600]),\n",
       " ('performer/layers/4/FFN/FFN_layer_norm/layer_norm/gamma/.ATTRIBUTES/VARIABLE_VALUE',\n",
       "  [1600]),\n",
       " ('performer/layers/4/layer_norm/layer_norm/beta/.ATTRIBUTES/VARIABLE_VALUE',\n",
       "  [1600]),\n",
       " ('performer/layers/4/layer_norm/layer_norm/gamma/.ATTRIBUTES/VARIABLE_VALUE',\n",
       "  [1600]),\n",
       " ('performer/layers/4/self_attention/key_dense_layer/kernel/.ATTRIBUTES/VARIABLE_VALUE',\n",
       "  [1600, 8, 200]),\n",
       " ('performer/layers/4/self_attention/output_dense_layer/kernel/.ATTRIBUTES/VARIABLE_VALUE',\n",
       "  [8, 200, 1600]),\n",
       " ('performer/layers/4/self_attention/query_dense_layer/kernel/.ATTRIBUTES/VARIABLE_VALUE',\n",
       "  [1600, 8, 200]),\n",
       " ('performer/layers/4/self_attention/value_dense_layer/kernel/.ATTRIBUTES/VARIABLE_VALUE',\n",
       "  [1600, 8, 200]),\n",
       " ('performer/layers/5/FFN/FFN_dense_narrow/bias/.ATTRIBUTES/VARIABLE_VALUE',\n",
       "  [1600]),\n",
       " ('performer/layers/5/FFN/FFN_dense_narrow/kernel/.ATTRIBUTES/VARIABLE_VALUE',\n",
       "  [3200, 1600]),\n",
       " ('performer/layers/5/FFN/FFN_dense_wide/bias/.ATTRIBUTES/VARIABLE_VALUE',\n",
       "  [3200]),\n",
       " ('performer/layers/5/FFN/FFN_dense_wide/kernel/.ATTRIBUTES/VARIABLE_VALUE',\n",
       "  [1600, 3200]),\n",
       " ('performer/layers/5/FFN/FFN_layer_norm/layer_norm/beta/.ATTRIBUTES/VARIABLE_VALUE',\n",
       "  [1600]),\n",
       " ('performer/layers/5/FFN/FFN_layer_norm/layer_norm/gamma/.ATTRIBUTES/VARIABLE_VALUE',\n",
       "  [1600]),\n",
       " ('performer/layers/5/layer_norm/layer_norm/beta/.ATTRIBUTES/VARIABLE_VALUE',\n",
       "  [1600]),\n",
       " ('performer/layers/5/layer_norm/layer_norm/gamma/.ATTRIBUTES/VARIABLE_VALUE',\n",
       "  [1600]),\n",
       " ('performer/layers/5/self_attention/key_dense_layer/kernel/.ATTRIBUTES/VARIABLE_VALUE',\n",
       "  [1600, 8, 200]),\n",
       " ('performer/layers/5/self_attention/output_dense_layer/kernel/.ATTRIBUTES/VARIABLE_VALUE',\n",
       "  [8, 200, 1600]),\n",
       " ('performer/layers/5/self_attention/query_dense_layer/kernel/.ATTRIBUTES/VARIABLE_VALUE',\n",
       "  [1600, 8, 200]),\n",
       " ('performer/layers/5/self_attention/value_dense_layer/kernel/.ATTRIBUTES/VARIABLE_VALUE',\n",
       "  [1600, 8, 200]),\n",
       " ('pos_embedding_learned/embeddings/.ATTRIBUTES/VARIABLE_VALUE', [2048, 1600]),\n",
       " ('stem_conv/bias/.ATTRIBUTES/VARIABLE_VALUE', [768]),\n",
       " ('stem_conv/kernel/.ATTRIBUTES/VARIABLE_VALUE', [15, 4, 768]),\n",
       " ('stem_conv_atac/bias/.ATTRIBUTES/VARIABLE_VALUE', [16]),\n",
       " ('stem_conv_atac/kernel/.ATTRIBUTES/VARIABLE_VALUE', [15, 1, 16]),\n",
       " ('stem_pool/_logit_linear/kernel/.ATTRIBUTES/VARIABLE_VALUE', [768, 768]),\n",
       " ('stem_pool_atac/_logit_linear/kernel/.ATTRIBUTES/VARIABLE_VALUE', [16, 16]),\n",
       " ('stem_res_conv/_layer/layer_with_weights-0/batch_norm/beta/.ATTRIBUTES/VARIABLE_VALUE',\n",
       "  [768]),\n",
       " ('stem_res_conv/_layer/layer_with_weights-0/batch_norm/gamma/.ATTRIBUTES/VARIABLE_VALUE',\n",
       "  [768]),\n",
       " ('stem_res_conv/_layer/layer_with_weights-0/batch_norm/moving_mean/.ATTRIBUTES/VARIABLE_VALUE',\n",
       "  [768]),\n",
       " ('stem_res_conv/_layer/layer_with_weights-0/batch_norm/moving_variance/.ATTRIBUTES/VARIABLE_VALUE',\n",
       "  [768]),\n",
       " ('stem_res_conv/_layer/layer_with_weights-1/bias/.ATTRIBUTES/VARIABLE_VALUE',\n",
       "  [768]),\n",
       " ('stem_res_conv/_layer/layer_with_weights-1/kernel/.ATTRIBUTES/VARIABLE_VALUE',\n",
       "  [1, 768, 768]),\n",
       " ('stem_res_conv_atac/_layer/layer_with_weights-0/batch_norm/beta/.ATTRIBUTES/VARIABLE_VALUE',\n",
       "  [16]),\n",
       " ('stem_res_conv_atac/_layer/layer_with_weights-0/batch_norm/gamma/.ATTRIBUTES/VARIABLE_VALUE',\n",
       "  [16]),\n",
       " ('stem_res_conv_atac/_layer/layer_with_weights-0/batch_norm/moving_mean/.ATTRIBUTES/VARIABLE_VALUE',\n",
       "  [16]),\n",
       " ('stem_res_conv_atac/_layer/layer_with_weights-0/batch_norm/moving_variance/.ATTRIBUTES/VARIABLE_VALUE',\n",
       "  [16]),\n",
       " ('stem_res_conv_atac/_layer/layer_with_weights-1/bias/.ATTRIBUTES/VARIABLE_VALUE',\n",
       "  [16]),\n",
       " ('stem_res_conv_atac/_layer/layer_with_weights-1/kernel/.ATTRIBUTES/VARIABLE_VALUE',\n",
       "  [1, 16, 16])]"
      ]
     },
     "execution_count": 17,
     "metadata": {},
     "output_type": "execute_result"
    }
   ],
   "source": [
    "inside_checkpoint"
   ]
  },
  {
   "cell_type": "code",
   "execution_count": 30,
   "id": "4af28eec-8702-4387-b1ad-2ecc92ae6ad1",
   "metadata": {},
   "outputs": [
    {
     "data": {
      "text/plain": [
       "array([-0.11682089, -0.00745887, -0.00873533, ...,  0.00139148,\n",
       "       -0.01388337, -0.01154972], dtype=float32)"
      ]
     },
     "execution_count": 30,
     "metadata": {},
     "output_type": "execute_result"
    }
   ],
   "source": [
    "checkpoint_path=\"gs://picard-testing-176520/genformer_atac_pretrain/models/aformer_hg_262k_load-True_LR-0.01_T-6_D-0.3_2023-04-26_00:40:44/iteration_84\"\n",
    "inside_checkpoint=tf.train.list_variables(tf.train.latest_checkpoint(checkpoint_path))\n",
    "reader = tf.train.load_checkpoint(checkpoint_path)\n",
    "reader.get_tensor('performer/layers/2/FFN/FFN_layer_norm/layer_norm/beta/.ATTRIBUTES/VARIABLE_VALUE')\n",
    "#print(reader.get_tensor('performer/layers/2/FFN/FFN_layer_norm/layer_norm/beta/.ATTRIBUTES/VARIABLE_VALUE').shape)"
   ]
  },
  {
   "cell_type": "code",
   "execution_count": 31,
   "id": "da7aed34-b5ce-414f-a3b2-5e1bdb7cb364",
   "metadata": {},
   "outputs": [
    {
     "data": {
      "text/plain": [
       "TPUDistributedVariable:{\n",
       "  0: <tf.Variable 'aformer/shared_transformer/transformer_layer/FFN/layer_norm_fp32/layer_normalization_5/beta:0' shape=(1600,) dtype=float32, numpy=\n",
       "array([-0.11682089, -0.00745887, -0.00873533, ...,  0.00139148,\n",
       "       -0.01388337, -0.01154972], dtype=float32)>,\n",
       "  1: <tf.Variable 'aformer/shared_transformer/transformer_layer/FFN/layer_norm_fp32/layer_normalization_5/beta/replica_1:0' shape=(1600,) dtype=float32, numpy=\n",
       "array([-0.11682089, -0.00745887, -0.00873533, ...,  0.00139148,\n",
       "       -0.01388337, -0.01154972], dtype=float32)>,\n",
       "  2: <tf.Variable 'aformer/shared_transformer/transformer_layer/FFN/layer_norm_fp32/layer_normalization_5/beta/replica_2:0' shape=(1600,) dtype=float32, numpy=\n",
       "array([-0.11682089, -0.00745887, -0.00873533, ...,  0.00139148,\n",
       "       -0.01388337, -0.01154972], dtype=float32)>,\n",
       "  3: <tf.Variable 'aformer/shared_transformer/transformer_layer/FFN/layer_norm_fp32/layer_normalization_5/beta/replica_3:0' shape=(1600,) dtype=float32, numpy=\n",
       "array([-0.11682089, -0.00745887, -0.00873533, ...,  0.00139148,\n",
       "       -0.01388337, -0.01154972], dtype=float32)>,\n",
       "  4: <tf.Variable 'aformer/shared_transformer/transformer_layer/FFN/layer_norm_fp32/layer_normalization_5/beta/replica_4:0' shape=(1600,) dtype=float32, numpy=\n",
       "array([-0.11682089, -0.00745887, -0.00873533, ...,  0.00139148,\n",
       "       -0.01388337, -0.01154972], dtype=float32)>,\n",
       "  5: <tf.Variable 'aformer/shared_transformer/transformer_layer/FFN/layer_norm_fp32/layer_normalization_5/beta/replica_5:0' shape=(1600,) dtype=float32, numpy=\n",
       "array([-0.11682089, -0.00745887, -0.00873533, ...,  0.00139148,\n",
       "       -0.01388337, -0.01154972], dtype=float32)>,\n",
       "  6: <tf.Variable 'aformer/shared_transformer/transformer_layer/FFN/layer_norm_fp32/layer_normalization_5/beta/replica_6:0' shape=(1600,) dtype=float32, numpy=\n",
       "array([-0.11682089, -0.00745887, -0.00873533, ...,  0.00139148,\n",
       "       -0.01388337, -0.01154972], dtype=float32)>,\n",
       "  7: <tf.Variable 'aformer/shared_transformer/transformer_layer/FFN/layer_norm_fp32/layer_normalization_5/beta/replica_7:0' shape=(1600,) dtype=float32, numpy=\n",
       "array([-0.11682089, -0.00745887, -0.00873533, ...,  0.00139148,\n",
       "       -0.01388337, -0.01154972], dtype=float32)>\n",
       "}"
      ]
     },
     "execution_count": 31,
     "metadata": {},
     "output_type": "execute_result"
    }
   ],
   "source": [
    "#for i,k in enumerate(model.performer.trainable_variables):\n",
    "#    print(i,k.name,k.shape)\n",
    "model.performer.trainable_variables[31]\n"
   ]
  },
  {
   "cell_type": "code",
   "execution_count": null,
   "id": "2a5e127a-4281-42f5-9741-99801cc56c20",
   "metadata": {},
   "outputs": [],
   "source": []
  }
 ],
 "metadata": {
  "environment": {
   "name": "tf2-cpu.2-6.m81",
   "type": "gcloud",
   "uri": "gcr.io/deeplearning-platform-release/tf2-cpu.2-6:m81"
  },
  "kernelspec": {
   "display_name": "Python 3",
   "language": "python",
   "name": "python3"
  },
  "language_info": {
   "codemirror_mode": {
    "name": "ipython",
    "version": 3
   },
   "file_extension": ".py",
   "mimetype": "text/x-python",
   "name": "python",
   "nbconvert_exporter": "python",
   "pygments_lexer": "ipython3",
   "version": "3.7.10"
  }
 },
 "nbformat": 4,
 "nbformat_minor": 5
}
