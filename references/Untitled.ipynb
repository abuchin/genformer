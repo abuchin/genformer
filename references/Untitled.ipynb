{
 "cells": [
  {
   "cell_type": "code",
   "execution_count": 66,
   "id": "9b8518d0-0e4c-42d1-83ef-df03da19f3c2",
   "metadata": {},
   "outputs": [],
   "source": [
    "import pandas as pd\n",
    "import seaborn as sns"
   ]
  },
  {
   "cell_type": "code",
   "execution_count": 67,
   "id": "22e2c908-3ab5-4340-94d5-345366b13f92",
   "metadata": {},
   "outputs": [],
   "source": [
    "test = pd.read_csv('test.mod.tsv',\n",
    "                   sep='\\t',header=0)"
   ]
  },
  {
   "cell_type": "code",
   "execution_count": 71,
   "id": "d9d7c279-e3ea-49f8-a959-8731078e9240",
   "metadata": {},
   "outputs": [
    {
     "data": {
      "text/plain": [
       "<AxesSubplot:xlabel='ID', ylabel='Val1'>"
      ]
     },
     "execution_count": 71,
     "metadata": {},
     "output_type": "execute_result"
    },
    {
     "data": {
      "image/png": "[encoded data removed]",
      "text/plain": [
       "<Figure size 432x288 with 1 Axes>"
      ]
     },
     "metadata": {
      "needs_background": "light"
     },
     "output_type": "display_data"
    }
   ],
   "source": [
    "sns.boxplot(\n",
    "    x=test['ID'],\n",
    "    y=test['Val1'])"
   ]
  },
  {
   "cell_type": "code",
   "execution_count": 56,
   "id": "fc601678-6c9c-4103-a2e0-805431fbab78",
   "metadata": {},
   "outputs": [
    {
     "data": {
      "text/html": [
       "<div>\n",
       "<style scoped>\n",
       "    .dataframe tbody tr th:only-of-type {\n",
       "        vertical-align: middle;\n",
       "    }\n",
       "\n",
       "    .dataframe tbody tr th {\n",
       "        vertical-align: top;\n",
       "    }\n",
       "\n",
       "    .dataframe thead tr th {\n",
       "        text-align: left;\n",
       "    }\n",
       "</style>\n",
       "<table border=\"1\" class=\"dataframe\">\n",
       "  <thead>\n",
       "    <tr>\n",
       "      <th></th>\n",
       "      <th>Val1</th>\n",
       "      <th>ID</th>\n",
       "    </tr>\n",
       "    <tr>\n",
       "      <th></th>\n",
       "      <th>Val2</th>\n",
       "      <th></th>\n",
       "    </tr>\n",
       "  </thead>\n",
       "  <tbody>\n",
       "    <tr>\n",
       "      <th>0</th>\n",
       "      <td>0.5</td>\n",
       "      <td>A</td>\n",
       "    </tr>\n",
       "    <tr>\n",
       "      <th>1</th>\n",
       "      <td>0.5</td>\n",
       "      <td>B</td>\n",
       "    </tr>\n",
       "    <tr>\n",
       "      <th>2</th>\n",
       "      <td>0.5</td>\n",
       "      <td>C</td>\n",
       "    </tr>\n",
       "  </tbody>\n",
       "</table>\n",
       "</div>"
      ],
      "text/plain": [
       "  Val1 ID\n",
       "  Val2   \n",
       "0  0.5  A\n",
       "1  0.5  B\n",
       "2  0.5  C"
      ]
     },
     "execution_count": 56,
     "metadata": {},
     "output_type": "execute_result"
    }
   ],
   "source": [
    "out=test.groupby('ID')[['Val1','Val2']].corr(method='spearman').unstack().iloc[:,1].to_frame()\n",
    "out['ID']=out.index\n",
    "out.reset_index(drop = True, inplace = True)\n",
    "out"
   ]
  },
  {
   "cell_type": "code",
   "execution_count": 59,
   "id": "fc565e68-e1c6-4e3a-bc43-7d22c5d8572d",
   "metadata": {},
   "outputs": [],
   "source": [
    "test_sub = test.loc[test['ID']=='A']"
   ]
  },
  {
   "cell_type": "code",
   "execution_count": 62,
   "id": "275a7ef0-81a2-4e79-b9e1-af536fd80053",
   "metadata": {},
   "outputs": [],
   "source": [
    "from scipy.stats.stats import pearsonr, spearmanr"
   ]
  },
  {
   "cell_type": "code",
   "execution_count": 65,
   "id": "5f6a78ce-be2b-4726-86cf-2775af90bda8",
   "metadata": {},
   "outputs": [
    {
     "data": {
      "text/plain": [
       "(0.4999999999999999, 0.666666666666667)"
      ]
     },
     "execution_count": 65,
     "metadata": {},
     "output_type": "execute_result"
    }
   ],
   "source": [
    "pearsonr(test_sub['Val1'],\n",
    "          test_sub['Val2'])"
   ]
  },
  {
   "cell_type": "code",
   "execution_count": null,
   "id": "416b1b2b-c04f-4a74-95d7-239f9e8efaf2",
   "metadata": {},
   "outputs": [],
   "source": []
  }
 ],
 "metadata": {
  "environment": {
   "name": "tf2-cpu.2-6.m81",
   "type": "gcloud",
   "uri": "gcr.io/deeplearning-platform-release/tf2-cpu.2-6:m81"
  },
  "kernelspec": {
   "display_name": "Python 3",
   "language": "python",
   "name": "python3"
  },
  "language_info": {
   "codemirror_mode": {
    "name": "ipython",
    "version": 3
   },
   "file_extension": ".py",
   "mimetype": "text/x-python",
   "name": "python",
   "nbconvert_exporter": "python",
   "pygments_lexer": "ipython3",
   "version": "3.7.10"
  }
 },
 "nbformat": 4,
 "nbformat_minor": 5
}
