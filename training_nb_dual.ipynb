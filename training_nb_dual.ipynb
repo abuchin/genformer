{
 "cells": [
  {
   "cell_type": "code",
   "execution_count": 1,
   "id": "4e31d307-4500-4d73-bf5d-09efea75cca0",
   "metadata": {},
   "outputs": [
    {
     "name": "stderr",
     "output_type": "stream",
     "text": [
      "2022-10-11 15:55:43.210753: W tensorflow/stream_executor/platform/default/dso_loader.cc:64] Could not load dynamic library 'libcudart.so.11.0'; dlerror: libcudart.so.11.0: cannot open shared object file: No such file or directory\n",
      "2022-10-11 15:55:43.210800: I tensorflow/stream_executor/cuda/cudart_stub.cc:29] Ignore above cudart dlerror if you do not have a GPU set up on your machine.\n",
      "/opt/conda/lib/python3.7/site-packages/tensorflow_addons/utils/ensure_tf_install.py:67: UserWarning: Tensorflow Addons supports using Python ops for all Tensorflow versions above or equal to 2.6.0 and strictly below 2.9.0 (nightly versions are not supported). \n",
      " The versions of TensorFlow you are currently using is 2.9.1 and is not supported. \n",
      "Some things might work, some things might not.\n",
      "If you were to encounter a bug, do not file an issue.\n",
      "If you want to make sure you're using a tested and supported configuration, either change the TensorFlow version or the TensorFlow Addons's version. \n",
      "You can find the compatibility matrix in TensorFlow Addon's readme:\n",
      "https://github.com/tensorflow/addons\n",
      "  UserWarning,\n"
     ]
    }
   ],
   "source": [
    "import time\n",
    "import os\n",
    "import subprocess\n",
    "import sys\n",
    "import re\n",
    "import argparse\n",
    "import collections\n",
    "import gzip\n",
    "import math\n",
    "import shutil\n",
    "import matplotlib.pyplot as plt\n",
    "import wandb\n",
    "import numpy as np\n",
    "import time\n",
    "from datetime import datetime\n",
    "import random\n",
    "\n",
    "import seaborn as sns\n",
    "%matplotlib inline\n",
    "import logging\n",
    "from silence_tensorflow import silence_tensorflow\n",
    "#silence_tensorflow()\n",
    "#os.environ['TPU_LOAD_LIBRARY']='0'\n",
    "os.environ['TF_ENABLE_EAGER_CLIENT_STREAMING_ENQUEUE']='False'\n",
    "import tensorflow as tf\n",
    "\n",
    "\n",
    "import tensorflow.experimental.numpy as tnp\n",
    "import tensorflow_addons as tfa\n",
    "from tensorflow import strings as tfs\n",
    "from tensorflow.keras import mixed_precision\n",
    "from scipy.stats.stats import pearsonr  \n",
    "from scipy.stats.stats import spearmanr  \n",
    "## custom modules\n",
    "import src.aformer_dual as aformer\n",
    "#import src.aformer_TF as aformer\n",
    "from src.layers.layers_dual import *\n",
    "import src.metrics as metrics\n",
    "from src.optimizers import *\n",
    "import src.schedulers as schedulers\n",
    "import src.utils as utils\n",
    "\n",
    "import training_utils_aformer_TF_expression as training_utils\n",
    "\n",
    "from scipy import stats\n"
   ]
  },
  {
   "cell_type": "code",
   "execution_count": 2,
   "id": "9ba3cc7d-6322-4e02-8c57-19218baf167e",
   "metadata": {},
   "outputs": [
    {
     "name": "stderr",
     "output_type": "stream",
     "text": [
      "2022-10-11 15:55:45.300415: W tensorflow/stream_executor/platform/default/dso_loader.cc:64] Could not load dynamic library 'libcuda.so.1'; dlerror: libcuda.so.1: cannot open shared object file: No such file or directory\n",
      "2022-10-11 15:55:45.300483: W tensorflow/stream_executor/cuda/cuda_driver.cc:269] failed call to cuInit: UNKNOWN ERROR (303)\n",
      "2022-10-11 15:55:45.300505: I tensorflow/stream_executor/cuda/cuda_diagnostics.cc:156] kernel driver does not appear to be running on this host (tpu-genformer-v2-6): /proc/driver/nvidia/version does not exist\n"
     ]
    },
    {
     "name": "stdout",
     "output_type": "stream",
     "text": [
      "INFO:tensorflow:Deallocate tpu buffers before initializing tpu system.\n"
     ]
    },
    {
     "name": "stderr",
     "output_type": "stream",
     "text": [
      "2022-10-11 15:55:45.638427: I tensorflow/core/platform/cpu_feature_guard.cc:193] This TensorFlow binary is optimized with oneAPI Deep Neural Network Library (oneDNN) to use the following CPU instructions in performance-critical operations:  AVX2 FMA\n",
      "To enable them in other operations, rebuild TensorFlow with the appropriate compiler flags.\n",
      "INFO:tensorflow:Deallocate tpu buffers before initializing tpu system.\n",
      "2022-10-11 15:55:45.648338: I tensorflow/core/distributed_runtime/rpc/grpc_channel.cc:272] Initialize GrpcChannelCache for job worker -> {0 -> 10.30.154.90:8470}\n",
      "2022-10-11 15:55:45.648382: I tensorflow/core/distributed_runtime/rpc/grpc_channel.cc:272] Initialize GrpcChannelCache for job localhost -> {0 -> localhost:40722}\n",
      "2022-10-11 15:55:45.663853: I tensorflow/core/distributed_runtime/rpc/grpc_channel.cc:272] Initialize GrpcChannelCache for job worker -> {0 -> 10.30.154.90:8470}\n",
      "2022-10-11 15:55:45.663898: I tensorflow/core/distributed_runtime/rpc/grpc_channel.cc:272] Initialize GrpcChannelCache for job localhost -> {0 -> localhost:40722}\n",
      "2022-10-11 15:55:45.664533: I tensorflow/core/distributed_runtime/rpc/grpc_server_lib.cc:438] Started server with target: grpc://localhost:40722\n"
     ]
    },
    {
     "name": "stdout",
     "output_type": "stream",
     "text": [
      "INFO:tensorflow:Initializing the TPU system: node-1\n"
     ]
    },
    {
     "name": "stderr",
     "output_type": "stream",
     "text": [
      "INFO:tensorflow:Initializing the TPU system: node-1\n"
     ]
    },
    {
     "name": "stdout",
     "output_type": "stream",
     "text": [
      "INFO:tensorflow:Finished initializing TPU system.\n"
     ]
    },
    {
     "name": "stderr",
     "output_type": "stream",
     "text": [
      "INFO:tensorflow:Finished initializing TPU system.\n"
     ]
    },
    {
     "name": "stdout",
     "output_type": "stream",
     "text": [
      "INFO:tensorflow:Found TPU system:\n"
     ]
    },
    {
     "name": "stderr",
     "output_type": "stream",
     "text": [
      "INFO:tensorflow:Found TPU system:\n"
     ]
    },
    {
     "name": "stdout",
     "output_type": "stream",
     "text": [
      "INFO:tensorflow:*** Num TPU Cores: 8\n"
     ]
    },
    {
     "name": "stderr",
     "output_type": "stream",
     "text": [
      "INFO:tensorflow:*** Num TPU Cores: 8\n"
     ]
    },
    {
     "name": "stdout",
     "output_type": "stream",
     "text": [
      "INFO:tensorflow:*** Num TPU Workers: 1\n"
     ]
    },
    {
     "name": "stderr",
     "output_type": "stream",
     "text": [
      "INFO:tensorflow:*** Num TPU Workers: 1\n"
     ]
    },
    {
     "name": "stdout",
     "output_type": "stream",
     "text": [
      "INFO:tensorflow:*** Num TPU Cores Per Worker: 8\n"
     ]
    },
    {
     "name": "stderr",
     "output_type": "stream",
     "text": [
      "INFO:tensorflow:*** Num TPU Cores Per Worker: 8\n"
     ]
    },
    {
     "name": "stdout",
     "output_type": "stream",
     "text": [
      "INFO:tensorflow:*** Available Device: _DeviceAttributes(/job:localhost/replica:0/task:0/device:CPU:0, CPU, 0, 0)\n"
     ]
    },
    {
     "name": "stderr",
     "output_type": "stream",
     "text": [
      "INFO:tensorflow:*** Available Device: _DeviceAttributes(/job:localhost/replica:0/task:0/device:CPU:0, CPU, 0, 0)\n"
     ]
    },
    {
     "name": "stdout",
     "output_type": "stream",
     "text": [
      "INFO:tensorflow:*** Available Device: _DeviceAttributes(/job:worker/replica:0/task:0/device:CPU:0, CPU, 0, 0)\n"
     ]
    },
    {
     "name": "stderr",
     "output_type": "stream",
     "text": [
      "INFO:tensorflow:*** Available Device: _DeviceAttributes(/job:worker/replica:0/task:0/device:CPU:0, CPU, 0, 0)\n"
     ]
    },
    {
     "name": "stdout",
     "output_type": "stream",
     "text": [
      "INFO:tensorflow:*** Available Device: _DeviceAttributes(/job:worker/replica:0/task:0/device:TPU:0, TPU, 0, 0)\n"
     ]
    },
    {
     "name": "stderr",
     "output_type": "stream",
     "text": [
      "INFO:tensorflow:*** Available Device: _DeviceAttributes(/job:worker/replica:0/task:0/device:TPU:0, TPU, 0, 0)\n"
     ]
    },
    {
     "name": "stdout",
     "output_type": "stream",
     "text": [
      "INFO:tensorflow:*** Available Device: _DeviceAttributes(/job:worker/replica:0/task:0/device:TPU:1, TPU, 0, 0)\n"
     ]
    },
    {
     "name": "stderr",
     "output_type": "stream",
     "text": [
      "INFO:tensorflow:*** Available Device: _DeviceAttributes(/job:worker/replica:0/task:0/device:TPU:1, TPU, 0, 0)\n"
     ]
    },
    {
     "name": "stdout",
     "output_type": "stream",
     "text": [
      "INFO:tensorflow:*** Available Device: _DeviceAttributes(/job:worker/replica:0/task:0/device:TPU:2, TPU, 0, 0)\n"
     ]
    },
    {
     "name": "stderr",
     "output_type": "stream",
     "text": [
      "INFO:tensorflow:*** Available Device: _DeviceAttributes(/job:worker/replica:0/task:0/device:TPU:2, TPU, 0, 0)\n"
     ]
    },
    {
     "name": "stdout",
     "output_type": "stream",
     "text": [
      "INFO:tensorflow:*** Available Device: _DeviceAttributes(/job:worker/replica:0/task:0/device:TPU:3, TPU, 0, 0)\n"
     ]
    },
    {
     "name": "stderr",
     "output_type": "stream",
     "text": [
      "INFO:tensorflow:*** Available Device: _DeviceAttributes(/job:worker/replica:0/task:0/device:TPU:3, TPU, 0, 0)\n"
     ]
    },
    {
     "name": "stdout",
     "output_type": "stream",
     "text": [
      "INFO:tensorflow:*** Available Device: _DeviceAttributes(/job:worker/replica:0/task:0/device:TPU:4, TPU, 0, 0)\n"
     ]
    },
    {
     "name": "stderr",
     "output_type": "stream",
     "text": [
      "INFO:tensorflow:*** Available Device: _DeviceAttributes(/job:worker/replica:0/task:0/device:TPU:4, TPU, 0, 0)\n"
     ]
    },
    {
     "name": "stdout",
     "output_type": "stream",
     "text": [
      "INFO:tensorflow:*** Available Device: _DeviceAttributes(/job:worker/replica:0/task:0/device:TPU:5, TPU, 0, 0)\n"
     ]
    },
    {
     "name": "stderr",
     "output_type": "stream",
     "text": [
      "INFO:tensorflow:*** Available Device: _DeviceAttributes(/job:worker/replica:0/task:0/device:TPU:5, TPU, 0, 0)\n"
     ]
    },
    {
     "name": "stdout",
     "output_type": "stream",
     "text": [
      "INFO:tensorflow:*** Available Device: _DeviceAttributes(/job:worker/replica:0/task:0/device:TPU:6, TPU, 0, 0)\n"
     ]
    },
    {
     "name": "stderr",
     "output_type": "stream",
     "text": [
      "INFO:tensorflow:*** Available Device: _DeviceAttributes(/job:worker/replica:0/task:0/device:TPU:6, TPU, 0, 0)\n"
     ]
    },
    {
     "name": "stdout",
     "output_type": "stream",
     "text": [
      "INFO:tensorflow:*** Available Device: _DeviceAttributes(/job:worker/replica:0/task:0/device:TPU:7, TPU, 0, 0)\n"
     ]
    },
    {
     "name": "stderr",
     "output_type": "stream",
     "text": [
      "INFO:tensorflow:*** Available Device: _DeviceAttributes(/job:worker/replica:0/task:0/device:TPU:7, TPU, 0, 0)\n"
     ]
    },
    {
     "name": "stdout",
     "output_type": "stream",
     "text": [
      "INFO:tensorflow:*** Available Device: _DeviceAttributes(/job:worker/replica:0/task:0/device:TPU_SYSTEM:0, TPU_SYSTEM, 0, 0)\n"
     ]
    },
    {
     "name": "stderr",
     "output_type": "stream",
     "text": [
      "INFO:tensorflow:*** Available Device: _DeviceAttributes(/job:worker/replica:0/task:0/device:TPU_SYSTEM:0, TPU_SYSTEM, 0, 0)\n"
     ]
    },
    {
     "name": "stdout",
     "output_type": "stream",
     "text": [
      "INFO:tensorflow:*** Available Device: _DeviceAttributes(/job:worker/replica:0/task:0/device:XLA_CPU:0, XLA_CPU, 0, 0)\n"
     ]
    },
    {
     "name": "stderr",
     "output_type": "stream",
     "text": [
      "INFO:tensorflow:*** Available Device: _DeviceAttributes(/job:worker/replica:0/task:0/device:XLA_CPU:0, XLA_CPU, 0, 0)\n",
      "WARNING:absl:options.experimental_threading is deprecated. Use options.threading instead.\n"
     ]
    }
   ],
   "source": [
    "resolver = tf.distribute.cluster_resolver.TPUClusterResolver(tpu='node-1')\n",
    "tf.config.experimental_connect_to_cluster(resolver)\n",
    "tf.tpu.experimental.initialize_tpu_system(resolver)\n",
    "strategy = tf.distribute.TPUStrategy(resolver)\n",
    "\n",
    "with strategy.scope():\n",
    "    options = tf.data.Options()\n",
    "    options.experimental_distribute.auto_shard_policy=\\\n",
    "        tf.data.experimental.AutoShardPolicy.FILE\n",
    "    options.deterministic=False\n",
    "    options.experimental_threading.max_intra_op_parallelism=1\n",
    "    mixed_precision.set_global_policy('mixed_bfloat16')\n",
    "    #options.num_devices = 64\n",
    "\n",
    "    BATCH_SIZE_PER_REPLICA = 16 # batch size 24, use LR ~ 2.5 e -04\n",
    "    NUM_REPLICAS = strategy.num_replicas_in_sync\n",
    "    GLOBAL_BATCH_SIZE = BATCH_SIZE_PER_REPLICA * NUM_REPLICAS\n",
    "    "
   ]
  },
  {
   "cell_type": "code",
   "execution_count": 3,
   "id": "98b50339-2751-412d-bdda-c7d9f9821694",
   "metadata": {},
   "outputs": [],
   "source": [
    "with strategy.scope():\n",
    "    data_dict_tr,data_dict_val = training_utils.return_distributed_iterators(\"gs://picard-testing-176520/seqtoatac_98k_73kstride_blacklist0.25/preprocessed\",\n",
    "                                                                             \"gs://picard-testing-176520/seqtoatac_98k_73kstride_blacklist0.25/preprocessed\",\n",
    "                                                                             \"atac_only\",\n",
    "                                                                              GLOBAL_BATCH_SIZE,\n",
    "                                                                              98304,\n",
    "                                                                              768,\n",
    "                                                                              128,\n",
    "                                                                             20,\n",
    "                                                                               8,\n",
    "                                                                               1,\n",
    "                                                                               strategy,\n",
    "                                                                               options)\n"
   ]
  },
  {
   "cell_type": "code",
   "execution_count": 4,
   "id": "661cb092-0af6-4234-9fb6-ee3785fff6da",
   "metadata": {},
   "outputs": [],
   "source": [
    "with strategy.scope():\n",
    "    inits = training_utils.get_initializers(\"/home/jupyter/dev/BE_CD69_paper_2022/enformer_fine_tuning/checkpoint/sonnet_weights\")\n",
    "    model = aformer.aformer(kernel_transformation = 'softmax_kernel_transformation',\n",
    "                            dropout_rate = 0.50,\n",
    "                            attention_dropout_rate = 0.25,\n",
    "                            tf_dropout_rate=0.50,\n",
    "                            pointwise_dropout_rate=0.15,\n",
    "                            input_length = 98304,\n",
    "                            atac_length_uncropped = 768,\n",
    "                            atac_output_length = 448,\n",
    "                             num_heads = 8,\n",
    "                             numerical_stabilizer = 0.001,\n",
    "                             nb_random_features = 256,\n",
    "                             hidden_size = 1600,\n",
    "                             transformer_depth_1 = 3,\n",
    "                             transformer_depth_2 = 3,\n",
    "                             shared_transformer_depth = 6,\n",
    "                             pre_transf_channels = 1600,\n",
    "                             d_model = 1600,\n",
    "                             TF_inputs=256,\n",
    "                             norm=True,\n",
    "                             dim = 200, \n",
    "                             max_seq_length = 768,\n",
    "                             use_rot_emb = True,\n",
    "                             use_mask_pos = False, \n",
    "                             normalize = True,\n",
    "                             seed = 3,\n",
    "                             load_init=True,\n",
    "                             inits=inits,\n",
    "                             #filter_list=[256,294,338,388,446,512],\n",
    "                             freeze_conv_layers=True)\n",
    "    "
   ]
  },
  {
   "cell_type": "code",
   "execution_count": 5,
   "id": "d70d4e00-aba8-4d23-8e60-d39b6cd8527b",
   "metadata": {},
   "outputs": [],
   "source": [
    "with strategy.scope():\n",
    "    scheduler1= tf.keras.optimizers.schedules.CosineDecay(\n",
    "        initial_learning_rate=1.0e-07,\n",
    "        decay_steps=1000, alpha=1.0)\n",
    "    scheduler1=WarmUp(initial_learning_rate=5.0e-07,\n",
    "                                 warmup_steps=50,\n",
    "                                 decay_schedule_fn=scheduler1)\n",
    "    optimizer1 = tfa.optimizers.AdamW(learning_rate=scheduler1,\n",
    "                                           weight_decay=1.0e-08)\n",
    "    \n",
    "    scheduler2= tf.keras.optimizers.schedules.CosineDecay(\n",
    "    initial_learning_rate=7.5e-05,\n",
    "    decay_steps=1000, alpha=1.0)\n",
    "    scheduler2=WarmUp(initial_learning_rate=7.5e-05,\n",
    "                                 warmup_steps=50,\n",
    "                                 decay_schedule_fn=scheduler2)\n",
    "    optimizer2 = tfa.optimizers.AdamW(learning_rate=scheduler2,\n",
    "                                          weight_decay=7.5e-06)\n",
    "\n",
    "    optimizers_in=optimizer1,optimizer2\n",
    "    "
   ]
  },
  {
   "cell_type": "code",
   "execution_count": 6,
   "id": "92f53eb5-f6f2-4e29-8fe3-c39cd313f9b0",
   "metadata": {},
   "outputs": [],
   "source": [
    "with strategy.scope():\n",
    "    metric_dict = {}\n",
    "    dist_train_step_atac, dist_val_step_atac,\\\n",
    "            dist_train_step_rna,dist_val_step_rna,\\\n",
    "                dist_train_step_both,dist_val_step_both, build_step, metric_dict = training_utils.return_train_val_functions(model,\n",
    "                                                                                               optimizers_in,\n",
    "                                                                                               strategy,\n",
    "                                                                                               metric_dict,\n",
    "                                                                                               300, \n",
    "                                                                                               150,\n",
    "                                                                                               50,\n",
    "                                                                                               GLOBAL_BATCH_SIZE,\n",
    "                                                                                               5.0,\n",
    "                                                                                               448,\n",
    "                                                                                               120,\n",
    "                                                                                               BATCH_SIZE_PER_REPLICA,\n",
    "                                                                                               rna_loss_scale=None)\n"
   ]
  },
  {
   "cell_type": "code",
   "execution_count": null,
   "id": "1798e6bb-7fcc-4b5b-ba77-da6306b6c524",
   "metadata": {},
   "outputs": [
    {
     "name": "stdout",
     "output_type": "stream",
     "text": [
      "aformer/tf_module/dense/kernel:0\n",
      "tf.Tensor(419072, shape=(), dtype=int32)\n",
      "aformer/tf_module/dense_1/kernel:0\n",
      "tf.Tensor(32768, shape=(), dtype=int32)\n",
      "aformer/tf_module/dense_2/kernel:0\n",
      "tf.Tensor(8192, shape=(), dtype=int32)\n",
      "aformer/conv_mix_block/sync_batch_normalization_13/gamma:0\n",
      "tf.Tensor(1600, shape=(), dtype=int32)\n",
      "aformer/conv_mix_block/sync_batch_normalization_13/beta:0\n",
      "tf.Tensor(1600, shape=(), dtype=int32)\n",
      "aformer/conv_mix_block/conv1d_14/kernel:0\n",
      "tf.Tensor(2560000, shape=(), dtype=int32)\n",
      "aformer/conv_mix_block/conv1d_14/bias:0\n",
      "tf.Tensor(1600, shape=(), dtype=int32)\n",
      "aformer/dim_reduce_block2/sync_batch_normalization_14/gamma:0\n",
      "tf.Tensor(1603, shape=(), dtype=int32)\n",
      "aformer/dim_reduce_block2/sync_batch_normalization_14/beta:0\n",
      "tf.Tensor(1603, shape=(), dtype=int32)\n",
      "aformer/dim_reduce_block2/conv1d_15/kernel:0\n",
      "tf.Tensor(2564800, shape=(), dtype=int32)\n",
      "aformer/dim_reduce_block2/conv1d_15/bias:0\n",
      "tf.Tensor(1600, shape=(), dtype=int32)\n",
      "aformer/shared_transformer/transformer_layer/layer_normalization/gamma:0\n",
      "tf.Tensor(1600, shape=(), dtype=int32)\n",
      "aformer/shared_transformer/transformer_layer/layer_normalization/beta:0\n",
      "tf.Tensor(1600, shape=(), dtype=int32)\n",
      "aformer/shared_transformer/transformer_layer/attention/query/kernel:0\n",
      "tf.Tensor(2560000, shape=(), dtype=int32)\n",
      "aformer/shared_transformer/transformer_layer/attention/key/kernel:0\n",
      "tf.Tensor(2560000, shape=(), dtype=int32)\n",
      "aformer/shared_transformer/transformer_layer/attention/value/kernel:0\n",
      "tf.Tensor(2560000, shape=(), dtype=int32)\n",
      "aformer/shared_transformer/transformer_layer/attention/output_transform/kernel:0\n",
      "tf.Tensor(2560000, shape=(), dtype=int32)\n",
      "aformer/shared_transformer/transformer_layer/FFN/layer_normalization_1/gamma:0\n",
      "tf.Tensor(1600, shape=(), dtype=int32)\n",
      "aformer/shared_transformer/transformer_layer/FFN/layer_normalization_1/beta:0\n",
      "tf.Tensor(1600, shape=(), dtype=int32)\n",
      "aformer/shared_transformer/transformer_layer/FFN/dense_3/kernel:0\n",
      "tf.Tensor(5120000, shape=(), dtype=int32)\n",
      "aformer/shared_transformer/transformer_layer/FFN/dense_3/bias:0\n",
      "tf.Tensor(3200, shape=(), dtype=int32)\n",
      "aformer/shared_transformer/transformer_layer/FFN/dense_4/kernel:0\n",
      "tf.Tensor(5120000, shape=(), dtype=int32)\n",
      "aformer/shared_transformer/transformer_layer/FFN/dense_4/bias:0\n",
      "tf.Tensor(1600, shape=(), dtype=int32)\n",
      "aformer/shared_transformer/transformer_layer/layer_normalization_2/gamma:0\n",
      "tf.Tensor(1600, shape=(), dtype=int32)\n",
      "aformer/shared_transformer/transformer_layer/layer_normalization_2/beta:0\n",
      "tf.Tensor(1600, shape=(), dtype=int32)\n",
      "aformer/shared_transformer/transformer_layer/attention_1/query/kernel:0\n",
      "tf.Tensor(2560000, shape=(), dtype=int32)\n",
      "aformer/shared_transformer/transformer_layer/attention_1/key/kernel:0\n",
      "tf.Tensor(2560000, shape=(), dtype=int32)\n",
      "aformer/shared_transformer/transformer_layer/attention_1/value/kernel:0\n",
      "tf.Tensor(2560000, shape=(), dtype=int32)\n",
      "aformer/shared_transformer/transformer_layer/attention_1/output_transform/kernel:0\n",
      "tf.Tensor(2560000, shape=(), dtype=int32)\n",
      "aformer/shared_transformer/transformer_layer/FFN/layer_normalization_3/gamma:0\n",
      "tf.Tensor(1600, shape=(), dtype=int32)\n",
      "aformer/shared_transformer/transformer_layer/FFN/layer_normalization_3/beta:0\n",
      "tf.Tensor(1600, shape=(), dtype=int32)\n",
      "aformer/shared_transformer/transformer_layer/FFN/dense_5/kernel:0\n",
      "tf.Tensor(5120000, shape=(), dtype=int32)\n",
      "aformer/shared_transformer/transformer_layer/FFN/dense_5/bias:0\n",
      "tf.Tensor(3200, shape=(), dtype=int32)\n",
      "aformer/shared_transformer/transformer_layer/FFN/dense_6/kernel:0\n",
      "tf.Tensor(5120000, shape=(), dtype=int32)\n",
      "aformer/shared_transformer/transformer_layer/FFN/dense_6/bias:0\n",
      "tf.Tensor(1600, shape=(), dtype=int32)\n",
      "aformer/shared_transformer/transformer_layer/layer_normalization_4/gamma:0\n",
      "tf.Tensor(1600, shape=(), dtype=int32)\n",
      "aformer/shared_transformer/transformer_layer/layer_normalization_4/beta:0\n",
      "tf.Tensor(1600, shape=(), dtype=int32)\n",
      "aformer/shared_transformer/transformer_layer/attention_2/query/kernel:0\n",
      "tf.Tensor(2560000, shape=(), dtype=int32)\n",
      "aformer/shared_transformer/transformer_layer/attention_2/key/kernel:0\n",
      "tf.Tensor(2560000, shape=(), dtype=int32)\n",
      "aformer/shared_transformer/transformer_layer/attention_2/value/kernel:0\n",
      "tf.Tensor(2560000, shape=(), dtype=int32)\n",
      "aformer/shared_transformer/transformer_layer/attention_2/output_transform/kernel:0\n",
      "tf.Tensor(2560000, shape=(), dtype=int32)\n",
      "aformer/shared_transformer/transformer_layer/FFN/layer_normalization_5/gamma:0\n",
      "tf.Tensor(1600, shape=(), dtype=int32)\n",
      "aformer/shared_transformer/transformer_layer/FFN/layer_normalization_5/beta:0\n",
      "tf.Tensor(1600, shape=(), dtype=int32)\n",
      "aformer/shared_transformer/transformer_layer/FFN/dense_7/kernel:0\n",
      "tf.Tensor(5120000, shape=(), dtype=int32)\n",
      "aformer/shared_transformer/transformer_layer/FFN/dense_7/bias:0\n",
      "tf.Tensor(3200, shape=(), dtype=int32)\n",
      "aformer/shared_transformer/transformer_layer/FFN/dense_8/kernel:0\n",
      "tf.Tensor(5120000, shape=(), dtype=int32)\n",
      "aformer/shared_transformer/transformer_layer/FFN/dense_8/bias:0\n",
      "tf.Tensor(1600, shape=(), dtype=int32)\n",
      "aformer/shared_transformer/transformer_layer/layer_normalization_6/gamma:0\n",
      "tf.Tensor(1600, shape=(), dtype=int32)\n",
      "aformer/shared_transformer/transformer_layer/layer_normalization_6/beta:0\n",
      "tf.Tensor(1600, shape=(), dtype=int32)\n",
      "aformer/shared_transformer/transformer_layer/attention_3/query/kernel:0\n",
      "tf.Tensor(2560000, shape=(), dtype=int32)\n",
      "aformer/shared_transformer/transformer_layer/attention_3/key/kernel:0\n",
      "tf.Tensor(2560000, shape=(), dtype=int32)\n",
      "aformer/shared_transformer/transformer_layer/attention_3/value/kernel:0\n",
      "tf.Tensor(2560000, shape=(), dtype=int32)\n",
      "aformer/shared_transformer/transformer_layer/attention_3/output_transform/kernel:0\n",
      "tf.Tensor(2560000, shape=(), dtype=int32)\n",
      "aformer/shared_transformer/transformer_layer/FFN/layer_normalization_7/gamma:0\n",
      "tf.Tensor(1600, shape=(), dtype=int32)\n",
      "aformer/shared_transformer/transformer_layer/FFN/layer_normalization_7/beta:0\n",
      "tf.Tensor(1600, shape=(), dtype=int32)\n",
      "aformer/shared_transformer/transformer_layer/FFN/dense_9/kernel:0\n",
      "tf.Tensor(5120000, shape=(), dtype=int32)\n",
      "aformer/shared_transformer/transformer_layer/FFN/dense_9/bias:0\n",
      "tf.Tensor(3200, shape=(), dtype=int32)\n",
      "aformer/shared_transformer/transformer_layer/FFN/dense_10/kernel:0\n",
      "tf.Tensor(5120000, shape=(), dtype=int32)\n",
      "aformer/shared_transformer/transformer_layer/FFN/dense_10/bias:0\n",
      "tf.Tensor(1600, shape=(), dtype=int32)\n",
      "aformer/shared_transformer/transformer_layer/layer_normalization_8/gamma:0\n",
      "tf.Tensor(1600, shape=(), dtype=int32)\n",
      "aformer/shared_transformer/transformer_layer/layer_normalization_8/beta:0\n",
      "tf.Tensor(1600, shape=(), dtype=int32)\n",
      "aformer/shared_transformer/transformer_layer/attention_4/query/kernel:0\n",
      "tf.Tensor(2560000, shape=(), dtype=int32)\n",
      "aformer/shared_transformer/transformer_layer/attention_4/key/kernel:0\n",
      "tf.Tensor(2560000, shape=(), dtype=int32)\n",
      "aformer/shared_transformer/transformer_layer/attention_4/value/kernel:0\n",
      "tf.Tensor(2560000, shape=(), dtype=int32)\n",
      "aformer/shared_transformer/transformer_layer/attention_4/output_transform/kernel:0\n",
      "tf.Tensor(2560000, shape=(), dtype=int32)\n",
      "aformer/shared_transformer/transformer_layer/FFN/layer_normalization_9/gamma:0\n",
      "tf.Tensor(1600, shape=(), dtype=int32)\n",
      "aformer/shared_transformer/transformer_layer/FFN/layer_normalization_9/beta:0\n",
      "tf.Tensor(1600, shape=(), dtype=int32)\n",
      "aformer/shared_transformer/transformer_layer/FFN/dense_11/kernel:0\n",
      "tf.Tensor(5120000, shape=(), dtype=int32)\n",
      "aformer/shared_transformer/transformer_layer/FFN/dense_11/bias:0\n",
      "tf.Tensor(3200, shape=(), dtype=int32)\n",
      "aformer/shared_transformer/transformer_layer/FFN/dense_12/kernel:0\n",
      "tf.Tensor(5120000, shape=(), dtype=int32)\n",
      "aformer/shared_transformer/transformer_layer/FFN/dense_12/bias:0\n",
      "tf.Tensor(1600, shape=(), dtype=int32)\n",
      "aformer/shared_transformer/transformer_layer/layer_normalization_10/gamma:0\n",
      "tf.Tensor(1600, shape=(), dtype=int32)\n",
      "aformer/shared_transformer/transformer_layer/layer_normalization_10/beta:0\n",
      "tf.Tensor(1600, shape=(), dtype=int32)\n",
      "aformer/shared_transformer/transformer_layer/attention_5/query/kernel:0\n",
      "tf.Tensor(2560000, shape=(), dtype=int32)\n",
      "aformer/shared_transformer/transformer_layer/attention_5/key/kernel:0\n",
      "tf.Tensor(2560000, shape=(), dtype=int32)\n",
      "aformer/shared_transformer/transformer_layer/attention_5/value/kernel:0\n",
      "tf.Tensor(2560000, shape=(), dtype=int32)\n",
      "aformer/shared_transformer/transformer_layer/attention_5/output_transform/kernel:0\n",
      "tf.Tensor(2560000, shape=(), dtype=int32)\n",
      "aformer/shared_transformer/transformer_layer/FFN/layer_normalization_11/gamma:0\n",
      "tf.Tensor(1600, shape=(), dtype=int32)\n",
      "aformer/shared_transformer/transformer_layer/FFN/layer_normalization_11/beta:0\n",
      "tf.Tensor(1600, shape=(), dtype=int32)\n",
      "aformer/shared_transformer/transformer_layer/FFN/dense_13/kernel:0\n",
      "tf.Tensor(5120000, shape=(), dtype=int32)\n",
      "aformer/shared_transformer/transformer_layer/FFN/dense_13/bias:0\n",
      "tf.Tensor(3200, shape=(), dtype=int32)\n",
      "aformer/shared_transformer/transformer_layer/FFN/dense_14/kernel:0\n",
      "tf.Tensor(5120000, shape=(), dtype=int32)\n",
      "aformer/shared_transformer/transformer_layer/FFN/dense_14/bias:0\n",
      "tf.Tensor(1600, shape=(), dtype=int32)\n",
      "aformer/shared_transformer/layer_normalization_12/gamma:0\n",
      "tf.Tensor(1600, shape=(), dtype=int32)\n",
      "aformer/shared_transformer/layer_normalization_12/beta:0\n",
      "tf.Tensor(1600, shape=(), dtype=int32)\n",
      "aformer/transformer_stack2/transformer_layer/layer_normalization_13/gamma:0\n",
      "tf.Tensor(1600, shape=(), dtype=int32)\n",
      "aformer/transformer_stack2/transformer_layer/layer_normalization_13/beta:0\n",
      "tf.Tensor(1600, shape=(), dtype=int32)\n",
      "aformer/transformer_stack2/transformer_layer/attention_6/query/kernel:0\n",
      "tf.Tensor(2560000, shape=(), dtype=int32)\n",
      "aformer/transformer_stack2/transformer_layer/attention_6/key/kernel:0\n",
      "tf.Tensor(2560000, shape=(), dtype=int32)\n",
      "aformer/transformer_stack2/transformer_layer/attention_6/value/kernel:0\n",
      "tf.Tensor(2560000, shape=(), dtype=int32)\n",
      "aformer/transformer_stack2/transformer_layer/attention_6/output_transform/kernel:0\n",
      "tf.Tensor(2560000, shape=(), dtype=int32)\n",
      "aformer/transformer_stack2/transformer_layer/FFN/layer_normalization_14/gamma:0\n",
      "tf.Tensor(1600, shape=(), dtype=int32)\n",
      "aformer/transformer_stack2/transformer_layer/FFN/layer_normalization_14/beta:0\n",
      "tf.Tensor(1600, shape=(), dtype=int32)\n",
      "aformer/transformer_stack2/transformer_layer/FFN/dense_15/kernel:0\n",
      "tf.Tensor(5120000, shape=(), dtype=int32)\n",
      "aformer/transformer_stack2/transformer_layer/FFN/dense_15/bias:0\n",
      "tf.Tensor(3200, shape=(), dtype=int32)\n",
      "aformer/transformer_stack2/transformer_layer/FFN/dense_16/kernel:0\n",
      "tf.Tensor(5120000, shape=(), dtype=int32)\n",
      "aformer/transformer_stack2/transformer_layer/FFN/dense_16/bias:0\n",
      "tf.Tensor(1600, shape=(), dtype=int32)\n",
      "aformer/transformer_stack2/transformer_layer/layer_normalization_15/gamma:0\n",
      "tf.Tensor(1600, shape=(), dtype=int32)\n",
      "aformer/transformer_stack2/transformer_layer/layer_normalization_15/beta:0\n",
      "tf.Tensor(1600, shape=(), dtype=int32)\n",
      "aformer/transformer_stack2/transformer_layer/attention_7/query/kernel:0\n",
      "tf.Tensor(2560000, shape=(), dtype=int32)\n",
      "aformer/transformer_stack2/transformer_layer/attention_7/key/kernel:0\n",
      "tf.Tensor(2560000, shape=(), dtype=int32)\n",
      "aformer/transformer_stack2/transformer_layer/attention_7/value/kernel:0\n",
      "tf.Tensor(2560000, shape=(), dtype=int32)\n",
      "aformer/transformer_stack2/transformer_layer/attention_7/output_transform/kernel:0\n",
      "tf.Tensor(2560000, shape=(), dtype=int32)\n",
      "aformer/transformer_stack2/transformer_layer/FFN/layer_normalization_16/gamma:0\n",
      "tf.Tensor(1600, shape=(), dtype=int32)\n",
      "aformer/transformer_stack2/transformer_layer/FFN/layer_normalization_16/beta:0\n",
      "tf.Tensor(1600, shape=(), dtype=int32)\n",
      "aformer/transformer_stack2/transformer_layer/FFN/dense_17/kernel:0\n",
      "tf.Tensor(5120000, shape=(), dtype=int32)\n",
      "aformer/transformer_stack2/transformer_layer/FFN/dense_17/bias:0\n",
      "tf.Tensor(3200, shape=(), dtype=int32)\n",
      "aformer/transformer_stack2/transformer_layer/FFN/dense_18/kernel:0\n",
      "tf.Tensor(5120000, shape=(), dtype=int32)\n",
      "aformer/transformer_stack2/transformer_layer/FFN/dense_18/bias:0\n",
      "tf.Tensor(1600, shape=(), dtype=int32)\n",
      "aformer/transformer_stack2/transformer_layer/layer_normalization_17/gamma:0\n",
      "tf.Tensor(1600, shape=(), dtype=int32)\n",
      "aformer/transformer_stack2/transformer_layer/layer_normalization_17/beta:0\n",
      "tf.Tensor(1600, shape=(), dtype=int32)\n",
      "aformer/transformer_stack2/transformer_layer/attention_8/query/kernel:0\n",
      "tf.Tensor(2560000, shape=(), dtype=int32)\n",
      "aformer/transformer_stack2/transformer_layer/attention_8/key/kernel:0\n",
      "tf.Tensor(2560000, shape=(), dtype=int32)\n",
      "aformer/transformer_stack2/transformer_layer/attention_8/value/kernel:0\n",
      "tf.Tensor(2560000, shape=(), dtype=int32)\n",
      "aformer/transformer_stack2/transformer_layer/attention_8/output_transform/kernel:0\n",
      "tf.Tensor(2560000, shape=(), dtype=int32)\n",
      "aformer/transformer_stack2/transformer_layer/FFN/layer_normalization_18/gamma:0\n",
      "tf.Tensor(1600, shape=(), dtype=int32)\n",
      "aformer/transformer_stack2/transformer_layer/FFN/layer_normalization_18/beta:0\n",
      "tf.Tensor(1600, shape=(), dtype=int32)\n",
      "aformer/transformer_stack2/transformer_layer/FFN/dense_19/kernel:0\n",
      "tf.Tensor(5120000, shape=(), dtype=int32)\n",
      "aformer/transformer_stack2/transformer_layer/FFN/dense_19/bias:0\n",
      "tf.Tensor(3200, shape=(), dtype=int32)\n",
      "aformer/transformer_stack2/transformer_layer/FFN/dense_20/kernel:0\n",
      "tf.Tensor(5120000, shape=(), dtype=int32)\n",
      "aformer/transformer_stack2/transformer_layer/FFN/dense_20/bias:0\n",
      "tf.Tensor(1600, shape=(), dtype=int32)\n",
      "aformer/transformer_stack2/layer_normalization_19/gamma:0\n",
      "tf.Tensor(1600, shape=(), dtype=int32)\n",
      "aformer/transformer_stack2/layer_normalization_19/beta:0\n",
      "tf.Tensor(1600, shape=(), dtype=int32)\n",
      "sync_batch_normalization_15/gamma:0\n",
      "tf.Tensor(1600, shape=(), dtype=int32)\n",
      "sync_batch_normalization_15/beta:0\n",
      "tf.Tensor(1600, shape=(), dtype=int32)\n",
      "conv1d_16/kernel:0\n",
      "tf.Tensor(614400, shape=(), dtype=int32)\n",
      "conv1d_16/bias:0\n",
      "tf.Tensor(384, shape=(), dtype=int32)\n",
      "aformer/atac_out_head/dense_21/kernel:0\n",
      "tf.Tensor(6144, shape=(), dtype=int32)\n",
      "aformer/atac_out_head/dense_21/bias:0\n",
      "tf.Tensor(16, shape=(), dtype=int32)\n",
      "aformer/atac_out_head/dense_22/kernel:0\n",
      "tf.Tensor(16, shape=(), dtype=int32)\n",
      "aformer/atac_out_head/dense_22/bias:0\n",
      "tf.Tensor(1, shape=(), dtype=int32)\n",
      "sync_batch_normalization_16/gamma:0\n",
      "tf.Tensor(1600, shape=(), dtype=int32)\n",
      "sync_batch_normalization_16/beta:0\n",
      "tf.Tensor(1600, shape=(), dtype=int32)\n",
      "conv1d_17/kernel:0\n",
      "tf.Tensor(640000, shape=(), dtype=int32)\n",
      "conv1d_17/bias:0\n",
      "tf.Tensor(400, shape=(), dtype=int32)\n",
      "aformer/rna_out_head/dense_23/kernel:0\n",
      "tf.Tensor(19660800, shape=(), dtype=int32)\n",
      "aformer/rna_out_head/dense_24/kernel:0\n",
      "tf.Tensor(2048, shape=(), dtype=int32)\n",
      "aformer/rna_out_head/dense_25/kernel:0\n",
      "tf.Tensor(32, shape=(), dtype=int32)\n",
      "aformer/rna_out_head/dense_25/bias:0\n",
      "tf.Tensor(1, shape=(), dtype=int32)\n",
      "total params: tf.Tensor(210952280, shape=(), dtype=int32)\n",
      "hg_train_loss: 0.114321075\n",
      "hg_val_loss: 0.11269616\n",
      "hg_ATAC_pearsons: [0.16733119]\n",
      "hg_ATAC_R2: [0.00558978]\n",
      "completed epoch 1\n",
      "duration(mins): 13.238491745789846\n",
      "patience counter at: 0\n",
      "hg_train_loss: 0.09932422\n",
      "hg_val_loss: 0.09780465\n",
      "hg_ATAC_pearsons: [0.18309744]\n",
      "hg_ATAC_R2: [0.02310556]\n",
      "completed epoch 2\n",
      "duration(mins): 12.720408209164937\n",
      "patience counter at: 0\n"
     ]
    }
   ],
   "source": [
    "from scipy.stats.stats import pearsonr  \n",
    "with strategy.scope():\n",
    "    def sum_log(x):\n",
    "        return np.log10(1.0 + np.nansum(x))\n",
    "    \n",
    "    global_step = 0\n",
    "    val_losses = []\n",
    "    val_pearsons = []\n",
    "    val_R2 = [] \n",
    "    patience_counter = 0\n",
    "    stop_criteria = False\n",
    "    best_epoch = 0\n",
    "\n",
    "    for epoch_i in range(1, 15):\n",
    "        if epoch_i == 1:\n",
    "            build_step(data_dict_val)\n",
    "            total_params = 0\n",
    "            for k in model.trainable_variables:\n",
    "                var = k.values[0]\n",
    "                print(var.name)\n",
    "                print(tf.size(var))\n",
    "                total_params += tf.size(var)\n",
    "                \n",
    "            print('total params: ' + str(total_params)) \n",
    "        start = time.time()\n",
    "\n",
    "        \n",
    "        #if epoch_i > 2 : \n",
    "        dist_train_step_atac(data_dict_tr)\n",
    "\n",
    "        print('hg_train_loss: ' + str(metric_dict['hg_tr'].result().numpy()))\n",
    "\n",
    "        dist_val_step_atac(data_dict_val)\n",
    "\n",
    "        print('hg_val_loss: ' + str(metric_dict['hg_val'].result().numpy()))\n",
    "        print('hg_ATAC_pearsons: ' + str(metric_dict['hg_pearsonsR_ATAC'].result()['PearsonR'].numpy()))\n",
    "        print('hg_ATAC_R2: ' + str(metric_dict['hg_R2_ATAC'].result()['R2'].numpy()))\n",
    "        \n",
    "        end = time.time()\n",
    "        duration = (end - start) / 60.\n",
    "        print('completed epoch ' + str(epoch_i))\n",
    "        print('duration(mins): ' + str(duration))\n",
    "        print('patience counter at: ' + str(patience_counter))\n",
    "\n",
    "        for key, item in metric_dict.items():\n",
    "            item.reset_state()"
   ]
  },
  {
   "cell_type": "code",
   "execution_count": null,
   "id": "6c6aca0c-7cc4-4391-9bd7-b3ec140114a6",
   "metadata": {},
   "outputs": [],
   "source": [
    "17182640 + 65602151 + 8584289"
   ]
  },
  {
   "cell_type": "code",
   "execution_count": null,
   "id": "6a8dee52-c99c-4491-9b8f-8d04c3de4dd1",
   "metadata": {},
   "outputs": [],
   "source": []
  }
 ],
 "metadata": {
  "environment": {
   "name": "tf2-cpu.2-6.m81",
   "type": "gcloud",
   "uri": "gcr.io/deeplearning-platform-release/tf2-cpu.2-6:m81"
  },
  "kernelspec": {
   "display_name": "Python 3",
   "language": "python",
   "name": "python3"
  },
  "language_info": {
   "codemirror_mode": {
    "name": "ipython",
    "version": 3
   },
   "file_extension": ".py",
   "mimetype": "text/x-python",
   "name": "python",
   "nbconvert_exporter": "python",
   "pygments_lexer": "ipython3",
   "version": "3.7.10"
  }
 },
 "nbformat": 4,
 "nbformat_minor": 5
}
