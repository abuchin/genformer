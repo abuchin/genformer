{
 "cells": [
  {
   "cell_type": "code",
   "execution_count": 1,
   "id": "ab370951-f6d4-4a16-858a-58d08b64c855",
   "metadata": {},
   "outputs": [
    {
     "name": "stderr",
     "output_type": "stream",
     "text": [
      "2023-03-04 21:11:22.842561: I tensorflow/core/platform/cpu_feature_guard.cc:193] This TensorFlow binary is optimized with oneAPI Deep Neural Network Library (oneDNN) to use the following CPU instructions in performance-critical operations:  AVX2 FMA\n",
      "To enable them in other operations, rebuild TensorFlow with the appropriate compiler flags.\n",
      "2023-03-04 21:11:23.009224: W tensorflow/compiler/xla/stream_executor/platform/default/dso_loader.cc:64] Could not load dynamic library 'libcudart.so.11.0'; dlerror: libcudart.so.11.0: cannot open shared object file: No such file or directory\n",
      "2023-03-04 21:11:23.009254: I tensorflow/compiler/xla/stream_executor/cuda/cudart_stub.cc:29] Ignore above cudart dlerror if you do not have a GPU set up on your machine.\n",
      "2023-03-04 21:11:23.908128: W tensorflow/compiler/xla/stream_executor/platform/default/dso_loader.cc:64] Could not load dynamic library 'libnvinfer.so.7'; dlerror: libnvinfer.so.7: cannot open shared object file: No such file or directory\n",
      "2023-03-04 21:11:23.908253: W tensorflow/compiler/xla/stream_executor/platform/default/dso_loader.cc:64] Could not load dynamic library 'libnvinfer_plugin.so.7'; dlerror: libnvinfer_plugin.so.7: cannot open shared object file: No such file or directory\n",
      "2023-03-04 21:11:23.908266: W tensorflow/compiler/tf2tensorrt/utils/py_utils.cc:38] TF-TRT Warning: Cannot dlopen some TensorRT libraries. If you would like to use Nvidia GPU with TensorRT, please make sure the missing libraries mentioned above are installed properly.\n"
     ]
    }
   ],
   "source": [
    "import time\n",
    "import os\n",
    "import subprocess\n",
    "import sys\n",
    "import re\n",
    "import argparse\n",
    "import collections\n",
    "import gzip\n",
    "import math\n",
    "import shutil\n",
    "import matplotlib.pyplot as plt\n",
    "import wandb\n",
    "import numpy as np\n",
    "import time\n",
    "from datetime import datetime\n",
    "import random\n",
    "\n",
    "import seaborn as sns\n",
    "%matplotlib inline\n",
    "import logging\n",
    "from silence_tensorflow import silence_tensorflow\n",
    "#silence_tensorflow()\n",
    "os.environ['TPU_LOAD_LIBRARY']='0'\n",
    "os.environ['TF_ENABLE_EAGER_CLIENT_STREAMING_ENQUEUE']='False'\n",
    "import tensorflow as tf\n",
    "\n",
    "\n",
    "import tensorflow.experimental.numpy as tnp\n",
    "import tensorflow_addons as tfa\n",
    "from tensorflow import strings as tfs\n",
    "from tensorflow.keras import mixed_precision\n",
    "from scipy.stats.stats import pearsonr  \n",
    "from scipy.stats.stats import spearmanr  \n",
    "## custom modules\n",
    "import src.aformer_atac_cage_early as aformer\n",
    "#import src.aformer_TF as aformer\n",
    "from src.layers.layers import *\n",
    "import src.metrics as metrics\n",
    "from src.optimizers import *\n",
    "import src.schedulers as schedulers\n",
    "import src.utils as utils\n",
    "\n",
    "import training_utils_atac_cage_early as training_utils\n",
    "\n",
    "\n",
    "from scipy import stats"
   ]
  },
  {
   "cell_type": "code",
   "execution_count": 2,
   "id": "4d333d7e-5e30-4865-b2a0-f04221ade9ce",
   "metadata": {},
   "outputs": [
    {
     "name": "stderr",
     "output_type": "stream",
     "text": [
      "2023-03-04 21:11:25.294373: W tensorflow/compiler/xla/stream_executor/platform/default/dso_loader.cc:64] Could not load dynamic library 'libcuda.so.1'; dlerror: libcuda.so.1: cannot open shared object file: No such file or directory\n",
      "2023-03-04 21:11:25.294442: W tensorflow/compiler/xla/stream_executor/cuda/cuda_driver.cc:265] failed call to cuInit: UNKNOWN ERROR (303)\n",
      "2023-03-04 21:11:25.294467: I tensorflow/compiler/xla/stream_executor/cuda/cuda_diagnostics.cc:156] kernel driver does not appear to be running on this host (tpu-genformer-v2-6): /proc/driver/nvidia/version does not exist\n"
     ]
    },
    {
     "name": "stdout",
     "output_type": "stream",
     "text": [
      "INFO:tensorflow:Deallocate tpu buffers before initializing tpu system.\n"
     ]
    },
    {
     "name": "stderr",
     "output_type": "stream",
     "text": [
      "2023-03-04 21:11:25.611730: I tensorflow/core/platform/cpu_feature_guard.cc:193] This TensorFlow binary is optimized with oneAPI Deep Neural Network Library (oneDNN) to use the following CPU instructions in performance-critical operations:  AVX2 FMA\n",
      "To enable them in other operations, rebuild TensorFlow with the appropriate compiler flags.\n",
      "2023-03-04 21:11:25.638078: I tensorflow/core/distributed_runtime/rpc/grpc_server_lib.cc:447] Started server with target: grpc://localhost:51774\n",
      "INFO:tensorflow:Deallocate tpu buffers before initializing tpu system.\n"
     ]
    },
    {
     "name": "stdout",
     "output_type": "stream",
     "text": [
      "INFO:tensorflow:Initializing the TPU system: node-5\n"
     ]
    },
    {
     "name": "stderr",
     "output_type": "stream",
     "text": [
      "INFO:tensorflow:Initializing the TPU system: node-5\n"
     ]
    },
    {
     "name": "stdout",
     "output_type": "stream",
     "text": [
      "INFO:tensorflow:Finished initializing TPU system.\n"
     ]
    },
    {
     "name": "stderr",
     "output_type": "stream",
     "text": [
      "INFO:tensorflow:Finished initializing TPU system.\n"
     ]
    },
    {
     "name": "stdout",
     "output_type": "stream",
     "text": [
      "INFO:tensorflow:Found TPU system:\n"
     ]
    },
    {
     "name": "stderr",
     "output_type": "stream",
     "text": [
      "INFO:tensorflow:Found TPU system:\n"
     ]
    },
    {
     "name": "stdout",
     "output_type": "stream",
     "text": [
      "INFO:tensorflow:*** Num TPU Cores: 8\n"
     ]
    },
    {
     "name": "stderr",
     "output_type": "stream",
     "text": [
      "INFO:tensorflow:*** Num TPU Cores: 8\n"
     ]
    },
    {
     "name": "stdout",
     "output_type": "stream",
     "text": [
      "INFO:tensorflow:*** Num TPU Workers: 1\n"
     ]
    },
    {
     "name": "stderr",
     "output_type": "stream",
     "text": [
      "INFO:tensorflow:*** Num TPU Workers: 1\n"
     ]
    },
    {
     "name": "stdout",
     "output_type": "stream",
     "text": [
      "INFO:tensorflow:*** Num TPU Cores Per Worker: 8\n"
     ]
    },
    {
     "name": "stderr",
     "output_type": "stream",
     "text": [
      "INFO:tensorflow:*** Num TPU Cores Per Worker: 8\n"
     ]
    },
    {
     "name": "stdout",
     "output_type": "stream",
     "text": [
      "INFO:tensorflow:*** Available Device: _DeviceAttributes(/job:localhost/replica:0/task:0/device:CPU:0, CPU, 0, 0)\n"
     ]
    },
    {
     "name": "stderr",
     "output_type": "stream",
     "text": [
      "INFO:tensorflow:*** Available Device: _DeviceAttributes(/job:localhost/replica:0/task:0/device:CPU:0, CPU, 0, 0)\n"
     ]
    },
    {
     "name": "stdout",
     "output_type": "stream",
     "text": [
      "INFO:tensorflow:*** Available Device: _DeviceAttributes(/job:worker/replica:0/task:0/device:CPU:0, CPU, 0, 0)\n"
     ]
    },
    {
     "name": "stderr",
     "output_type": "stream",
     "text": [
      "INFO:tensorflow:*** Available Device: _DeviceAttributes(/job:worker/replica:0/task:0/device:CPU:0, CPU, 0, 0)\n"
     ]
    },
    {
     "name": "stdout",
     "output_type": "stream",
     "text": [
      "INFO:tensorflow:*** Available Device: _DeviceAttributes(/job:worker/replica:0/task:0/device:TPU:0, TPU, 0, 0)\n"
     ]
    },
    {
     "name": "stderr",
     "output_type": "stream",
     "text": [
      "INFO:tensorflow:*** Available Device: _DeviceAttributes(/job:worker/replica:0/task:0/device:TPU:0, TPU, 0, 0)\n"
     ]
    },
    {
     "name": "stdout",
     "output_type": "stream",
     "text": [
      "INFO:tensorflow:*** Available Device: _DeviceAttributes(/job:worker/replica:0/task:0/device:TPU:1, TPU, 0, 0)\n"
     ]
    },
    {
     "name": "stderr",
     "output_type": "stream",
     "text": [
      "INFO:tensorflow:*** Available Device: _DeviceAttributes(/job:worker/replica:0/task:0/device:TPU:1, TPU, 0, 0)\n"
     ]
    },
    {
     "name": "stdout",
     "output_type": "stream",
     "text": [
      "INFO:tensorflow:*** Available Device: _DeviceAttributes(/job:worker/replica:0/task:0/device:TPU:2, TPU, 0, 0)\n"
     ]
    },
    {
     "name": "stderr",
     "output_type": "stream",
     "text": [
      "INFO:tensorflow:*** Available Device: _DeviceAttributes(/job:worker/replica:0/task:0/device:TPU:2, TPU, 0, 0)\n"
     ]
    },
    {
     "name": "stdout",
     "output_type": "stream",
     "text": [
      "INFO:tensorflow:*** Available Device: _DeviceAttributes(/job:worker/replica:0/task:0/device:TPU:3, TPU, 0, 0)\n"
     ]
    },
    {
     "name": "stderr",
     "output_type": "stream",
     "text": [
      "INFO:tensorflow:*** Available Device: _DeviceAttributes(/job:worker/replica:0/task:0/device:TPU:3, TPU, 0, 0)\n"
     ]
    },
    {
     "name": "stdout",
     "output_type": "stream",
     "text": [
      "INFO:tensorflow:*** Available Device: _DeviceAttributes(/job:worker/replica:0/task:0/device:TPU:4, TPU, 0, 0)\n"
     ]
    },
    {
     "name": "stderr",
     "output_type": "stream",
     "text": [
      "INFO:tensorflow:*** Available Device: _DeviceAttributes(/job:worker/replica:0/task:0/device:TPU:4, TPU, 0, 0)\n"
     ]
    },
    {
     "name": "stdout",
     "output_type": "stream",
     "text": [
      "INFO:tensorflow:*** Available Device: _DeviceAttributes(/job:worker/replica:0/task:0/device:TPU:5, TPU, 0, 0)\n"
     ]
    },
    {
     "name": "stderr",
     "output_type": "stream",
     "text": [
      "INFO:tensorflow:*** Available Device: _DeviceAttributes(/job:worker/replica:0/task:0/device:TPU:5, TPU, 0, 0)\n"
     ]
    },
    {
     "name": "stdout",
     "output_type": "stream",
     "text": [
      "INFO:tensorflow:*** Available Device: _DeviceAttributes(/job:worker/replica:0/task:0/device:TPU:6, TPU, 0, 0)\n"
     ]
    },
    {
     "name": "stderr",
     "output_type": "stream",
     "text": [
      "INFO:tensorflow:*** Available Device: _DeviceAttributes(/job:worker/replica:0/task:0/device:TPU:6, TPU, 0, 0)\n"
     ]
    },
    {
     "name": "stdout",
     "output_type": "stream",
     "text": [
      "INFO:tensorflow:*** Available Device: _DeviceAttributes(/job:worker/replica:0/task:0/device:TPU:7, TPU, 0, 0)\n"
     ]
    },
    {
     "name": "stderr",
     "output_type": "stream",
     "text": [
      "INFO:tensorflow:*** Available Device: _DeviceAttributes(/job:worker/replica:0/task:0/device:TPU:7, TPU, 0, 0)\n"
     ]
    },
    {
     "name": "stdout",
     "output_type": "stream",
     "text": [
      "INFO:tensorflow:*** Available Device: _DeviceAttributes(/job:worker/replica:0/task:0/device:TPU_SYSTEM:0, TPU_SYSTEM, 0, 0)\n"
     ]
    },
    {
     "name": "stderr",
     "output_type": "stream",
     "text": [
      "INFO:tensorflow:*** Available Device: _DeviceAttributes(/job:worker/replica:0/task:0/device:TPU_SYSTEM:0, TPU_SYSTEM, 0, 0)\n"
     ]
    },
    {
     "name": "stdout",
     "output_type": "stream",
     "text": [
      "INFO:tensorflow:*** Available Device: _DeviceAttributes(/job:worker/replica:0/task:0/device:XLA_CPU:0, XLA_CPU, 0, 0)\n"
     ]
    },
    {
     "name": "stderr",
     "output_type": "stream",
     "text": [
      "INFO:tensorflow:*** Available Device: _DeviceAttributes(/job:worker/replica:0/task:0/device:XLA_CPU:0, XLA_CPU, 0, 0)\n"
     ]
    }
   ],
   "source": [
    "resolver = tf.distribute.cluster_resolver.TPUClusterResolver(tpu='node-5')\n",
    "tf.config.experimental_connect_to_cluster(resolver)\n",
    "tf.tpu.experimental.initialize_tpu_system(resolver)\n",
    "strategy = tf.distribute.TPUStrategy(resolver)\n",
    "\n",
    "with strategy.scope():\n",
    "    options = tf.data.Options()\n",
    "    options.experimental_distribute.auto_shard_policy = tf.data.experimental.AutoShardPolicy.FILE\n",
    "    options.deterministic=False\n",
    "    #options.experimental_threading.max_intra_op_parallelism = 1\n",
    "    mixed_precision.set_global_policy('mixed_bfloat16')\n",
    "    tf.config.optimizer.set_jit(True)\n",
    "    #options.num_devices = 64\n",
    "\n",
    "    BATCH_SIZE_PER_REPLICA = 1\n",
    "    NUM_REPLICAS = strategy.num_replicas_in_sync\n",
    "    GLOBAL_BATCH_SIZE = BATCH_SIZE_PER_REPLICA * NUM_REPLICAS"
   ]
  },
  {
   "cell_type": "code",
   "execution_count": 3,
   "id": "c83ee30b-bf73-4231-aff5-6cfd183387d4",
   "metadata": {},
   "outputs": [
    {
     "name": "stdout",
     "output_type": "stream",
     "text": [
      "WARNING:tensorflow:From /opt/conda/lib/python3.7/site-packages/tensorflow/python/autograph/pyct/static_analysis/liveness.py:83: Analyzer.lamba_check (from tensorflow.python.autograph.pyct.static_analysis.liveness) is deprecated and will be removed after 2023-09-23.\n",
      "Instructions for updating:\n",
      "Lambda fuctions will be no more assumed to be used in the statement where they are used, or at least in the same block. https://github.com/tensorflow/tensorflow/issues/56089\n"
     ]
    },
    {
     "name": "stderr",
     "output_type": "stream",
     "text": [
      "WARNING:tensorflow:From /opt/conda/lib/python3.7/site-packages/tensorflow/python/autograph/pyct/static_analysis/liveness.py:83: Analyzer.lamba_check (from tensorflow.python.autograph.pyct.static_analysis.liveness) is deprecated and will be removed after 2023-09-23.\n",
      "Instructions for updating:\n",
      "Lambda fuctions will be no more assumed to be used in the statement where they are used, or at least in the same block. https://github.com/tensorflow/tensorflow/issues/56089\n"
     ]
    },
    {
     "name": "stdout",
     "output_type": "stream",
     "text": [
      "created train + val\n"
     ]
    }
   ],
   "source": [
    "g = tf.random.Generator.from_seed(datetime.now().timestamp())\n",
    "with strategy.scope():\n",
    "    \n",
    "    data_tr,data_val,data_val_TSS = training_utils.return_distributed_iterators(\"gs://picard-testing-176520/genformer_atac_rampage_globalacc_conv_rpgc\",\n",
    "                                                                                \"gs://picard-testing-176520/genformer_atac_rampage_globalacc_conv_rpgc_TSS\",\n",
    "                                                                               GLOBAL_BATCH_SIZE,\n",
    "                                                                               196608,\n",
    "                                                                               10,\n",
    "                                                                                49152,\n",
    "                                                                               1536,\n",
    "                                                                               320,\n",
    "                                                                               128,\n",
    "                                                                               8,\n",
    "                                                                               50,\n",
    "                                                                               strategy,\n",
    "                                                                               options,\n",
    "                                                                                True,\n",
    "                                                                                0.25,\n",
    "                                                                                True,\n",
    "                                                                                True,\n",
    "                                                                                True,\n",
    "                                                                               g)"
   ]
  },
  {
   "cell_type": "code",
   "execution_count": 4,
   "id": "b8f9d938-b205-4fc0-a3ab-5d2d438329b2",
   "metadata": {},
   "outputs": [],
   "source": [
    "with strategy.scope():\n",
    "    #inits = training_utils.get_initializers_enformer_performer(\"gs://picard-testing-176520/enformer_performer_pretrain_atac_mean/models/enformer_performer_pretrain_atac_mean_EP_full_dataset__196k_load_init-True_freeze-False_LR1-1e-06_LR2-0.0001_T-4_F-1536_D-0.4_2023-02-24_16:27:50/iteration_16\",\n",
    "    #                                                           4,\n",
    "     #                                                          stable_variant=False)\n",
    "    #inits = training_utils.get_initializers_enformer_conv(\"/home/jupyter/dev/BE_CD69_paper_2022/enformer_fine_tuning/checkpoint/sonnet_weights\")\n",
    "    inits = training_utils.get_initializers_enformer_conv(\"gs://picard-testing-176520/enformer_performer/models/enformer_performer_230303_E-P-_5313_enformer_196k_load_init-False_freeze-False_LR1-0.0001_LR2-0.0001_T-6_F-1024_K-relu_kernel_transformation/iteration_21\",\n",
    "                                                              False,\n",
    "                                                              6)\n",
    "    model = aformer.aformer(kernel_transformation = 'relu_kernel_transformation',\n",
    "                            dropout_rate = 0.10,\n",
    "                            pointwise_dropout_rate=0.15,\n",
    "                            input_length = 196608,\n",
    "                            output_length = 1536,\n",
    "                            final_output_length = 896,\n",
    "                             num_heads = 8,\n",
    "                             numerical_stabilizer = 0.001,\n",
    "                             nb_random_features = 256,\n",
    "                             num_transformer_layers = 4,\n",
    "                             norm=True,\n",
    "                            BN_momentum=0.90,\n",
    "                             max_seq_length = 1536,\n",
    "                             use_rot_emb = True,\n",
    "                             use_mask_pos = False, \n",
    "                             normalize = True,\n",
    "                             seed = 3,\n",
    "                             load_init=True,\n",
    "                            stable_variant=False,\n",
    "                             inits=inits,\n",
    "                            freeze_conv_layers=False,\n",
    "                            predict_masked_atac_bool=True,\n",
    "                            learnable_PE=True,\n",
    "                            global_acc_size=128,\n",
    "                            filter_list_seq=[512,640,768,896,1024,1024],\n",
    "                            inits_type='enformer_conv')"
   ]
  },
  {
   "cell_type": "code",
   "execution_count": 5,
   "id": "16d8558d-6d83-4558-b8b5-db84a59e282b",
   "metadata": {},
   "outputs": [],
   "source": [
    "with strategy.scope():\n",
    "    optimizer1 = tfa.optimizers.AdaBelief(\n",
    "        learning_rate= 1.0e-06,\n",
    "        epsilon= 1.0e-14,\n",
    "        weight_decay= 1.0e-08,\n",
    "        rectify=True\n",
    "    )\n",
    "    optimizer2 = tfa.optimizers.AdaBelief(\n",
    "        learning_rate= 1.0e-04,\n",
    "        epsilon= 1.0e-14,\n",
    "        weight_decay= 1.0e-08,\n",
    "        rectify=True\n",
    "    )\n",
    "    \n",
    "    optimizers_in=optimizer1,optimizer2\n",
    "    "
   ]
  },
  {
   "cell_type": "code",
   "execution_count": 6,
   "id": "b7839285-c85c-4bf9-9ca0-d8cd3ef7f290",
   "metadata": {},
   "outputs": [],
   "source": [
    "with strategy.scope():\n",
    "    metric_dict = {}\n",
    "    train_step_masked_atac,train_step, \\\n",
    "        val_step_masked_atac,val_step, \\\n",
    "            val_step_TSS_masked_atac, val_step_TSS, \\\n",
    "                build_step, metric_dict = training_utils.return_train_val_functions(model,\n",
    "                                                                                    250,\n",
    "                                                                                    200,\n",
    "                                                                                     200,\n",
    "                                                                                      optimizers_in,\n",
    "                                                                                      strategy,\n",
    "                                                                                      metric_dict,\n",
    "                                                                                      GLOBAL_BATCH_SIZE,\n",
    "                                                                                    10.0,\n",
    "                                                                                      0.5,\n",
    "                                                                                    'poisson')\n",
    "    \n"
   ]
  },
  {
   "cell_type": "code",
   "execution_count": 7,
   "id": "d13d7eb8-7b92-44d8-92a7-2759896f8c89",
   "metadata": {},
   "outputs": [
    {
     "name": "stderr",
     "output_type": "stream",
     "text": [
      "/opt/conda/lib/python3.7/site-packages/keras/initializers/initializers_v2.py:121: UserWarning: The initializer RandomUniform is unseeded and being called multiple times, which will return identical values  each time (even if the initializer is unseeded). Please update your code to provide a seed to the initializer, or avoid using the same initalizer instance more than once.\n",
      "  f\"The initializer {self.__class__.__name__} is unseeded \"\n"
     ]
    },
    {
     "name": "stdout",
     "output_type": "stream",
     "text": [
      "total params: tf.Tensor(49603858, shape=(), dtype=int32)\n"
     ]
    }
   ],
   "source": [
    "from scipy.stats.stats import pearsonr  \n",
    "with strategy.scope():\n",
    "    def sum_log(x):\n",
    "        return np.log10(1.0 + np.nansum(x))\n",
    "    \n",
    "    global_step = 0\n",
    "    val_losses = []\n",
    "    val_pearsons = []\n",
    "    val_R2 = []\n",
    "    patience_counter = 0\n",
    "    stop_criteria = False\n",
    "    best_epoch = 0\n",
    "\n",
    "    for epoch_i in range(1, 10):\n",
    "        start = time.time()\n",
    "        if epoch_i == 1:\n",
    "            build_step(data_val)\n",
    "            total_params = 0\n",
    "            for k in model.trainable_variables:\n",
    "                var = k.values[0]\n",
    "                total_params += tf.size(var)\n",
    "            print('total params: ' + str(total_params))\n",
    "        break\n",
    "\n",
    "        train_step_masked_atac(data_tr)\n",
    "        #train_step(data_tr)\n",
    "\n",
    "        print('hg_train_loss: ' + str(metric_dict['train_loss'].result().numpy()))\n",
    "        \n",
    "        val_step_masked_atac(data_val)\n",
    "        #val_step(data_val)\n",
    "\n",
    "        val_losses.append(metric_dict['val_loss'].result().numpy())\n",
    "        print('hg_val_loss: ' + str(metric_dict['val_loss'].result().numpy()))\n",
    "        print('hg_val_loss_CAGE: ' + str(metric_dict['val_loss_CAGE'].result().numpy()))\n",
    "        print('hg_val_loss_ATAC: ' + str(metric_dict['val_loss_ATAC'].result().numpy()))\n",
    "        print('hg_val_cage_pearson: ' + str(metric_dict['CAGE_PearsonR'].result()['PearsonR'].numpy()))\n",
    "        print('hg_val_cage_R2: ' + str(metric_dict['CAGE_R2'].result()['R2'].numpy()))\n",
    "        \n",
    "        print('hg_val_atac_pearson: ' + str(metric_dict['ATAC_PearsonR'].result()['PearsonR'].numpy()))\n",
    "        print('hg_val_atac_R2: ' + str(metric_dict['ATAC_R2'].result()['R2'].numpy()))\n",
    "        \n",
    "        \n",
    "        #print('hg_val_atac_baseline_pearson: ' + str(metric_dict['ATAC_PearsonR_baseline'].result()['PearsonR'].numpy()))\n",
    "        #print('hg_val_atac_baseline_R2: ' + str(metric_dict['ATAC_R2_baseline'].result()['R2'].numpy()))\n",
    "        \n",
    "        val_step_TSS_masked_atac(data_val_TSS)\n",
    "        #val_step_TSS(data_val_TSS)\n",
    "        \n",
    "        y_trues = metric_dict['corr_stats'].result()['y_trues'].numpy()\n",
    "        y_preds = metric_dict['corr_stats'].result()['y_preds'].numpy()\n",
    "        cell_types = metric_dict['corr_stats'].result()['cell_types'].numpy()\n",
    "        gene_map = metric_dict['corr_stats'].result()['gene_map'].numpy()\n",
    "\n",
    "\n",
    "        figures, corrs_overall = training_utils.make_plots(y_trues,\n",
    "                                           y_preds, \n",
    "                                           cell_types, \n",
    "                                           gene_map)\n",
    "        \n",
    "        cell_spec,gene_spec = corrs_overall\n",
    "        \n",
    "        print('cell spec corr: ' + str(cell_spec))\n",
    "        print('gene_spec_corr:' + str(gene_spec))\n",
    "        \n",
    "\n",
    "        end = time.time()\n",
    "        duration = (end - start) / 60.\n",
    "        print('completed epoch ' + str(epoch_i))\n",
    "        print('duration(mins): ' + str(duration))\n",
    "        print('patience counter at: ' + str(patience_counter))\n",
    "        \n",
    "        for key, item in metric_dict.items():\n",
    "            item.reset_state()\n",
    "        "
   ]
  },
  {
   "cell_type": "code",
   "execution_count": 11,
   "id": "57489c03-17a6-4c9d-b192-f6ace46aa347",
   "metadata": {},
   "outputs": [
    {
     "data": {
      "text/plain": [
       "<keras.engine.sequential.Sequential at 0x7fa8a00d3c50>"
      ]
     },
     "execution_count": 11,
     "metadata": {},
     "output_type": "execute_result"
    }
   ],
   "source": [
    "model.conv_tower"
   ]
  },
  {
   "cell_type": "code",
   "execution_count": 2,
   "id": "9515e254-a5c0-4647-8f69-e57922160d47",
   "metadata": {},
   "outputs": [],
   "source": [
    "inits = training_utils.get_initializers_enformer_conv(\"gs://picard-testing-176520/paired_rampage_atac/genformer/models/aformer_baseline_GENFORMER_glob_accTrue_atac-True_mask-True_load-True_frz-False_LR1-5e-06_LR2-0.0001_T-6_D-0.05_2023-03-03_01:51:20/iteration_33/\",\n",
    "                                                          False,\n",
    "                                                          6)"
   ]
  },
  {
   "cell_type": "code",
   "execution_count": 3,
   "id": "a5230c78-07c2-41b0-b792-26954f2ec48c",
   "metadata": {},
   "outputs": [
    {
     "data": {
      "text/plain": [
       "{'stem_conv_k': <keras.initializers.initializers_v2.Constant at 0x7f14d5da2690>,\n",
       " 'stem_conv_b': <keras.initializers.initializers_v2.Constant at 0x7f14cd186710>,\n",
       " 'stem_res_conv_k': <keras.initializers.initializers_v2.Constant at 0x7f14cd186bd0>,\n",
       " 'stem_res_conv_b': <keras.initializers.initializers_v2.Constant at 0x7f14cd186490>,\n",
       " 'stem_res_conv_BN_g': <keras.initializers.initializers_v2.Constant at 0x7f14cd1862d0>,\n",
       " 'stem_res_conv_BN_b': <keras.initializers.initializers_v2.Constant at 0x7f14cd186a50>,\n",
       " 'stem_res_conv_BN_m': <keras.initializers.initializers_v2.Constant at 0x7f14cd186b10>,\n",
       " 'stem_res_conv_BN_v': <keras.initializers.initializers_v2.Constant at 0x7f14cd186d50>,\n",
       " 'stem_pool': <keras.initializers.initializers_v2.Constant at 0x7f14d3f12e50>,\n",
       " 'conv1_k_0': <keras.initializers.initializers_v2.Constant at 0x7f14a4f55fd0>,\n",
       " 'conv1_b_0': <keras.initializers.initializers_v2.Constant at 0x7f14cd1870d0>,\n",
       " 'BN1_g_0': <keras.initializers.initializers_v2.Constant at 0x7f14cd187190>,\n",
       " 'BN1_b_0': <keras.initializers.initializers_v2.Constant at 0x7f14cd1871d0>,\n",
       " 'BN1_m_0': <keras.initializers.initializers_v2.Constant at 0x7f14cd187290>,\n",
       " 'BN1_v_0': <keras.initializers.initializers_v2.Constant at 0x7f14cd187310>,\n",
       " 'conv2_k_0': <keras.initializers.initializers_v2.Constant at 0x7f14cd187390>,\n",
       " 'conv2_b_0': <keras.initializers.initializers_v2.Constant at 0x7f14cd187410>,\n",
       " 'BN2_g_0': <keras.initializers.initializers_v2.Constant at 0x7f14cd187490>,\n",
       " 'BN2_b_0': <keras.initializers.initializers_v2.Constant at 0x7f14cd187510>,\n",
       " 'BN2_m_0': <keras.initializers.initializers_v2.Constant at 0x7f14cd187590>,\n",
       " 'BN2_v_0': <keras.initializers.initializers_v2.Constant at 0x7f14cd187610>,\n",
       " 'pool_0': <keras.initializers.initializers_v2.Constant at 0x7f14cd187690>,\n",
       " 'conv1_k_1': <keras.initializers.initializers_v2.Constant at 0x7f14cd187710>,\n",
       " 'conv1_b_1': <keras.initializers.initializers_v2.Constant at 0x7f14cd187790>,\n",
       " 'BN1_g_1': <keras.initializers.initializers_v2.Constant at 0x7f14cd187810>,\n",
       " 'BN1_b_1': <keras.initializers.initializers_v2.Constant at 0x7f14cd187890>,\n",
       " 'BN1_m_1': <keras.initializers.initializers_v2.Constant at 0x7f14c42d4f90>,\n",
       " 'BN1_v_1': <keras.initializers.initializers_v2.Constant at 0x7f146295bd90>,\n",
       " 'conv2_k_1': <keras.initializers.initializers_v2.Constant at 0x7f146250e4d0>,\n",
       " 'conv2_b_1': <keras.initializers.initializers_v2.Constant at 0x7f14625130d0>,\n",
       " 'BN2_g_1': <keras.initializers.initializers_v2.Constant at 0x7f14627c75d0>,\n",
       " 'BN2_b_1': <keras.initializers.initializers_v2.Constant at 0x7f14627c7690>,\n",
       " 'BN2_m_1': <keras.initializers.initializers_v2.Constant at 0x7f146257d5d0>,\n",
       " 'BN2_v_1': <keras.initializers.initializers_v2.Constant at 0x7f14624a4950>,\n",
       " 'pool_1': <keras.initializers.initializers_v2.Constant at 0x7f14624a4a10>,\n",
       " 'conv1_k_2': <keras.initializers.initializers_v2.Constant at 0x7f14624a4a90>,\n",
       " 'conv1_b_2': <keras.initializers.initializers_v2.Constant at 0x7f14624a4b10>,\n",
       " 'BN1_g_2': <keras.initializers.initializers_v2.Constant at 0x7f14624a4b90>,\n",
       " 'BN1_b_2': <keras.initializers.initializers_v2.Constant at 0x7f14624a4c10>,\n",
       " 'BN1_m_2': <keras.initializers.initializers_v2.Constant at 0x7f14624a4c90>,\n",
       " 'BN1_v_2': <keras.initializers.initializers_v2.Constant at 0x7f14624a4d10>,\n",
       " 'conv2_k_2': <keras.initializers.initializers_v2.Constant at 0x7f14624a4d90>,\n",
       " 'conv2_b_2': <keras.initializers.initializers_v2.Constant at 0x7f14624a4e10>,\n",
       " 'BN2_g_2': <keras.initializers.initializers_v2.Constant at 0x7f14624a4e90>,\n",
       " 'BN2_b_2': <keras.initializers.initializers_v2.Constant at 0x7f14624a4f10>,\n",
       " 'BN2_m_2': <keras.initializers.initializers_v2.Constant at 0x7f14624a4f90>,\n",
       " 'BN2_v_2': <keras.initializers.initializers_v2.Constant at 0x7f14624c4050>,\n",
       " 'pool_2': <keras.initializers.initializers_v2.Constant at 0x7f14624c40d0>,\n",
       " 'conv1_k_3': <keras.initializers.initializers_v2.Constant at 0x7f14624c4150>,\n",
       " 'conv1_b_3': <keras.initializers.initializers_v2.Constant at 0x7f14624c41d0>,\n",
       " 'BN1_g_3': <keras.initializers.initializers_v2.Constant at 0x7f14624c4250>,\n",
       " 'BN1_b_3': <keras.initializers.initializers_v2.Constant at 0x7f14624c42d0>,\n",
       " 'BN1_m_3': <keras.initializers.initializers_v2.Constant at 0x7f14624c4350>,\n",
       " 'BN1_v_3': <keras.initializers.initializers_v2.Constant at 0x7f14624c43d0>,\n",
       " 'conv2_k_3': <keras.initializers.initializers_v2.Constant at 0x7f14624c4450>,\n",
       " 'conv2_b_3': <keras.initializers.initializers_v2.Constant at 0x7f14624c44d0>,\n",
       " 'BN2_g_3': <keras.initializers.initializers_v2.Constant at 0x7f14624c4550>,\n",
       " 'BN2_b_3': <keras.initializers.initializers_v2.Constant at 0x7f14624c45d0>,\n",
       " 'BN2_m_3': <keras.initializers.initializers_v2.Constant at 0x7f14624c4650>,\n",
       " 'BN2_v_3': <keras.initializers.initializers_v2.Constant at 0x7f14624c46d0>,\n",
       " 'pool_3': <keras.initializers.initializers_v2.Constant at 0x7f14624c4750>,\n",
       " 'conv1_k_4': <keras.initializers.initializers_v2.Constant at 0x7f14624c47d0>,\n",
       " 'conv1_b_4': <keras.initializers.initializers_v2.Constant at 0x7f14624c4850>,\n",
       " 'BN1_g_4': <keras.initializers.initializers_v2.Constant at 0x7f14624c48d0>,\n",
       " 'BN1_b_4': <keras.initializers.initializers_v2.Constant at 0x7f14624c4950>,\n",
       " 'BN1_m_4': <keras.initializers.initializers_v2.Constant at 0x7f14624c49d0>,\n",
       " 'BN1_v_4': <keras.initializers.initializers_v2.Constant at 0x7f14624c4a50>,\n",
       " 'conv2_k_4': <keras.initializers.initializers_v2.Constant at 0x7f14624c4ad0>,\n",
       " 'conv2_b_4': <keras.initializers.initializers_v2.Constant at 0x7f14624c4b50>,\n",
       " 'BN2_g_4': <keras.initializers.initializers_v2.Constant at 0x7f14624c4bd0>,\n",
       " 'BN2_b_4': <keras.initializers.initializers_v2.Constant at 0x7f14624c4c50>,\n",
       " 'BN2_m_4': <keras.initializers.initializers_v2.Constant at 0x7f14624c4cd0>,\n",
       " 'BN2_v_4': <keras.initializers.initializers_v2.Constant at 0x7f14624c4d50>,\n",
       " 'pool_4': <keras.initializers.initializers_v2.Constant at 0x7f14624c4dd0>,\n",
       " 'conv1_k_5': <keras.initializers.initializers_v2.Constant at 0x7f14624c4e50>,\n",
       " 'conv1_b_5': <keras.initializers.initializers_v2.Constant at 0x7f14624c4ed0>,\n",
       " 'BN1_g_5': <keras.initializers.initializers_v2.Constant at 0x7f14624c4f50>,\n",
       " 'BN1_b_5': <keras.initializers.initializers_v2.Constant at 0x7f14624c4fd0>,\n",
       " 'BN1_m_5': <keras.initializers.initializers_v2.Constant at 0x7f14624c8090>,\n",
       " 'BN1_v_5': <keras.initializers.initializers_v2.Constant at 0x7f14624c8110>,\n",
       " 'conv2_k_5': <keras.initializers.initializers_v2.Constant at 0x7f14624c8190>,\n",
       " 'conv2_b_5': <keras.initializers.initializers_v2.Constant at 0x7f14624c8210>,\n",
       " 'BN2_g_5': <keras.initializers.initializers_v2.Constant at 0x7f14624c8290>,\n",
       " 'BN2_b_5': <keras.initializers.initializers_v2.Constant at 0x7f14624c8310>,\n",
       " 'BN2_m_5': <keras.initializers.initializers_v2.Constant at 0x7f14624c8390>,\n",
       " 'BN2_v_5': <keras.initializers.initializers_v2.Constant at 0x7f14624c8410>,\n",
       " 'pool_5': <keras.initializers.initializers_v2.Constant at 0x7f14624c8490>}"
      ]
     },
     "execution_count": 3,
     "metadata": {},
     "output_type": "execute_result"
    }
   ],
   "source": [
    "inits"
   ]
  },
  {
   "cell_type": "code",
   "execution_count": 25,
   "id": "e07a2cf8-b806-4a6e-8d6f-0ed7eeadfdbc",
   "metadata": {},
   "outputs": [],
   "source": [
    "model.final_pointwise_conv.layers[0].momentum = 0.70"
   ]
  },
  {
   "cell_type": "code",
   "execution_count": 26,
   "id": "5557bf81-4afa-4000-a754-f9e53c730968",
   "metadata": {},
   "outputs": [
    {
     "data": {
      "text/plain": [
       "0.7"
      ]
     },
     "execution_count": 26,
     "metadata": {},
     "output_type": "execute_result"
    }
   ],
   "source": [
    "model.final_pointwise_conv.layers[0].momentum"
   ]
  },
  {
   "cell_type": "code",
   "execution_count": 44,
   "id": "44daedaa-27cc-4603-8260-e922a1289699",
   "metadata": {},
   "outputs": [],
   "source": [
    "def deserialize_tr(serialized_example,\n",
    "                   input_length,\n",
    "                   max_shift,\n",
    "                   output_length,\n",
    "                   crop_size,\n",
    "                   output_res,\n",
    "                   predict_masked_atac_bool,\n",
    "                   atac_mask_dropout,\n",
    "                   g):\n",
    "    \"\"\"Deserialize bytes stored in TFRecordFile.\"\"\"\n",
    "    feature_map = {\n",
    "        'sequence': tf.io.FixedLenFeature([], tf.string),\n",
    "        'atac': tf.io.FixedLenFeature([], tf.string),\n",
    "        'cage': tf.io.FixedLenFeature([], tf.string),\n",
    "        'processed_gene_token': tf.io.FixedLenFeature([], tf.string)\n",
    "    }\n",
    "    ### stochastic sequence shift and gaussian noise\n",
    "\n",
    "\n",
    "    rev_comp = tf.math.round(g.uniform([], 0, 1))\n",
    "\n",
    "    shift = g.uniform(shape=(),\n",
    "                      minval=0,\n",
    "                      maxval=max_shift,\n",
    "                      dtype=tf.int32)\n",
    "\n",
    "    for k in range(max_shift):\n",
    "        if k == shift:\n",
    "            interval_end = input_length + k\n",
    "            seq_shift = k\n",
    "        else:\n",
    "            seq_shift=0\n",
    "    \n",
    "    input_seq_length = input_length + max_shift\n",
    "\n",
    "\n",
    "    data = tf.io.parse_example(serialized_example, feature_map)\n",
    "    #sequence = one_hot(tf.strings.substr(data['sequence'],\n",
    "    #                             seq_shift,input_length))\n",
    "    \n",
    "    atac = tf.ensure_shape(tf.io.parse_tensor(data['atac'],\n",
    "                                              out_type=tf.float32),\n",
    "                           [output_length,1])\n",
    "    #atac = atac + tf.math.abs(g.normal(atac.shape,\n",
    "    #                                           mean=0.0,\n",
    "    #                                           stddev=0.05,\n",
    "    #                                           dtype=tf.float32))\n",
    "    \n",
    "    masked_atac=tf.nn.experimental.stateless_dropout(atac, \n",
    "                                                     rate=atac_mask_dropout, \n",
    "                                                     seed=[0,seq_shift]) / (1. / (1.0 -atac_mask_dropout))\n",
    "    \n",
    "    cage = tf.ensure_shape(tf.io.parse_tensor(data['cage'],\n",
    "                                              out_type=tf.float32),\n",
    "                           [output_length - 2*crop_size,1])\n",
    "\n",
    "        \n",
    "    gene_token= tf.io.parse_tensor(data['processed_gene_token'],\n",
    "                                   out_type=tf.int32)\n",
    "        \n",
    "    if predict_masked_atac_bool:\n",
    "        atac_out = tf.slice(atac,\n",
    "                            [crop_size,0],\n",
    "                            [output_length-2*crop_size,-1])\n",
    "        target = tf.concat([atac_out,cage],axis=1)\n",
    "        \n",
    "    if predict_masked_atac_bool:\n",
    "    \n",
    "        return {#'sequence': tf.ensure_shape(sequence,\n",
    "                #                            [input_length,4]),\n",
    "                'atac': tf.ensure_shape(masked_atac,\n",
    "                                          [output_length,1]),\n",
    "                'gene_token':gene_token,\n",
    "                'target': tf.ensure_shape(target,\n",
    "                                          [output_length-crop_size*2,2])}\n",
    "    else:\n",
    "        return {#'sequence': tf.ensure_shape(sequence,\n",
    "                #                            [input_length,4]),\n",
    "                'atac': tf.ensure_shape(atac,\n",
    "                                          [output_length,1]),\n",
    "                'gene_token':gene_token}\n",
    "                #'target': tf.ensure_shape(cage,\n",
    "                #                          [output_length-crop_size*2,1])}\n",
    "    \n",
    "    \n",
    "g = tf.random.Generator.from_seed(datetime.now().timestamp())\n",
    "dataset = tf.data.TFRecordDataset(\"gs://picard-testing-176520/genformer_atac_rampage_globalacc_conv_TSS/valid/HG_A375.tfr\",\n",
    "                                  compression_type='ZLIB',\n",
    "                                  num_parallel_reads=4)\n",
    "\n",
    "dataset = dataset.map(lambda record: deserialize_tr(record,\n",
    "                                                    196618,\n",
    "                                                    10,\n",
    "                                                    1536,\n",
    "                                                    320,\n",
    "                                                    128,\n",
    "                                                    False,\n",
    "                                                    0.0,\n",
    "                                                    g),\n",
    "                      deterministic=True,\n",
    "                      num_parallel_calls=4)\n",
    "        \n",
    "    \n",
    "dataset1 = tf.data.TFRecordDataset(\"gs://picard-testing-176520/enformer_atac_rampage_paired_basenji_tss/valid/HG_A375.tfr\",\n",
    "                                  compression_type='ZLIB',\n",
    "                                  num_parallel_reads=4)\n",
    "\n",
    "dataset1 = dataset1.map(lambda record: deserialize_tr(record,\n",
    "                                                    196618,\n",
    "                                                    10,\n",
    "                                                    1536,\n",
    "                                                    320,\n",
    "                                                    128,\n",
    "                                                    False,\n",
    "                                                    0.0,\n",
    "                                                    g),\n",
    "                      deterministic=True,\n",
    "                      num_parallel_calls=4)\n",
    "        "
   ]
  },
  {
   "cell_type": "code",
   "execution_count": 49,
   "id": "82b3c0f9-334f-4d38-a8c2-adb9aec16080",
   "metadata": {},
   "outputs": [],
   "source": [
    "test = iter(dataset)"
   ]
  },
  {
   "cell_type": "code",
   "execution_count": 55,
   "id": "496f3b32-ec1c-414b-a9fd-d5960bbca98f",
   "metadata": {},
   "outputs": [
    {
     "data": {
      "text/plain": [
       "{'atac': <tf.Tensor: shape=(1536, 1), dtype=float32, numpy=\n",
       " array([[0.45809558],\n",
       "        [0.47703928],\n",
       "        [1.2499237 ],\n",
       "        ...,\n",
       "        [0.        ],\n",
       "        [0.        ],\n",
       "        [0.        ]], dtype=float32)>,\n",
       " 'gene_token': <tf.Tensor: shape=(), dtype=int32, numpy=6870>}"
      ]
     },
     "execution_count": 55,
     "metadata": {},
     "output_type": "execute_result"
    }
   ],
   "source": [
    "next(test)"
   ]
  },
  {
   "cell_type": "code",
   "execution_count": 51,
   "id": "95415017-6601-4cdc-9b2d-d2fd786d7394",
   "metadata": {},
   "outputs": [],
   "source": [
    "test = iter(dataset1)"
   ]
  },
  {
   "cell_type": "code",
   "execution_count": 56,
   "id": "2dc8672c-b49f-4fdc-9046-6c8ab54e238a",
   "metadata": {},
   "outputs": [
    {
     "data": {
      "text/plain": [
       "{'atac': <tf.Tensor: shape=(1536, 1), dtype=float32, numpy=\n",
       " array([[0.        ],\n",
       "        [0.        ],\n",
       "        [0.72191423],\n",
       "        ...,\n",
       "        [5.7844844 ],\n",
       "        [1.4600831 ],\n",
       "        [0.        ]], dtype=float32)>,\n",
       " 'gene_token': <tf.Tensor: shape=(), dtype=int32, numpy=15816>}"
      ]
     },
     "execution_count": 56,
     "metadata": {},
     "output_type": "execute_result"
    }
   ],
   "source": [
    "next(test)"
   ]
  },
  {
   "cell_type": "code",
   "execution_count": 4,
   "id": "20c8242a-8b87-41a0-a720-d521b9a45a10",
   "metadata": {},
   "outputs": [],
   "source": [
    "checkpoint_path = \"gs://picard-testing-176520/paired_rampage_atac/genformer/models/aformer_baseline_GENFORMER_glob_accTrue_atac-True_mask-True_load-True_frz-False_LR1-5e-06_LR2-0.0001_T-6_D-0.05_2023-03-03_01:51:20/iteration_30\"\n",
    "inside_checkpoint=tf.train.list_variables(tf.train.latest_checkpoint(checkpoint_path))\n",
    "reader = tf.train.load_checkpoint(checkpoint_path)"
   ]
  },
  {
   "cell_type": "code",
   "execution_count": 6,
   "id": "b50def2f-96e2-46cf-bcd0-bc32ad30e016",
   "metadata": {},
   "outputs": [
    {
     "data": {
      "text/plain": [
       "[('_CHECKPOINTABLE_OBJECT_GRAPH', []),\n",
       " ('conv_tower/layer_with_weights-0/layer_with_weights-0/layer_with_weights-0/beta/.ATTRIBUTES/VARIABLE_VALUE',\n",
       "  [768]),\n",
       " ('conv_tower/layer_with_weights-0/layer_with_weights-0/layer_with_weights-0/gamma/.ATTRIBUTES/VARIABLE_VALUE',\n",
       "  [768]),\n",
       " ('conv_tower/layer_with_weights-0/layer_with_weights-0/layer_with_weights-0/moving_mean/.ATTRIBUTES/VARIABLE_VALUE',\n",
       "  [768]),\n",
       " ('conv_tower/layer_with_weights-0/layer_with_weights-0/layer_with_weights-0/moving_variance/.ATTRIBUTES/VARIABLE_VALUE',\n",
       "  [768]),\n",
       " ('conv_tower/layer_with_weights-0/layer_with_weights-0/layer_with_weights-1/bias/.ATTRIBUTES/VARIABLE_VALUE',\n",
       "  [768]),\n",
       " ('conv_tower/layer_with_weights-0/layer_with_weights-0/layer_with_weights-1/kernel/.ATTRIBUTES/VARIABLE_VALUE',\n",
       "  [5, 768, 768]),\n",
       " ('conv_tower/layer_with_weights-0/layer_with_weights-1/_layer/layer_with_weights-0/beta/.ATTRIBUTES/VARIABLE_VALUE',\n",
       "  [768]),\n",
       " ('conv_tower/layer_with_weights-0/layer_with_weights-1/_layer/layer_with_weights-0/gamma/.ATTRIBUTES/VARIABLE_VALUE',\n",
       "  [768]),\n",
       " ('conv_tower/layer_with_weights-0/layer_with_weights-1/_layer/layer_with_weights-0/moving_mean/.ATTRIBUTES/VARIABLE_VALUE',\n",
       "  [768]),\n",
       " ('conv_tower/layer_with_weights-0/layer_with_weights-1/_layer/layer_with_weights-0/moving_variance/.ATTRIBUTES/VARIABLE_VALUE',\n",
       "  [768]),\n",
       " ('conv_tower/layer_with_weights-0/layer_with_weights-1/_layer/layer_with_weights-1/bias/.ATTRIBUTES/VARIABLE_VALUE',\n",
       "  [768]),\n",
       " ('conv_tower/layer_with_weights-0/layer_with_weights-1/_layer/layer_with_weights-1/kernel/.ATTRIBUTES/VARIABLE_VALUE',\n",
       "  [1, 768, 768]),\n",
       " ('conv_tower/layer_with_weights-0/layer_with_weights-2/_logit_linear/kernel/.ATTRIBUTES/VARIABLE_VALUE',\n",
       "  [768, 768]),\n",
       " ('conv_tower/layer_with_weights-1/layer_with_weights-0/layer_with_weights-0/beta/.ATTRIBUTES/VARIABLE_VALUE',\n",
       "  [768]),\n",
       " ('conv_tower/layer_with_weights-1/layer_with_weights-0/layer_with_weights-0/gamma/.ATTRIBUTES/VARIABLE_VALUE',\n",
       "  [768]),\n",
       " ('conv_tower/layer_with_weights-1/layer_with_weights-0/layer_with_weights-0/moving_mean/.ATTRIBUTES/VARIABLE_VALUE',\n",
       "  [768]),\n",
       " ('conv_tower/layer_with_weights-1/layer_with_weights-0/layer_with_weights-0/moving_variance/.ATTRIBUTES/VARIABLE_VALUE',\n",
       "  [768]),\n",
       " ('conv_tower/layer_with_weights-1/layer_with_weights-0/layer_with_weights-1/bias/.ATTRIBUTES/VARIABLE_VALUE',\n",
       "  [896]),\n",
       " ('conv_tower/layer_with_weights-1/layer_with_weights-0/layer_with_weights-1/kernel/.ATTRIBUTES/VARIABLE_VALUE',\n",
       "  [5, 768, 896]),\n",
       " ('conv_tower/layer_with_weights-1/layer_with_weights-1/_layer/layer_with_weights-0/beta/.ATTRIBUTES/VARIABLE_VALUE',\n",
       "  [896]),\n",
       " ('conv_tower/layer_with_weights-1/layer_with_weights-1/_layer/layer_with_weights-0/gamma/.ATTRIBUTES/VARIABLE_VALUE',\n",
       "  [896]),\n",
       " ('conv_tower/layer_with_weights-1/layer_with_weights-1/_layer/layer_with_weights-0/moving_mean/.ATTRIBUTES/VARIABLE_VALUE',\n",
       "  [896]),\n",
       " ('conv_tower/layer_with_weights-1/layer_with_weights-1/_layer/layer_with_weights-0/moving_variance/.ATTRIBUTES/VARIABLE_VALUE',\n",
       "  [896]),\n",
       " ('conv_tower/layer_with_weights-1/layer_with_weights-1/_layer/layer_with_weights-1/bias/.ATTRIBUTES/VARIABLE_VALUE',\n",
       "  [896]),\n",
       " ('conv_tower/layer_with_weights-1/layer_with_weights-1/_layer/layer_with_weights-1/kernel/.ATTRIBUTES/VARIABLE_VALUE',\n",
       "  [1, 896, 896]),\n",
       " ('conv_tower/layer_with_weights-1/layer_with_weights-2/_logit_linear/kernel/.ATTRIBUTES/VARIABLE_VALUE',\n",
       "  [896, 896]),\n",
       " ('conv_tower/layer_with_weights-2/layer_with_weights-0/layer_with_weights-0/beta/.ATTRIBUTES/VARIABLE_VALUE',\n",
       "  [896]),\n",
       " ('conv_tower/layer_with_weights-2/layer_with_weights-0/layer_with_weights-0/gamma/.ATTRIBUTES/VARIABLE_VALUE',\n",
       "  [896]),\n",
       " ('conv_tower/layer_with_weights-2/layer_with_weights-0/layer_with_weights-0/moving_mean/.ATTRIBUTES/VARIABLE_VALUE',\n",
       "  [896]),\n",
       " ('conv_tower/layer_with_weights-2/layer_with_weights-0/layer_with_weights-0/moving_variance/.ATTRIBUTES/VARIABLE_VALUE',\n",
       "  [896]),\n",
       " ('conv_tower/layer_with_weights-2/layer_with_weights-0/layer_with_weights-1/bias/.ATTRIBUTES/VARIABLE_VALUE',\n",
       "  [1024]),\n",
       " ('conv_tower/layer_with_weights-2/layer_with_weights-0/layer_with_weights-1/kernel/.ATTRIBUTES/VARIABLE_VALUE',\n",
       "  [5, 896, 1024]),\n",
       " ('conv_tower/layer_with_weights-2/layer_with_weights-1/_layer/layer_with_weights-0/beta/.ATTRIBUTES/VARIABLE_VALUE',\n",
       "  [1024]),\n",
       " ('conv_tower/layer_with_weights-2/layer_with_weights-1/_layer/layer_with_weights-0/gamma/.ATTRIBUTES/VARIABLE_VALUE',\n",
       "  [1024]),\n",
       " ('conv_tower/layer_with_weights-2/layer_with_weights-1/_layer/layer_with_weights-0/moving_mean/.ATTRIBUTES/VARIABLE_VALUE',\n",
       "  [1024]),\n",
       " ('conv_tower/layer_with_weights-2/layer_with_weights-1/_layer/layer_with_weights-0/moving_variance/.ATTRIBUTES/VARIABLE_VALUE',\n",
       "  [1024]),\n",
       " ('conv_tower/layer_with_weights-2/layer_with_weights-1/_layer/layer_with_weights-1/bias/.ATTRIBUTES/VARIABLE_VALUE',\n",
       "  [1024]),\n",
       " ('conv_tower/layer_with_weights-2/layer_with_weights-1/_layer/layer_with_weights-1/kernel/.ATTRIBUTES/VARIABLE_VALUE',\n",
       "  [1, 1024, 1024]),\n",
       " ('conv_tower/layer_with_weights-2/layer_with_weights-2/_logit_linear/kernel/.ATTRIBUTES/VARIABLE_VALUE',\n",
       "  [1024, 1024]),\n",
       " ('conv_tower/layer_with_weights-3/layer_with_weights-0/layer_with_weights-0/beta/.ATTRIBUTES/VARIABLE_VALUE',\n",
       "  [1024]),\n",
       " ('conv_tower/layer_with_weights-3/layer_with_weights-0/layer_with_weights-0/gamma/.ATTRIBUTES/VARIABLE_VALUE',\n",
       "  [1024]),\n",
       " ('conv_tower/layer_with_weights-3/layer_with_weights-0/layer_with_weights-0/moving_mean/.ATTRIBUTES/VARIABLE_VALUE',\n",
       "  [1024]),\n",
       " ('conv_tower/layer_with_weights-3/layer_with_weights-0/layer_with_weights-0/moving_variance/.ATTRIBUTES/VARIABLE_VALUE',\n",
       "  [1024]),\n",
       " ('conv_tower/layer_with_weights-3/layer_with_weights-0/layer_with_weights-1/bias/.ATTRIBUTES/VARIABLE_VALUE',\n",
       "  [1152]),\n",
       " ('conv_tower/layer_with_weights-3/layer_with_weights-0/layer_with_weights-1/kernel/.ATTRIBUTES/VARIABLE_VALUE',\n",
       "  [5, 1024, 1152]),\n",
       " ('conv_tower/layer_with_weights-3/layer_with_weights-1/_layer/layer_with_weights-0/beta/.ATTRIBUTES/VARIABLE_VALUE',\n",
       "  [1152]),\n",
       " ('conv_tower/layer_with_weights-3/layer_with_weights-1/_layer/layer_with_weights-0/gamma/.ATTRIBUTES/VARIABLE_VALUE',\n",
       "  [1152]),\n",
       " ('conv_tower/layer_with_weights-3/layer_with_weights-1/_layer/layer_with_weights-0/moving_mean/.ATTRIBUTES/VARIABLE_VALUE',\n",
       "  [1152]),\n",
       " ('conv_tower/layer_with_weights-3/layer_with_weights-1/_layer/layer_with_weights-0/moving_variance/.ATTRIBUTES/VARIABLE_VALUE',\n",
       "  [1152]),\n",
       " ('conv_tower/layer_with_weights-3/layer_with_weights-1/_layer/layer_with_weights-1/bias/.ATTRIBUTES/VARIABLE_VALUE',\n",
       "  [1152]),\n",
       " ('conv_tower/layer_with_weights-3/layer_with_weights-1/_layer/layer_with_weights-1/kernel/.ATTRIBUTES/VARIABLE_VALUE',\n",
       "  [1, 1152, 1152]),\n",
       " ('conv_tower/layer_with_weights-3/layer_with_weights-2/_logit_linear/kernel/.ATTRIBUTES/VARIABLE_VALUE',\n",
       "  [1152, 1152]),\n",
       " ('conv_tower/layer_with_weights-4/layer_with_weights-0/layer_with_weights-0/beta/.ATTRIBUTES/VARIABLE_VALUE',\n",
       "  [1152]),\n",
       " ('conv_tower/layer_with_weights-4/layer_with_weights-0/layer_with_weights-0/gamma/.ATTRIBUTES/VARIABLE_VALUE',\n",
       "  [1152]),\n",
       " ('conv_tower/layer_with_weights-4/layer_with_weights-0/layer_with_weights-0/moving_mean/.ATTRIBUTES/VARIABLE_VALUE',\n",
       "  [1152]),\n",
       " ('conv_tower/layer_with_weights-4/layer_with_weights-0/layer_with_weights-0/moving_variance/.ATTRIBUTES/VARIABLE_VALUE',\n",
       "  [1152]),\n",
       " ('conv_tower/layer_with_weights-4/layer_with_weights-0/layer_with_weights-1/bias/.ATTRIBUTES/VARIABLE_VALUE',\n",
       "  [1280]),\n",
       " ('conv_tower/layer_with_weights-4/layer_with_weights-0/layer_with_weights-1/kernel/.ATTRIBUTES/VARIABLE_VALUE',\n",
       "  [5, 1152, 1280]),\n",
       " ('conv_tower/layer_with_weights-4/layer_with_weights-1/_layer/layer_with_weights-0/beta/.ATTRIBUTES/VARIABLE_VALUE',\n",
       "  [1280]),\n",
       " ('conv_tower/layer_with_weights-4/layer_with_weights-1/_layer/layer_with_weights-0/gamma/.ATTRIBUTES/VARIABLE_VALUE',\n",
       "  [1280]),\n",
       " ('conv_tower/layer_with_weights-4/layer_with_weights-1/_layer/layer_with_weights-0/moving_mean/.ATTRIBUTES/VARIABLE_VALUE',\n",
       "  [1280]),\n",
       " ('conv_tower/layer_with_weights-4/layer_with_weights-1/_layer/layer_with_weights-0/moving_variance/.ATTRIBUTES/VARIABLE_VALUE',\n",
       "  [1280]),\n",
       " ('conv_tower/layer_with_weights-4/layer_with_weights-1/_layer/layer_with_weights-1/bias/.ATTRIBUTES/VARIABLE_VALUE',\n",
       "  [1280]),\n",
       " ('conv_tower/layer_with_weights-4/layer_with_weights-1/_layer/layer_with_weights-1/kernel/.ATTRIBUTES/VARIABLE_VALUE',\n",
       "  [1, 1280, 1280]),\n",
       " ('conv_tower/layer_with_weights-4/layer_with_weights-2/_logit_linear/kernel/.ATTRIBUTES/VARIABLE_VALUE',\n",
       "  [1280, 1280]),\n",
       " ('conv_tower/layer_with_weights-5/layer_with_weights-0/layer_with_weights-0/beta/.ATTRIBUTES/VARIABLE_VALUE',\n",
       "  [1280]),\n",
       " ('conv_tower/layer_with_weights-5/layer_with_weights-0/layer_with_weights-0/gamma/.ATTRIBUTES/VARIABLE_VALUE',\n",
       "  [1280]),\n",
       " ('conv_tower/layer_with_weights-5/layer_with_weights-0/layer_with_weights-0/moving_mean/.ATTRIBUTES/VARIABLE_VALUE',\n",
       "  [1280]),\n",
       " ('conv_tower/layer_with_weights-5/layer_with_weights-0/layer_with_weights-0/moving_variance/.ATTRIBUTES/VARIABLE_VALUE',\n",
       "  [1280]),\n",
       " ('conv_tower/layer_with_weights-5/layer_with_weights-0/layer_with_weights-1/bias/.ATTRIBUTES/VARIABLE_VALUE',\n",
       "  [1536]),\n",
       " ('conv_tower/layer_with_weights-5/layer_with_weights-0/layer_with_weights-1/kernel/.ATTRIBUTES/VARIABLE_VALUE',\n",
       "  [5, 1280, 1536]),\n",
       " ('conv_tower/layer_with_weights-5/layer_with_weights-1/_layer/layer_with_weights-0/beta/.ATTRIBUTES/VARIABLE_VALUE',\n",
       "  [1536]),\n",
       " ('conv_tower/layer_with_weights-5/layer_with_weights-1/_layer/layer_with_weights-0/gamma/.ATTRIBUTES/VARIABLE_VALUE',\n",
       "  [1536]),\n",
       " ('conv_tower/layer_with_weights-5/layer_with_weights-1/_layer/layer_with_weights-0/moving_mean/.ATTRIBUTES/VARIABLE_VALUE',\n",
       "  [1536]),\n",
       " ('conv_tower/layer_with_weights-5/layer_with_weights-1/_layer/layer_with_weights-0/moving_variance/.ATTRIBUTES/VARIABLE_VALUE',\n",
       "  [1536]),\n",
       " ('conv_tower/layer_with_weights-5/layer_with_weights-1/_layer/layer_with_weights-1/bias/.ATTRIBUTES/VARIABLE_VALUE',\n",
       "  [1536]),\n",
       " ('conv_tower/layer_with_weights-5/layer_with_weights-1/_layer/layer_with_weights-1/kernel/.ATTRIBUTES/VARIABLE_VALUE',\n",
       "  [1, 1536, 1536]),\n",
       " ('conv_tower/layer_with_weights-5/layer_with_weights-2/_logit_linear/kernel/.ATTRIBUTES/VARIABLE_VALUE',\n",
       "  [1536, 1536]),\n",
       " ('conv_tower_atac/layer_with_weights-0/layer_with_weights-0/layer_with_weights-0/beta/.ATTRIBUTES/VARIABLE_VALUE',\n",
       "  [16]),\n",
       " ('conv_tower_atac/layer_with_weights-0/layer_with_weights-0/layer_with_weights-0/gamma/.ATTRIBUTES/VARIABLE_VALUE',\n",
       "  [16]),\n",
       " ('conv_tower_atac/layer_with_weights-0/layer_with_weights-0/layer_with_weights-0/moving_mean/.ATTRIBUTES/VARIABLE_VALUE',\n",
       "  [16]),\n",
       " ('conv_tower_atac/layer_with_weights-0/layer_with_weights-0/layer_with_weights-0/moving_variance/.ATTRIBUTES/VARIABLE_VALUE',\n",
       "  [16]),\n",
       " ('conv_tower_atac/layer_with_weights-0/layer_with_weights-0/layer_with_weights-1/bias/.ATTRIBUTES/VARIABLE_VALUE',\n",
       "  [32]),\n",
       " ('conv_tower_atac/layer_with_weights-0/layer_with_weights-0/layer_with_weights-1/kernel/.ATTRIBUTES/VARIABLE_VALUE',\n",
       "  [5, 16, 32]),\n",
       " ('conv_tower_atac/layer_with_weights-0/layer_with_weights-1/_layer/layer_with_weights-0/beta/.ATTRIBUTES/VARIABLE_VALUE',\n",
       "  [32]),\n",
       " ('conv_tower_atac/layer_with_weights-0/layer_with_weights-1/_layer/layer_with_weights-0/gamma/.ATTRIBUTES/VARIABLE_VALUE',\n",
       "  [32]),\n",
       " ('conv_tower_atac/layer_with_weights-0/layer_with_weights-1/_layer/layer_with_weights-0/moving_mean/.ATTRIBUTES/VARIABLE_VALUE',\n",
       "  [32]),\n",
       " ('conv_tower_atac/layer_with_weights-0/layer_with_weights-1/_layer/layer_with_weights-0/moving_variance/.ATTRIBUTES/VARIABLE_VALUE',\n",
       "  [32]),\n",
       " ('conv_tower_atac/layer_with_weights-0/layer_with_weights-1/_layer/layer_with_weights-1/bias/.ATTRIBUTES/VARIABLE_VALUE',\n",
       "  [32]),\n",
       " ('conv_tower_atac/layer_with_weights-0/layer_with_weights-1/_layer/layer_with_weights-1/kernel/.ATTRIBUTES/VARIABLE_VALUE',\n",
       "  [1, 32, 32]),\n",
       " ('conv_tower_atac/layer_with_weights-0/layer_with_weights-2/_logit_linear/kernel/.ATTRIBUTES/VARIABLE_VALUE',\n",
       "  [32, 32]),\n",
       " ('conv_tower_atac/layer_with_weights-1/layer_with_weights-0/layer_with_weights-0/beta/.ATTRIBUTES/VARIABLE_VALUE',\n",
       "  [32]),\n",
       " ('conv_tower_atac/layer_with_weights-1/layer_with_weights-0/layer_with_weights-0/gamma/.ATTRIBUTES/VARIABLE_VALUE',\n",
       "  [32]),\n",
       " ('conv_tower_atac/layer_with_weights-1/layer_with_weights-0/layer_with_weights-0/moving_mean/.ATTRIBUTES/VARIABLE_VALUE',\n",
       "  [32]),\n",
       " ('conv_tower_atac/layer_with_weights-1/layer_with_weights-0/layer_with_weights-0/moving_variance/.ATTRIBUTES/VARIABLE_VALUE',\n",
       "  [32]),\n",
       " ('conv_tower_atac/layer_with_weights-1/layer_with_weights-0/layer_with_weights-1/bias/.ATTRIBUTES/VARIABLE_VALUE',\n",
       "  [64]),\n",
       " ('conv_tower_atac/layer_with_weights-1/layer_with_weights-0/layer_with_weights-1/kernel/.ATTRIBUTES/VARIABLE_VALUE',\n",
       "  [5, 32, 64]),\n",
       " ('conv_tower_atac/layer_with_weights-1/layer_with_weights-1/_layer/layer_with_weights-0/beta/.ATTRIBUTES/VARIABLE_VALUE',\n",
       "  [64]),\n",
       " ('conv_tower_atac/layer_with_weights-1/layer_with_weights-1/_layer/layer_with_weights-0/gamma/.ATTRIBUTES/VARIABLE_VALUE',\n",
       "  [64]),\n",
       " ('conv_tower_atac/layer_with_weights-1/layer_with_weights-1/_layer/layer_with_weights-0/moving_mean/.ATTRIBUTES/VARIABLE_VALUE',\n",
       "  [64]),\n",
       " ('conv_tower_atac/layer_with_weights-1/layer_with_weights-1/_layer/layer_with_weights-0/moving_variance/.ATTRIBUTES/VARIABLE_VALUE',\n",
       "  [64]),\n",
       " ('conv_tower_atac/layer_with_weights-1/layer_with_weights-1/_layer/layer_with_weights-1/bias/.ATTRIBUTES/VARIABLE_VALUE',\n",
       "  [64]),\n",
       " ('conv_tower_atac/layer_with_weights-1/layer_with_weights-1/_layer/layer_with_weights-1/kernel/.ATTRIBUTES/VARIABLE_VALUE',\n",
       "  [1, 64, 64]),\n",
       " ('conv_tower_atac/layer_with_weights-1/layer_with_weights-2/_logit_linear/kernel/.ATTRIBUTES/VARIABLE_VALUE',\n",
       "  [64, 64]),\n",
       " ('final_dense/bias/.ATTRIBUTES/VARIABLE_VALUE', [2]),\n",
       " ('final_dense/kernel/.ATTRIBUTES/VARIABLE_VALUE', [192, 2]),\n",
       " ('final_pointwise_conv/layer_with_weights-0/beta/.ATTRIBUTES/VARIABLE_VALUE',\n",
       "  [1728]),\n",
       " ('final_pointwise_conv/layer_with_weights-0/gamma/.ATTRIBUTES/VARIABLE_VALUE',\n",
       "  [1728]),\n",
       " ('final_pointwise_conv/layer_with_weights-0/moving_mean/.ATTRIBUTES/VARIABLE_VALUE',\n",
       "  [1728]),\n",
       " ('final_pointwise_conv/layer_with_weights-0/moving_variance/.ATTRIBUTES/VARIABLE_VALUE',\n",
       "  [1728]),\n",
       " ('final_pointwise_conv/layer_with_weights-1/bias/.ATTRIBUTES/VARIABLE_VALUE',\n",
       "  [192]),\n",
       " ('final_pointwise_conv/layer_with_weights-1/kernel/.ATTRIBUTES/VARIABLE_VALUE',\n",
       "  [1, 1728, 192]),\n",
       " ('global_acc_block/layer_with_weights-0/beta/.ATTRIBUTES/VARIABLE_VALUE',\n",
       "  [1536]),\n",
       " ('global_acc_block/layer_with_weights-0/gamma/.ATTRIBUTES/VARIABLE_VALUE',\n",
       "  [1536]),\n",
       " ('global_acc_block/layer_with_weights-0/moving_mean/.ATTRIBUTES/VARIABLE_VALUE',\n",
       "  [1536]),\n",
       " ('global_acc_block/layer_with_weights-0/moving_variance/.ATTRIBUTES/VARIABLE_VALUE',\n",
       "  [1536]),\n",
       " ('global_acc_block/layer_with_weights-1/bias/.ATTRIBUTES/VARIABLE_VALUE',\n",
       "  [128]),\n",
       " ('global_acc_block/layer_with_weights-1/kernel/.ATTRIBUTES/VARIABLE_VALUE',\n",
       "  [1, 1536, 128]),\n",
       " ('performer/layer_norm/beta/.ATTRIBUTES/VARIABLE_VALUE', [1728]),\n",
       " ('performer/layer_norm/gamma/.ATTRIBUTES/VARIABLE_VALUE', [1728]),\n",
       " ('performer/layers/0/FFN/FFN_dense_narrow/bias/.ATTRIBUTES/VARIABLE_VALUE',\n",
       "  [1728]),\n",
       " ('performer/layers/0/FFN/FFN_dense_narrow/kernel/.ATTRIBUTES/VARIABLE_VALUE',\n",
       "  [3456, 1728]),\n",
       " ('performer/layers/0/FFN/FFN_dense_wide/bias/.ATTRIBUTES/VARIABLE_VALUE',\n",
       "  [3456]),\n",
       " ('performer/layers/0/FFN/FFN_dense_wide/kernel/.ATTRIBUTES/VARIABLE_VALUE',\n",
       "  [1728, 3456]),\n",
       " ('performer/layers/0/FFN/FFN_layer_norm/beta/.ATTRIBUTES/VARIABLE_VALUE',\n",
       "  [1728]),\n",
       " ('performer/layers/0/FFN/FFN_layer_norm/gamma/.ATTRIBUTES/VARIABLE_VALUE',\n",
       "  [1728]),\n",
       " ('performer/layers/0/layer_norm/beta/.ATTRIBUTES/VARIABLE_VALUE', [1728]),\n",
       " ('performer/layers/0/layer_norm/gamma/.ATTRIBUTES/VARIABLE_VALUE', [1728]),\n",
       " ('performer/layers/0/self_attention/key_dense_layer/kernel/.ATTRIBUTES/VARIABLE_VALUE',\n",
       "  [1728, 4, 432]),\n",
       " ('performer/layers/0/self_attention/output_dense_layer/kernel/.ATTRIBUTES/VARIABLE_VALUE',\n",
       "  [4, 432, 1728]),\n",
       " ('performer/layers/0/self_attention/query_dense_layer/kernel/.ATTRIBUTES/VARIABLE_VALUE',\n",
       "  [1728, 4, 432]),\n",
       " ('performer/layers/0/self_attention/value_dense_layer/kernel/.ATTRIBUTES/VARIABLE_VALUE',\n",
       "  [1728, 4, 432]),\n",
       " ('performer/layers/1/FFN/FFN_dense_narrow/bias/.ATTRIBUTES/VARIABLE_VALUE',\n",
       "  [1728]),\n",
       " ('performer/layers/1/FFN/FFN_dense_narrow/kernel/.ATTRIBUTES/VARIABLE_VALUE',\n",
       "  [3456, 1728]),\n",
       " ('performer/layers/1/FFN/FFN_dense_wide/bias/.ATTRIBUTES/VARIABLE_VALUE',\n",
       "  [3456]),\n",
       " ('performer/layers/1/FFN/FFN_dense_wide/kernel/.ATTRIBUTES/VARIABLE_VALUE',\n",
       "  [1728, 3456]),\n",
       " ('performer/layers/1/FFN/FFN_layer_norm/beta/.ATTRIBUTES/VARIABLE_VALUE',\n",
       "  [1728]),\n",
       " ('performer/layers/1/FFN/FFN_layer_norm/gamma/.ATTRIBUTES/VARIABLE_VALUE',\n",
       "  [1728]),\n",
       " ('performer/layers/1/layer_norm/beta/.ATTRIBUTES/VARIABLE_VALUE', [1728]),\n",
       " ('performer/layers/1/layer_norm/gamma/.ATTRIBUTES/VARIABLE_VALUE', [1728]),\n",
       " ('performer/layers/1/self_attention/key_dense_layer/kernel/.ATTRIBUTES/VARIABLE_VALUE',\n",
       "  [1728, 4, 432]),\n",
       " ('performer/layers/1/self_attention/output_dense_layer/kernel/.ATTRIBUTES/VARIABLE_VALUE',\n",
       "  [4, 432, 1728]),\n",
       " ('performer/layers/1/self_attention/query_dense_layer/kernel/.ATTRIBUTES/VARIABLE_VALUE',\n",
       "  [1728, 4, 432]),\n",
       " ('performer/layers/1/self_attention/value_dense_layer/kernel/.ATTRIBUTES/VARIABLE_VALUE',\n",
       "  [1728, 4, 432]),\n",
       " ('performer/layers/2/FFN/FFN_dense_narrow/bias/.ATTRIBUTES/VARIABLE_VALUE',\n",
       "  [1728]),\n",
       " ('performer/layers/2/FFN/FFN_dense_narrow/kernel/.ATTRIBUTES/VARIABLE_VALUE',\n",
       "  [3456, 1728]),\n",
       " ('performer/layers/2/FFN/FFN_dense_wide/bias/.ATTRIBUTES/VARIABLE_VALUE',\n",
       "  [3456]),\n",
       " ('performer/layers/2/FFN/FFN_dense_wide/kernel/.ATTRIBUTES/VARIABLE_VALUE',\n",
       "  [1728, 3456]),\n",
       " ('performer/layers/2/FFN/FFN_layer_norm/beta/.ATTRIBUTES/VARIABLE_VALUE',\n",
       "  [1728]),\n",
       " ('performer/layers/2/FFN/FFN_layer_norm/gamma/.ATTRIBUTES/VARIABLE_VALUE',\n",
       "  [1728]),\n",
       " ('performer/layers/2/layer_norm/beta/.ATTRIBUTES/VARIABLE_VALUE', [1728]),\n",
       " ('performer/layers/2/layer_norm/gamma/.ATTRIBUTES/VARIABLE_VALUE', [1728]),\n",
       " ('performer/layers/2/self_attention/key_dense_layer/kernel/.ATTRIBUTES/VARIABLE_VALUE',\n",
       "  [1728, 4, 432]),\n",
       " ('performer/layers/2/self_attention/output_dense_layer/kernel/.ATTRIBUTES/VARIABLE_VALUE',\n",
       "  [4, 432, 1728]),\n",
       " ('performer/layers/2/self_attention/query_dense_layer/kernel/.ATTRIBUTES/VARIABLE_VALUE',\n",
       "  [1728, 4, 432]),\n",
       " ('performer/layers/2/self_attention/value_dense_layer/kernel/.ATTRIBUTES/VARIABLE_VALUE',\n",
       "  [1728, 4, 432]),\n",
       " ('performer/layers/3/FFN/FFN_dense_narrow/bias/.ATTRIBUTES/VARIABLE_VALUE',\n",
       "  [1728]),\n",
       " ('performer/layers/3/FFN/FFN_dense_narrow/kernel/.ATTRIBUTES/VARIABLE_VALUE',\n",
       "  [3456, 1728]),\n",
       " ('performer/layers/3/FFN/FFN_dense_wide/bias/.ATTRIBUTES/VARIABLE_VALUE',\n",
       "  [3456]),\n",
       " ('performer/layers/3/FFN/FFN_dense_wide/kernel/.ATTRIBUTES/VARIABLE_VALUE',\n",
       "  [1728, 3456]),\n",
       " ('performer/layers/3/FFN/FFN_layer_norm/beta/.ATTRIBUTES/VARIABLE_VALUE',\n",
       "  [1728]),\n",
       " ('performer/layers/3/FFN/FFN_layer_norm/gamma/.ATTRIBUTES/VARIABLE_VALUE',\n",
       "  [1728]),\n",
       " ('performer/layers/3/layer_norm/beta/.ATTRIBUTES/VARIABLE_VALUE', [1728]),\n",
       " ('performer/layers/3/layer_norm/gamma/.ATTRIBUTES/VARIABLE_VALUE', [1728]),\n",
       " ('performer/layers/3/self_attention/key_dense_layer/kernel/.ATTRIBUTES/VARIABLE_VALUE',\n",
       "  [1728, 4, 432]),\n",
       " ('performer/layers/3/self_attention/output_dense_layer/kernel/.ATTRIBUTES/VARIABLE_VALUE',\n",
       "  [4, 432, 1728]),\n",
       " ('performer/layers/3/self_attention/query_dense_layer/kernel/.ATTRIBUTES/VARIABLE_VALUE',\n",
       "  [1728, 4, 432]),\n",
       " ('performer/layers/3/self_attention/value_dense_layer/kernel/.ATTRIBUTES/VARIABLE_VALUE',\n",
       "  [1728, 4, 432]),\n",
       " ('performer/layers/4/FFN/FFN_dense_narrow/bias/.ATTRIBUTES/VARIABLE_VALUE',\n",
       "  [1728]),\n",
       " ('performer/layers/4/FFN/FFN_dense_narrow/kernel/.ATTRIBUTES/VARIABLE_VALUE',\n",
       "  [3456, 1728]),\n",
       " ('performer/layers/4/FFN/FFN_dense_wide/bias/.ATTRIBUTES/VARIABLE_VALUE',\n",
       "  [3456]),\n",
       " ('performer/layers/4/FFN/FFN_dense_wide/kernel/.ATTRIBUTES/VARIABLE_VALUE',\n",
       "  [1728, 3456]),\n",
       " ('performer/layers/4/FFN/FFN_layer_norm/beta/.ATTRIBUTES/VARIABLE_VALUE',\n",
       "  [1728]),\n",
       " ('performer/layers/4/FFN/FFN_layer_norm/gamma/.ATTRIBUTES/VARIABLE_VALUE',\n",
       "  [1728]),\n",
       " ('performer/layers/4/layer_norm/beta/.ATTRIBUTES/VARIABLE_VALUE', [1728]),\n",
       " ('performer/layers/4/layer_norm/gamma/.ATTRIBUTES/VARIABLE_VALUE', [1728]),\n",
       " ('performer/layers/4/self_attention/key_dense_layer/kernel/.ATTRIBUTES/VARIABLE_VALUE',\n",
       "  [1728, 4, 432]),\n",
       " ('performer/layers/4/self_attention/output_dense_layer/kernel/.ATTRIBUTES/VARIABLE_VALUE',\n",
       "  [4, 432, 1728]),\n",
       " ('performer/layers/4/self_attention/query_dense_layer/kernel/.ATTRIBUTES/VARIABLE_VALUE',\n",
       "  [1728, 4, 432]),\n",
       " ('performer/layers/4/self_attention/value_dense_layer/kernel/.ATTRIBUTES/VARIABLE_VALUE',\n",
       "  [1728, 4, 432]),\n",
       " ('performer/layers/5/FFN/FFN_dense_narrow/bias/.ATTRIBUTES/VARIABLE_VALUE',\n",
       "  [1728]),\n",
       " ('performer/layers/5/FFN/FFN_dense_narrow/kernel/.ATTRIBUTES/VARIABLE_VALUE',\n",
       "  [3456, 1728]),\n",
       " ('performer/layers/5/FFN/FFN_dense_wide/bias/.ATTRIBUTES/VARIABLE_VALUE',\n",
       "  [3456]),\n",
       " ('performer/layers/5/FFN/FFN_dense_wide/kernel/.ATTRIBUTES/VARIABLE_VALUE',\n",
       "  [1728, 3456]),\n",
       " ('performer/layers/5/FFN/FFN_layer_norm/beta/.ATTRIBUTES/VARIABLE_VALUE',\n",
       "  [1728]),\n",
       " ('performer/layers/5/FFN/FFN_layer_norm/gamma/.ATTRIBUTES/VARIABLE_VALUE',\n",
       "  [1728]),\n",
       " ('performer/layers/5/layer_norm/beta/.ATTRIBUTES/VARIABLE_VALUE', [1728]),\n",
       " ('performer/layers/5/layer_norm/gamma/.ATTRIBUTES/VARIABLE_VALUE', [1728]),\n",
       " ('performer/layers/5/self_attention/key_dense_layer/kernel/.ATTRIBUTES/VARIABLE_VALUE',\n",
       "  [1728, 4, 432]),\n",
       " ('performer/layers/5/self_attention/output_dense_layer/kernel/.ATTRIBUTES/VARIABLE_VALUE',\n",
       "  [4, 432, 1728]),\n",
       " ('performer/layers/5/self_attention/query_dense_layer/kernel/.ATTRIBUTES/VARIABLE_VALUE',\n",
       "  [1728, 4, 432]),\n",
       " ('performer/layers/5/self_attention/value_dense_layer/kernel/.ATTRIBUTES/VARIABLE_VALUE',\n",
       "  [1728, 4, 432]),\n",
       " ('pos_embedding_learned/embeddings/.ATTRIBUTES/VARIABLE_VALUE', [1536, 1728]),\n",
       " ('stem_conv/bias/.ATTRIBUTES/VARIABLE_VALUE', [768]),\n",
       " ('stem_conv/kernel/.ATTRIBUTES/VARIABLE_VALUE', [15, 4, 768]),\n",
       " ('stem_conv_atac/bias/.ATTRIBUTES/VARIABLE_VALUE', [16]),\n",
       " ('stem_conv_atac/kernel/.ATTRIBUTES/VARIABLE_VALUE', [15, 1, 16]),\n",
       " ('stem_pool/_logit_linear/kernel/.ATTRIBUTES/VARIABLE_VALUE', [768, 768]),\n",
       " ('stem_pool_atac/_logit_linear/kernel/.ATTRIBUTES/VARIABLE_VALUE', [16, 16]),\n",
       " ('stem_res_conv/_layer/layer_with_weights-0/beta/.ATTRIBUTES/VARIABLE_VALUE',\n",
       "  [768]),\n",
       " ('stem_res_conv/_layer/layer_with_weights-0/gamma/.ATTRIBUTES/VARIABLE_VALUE',\n",
       "  [768]),\n",
       " ('stem_res_conv/_layer/layer_with_weights-0/moving_mean/.ATTRIBUTES/VARIABLE_VALUE',\n",
       "  [768]),\n",
       " ('stem_res_conv/_layer/layer_with_weights-0/moving_variance/.ATTRIBUTES/VARIABLE_VALUE',\n",
       "  [768]),\n",
       " ('stem_res_conv/_layer/layer_with_weights-1/bias/.ATTRIBUTES/VARIABLE_VALUE',\n",
       "  [768]),\n",
       " ('stem_res_conv/_layer/layer_with_weights-1/kernel/.ATTRIBUTES/VARIABLE_VALUE',\n",
       "  [1, 768, 768]),\n",
       " ('stem_res_conv_atac/_layer/layer_with_weights-0/beta/.ATTRIBUTES/VARIABLE_VALUE',\n",
       "  [16]),\n",
       " ('stem_res_conv_atac/_layer/layer_with_weights-0/gamma/.ATTRIBUTES/VARIABLE_VALUE',\n",
       "  [16]),\n",
       " ('stem_res_conv_atac/_layer/layer_with_weights-0/moving_mean/.ATTRIBUTES/VARIABLE_VALUE',\n",
       "  [16]),\n",
       " ('stem_res_conv_atac/_layer/layer_with_weights-0/moving_variance/.ATTRIBUTES/VARIABLE_VALUE',\n",
       "  [16]),\n",
       " ('stem_res_conv_atac/_layer/layer_with_weights-1/bias/.ATTRIBUTES/VARIABLE_VALUE',\n",
       "  [16]),\n",
       " ('stem_res_conv_atac/_layer/layer_with_weights-1/kernel/.ATTRIBUTES/VARIABLE_VALUE',\n",
       "  [1, 16, 16])]"
      ]
     },
     "execution_count": 6,
     "metadata": {},
     "output_type": "execute_result"
    }
   ],
   "source": [
    "inside_checkpoint"
   ]
  },
  {
   "cell_type": "code",
   "execution_count": null,
   "id": "47ac7e69-44a6-4184-a21b-7ec02d704400",
   "metadata": {},
   "outputs": [],
   "source": []
  }
 ],
 "metadata": {
  "environment": {
   "name": "tf2-cpu.2-6.m81",
   "type": "gcloud",
   "uri": "gcr.io/deeplearning-platform-release/tf2-cpu.2-6:m81"
  },
  "kernelspec": {
   "display_name": "Python 3",
   "language": "python",
   "name": "python3"
  },
  "language_info": {
   "codemirror_mode": {
    "name": "ipython",
    "version": 3
   },
   "file_extension": ".py",
   "mimetype": "text/x-python",
   "name": "python",
   "nbconvert_exporter": "python",
   "pygments_lexer": "ipython3",
   "version": "3.7.10"
  }
 },
 "nbformat": 4,
 "nbformat_minor": 5
}
