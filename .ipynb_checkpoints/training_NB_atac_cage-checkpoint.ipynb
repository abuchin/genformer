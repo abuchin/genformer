{
 "cells": [
  {
   "cell_type": "code",
   "execution_count": 30,
   "id": "ab370951-f6d4-4a16-858a-58d08b64c855",
   "metadata": {},
   "outputs": [],
   "source": [
    "import time\n",
    "import os\n",
    "import subprocess\n",
    "import sys\n",
    "import re\n",
    "import argparse\n",
    "import collections\n",
    "import gzip\n",
    "import math\n",
    "import shutil\n",
    "import matplotlib.pyplot as plt\n",
    "import wandb\n",
    "import numpy as np\n",
    "import time\n",
    "from datetime import datetime\n",
    "import random\n",
    "\n",
    "import seaborn as sns\n",
    "%matplotlib inline\n",
    "import logging\n",
    "from silence_tensorflow import silence_tensorflow\n",
    "#silence_tensorflow()\n",
    "os.environ['TPU_LOAD_LIBRARY']='0'\n",
    "os.environ['TF_ENABLE_EAGER_CLIENT_STREAMING_ENQUEUE']='False'\n",
    "import tensorflow as tf\n",
    "\n",
    "\n",
    "import tensorflow.experimental.numpy as tnp\n",
    "import tensorflow_addons as tfa\n",
    "from tensorflow import strings as tfs\n",
    "from tensorflow.keras import mixed_precision\n",
    "from scipy.stats.stats import pearsonr  \n",
    "from scipy.stats.stats import spearmanr  \n",
    "## custom modules\n",
    "import src.aformer_atac_cage as aformer\n",
    "#import src.aformer_TF as aformer\n",
    "from src.layers.layers import *\n",
    "import src.metrics as metrics\n",
    "from src.optimizers import *\n",
    "import src.schedulers as schedulers\n",
    "import src.utils as utils\n",
    "\n",
    "import training_utils_atac_cage as training_utils\n",
    "\n",
    "\n",
    "from scipy import stats"
   ]
  },
  {
   "cell_type": "code",
   "execution_count": 31,
   "id": "4d333d7e-5e30-4865-b2a0-f04221ade9ce",
   "metadata": {},
   "outputs": [
    {
     "name": "stdout",
     "output_type": "stream",
     "text": [
      "INFO:tensorflow:Deallocate tpu buffers before initializing tpu system.\n"
     ]
    },
    {
     "name": "stderr",
     "output_type": "stream",
     "text": [
      "INFO:tensorflow:Deallocate tpu buffers before initializing tpu system.\n"
     ]
    },
    {
     "name": "stdout",
     "output_type": "stream",
     "text": [
      "WARNING:tensorflow:TPU system node-5 has already been initialized. Reinitializing the TPU can cause previously created variables on TPU to be lost.\n"
     ]
    },
    {
     "name": "stderr",
     "output_type": "stream",
     "text": [
      "WARNING:tensorflow:TPU system node-5 has already been initialized. Reinitializing the TPU can cause previously created variables on TPU to be lost.\n"
     ]
    },
    {
     "name": "stdout",
     "output_type": "stream",
     "text": [
      "INFO:tensorflow:Initializing the TPU system: node-5\n"
     ]
    },
    {
     "name": "stderr",
     "output_type": "stream",
     "text": [
      "INFO:tensorflow:Initializing the TPU system: node-5\n"
     ]
    },
    {
     "name": "stdout",
     "output_type": "stream",
     "text": [
      "INFO:tensorflow:Finished initializing TPU system.\n"
     ]
    },
    {
     "name": "stderr",
     "output_type": "stream",
     "text": [
      "INFO:tensorflow:Finished initializing TPU system.\n"
     ]
    },
    {
     "name": "stdout",
     "output_type": "stream",
     "text": [
      "INFO:tensorflow:Found TPU system:\n"
     ]
    },
    {
     "name": "stderr",
     "output_type": "stream",
     "text": [
      "INFO:tensorflow:Found TPU system:\n"
     ]
    },
    {
     "name": "stdout",
     "output_type": "stream",
     "text": [
      "INFO:tensorflow:*** Num TPU Cores: 8\n"
     ]
    },
    {
     "name": "stderr",
     "output_type": "stream",
     "text": [
      "INFO:tensorflow:*** Num TPU Cores: 8\n"
     ]
    },
    {
     "name": "stdout",
     "output_type": "stream",
     "text": [
      "INFO:tensorflow:*** Num TPU Workers: 1\n"
     ]
    },
    {
     "name": "stderr",
     "output_type": "stream",
     "text": [
      "INFO:tensorflow:*** Num TPU Workers: 1\n"
     ]
    },
    {
     "name": "stdout",
     "output_type": "stream",
     "text": [
      "INFO:tensorflow:*** Num TPU Cores Per Worker: 8\n"
     ]
    },
    {
     "name": "stderr",
     "output_type": "stream",
     "text": [
      "INFO:tensorflow:*** Num TPU Cores Per Worker: 8\n"
     ]
    },
    {
     "name": "stdout",
     "output_type": "stream",
     "text": [
      "INFO:tensorflow:*** Available Device: _DeviceAttributes(/job:localhost/replica:0/task:0/device:CPU:0, CPU, 0, 0)\n"
     ]
    },
    {
     "name": "stderr",
     "output_type": "stream",
     "text": [
      "INFO:tensorflow:*** Available Device: _DeviceAttributes(/job:localhost/replica:0/task:0/device:CPU:0, CPU, 0, 0)\n"
     ]
    },
    {
     "name": "stdout",
     "output_type": "stream",
     "text": [
      "INFO:tensorflow:*** Available Device: _DeviceAttributes(/job:worker/replica:0/task:0/device:CPU:0, CPU, 0, 0)\n"
     ]
    },
    {
     "name": "stderr",
     "output_type": "stream",
     "text": [
      "INFO:tensorflow:*** Available Device: _DeviceAttributes(/job:worker/replica:0/task:0/device:CPU:0, CPU, 0, 0)\n"
     ]
    },
    {
     "name": "stdout",
     "output_type": "stream",
     "text": [
      "INFO:tensorflow:*** Available Device: _DeviceAttributes(/job:worker/replica:0/task:0/device:TPU:0, TPU, 0, 0)\n"
     ]
    },
    {
     "name": "stderr",
     "output_type": "stream",
     "text": [
      "INFO:tensorflow:*** Available Device: _DeviceAttributes(/job:worker/replica:0/task:0/device:TPU:0, TPU, 0, 0)\n"
     ]
    },
    {
     "name": "stdout",
     "output_type": "stream",
     "text": [
      "INFO:tensorflow:*** Available Device: _DeviceAttributes(/job:worker/replica:0/task:0/device:TPU:1, TPU, 0, 0)\n"
     ]
    },
    {
     "name": "stderr",
     "output_type": "stream",
     "text": [
      "INFO:tensorflow:*** Available Device: _DeviceAttributes(/job:worker/replica:0/task:0/device:TPU:1, TPU, 0, 0)\n"
     ]
    },
    {
     "name": "stdout",
     "output_type": "stream",
     "text": [
      "INFO:tensorflow:*** Available Device: _DeviceAttributes(/job:worker/replica:0/task:0/device:TPU:2, TPU, 0, 0)\n"
     ]
    },
    {
     "name": "stderr",
     "output_type": "stream",
     "text": [
      "INFO:tensorflow:*** Available Device: _DeviceAttributes(/job:worker/replica:0/task:0/device:TPU:2, TPU, 0, 0)\n"
     ]
    },
    {
     "name": "stdout",
     "output_type": "stream",
     "text": [
      "INFO:tensorflow:*** Available Device: _DeviceAttributes(/job:worker/replica:0/task:0/device:TPU:3, TPU, 0, 0)\n"
     ]
    },
    {
     "name": "stderr",
     "output_type": "stream",
     "text": [
      "INFO:tensorflow:*** Available Device: _DeviceAttributes(/job:worker/replica:0/task:0/device:TPU:3, TPU, 0, 0)\n"
     ]
    },
    {
     "name": "stdout",
     "output_type": "stream",
     "text": [
      "INFO:tensorflow:*** Available Device: _DeviceAttributes(/job:worker/replica:0/task:0/device:TPU:4, TPU, 0, 0)\n"
     ]
    },
    {
     "name": "stderr",
     "output_type": "stream",
     "text": [
      "INFO:tensorflow:*** Available Device: _DeviceAttributes(/job:worker/replica:0/task:0/device:TPU:4, TPU, 0, 0)\n"
     ]
    },
    {
     "name": "stdout",
     "output_type": "stream",
     "text": [
      "INFO:tensorflow:*** Available Device: _DeviceAttributes(/job:worker/replica:0/task:0/device:TPU:5, TPU, 0, 0)\n"
     ]
    },
    {
     "name": "stderr",
     "output_type": "stream",
     "text": [
      "INFO:tensorflow:*** Available Device: _DeviceAttributes(/job:worker/replica:0/task:0/device:TPU:5, TPU, 0, 0)\n"
     ]
    },
    {
     "name": "stdout",
     "output_type": "stream",
     "text": [
      "INFO:tensorflow:*** Available Device: _DeviceAttributes(/job:worker/replica:0/task:0/device:TPU:6, TPU, 0, 0)\n"
     ]
    },
    {
     "name": "stderr",
     "output_type": "stream",
     "text": [
      "INFO:tensorflow:*** Available Device: _DeviceAttributes(/job:worker/replica:0/task:0/device:TPU:6, TPU, 0, 0)\n"
     ]
    },
    {
     "name": "stdout",
     "output_type": "stream",
     "text": [
      "INFO:tensorflow:*** Available Device: _DeviceAttributes(/job:worker/replica:0/task:0/device:TPU:7, TPU, 0, 0)\n"
     ]
    },
    {
     "name": "stderr",
     "output_type": "stream",
     "text": [
      "INFO:tensorflow:*** Available Device: _DeviceAttributes(/job:worker/replica:0/task:0/device:TPU:7, TPU, 0, 0)\n"
     ]
    },
    {
     "name": "stdout",
     "output_type": "stream",
     "text": [
      "INFO:tensorflow:*** Available Device: _DeviceAttributes(/job:worker/replica:0/task:0/device:TPU_SYSTEM:0, TPU_SYSTEM, 0, 0)\n"
     ]
    },
    {
     "name": "stderr",
     "output_type": "stream",
     "text": [
      "INFO:tensorflow:*** Available Device: _DeviceAttributes(/job:worker/replica:0/task:0/device:TPU_SYSTEM:0, TPU_SYSTEM, 0, 0)\n"
     ]
    },
    {
     "name": "stdout",
     "output_type": "stream",
     "text": [
      "INFO:tensorflow:*** Available Device: _DeviceAttributes(/job:worker/replica:0/task:0/device:XLA_CPU:0, XLA_CPU, 0, 0)\n"
     ]
    },
    {
     "name": "stderr",
     "output_type": "stream",
     "text": [
      "INFO:tensorflow:*** Available Device: _DeviceAttributes(/job:worker/replica:0/task:0/device:XLA_CPU:0, XLA_CPU, 0, 0)\n"
     ]
    }
   ],
   "source": [
    "resolver = tf.distribute.cluster_resolver.TPUClusterResolver(tpu='node-5')\n",
    "tf.config.experimental_connect_to_cluster(resolver)\n",
    "tf.tpu.experimental.initialize_tpu_system(resolver)\n",
    "strategy = tf.distribute.TPUStrategy(resolver)\n",
    "\n",
    "with strategy.scope():\n",
    "    options = tf.data.Options()\n",
    "    options.experimental_distribute.auto_shard_policy = tf.data.experimental.AutoShardPolicy.FILE\n",
    "    options.deterministic=False\n",
    "    #options.experimental_threading.max_intra_op_parallelism = 1\n",
    "    mixed_precision.set_global_policy('mixed_bfloat16')\n",
    "    tf.config.optimizer.set_jit(True)\n",
    "    #options.num_devices = 64\n",
    "\n",
    "    BATCH_SIZE_PER_REPLICA = 1\n",
    "    NUM_REPLICAS = strategy.num_replicas_in_sync\n",
    "    GLOBAL_BATCH_SIZE = BATCH_SIZE_PER_REPLICA * NUM_REPLICAS"
   ]
  },
  {
   "cell_type": "code",
   "execution_count": 32,
   "id": "c83ee30b-bf73-4231-aff5-6cfd183387d4",
   "metadata": {},
   "outputs": [
    {
     "name": "stdout",
     "output_type": "stream",
     "text": [
      "gs://picard-testing-176520/genformer_atac_rampage_globalacc_conv/preprocessed\n",
      "gs://picard-testing-176520/genformer_atac_rampage_globalacc_conv_TSS/preprocessed\n",
      "created train + val\n"
     ]
    }
   ],
   "source": [
    "g = tf.random.Generator.from_seed(datetime.now().timestamp())\n",
    "with strategy.scope():\n",
    "    \n",
    "    data_tr,data_val,data_val_TSS = training_utils.return_distributed_iterators(\"gs://picard-testing-176520/genformer_atac_rampage_globalacc_conv/preprocessed\",\n",
    "                                                                                \"gs://picard-testing-176520/genformer_atac_rampage_globalacc_conv_TSS/preprocessed\",\n",
    "                                                                               GLOBAL_BATCH_SIZE,\n",
    "                                                                               196608,\n",
    "                                                                               10, \n",
    "                                                                               1536,\n",
    "                                                                               320,\n",
    "                                                                               128,\n",
    "                                                                               8,\n",
    "                                                                               50,\n",
    "                                                                               strategy,\n",
    "                                                                               options,\n",
    "                                                                                True,\n",
    "                                                                                0.00,\n",
    "                                                                               g)"
   ]
  },
  {
   "cell_type": "code",
   "execution_count": 33,
   "id": "b8f9d938-b205-4fc0-a3ab-5d2d438329b2",
   "metadata": {},
   "outputs": [
    {
     "name": "stdout",
     "output_type": "stream",
     "text": [
      "<keras.initializers.initializers_v2.Constant object at 0x7f5b841fe190>\n",
      "True\n"
     ]
    }
   ],
   "source": [
    "with strategy.scope():\n",
    "    inits = training_utils.get_initializers_enformer_performer(\"gs://picard-testing-176520/enformer_performer_pretrain_atac_mean/models/enformer_performer_pretrain_atac_mean_EP_full_dataset__196k_load_init-True_freeze-False_LR1-1e-06_LR2-0.0001_T-4_F-1536_D-0.4_2023-02-24_16:27:50/iteration_16\",\n",
    "                                                               4,\n",
    "                                                               stable_variant=False)\n",
    "    #inits = training_utils.get_initializers_enformer_conv(\"/home/jupyter/dev/BE_CD69_paper_2022/enformer_fine_tuning/checkpoint/sonnet_weights\")\n",
    "    model = aformer.aformer(kernel_transformation = 'relu_kernel_transformation',\n",
    "                            dropout_rate = 0.05,\n",
    "                            pointwise_dropout_rate=0.05,\n",
    "                            input_length = 196608,\n",
    "                            output_length = 1536,\n",
    "                            final_output_length = 896,\n",
    "                             num_heads = 8,\n",
    "                             numerical_stabilizer = 0.001,\n",
    "                             nb_random_features = 256,\n",
    "                             hidden_size = 1552,\n",
    "                             num_transformer_layers = 4,\n",
    "                             d_model = 1552,\n",
    "                             norm=True,\n",
    "                             dim = 194, \n",
    "                            BN_momentum=0.90,\n",
    "                             max_seq_length = 1536,\n",
    "                             use_rot_emb = True,\n",
    "                            fc_dropout=0.25,\n",
    "                             use_mask_pos = False, \n",
    "                             normalize = True,\n",
    "                             seed = 3,\n",
    "                             load_init=True,\n",
    "                            stable_variant=False,\n",
    "                             inits=inits,\n",
    "                            freeze_conv_layers=False,\n",
    "                            predict_masked_atac_bool=True,\n",
    "                            use_global_acc=False,\n",
    "                            inits_type='enformer_performer')"
   ]
  },
  {
   "cell_type": "code",
   "execution_count": 34,
   "id": "16d8558d-6d83-4558-b8b5-db84a59e282b",
   "metadata": {},
   "outputs": [],
   "source": [
    "with strategy.scope():\n",
    "    optimizer1 = tfa.optimizers.AdaBelief(\n",
    "        learning_rate= 1.0e-06,\n",
    "        epsilon= 1.0e-14,\n",
    "        weight_decay= 1.0e-08,\n",
    "        rectify=True\n",
    "    )\n",
    "    optimizer2 = tfa.optimizers.AdaBelief(\n",
    "        learning_rate= 1.0e-04,\n",
    "        epsilon= 1.0e-14,\n",
    "        weight_decay= 1.0e-0,\n",
    "        rectify=True\n",
    "    )\n",
    "    optimizer3 = tfa.optimizers.AdaBelief(\n",
    "        learning_rate= 1.0e-04,\n",
    "        epsilon= 1.0e-14,\n",
    "        weight_decay= 0.0,\n",
    "        rectify=True\n",
    "    )\n",
    "    \n",
    "    optimizers_in=optimizer1,optimizer2,optimizer3\n",
    "    "
   ]
  },
  {
   "cell_type": "code",
   "execution_count": 35,
   "id": "b7839285-c85c-4bf9-9ca0-d8cd3ef7f290",
   "metadata": {},
   "outputs": [],
   "source": [
    "with strategy.scope():\n",
    "    metric_dict = {}\n",
    "    train_step_masked_atac,train_step, \\\n",
    "        val_step_masked_atac,val_step, \\\n",
    "            val_step_TSS_masked_atac, val_step_TSS, \\\n",
    "                build_step, metric_dict = training_utils.return_train_val_functions(model,\n",
    "                                                                                     500,\n",
    "                                                                                     150,\n",
    "                                                                                     150,\n",
    "                                                                                      optimizers_in,\n",
    "                                                                                      strategy,\n",
    "                                                                                      metric_dict,\n",
    "                                                                                      GLOBAL_BATCH_SIZE,\n",
    "                                                                                        5.0,\n",
    "                                                                                      0.8,\n",
    "                                                                                    'poisson')\n",
    "    \n"
   ]
  },
  {
   "cell_type": "code",
   "execution_count": null,
   "id": "d13d7eb8-7b92-44d8-92a7-2759896f8c89",
   "metadata": {},
   "outputs": [
    {
     "name": "stdout",
     "output_type": "stream",
     "text": [
      "total params: tf.Tensor(132783826, shape=(), dtype=int32)\n"
     ]
    }
   ],
   "source": [
    "from scipy.stats.stats import pearsonr  \n",
    "with strategy.scope():\n",
    "    def sum_log(x):\n",
    "        return np.log10(1.0 + np.nansum(x))\n",
    "    \n",
    "    global_step = 0\n",
    "    val_losses = []\n",
    "    val_pearsons = []\n",
    "    val_R2 = []\n",
    "    patience_counter = 0\n",
    "    stop_criteria = False\n",
    "    best_epoch = 0\n",
    "\n",
    "    for epoch_i in range(1, 10):\n",
    "        start = time.time()\n",
    "        if epoch_i == 1:\n",
    "            build_step(data_val)\n",
    "            total_params = 0\n",
    "            for k in model.trainable_variables:\n",
    "                var = k.values[0]\n",
    "                total_params += tf.size(var)\n",
    "            print('total params: ' + str(total_params))\n",
    "\n",
    "        train_step_masked_atac(data_tr)\n",
    "\n",
    "        print('hg_train_loss: ' + str(metric_dict['train_loss'].result().numpy()))\n",
    "        \n",
    "        val_step_masked_atac(data_val)\n",
    "\n",
    "        val_losses.append(metric_dict['val_loss'].result().numpy())\n",
    "        print('hg_val_loss: ' + str(metric_dict['val_loss'].result().numpy()))\n",
    "        print('hg_val_loss_CAGE: ' + str(metric_dict['val_loss_CAGE'].result().numpy()))\n",
    "        print('hg_val_loss_ATAC: ' + str(metric_dict['val_loss_ATAC'].result().numpy()))\n",
    "        print('hg_val_cage_pearson: ' + str(metric_dict['CAGE_PearsonR'].result()['PearsonR'].numpy()))\n",
    "        print('hg_val_cage_R2: ' + str(metric_dict['CAGE_R2'].result()['R2'].numpy()))\n",
    "        \n",
    "        #print('hg_val_atac_pearson: ' + str(metric_dict['ATAC_PearsonR'].result()['PearsonR'].numpy()))\n",
    "        #print('hg_val_atac_R2: ' + str(metric_dict['ATAC_R2'].result()['R2'].numpy()))\n",
    "        \n",
    "        \n",
    "        #print('hg_val_atac_baseline_pearson: ' + str(metric_dict['ATAC_PearsonR_baseline'].result()['PearsonR'].numpy()))\n",
    "        #print('hg_val_atac_baseline_R2: ' + str(metric_dict['ATAC_R2_baseline'].result()['R2'].numpy()))\n",
    "        \n",
    "        val_step_TSS_masked_atac(data_val_TSS)\n",
    "        \n",
    "        y_trues = metric_dict['corr_stats'].result()['y_trues'].numpy()\n",
    "        y_preds = metric_dict['corr_stats'].result()['y_preds'].numpy()\n",
    "        cell_types = metric_dict['corr_stats'].result()['cell_types'].numpy()\n",
    "        gene_map = metric_dict['corr_stats'].result()['gene_map'].numpy()\n",
    "\n",
    "\n",
    "        figures, corrs_overall = training_utils.make_plots(y_trues,\n",
    "                                           y_preds, \n",
    "                                           cell_types, \n",
    "                                           gene_map)\n",
    "        \n",
    "        cell_spec,gene_spec = corrs_overall\n",
    "        \n",
    "        print('cell spec corr: ' + str(cell_spec))\n",
    "        print('gene_spec_corr:' + str(gene_spec))\n",
    "        \n",
    "\n",
    "        end = time.time()\n",
    "        duration = (end - start) / 60.\n",
    "        print('completed epoch ' + str(epoch_i))\n",
    "        print('duration(mins): ' + str(duration))\n",
    "        print('patience counter at: ' + str(patience_counter))\n",
    "        \n",
    "        for key, item in metric_dict.items():\n",
    "            item.reset_state()\n",
    "        "
   ]
  },
  {
   "cell_type": "code",
   "execution_count": 29,
   "id": "9515e254-a5c0-4647-8f69-e57922160d47",
   "metadata": {},
   "outputs": [
    {
     "data": {
      "text/plain": [
       "<keras.engine.sequential.Sequential at 0x7f5bc89cdb10>"
      ]
     },
     "execution_count": 29,
     "metadata": {},
     "output_type": "execute_result"
    }
   ],
   "source": [
    "model.stem_res_conv._layer"
   ]
  },
  {
   "cell_type": "code",
   "execution_count": 24,
   "id": "a5230c78-07c2-41b0-b792-26954f2ec48c",
   "metadata": {},
   "outputs": [
    {
     "data": {
      "text/plain": [
       "0.9"
      ]
     },
     "execution_count": 24,
     "metadata": {},
     "output_type": "execute_result"
    }
   ],
   "source": [
    "model.final_pointwise_conv.layers[0].momentum"
   ]
  },
  {
   "cell_type": "code",
   "execution_count": 25,
   "id": "e07a2cf8-b806-4a6e-8d6f-0ed7eeadfdbc",
   "metadata": {},
   "outputs": [],
   "source": [
    "model.final_pointwise_conv.layers[0].momentum = 0.70"
   ]
  },
  {
   "cell_type": "code",
   "execution_count": 26,
   "id": "5557bf81-4afa-4000-a754-f9e53c730968",
   "metadata": {},
   "outputs": [
    {
     "data": {
      "text/plain": [
       "0.7"
      ]
     },
     "execution_count": 26,
     "metadata": {},
     "output_type": "execute_result"
    }
   ],
   "source": [
    "model.final_pointwise_conv.layers[0].momentum"
   ]
  },
  {
   "cell_type": "code",
   "execution_count": 8,
   "id": "44daedaa-27cc-4603-8260-e922a1289699",
   "metadata": {},
   "outputs": [
    {
     "data": {
      "text/plain": [
       "[('_CHECKPOINTABLE_OBJECT_GRAPH', []),\n",
       " ('conv_tower/layer_with_weights-0/layer_with_weights-0/layer_with_weights-0/beta/.ATTRIBUTES/VARIABLE_VALUE',\n",
       "  [512]),\n",
       " ('conv_tower/layer_with_weights-0/layer_with_weights-0/layer_with_weights-0/gamma/.ATTRIBUTES/VARIABLE_VALUE',\n",
       "  [512]),\n",
       " ('conv_tower/layer_with_weights-0/layer_with_weights-0/layer_with_weights-0/moving_mean/.ATTRIBUTES/VARIABLE_VALUE',\n",
       "  [512]),\n",
       " ('conv_tower/layer_with_weights-0/layer_with_weights-0/layer_with_weights-0/moving_variance/.ATTRIBUTES/VARIABLE_VALUE',\n",
       "  [512]),\n",
       " ('conv_tower/layer_with_weights-0/layer_with_weights-0/layer_with_weights-1/bias/.ATTRIBUTES/VARIABLE_VALUE',\n",
       "  [512]),\n",
       " ('conv_tower/layer_with_weights-0/layer_with_weights-0/layer_with_weights-1/kernel/.ATTRIBUTES/VARIABLE_VALUE',\n",
       "  [5, 512, 512]),\n",
       " ('conv_tower/layer_with_weights-0/layer_with_weights-1/_layer/layer_with_weights-0/beta/.ATTRIBUTES/VARIABLE_VALUE',\n",
       "  [512]),\n",
       " ('conv_tower/layer_with_weights-0/layer_with_weights-1/_layer/layer_with_weights-0/gamma/.ATTRIBUTES/VARIABLE_VALUE',\n",
       "  [512]),\n",
       " ('conv_tower/layer_with_weights-0/layer_with_weights-1/_layer/layer_with_weights-0/moving_mean/.ATTRIBUTES/VARIABLE_VALUE',\n",
       "  [512]),\n",
       " ('conv_tower/layer_with_weights-0/layer_with_weights-1/_layer/layer_with_weights-0/moving_variance/.ATTRIBUTES/VARIABLE_VALUE',\n",
       "  [512]),\n",
       " ('conv_tower/layer_with_weights-0/layer_with_weights-1/_layer/layer_with_weights-1/bias/.ATTRIBUTES/VARIABLE_VALUE',\n",
       "  [512]),\n",
       " ('conv_tower/layer_with_weights-0/layer_with_weights-1/_layer/layer_with_weights-1/kernel/.ATTRIBUTES/VARIABLE_VALUE',\n",
       "  [1, 512, 512]),\n",
       " ('conv_tower/layer_with_weights-0/layer_with_weights-2/_logit_linear/kernel/.ATTRIBUTES/VARIABLE_VALUE',\n",
       "  [512, 512]),\n",
       " ('conv_tower/layer_with_weights-1/layer_with_weights-0/layer_with_weights-0/beta/.ATTRIBUTES/VARIABLE_VALUE',\n",
       "  [512]),\n",
       " ('conv_tower/layer_with_weights-1/layer_with_weights-0/layer_with_weights-0/gamma/.ATTRIBUTES/VARIABLE_VALUE',\n",
       "  [512]),\n",
       " ('conv_tower/layer_with_weights-1/layer_with_weights-0/layer_with_weights-0/moving_mean/.ATTRIBUTES/VARIABLE_VALUE',\n",
       "  [512]),\n",
       " ('conv_tower/layer_with_weights-1/layer_with_weights-0/layer_with_weights-0/moving_variance/.ATTRIBUTES/VARIABLE_VALUE',\n",
       "  [512]),\n",
       " ('conv_tower/layer_with_weights-1/layer_with_weights-0/layer_with_weights-1/bias/.ATTRIBUTES/VARIABLE_VALUE',\n",
       "  [512]),\n",
       " ('conv_tower/layer_with_weights-1/layer_with_weights-0/layer_with_weights-1/kernel/.ATTRIBUTES/VARIABLE_VALUE',\n",
       "  [5, 512, 512]),\n",
       " ('conv_tower/layer_with_weights-1/layer_with_weights-1/_layer/layer_with_weights-0/beta/.ATTRIBUTES/VARIABLE_VALUE',\n",
       "  [512]),\n",
       " ('conv_tower/layer_with_weights-1/layer_with_weights-1/_layer/layer_with_weights-0/gamma/.ATTRIBUTES/VARIABLE_VALUE',\n",
       "  [512]),\n",
       " ('conv_tower/layer_with_weights-1/layer_with_weights-1/_layer/layer_with_weights-0/moving_mean/.ATTRIBUTES/VARIABLE_VALUE',\n",
       "  [512]),\n",
       " ('conv_tower/layer_with_weights-1/layer_with_weights-1/_layer/layer_with_weights-0/moving_variance/.ATTRIBUTES/VARIABLE_VALUE',\n",
       "  [512]),\n",
       " ('conv_tower/layer_with_weights-1/layer_with_weights-1/_layer/layer_with_weights-1/bias/.ATTRIBUTES/VARIABLE_VALUE',\n",
       "  [512]),\n",
       " ('conv_tower/layer_with_weights-1/layer_with_weights-1/_layer/layer_with_weights-1/kernel/.ATTRIBUTES/VARIABLE_VALUE',\n",
       "  [1, 512, 512]),\n",
       " ('conv_tower/layer_with_weights-1/layer_with_weights-2/_logit_linear/kernel/.ATTRIBUTES/VARIABLE_VALUE',\n",
       "  [512, 512]),\n",
       " ('conv_tower/layer_with_weights-2/layer_with_weights-0/layer_with_weights-0/beta/.ATTRIBUTES/VARIABLE_VALUE',\n",
       "  [512]),\n",
       " ('conv_tower/layer_with_weights-2/layer_with_weights-0/layer_with_weights-0/gamma/.ATTRIBUTES/VARIABLE_VALUE',\n",
       "  [512]),\n",
       " ('conv_tower/layer_with_weights-2/layer_with_weights-0/layer_with_weights-0/moving_mean/.ATTRIBUTES/VARIABLE_VALUE',\n",
       "  [512]),\n",
       " ('conv_tower/layer_with_weights-2/layer_with_weights-0/layer_with_weights-0/moving_variance/.ATTRIBUTES/VARIABLE_VALUE',\n",
       "  [512]),\n",
       " ('conv_tower/layer_with_weights-2/layer_with_weights-0/layer_with_weights-1/bias/.ATTRIBUTES/VARIABLE_VALUE',\n",
       "  [768]),\n",
       " ('conv_tower/layer_with_weights-2/layer_with_weights-0/layer_with_weights-1/kernel/.ATTRIBUTES/VARIABLE_VALUE',\n",
       "  [5, 512, 768]),\n",
       " ('conv_tower/layer_with_weights-2/layer_with_weights-1/_layer/layer_with_weights-0/beta/.ATTRIBUTES/VARIABLE_VALUE',\n",
       "  [768]),\n",
       " ('conv_tower/layer_with_weights-2/layer_with_weights-1/_layer/layer_with_weights-0/gamma/.ATTRIBUTES/VARIABLE_VALUE',\n",
       "  [768]),\n",
       " ('conv_tower/layer_with_weights-2/layer_with_weights-1/_layer/layer_with_weights-0/moving_mean/.ATTRIBUTES/VARIABLE_VALUE',\n",
       "  [768]),\n",
       " ('conv_tower/layer_with_weights-2/layer_with_weights-1/_layer/layer_with_weights-0/moving_variance/.ATTRIBUTES/VARIABLE_VALUE',\n",
       "  [768]),\n",
       " ('conv_tower/layer_with_weights-2/layer_with_weights-1/_layer/layer_with_weights-1/bias/.ATTRIBUTES/VARIABLE_VALUE',\n",
       "  [768]),\n",
       " ('conv_tower/layer_with_weights-2/layer_with_weights-1/_layer/layer_with_weights-1/kernel/.ATTRIBUTES/VARIABLE_VALUE',\n",
       "  [1, 768, 768]),\n",
       " ('conv_tower/layer_with_weights-2/layer_with_weights-2/_logit_linear/kernel/.ATTRIBUTES/VARIABLE_VALUE',\n",
       "  [768, 768]),\n",
       " ('conv_tower/layer_with_weights-3/layer_with_weights-0/layer_with_weights-0/beta/.ATTRIBUTES/VARIABLE_VALUE',\n",
       "  [768]),\n",
       " ('conv_tower/layer_with_weights-3/layer_with_weights-0/layer_with_weights-0/gamma/.ATTRIBUTES/VARIABLE_VALUE',\n",
       "  [768]),\n",
       " ('conv_tower/layer_with_weights-3/layer_with_weights-0/layer_with_weights-0/moving_mean/.ATTRIBUTES/VARIABLE_VALUE',\n",
       "  [768]),\n",
       " ('conv_tower/layer_with_weights-3/layer_with_weights-0/layer_with_weights-0/moving_variance/.ATTRIBUTES/VARIABLE_VALUE',\n",
       "  [768]),\n",
       " ('conv_tower/layer_with_weights-3/layer_with_weights-0/layer_with_weights-1/bias/.ATTRIBUTES/VARIABLE_VALUE',\n",
       "  [768]),\n",
       " ('conv_tower/layer_with_weights-3/layer_with_weights-0/layer_with_weights-1/kernel/.ATTRIBUTES/VARIABLE_VALUE',\n",
       "  [5, 768, 768]),\n",
       " ('conv_tower/layer_with_weights-3/layer_with_weights-1/_layer/layer_with_weights-0/beta/.ATTRIBUTES/VARIABLE_VALUE',\n",
       "  [768]),\n",
       " ('conv_tower/layer_with_weights-3/layer_with_weights-1/_layer/layer_with_weights-0/gamma/.ATTRIBUTES/VARIABLE_VALUE',\n",
       "  [768]),\n",
       " ('conv_tower/layer_with_weights-3/layer_with_weights-1/_layer/layer_with_weights-0/moving_mean/.ATTRIBUTES/VARIABLE_VALUE',\n",
       "  [768]),\n",
       " ('conv_tower/layer_with_weights-3/layer_with_weights-1/_layer/layer_with_weights-0/moving_variance/.ATTRIBUTES/VARIABLE_VALUE',\n",
       "  [768]),\n",
       " ('conv_tower/layer_with_weights-3/layer_with_weights-1/_layer/layer_with_weights-1/bias/.ATTRIBUTES/VARIABLE_VALUE',\n",
       "  [768]),\n",
       " ('conv_tower/layer_with_weights-3/layer_with_weights-1/_layer/layer_with_weights-1/kernel/.ATTRIBUTES/VARIABLE_VALUE',\n",
       "  [1, 768, 768]),\n",
       " ('conv_tower/layer_with_weights-3/layer_with_weights-2/_logit_linear/kernel/.ATTRIBUTES/VARIABLE_VALUE',\n",
       "  [768, 768]),\n",
       " ('conv_tower/layer_with_weights-4/layer_with_weights-0/layer_with_weights-0/beta/.ATTRIBUTES/VARIABLE_VALUE',\n",
       "  [768]),\n",
       " ('conv_tower/layer_with_weights-4/layer_with_weights-0/layer_with_weights-0/gamma/.ATTRIBUTES/VARIABLE_VALUE',\n",
       "  [768]),\n",
       " ('conv_tower/layer_with_weights-4/layer_with_weights-0/layer_with_weights-0/moving_mean/.ATTRIBUTES/VARIABLE_VALUE',\n",
       "  [768]),\n",
       " ('conv_tower/layer_with_weights-4/layer_with_weights-0/layer_with_weights-0/moving_variance/.ATTRIBUTES/VARIABLE_VALUE',\n",
       "  [768]),\n",
       " ('conv_tower/layer_with_weights-4/layer_with_weights-0/layer_with_weights-1/bias/.ATTRIBUTES/VARIABLE_VALUE',\n",
       "  [1024]),\n",
       " ('conv_tower/layer_with_weights-4/layer_with_weights-0/layer_with_weights-1/kernel/.ATTRIBUTES/VARIABLE_VALUE',\n",
       "  [5, 768, 1024]),\n",
       " ('conv_tower/layer_with_weights-4/layer_with_weights-1/_layer/layer_with_weights-0/beta/.ATTRIBUTES/VARIABLE_VALUE',\n",
       "  [1024]),\n",
       " ('conv_tower/layer_with_weights-4/layer_with_weights-1/_layer/layer_with_weights-0/gamma/.ATTRIBUTES/VARIABLE_VALUE',\n",
       "  [1024]),\n",
       " ('conv_tower/layer_with_weights-4/layer_with_weights-1/_layer/layer_with_weights-0/moving_mean/.ATTRIBUTES/VARIABLE_VALUE',\n",
       "  [1024]),\n",
       " ('conv_tower/layer_with_weights-4/layer_with_weights-1/_layer/layer_with_weights-0/moving_variance/.ATTRIBUTES/VARIABLE_VALUE',\n",
       "  [1024]),\n",
       " ('conv_tower/layer_with_weights-4/layer_with_weights-1/_layer/layer_with_weights-1/bias/.ATTRIBUTES/VARIABLE_VALUE',\n",
       "  [1024]),\n",
       " ('conv_tower/layer_with_weights-4/layer_with_weights-1/_layer/layer_with_weights-1/kernel/.ATTRIBUTES/VARIABLE_VALUE',\n",
       "  [1, 1024, 1024]),\n",
       " ('conv_tower/layer_with_weights-4/layer_with_weights-2/_logit_linear/kernel/.ATTRIBUTES/VARIABLE_VALUE',\n",
       "  [1024, 1024]),\n",
       " ('conv_tower/layer_with_weights-5/layer_with_weights-0/layer_with_weights-0/beta/.ATTRIBUTES/VARIABLE_VALUE',\n",
       "  [1024]),\n",
       " ('conv_tower/layer_with_weights-5/layer_with_weights-0/layer_with_weights-0/gamma/.ATTRIBUTES/VARIABLE_VALUE',\n",
       "  [1024]),\n",
       " ('conv_tower/layer_with_weights-5/layer_with_weights-0/layer_with_weights-0/moving_mean/.ATTRIBUTES/VARIABLE_VALUE',\n",
       "  [1024]),\n",
       " ('conv_tower/layer_with_weights-5/layer_with_weights-0/layer_with_weights-0/moving_variance/.ATTRIBUTES/VARIABLE_VALUE',\n",
       "  [1024]),\n",
       " ('conv_tower/layer_with_weights-5/layer_with_weights-0/layer_with_weights-1/bias/.ATTRIBUTES/VARIABLE_VALUE',\n",
       "  [1024]),\n",
       " ('conv_tower/layer_with_weights-5/layer_with_weights-0/layer_with_weights-1/kernel/.ATTRIBUTES/VARIABLE_VALUE',\n",
       "  [5, 1024, 1024]),\n",
       " ('conv_tower/layer_with_weights-5/layer_with_weights-1/_layer/layer_with_weights-0/beta/.ATTRIBUTES/VARIABLE_VALUE',\n",
       "  [1024]),\n",
       " ('conv_tower/layer_with_weights-5/layer_with_weights-1/_layer/layer_with_weights-0/gamma/.ATTRIBUTES/VARIABLE_VALUE',\n",
       "  [1024]),\n",
       " ('conv_tower/layer_with_weights-5/layer_with_weights-1/_layer/layer_with_weights-0/moving_mean/.ATTRIBUTES/VARIABLE_VALUE',\n",
       "  [1024]),\n",
       " ('conv_tower/layer_with_weights-5/layer_with_weights-1/_layer/layer_with_weights-0/moving_variance/.ATTRIBUTES/VARIABLE_VALUE',\n",
       "  [1024]),\n",
       " ('conv_tower/layer_with_weights-5/layer_with_weights-1/_layer/layer_with_weights-1/bias/.ATTRIBUTES/VARIABLE_VALUE',\n",
       "  [1024]),\n",
       " ('conv_tower/layer_with_weights-5/layer_with_weights-1/_layer/layer_with_weights-1/kernel/.ATTRIBUTES/VARIABLE_VALUE',\n",
       "  [1, 1024, 1024]),\n",
       " ('conv_tower/layer_with_weights-5/layer_with_weights-2/_logit_linear/kernel/.ATTRIBUTES/VARIABLE_VALUE',\n",
       "  [1024, 1024]),\n",
       " ('final_pointwise_conv/layer_with_weights-0/beta/.ATTRIBUTES/VARIABLE_VALUE',\n",
       "  [1040]),\n",
       " ('final_pointwise_conv/layer_with_weights-0/gamma/.ATTRIBUTES/VARIABLE_VALUE',\n",
       "  [1040]),\n",
       " ('final_pointwise_conv/layer_with_weights-0/moving_mean/.ATTRIBUTES/VARIABLE_VALUE',\n",
       "  [1040]),\n",
       " ('final_pointwise_conv/layer_with_weights-0/moving_variance/.ATTRIBUTES/VARIABLE_VALUE',\n",
       "  [1040]),\n",
       " ('final_pointwise_conv/layer_with_weights-1/bias/.ATTRIBUTES/VARIABLE_VALUE',\n",
       "  [2048]),\n",
       " ('final_pointwise_conv/layer_with_weights-1/kernel/.ATTRIBUTES/VARIABLE_VALUE',\n",
       "  [1, 1040, 2048]),\n",
       " ('heads/human/bias/.ATTRIBUTES/VARIABLE_VALUE', [5313]),\n",
       " ('heads/human/kernel/.ATTRIBUTES/VARIABLE_VALUE', [2048, 5313]),\n",
       " ('heads/mouse/bias/.ATTRIBUTES/VARIABLE_VALUE', [1643]),\n",
       " ('heads/mouse/kernel/.ATTRIBUTES/VARIABLE_VALUE', [2048, 1643]),\n",
       " ('performer/layer_norm/beta/.ATTRIBUTES/VARIABLE_VALUE', [1040]),\n",
       " ('performer/layer_norm/gamma/.ATTRIBUTES/VARIABLE_VALUE', [1040]),\n",
       " ('performer/layers/0/FFN/FFN_dense_narrow/bias/.ATTRIBUTES/VARIABLE_VALUE',\n",
       "  [1040]),\n",
       " ('performer/layers/0/FFN/FFN_dense_narrow/kernel/.ATTRIBUTES/VARIABLE_VALUE',\n",
       "  [2080, 1040]),\n",
       " ('performer/layers/0/FFN/FFN_dense_wide/bias/.ATTRIBUTES/VARIABLE_VALUE',\n",
       "  [2080]),\n",
       " ('performer/layers/0/FFN/FFN_dense_wide/kernel/.ATTRIBUTES/VARIABLE_VALUE',\n",
       "  [1040, 2080]),\n",
       " ('performer/layers/0/FFN/FFN_layer_norm/beta/.ATTRIBUTES/VARIABLE_VALUE',\n",
       "  [1040]),\n",
       " ('performer/layers/0/FFN/FFN_layer_norm/gamma/.ATTRIBUTES/VARIABLE_VALUE',\n",
       "  [1040]),\n",
       " ('performer/layers/0/self_attention/key_dense_layer/kernel/.ATTRIBUTES/VARIABLE_VALUE',\n",
       "  [1040, 8, 130]),\n",
       " ('performer/layers/0/self_attention/output_dense_layer/kernel/.ATTRIBUTES/VARIABLE_VALUE',\n",
       "  [8, 130, 1040]),\n",
       " ('performer/layers/0/self_attention/query_dense_layer/kernel/.ATTRIBUTES/VARIABLE_VALUE',\n",
       "  [1040, 8, 130]),\n",
       " ('performer/layers/0/self_attention/value_dense_layer/kernel/.ATTRIBUTES/VARIABLE_VALUE',\n",
       "  [1040, 8, 130]),\n",
       " ('performer/layers/1/FFN/FFN_dense_narrow/bias/.ATTRIBUTES/VARIABLE_VALUE',\n",
       "  [1040]),\n",
       " ('performer/layers/1/FFN/FFN_dense_narrow/kernel/.ATTRIBUTES/VARIABLE_VALUE',\n",
       "  [2080, 1040]),\n",
       " ('performer/layers/1/FFN/FFN_dense_wide/bias/.ATTRIBUTES/VARIABLE_VALUE',\n",
       "  [2080]),\n",
       " ('performer/layers/1/FFN/FFN_dense_wide/kernel/.ATTRIBUTES/VARIABLE_VALUE',\n",
       "  [1040, 2080]),\n",
       " ('performer/layers/1/FFN/FFN_layer_norm/beta/.ATTRIBUTES/VARIABLE_VALUE',\n",
       "  [1040]),\n",
       " ('performer/layers/1/FFN/FFN_layer_norm/gamma/.ATTRIBUTES/VARIABLE_VALUE',\n",
       "  [1040]),\n",
       " ('performer/layers/1/self_attention/key_dense_layer/kernel/.ATTRIBUTES/VARIABLE_VALUE',\n",
       "  [1040, 8, 130]),\n",
       " ('performer/layers/1/self_attention/output_dense_layer/kernel/.ATTRIBUTES/VARIABLE_VALUE',\n",
       "  [8, 130, 1040]),\n",
       " ('performer/layers/1/self_attention/query_dense_layer/kernel/.ATTRIBUTES/VARIABLE_VALUE',\n",
       "  [1040, 8, 130]),\n",
       " ('performer/layers/1/self_attention/value_dense_layer/kernel/.ATTRIBUTES/VARIABLE_VALUE',\n",
       "  [1040, 8, 130]),\n",
       " ('performer/layers/2/FFN/FFN_dense_narrow/bias/.ATTRIBUTES/VARIABLE_VALUE',\n",
       "  [1040]),\n",
       " ('performer/layers/2/FFN/FFN_dense_narrow/kernel/.ATTRIBUTES/VARIABLE_VALUE',\n",
       "  [2080, 1040]),\n",
       " ('performer/layers/2/FFN/FFN_dense_wide/bias/.ATTRIBUTES/VARIABLE_VALUE',\n",
       "  [2080]),\n",
       " ('performer/layers/2/FFN/FFN_dense_wide/kernel/.ATTRIBUTES/VARIABLE_VALUE',\n",
       "  [1040, 2080]),\n",
       " ('performer/layers/2/FFN/FFN_layer_norm/beta/.ATTRIBUTES/VARIABLE_VALUE',\n",
       "  [1040]),\n",
       " ('performer/layers/2/FFN/FFN_layer_norm/gamma/.ATTRIBUTES/VARIABLE_VALUE',\n",
       "  [1040]),\n",
       " ('performer/layers/2/self_attention/key_dense_layer/kernel/.ATTRIBUTES/VARIABLE_VALUE',\n",
       "  [1040, 8, 130]),\n",
       " ('performer/layers/2/self_attention/output_dense_layer/kernel/.ATTRIBUTES/VARIABLE_VALUE',\n",
       "  [8, 130, 1040]),\n",
       " ('performer/layers/2/self_attention/query_dense_layer/kernel/.ATTRIBUTES/VARIABLE_VALUE',\n",
       "  [1040, 8, 130]),\n",
       " ('performer/layers/2/self_attention/value_dense_layer/kernel/.ATTRIBUTES/VARIABLE_VALUE',\n",
       "  [1040, 8, 130]),\n",
       " ('performer/layers/3/FFN/FFN_dense_narrow/bias/.ATTRIBUTES/VARIABLE_VALUE',\n",
       "  [1040]),\n",
       " ('performer/layers/3/FFN/FFN_dense_narrow/kernel/.ATTRIBUTES/VARIABLE_VALUE',\n",
       "  [2080, 1040]),\n",
       " ('performer/layers/3/FFN/FFN_dense_wide/bias/.ATTRIBUTES/VARIABLE_VALUE',\n",
       "  [2080]),\n",
       " ('performer/layers/3/FFN/FFN_dense_wide/kernel/.ATTRIBUTES/VARIABLE_VALUE',\n",
       "  [1040, 2080]),\n",
       " ('performer/layers/3/FFN/FFN_layer_norm/beta/.ATTRIBUTES/VARIABLE_VALUE',\n",
       "  [1040]),\n",
       " ('performer/layers/3/FFN/FFN_layer_norm/gamma/.ATTRIBUTES/VARIABLE_VALUE',\n",
       "  [1040]),\n",
       " ('performer/layers/3/self_attention/key_dense_layer/kernel/.ATTRIBUTES/VARIABLE_VALUE',\n",
       "  [1040, 8, 130]),\n",
       " ('performer/layers/3/self_attention/output_dense_layer/kernel/.ATTRIBUTES/VARIABLE_VALUE',\n",
       "  [8, 130, 1040]),\n",
       " ('performer/layers/3/self_attention/query_dense_layer/kernel/.ATTRIBUTES/VARIABLE_VALUE',\n",
       "  [1040, 8, 130]),\n",
       " ('performer/layers/3/self_attention/value_dense_layer/kernel/.ATTRIBUTES/VARIABLE_VALUE',\n",
       "  [1040, 8, 130]),\n",
       " ('performer/layers/4/FFN/FFN_dense_narrow/bias/.ATTRIBUTES/VARIABLE_VALUE',\n",
       "  [1040]),\n",
       " ('performer/layers/4/FFN/FFN_dense_narrow/kernel/.ATTRIBUTES/VARIABLE_VALUE',\n",
       "  [2080, 1040]),\n",
       " ('performer/layers/4/FFN/FFN_dense_wide/bias/.ATTRIBUTES/VARIABLE_VALUE',\n",
       "  [2080]),\n",
       " ('performer/layers/4/FFN/FFN_dense_wide/kernel/.ATTRIBUTES/VARIABLE_VALUE',\n",
       "  [1040, 2080]),\n",
       " ('performer/layers/4/FFN/FFN_layer_norm/beta/.ATTRIBUTES/VARIABLE_VALUE',\n",
       "  [1040]),\n",
       " ('performer/layers/4/FFN/FFN_layer_norm/gamma/.ATTRIBUTES/VARIABLE_VALUE',\n",
       "  [1040]),\n",
       " ('performer/layers/4/self_attention/key_dense_layer/kernel/.ATTRIBUTES/VARIABLE_VALUE',\n",
       "  [1040, 8, 130]),\n",
       " ('performer/layers/4/self_attention/output_dense_layer/kernel/.ATTRIBUTES/VARIABLE_VALUE',\n",
       "  [8, 130, 1040]),\n",
       " ('performer/layers/4/self_attention/query_dense_layer/kernel/.ATTRIBUTES/VARIABLE_VALUE',\n",
       "  [1040, 8, 130]),\n",
       " ('performer/layers/4/self_attention/value_dense_layer/kernel/.ATTRIBUTES/VARIABLE_VALUE',\n",
       "  [1040, 8, 130]),\n",
       " ('performer/layers/5/FFN/FFN_dense_narrow/bias/.ATTRIBUTES/VARIABLE_VALUE',\n",
       "  [1040]),\n",
       " ('performer/layers/5/FFN/FFN_dense_narrow/kernel/.ATTRIBUTES/VARIABLE_VALUE',\n",
       "  [2080, 1040]),\n",
       " ('performer/layers/5/FFN/FFN_dense_wide/bias/.ATTRIBUTES/VARIABLE_VALUE',\n",
       "  [2080]),\n",
       " ('performer/layers/5/FFN/FFN_dense_wide/kernel/.ATTRIBUTES/VARIABLE_VALUE',\n",
       "  [1040, 2080]),\n",
       " ('performer/layers/5/FFN/FFN_layer_norm/beta/.ATTRIBUTES/VARIABLE_VALUE',\n",
       "  [1040]),\n",
       " ('performer/layers/5/FFN/FFN_layer_norm/gamma/.ATTRIBUTES/VARIABLE_VALUE',\n",
       "  [1040]),\n",
       " ('performer/layers/5/self_attention/key_dense_layer/kernel/.ATTRIBUTES/VARIABLE_VALUE',\n",
       "  [1040, 8, 130]),\n",
       " ('performer/layers/5/self_attention/output_dense_layer/kernel/.ATTRIBUTES/VARIABLE_VALUE',\n",
       "  [8, 130, 1040]),\n",
       " ('performer/layers/5/self_attention/query_dense_layer/kernel/.ATTRIBUTES/VARIABLE_VALUE',\n",
       "  [1040, 8, 130]),\n",
       " ('performer/layers/5/self_attention/value_dense_layer/kernel/.ATTRIBUTES/VARIABLE_VALUE',\n",
       "  [1040, 8, 130]),\n",
       " ('performer/layers/6/FFN/FFN_dense_narrow/bias/.ATTRIBUTES/VARIABLE_VALUE',\n",
       "  [1040]),\n",
       " ('performer/layers/6/FFN/FFN_dense_narrow/kernel/.ATTRIBUTES/VARIABLE_VALUE',\n",
       "  [2080, 1040]),\n",
       " ('performer/layers/6/FFN/FFN_dense_wide/bias/.ATTRIBUTES/VARIABLE_VALUE',\n",
       "  [2080]),\n",
       " ('performer/layers/6/FFN/FFN_dense_wide/kernel/.ATTRIBUTES/VARIABLE_VALUE',\n",
       "  [1040, 2080]),\n",
       " ('performer/layers/6/FFN/FFN_layer_norm/beta/.ATTRIBUTES/VARIABLE_VALUE',\n",
       "  [1040]),\n",
       " ('performer/layers/6/FFN/FFN_layer_norm/gamma/.ATTRIBUTES/VARIABLE_VALUE',\n",
       "  [1040]),\n",
       " ('performer/layers/6/self_attention/key_dense_layer/kernel/.ATTRIBUTES/VARIABLE_VALUE',\n",
       "  [1040, 8, 130]),\n",
       " ('performer/layers/6/self_attention/output_dense_layer/kernel/.ATTRIBUTES/VARIABLE_VALUE',\n",
       "  [8, 130, 1040]),\n",
       " ('performer/layers/6/self_attention/query_dense_layer/kernel/.ATTRIBUTES/VARIABLE_VALUE',\n",
       "  [1040, 8, 130]),\n",
       " ('performer/layers/6/self_attention/value_dense_layer/kernel/.ATTRIBUTES/VARIABLE_VALUE',\n",
       "  [1040, 8, 130]),\n",
       " ('performer/layers/7/FFN/FFN_dense_narrow/bias/.ATTRIBUTES/VARIABLE_VALUE',\n",
       "  [1040]),\n",
       " ('performer/layers/7/FFN/FFN_dense_narrow/kernel/.ATTRIBUTES/VARIABLE_VALUE',\n",
       "  [2080, 1040]),\n",
       " ('performer/layers/7/FFN/FFN_dense_wide/bias/.ATTRIBUTES/VARIABLE_VALUE',\n",
       "  [2080]),\n",
       " ('performer/layers/7/FFN/FFN_dense_wide/kernel/.ATTRIBUTES/VARIABLE_VALUE',\n",
       "  [1040, 2080]),\n",
       " ('performer/layers/7/FFN/FFN_layer_norm/beta/.ATTRIBUTES/VARIABLE_VALUE',\n",
       "  [1040]),\n",
       " ('performer/layers/7/FFN/FFN_layer_norm/gamma/.ATTRIBUTES/VARIABLE_VALUE',\n",
       "  [1040]),\n",
       " ('performer/layers/7/self_attention/key_dense_layer/kernel/.ATTRIBUTES/VARIABLE_VALUE',\n",
       "  [1040, 8, 130]),\n",
       " ('performer/layers/7/self_attention/output_dense_layer/kernel/.ATTRIBUTES/VARIABLE_VALUE',\n",
       "  [8, 130, 1040]),\n",
       " ('performer/layers/7/self_attention/query_dense_layer/kernel/.ATTRIBUTES/VARIABLE_VALUE',\n",
       "  [1040, 8, 130]),\n",
       " ('performer/layers/7/self_attention/value_dense_layer/kernel/.ATTRIBUTES/VARIABLE_VALUE',\n",
       "  [1040, 8, 130]),\n",
       " ('stem_conv/bias/.ATTRIBUTES/VARIABLE_VALUE', [512]),\n",
       " ('stem_conv/kernel/.ATTRIBUTES/VARIABLE_VALUE', [15, 4, 512]),\n",
       " ('stem_conv_atac/bias/.ATTRIBUTES/VARIABLE_VALUE', [16]),\n",
       " ('stem_conv_atac/kernel/.ATTRIBUTES/VARIABLE_VALUE', [5, 1, 16]),\n",
       " ('stem_pool/_logit_linear/kernel/.ATTRIBUTES/VARIABLE_VALUE', [512, 512]),\n",
       " ('stem_res_conv/_layer/layer_with_weights-0/beta/.ATTRIBUTES/VARIABLE_VALUE',\n",
       "  [512]),\n",
       " ('stem_res_conv/_layer/layer_with_weights-0/gamma/.ATTRIBUTES/VARIABLE_VALUE',\n",
       "  [512]),\n",
       " ('stem_res_conv/_layer/layer_with_weights-0/moving_mean/.ATTRIBUTES/VARIABLE_VALUE',\n",
       "  [512]),\n",
       " ('stem_res_conv/_layer/layer_with_weights-0/moving_variance/.ATTRIBUTES/VARIABLE_VALUE',\n",
       "  [512]),\n",
       " ('stem_res_conv/_layer/layer_with_weights-1/bias/.ATTRIBUTES/VARIABLE_VALUE',\n",
       "  [512]),\n",
       " ('stem_res_conv/_layer/layer_with_weights-1/kernel/.ATTRIBUTES/VARIABLE_VALUE',\n",
       "  [1, 512, 512]),\n",
       " ('stem_res_conv_atac/_layer/layer_with_weights-0/beta/.ATTRIBUTES/VARIABLE_VALUE',\n",
       "  [16]),\n",
       " ('stem_res_conv_atac/_layer/layer_with_weights-0/gamma/.ATTRIBUTES/VARIABLE_VALUE',\n",
       "  [16]),\n",
       " ('stem_res_conv_atac/_layer/layer_with_weights-0/moving_mean/.ATTRIBUTES/VARIABLE_VALUE',\n",
       "  [16]),\n",
       " ('stem_res_conv_atac/_layer/layer_with_weights-0/moving_variance/.ATTRIBUTES/VARIABLE_VALUE',\n",
       "  [16]),\n",
       " ('stem_res_conv_atac/_layer/layer_with_weights-1/bias/.ATTRIBUTES/VARIABLE_VALUE',\n",
       "  [16]),\n",
       " ('stem_res_conv_atac/_layer/layer_with_weights-1/kernel/.ATTRIBUTES/VARIABLE_VALUE',\n",
       "  [1, 16, 16])]"
      ]
     },
     "execution_count": 8,
     "metadata": {},
     "output_type": "execute_result"
    }
   ],
   "source": [
    "inside_checkpoint"
   ]
  },
  {
   "cell_type": "code",
   "execution_count": 14,
   "id": "496f3b32-ec1c-414b-a9fd-d5960bbca98f",
   "metadata": {},
   "outputs": [
    {
     "data": {
      "text/plain": [
       "[('_CHECKPOINTABLE_OBJECT_GRAPH', []),\n",
       " ('conv_tower/layer_with_weights-0/layer_with_weights-0/layer_with_weights-0/beta/.ATTRIBUTES/VARIABLE_VALUE',\n",
       "  [768]),\n",
       " ('conv_tower/layer_with_weights-0/layer_with_weights-0/layer_with_weights-0/gamma/.ATTRIBUTES/VARIABLE_VALUE',\n",
       "  [768]),\n",
       " ('conv_tower/layer_with_weights-0/layer_with_weights-0/layer_with_weights-0/moving_mean/.ATTRIBUTES/VARIABLE_VALUE',\n",
       "  [768]),\n",
       " ('conv_tower/layer_with_weights-0/layer_with_weights-0/layer_with_weights-0/moving_variance/.ATTRIBUTES/VARIABLE_VALUE',\n",
       "  [768]),\n",
       " ('conv_tower/layer_with_weights-0/layer_with_weights-0/layer_with_weights-1/bias/.ATTRIBUTES/VARIABLE_VALUE',\n",
       "  [768]),\n",
       " ('conv_tower/layer_with_weights-0/layer_with_weights-0/layer_with_weights-1/kernel/.ATTRIBUTES/VARIABLE_VALUE',\n",
       "  [5, 768, 768]),\n",
       " ('conv_tower/layer_with_weights-0/layer_with_weights-1/_layer/layer_with_weights-0/beta/.ATTRIBUTES/VARIABLE_VALUE',\n",
       "  [768]),\n",
       " ('conv_tower/layer_with_weights-0/layer_with_weights-1/_layer/layer_with_weights-0/gamma/.ATTRIBUTES/VARIABLE_VALUE',\n",
       "  [768]),\n",
       " ('conv_tower/layer_with_weights-0/layer_with_weights-1/_layer/layer_with_weights-0/moving_mean/.ATTRIBUTES/VARIABLE_VALUE',\n",
       "  [768]),\n",
       " ('conv_tower/layer_with_weights-0/layer_with_weights-1/_layer/layer_with_weights-0/moving_variance/.ATTRIBUTES/VARIABLE_VALUE',\n",
       "  [768]),\n",
       " ('conv_tower/layer_with_weights-0/layer_with_weights-1/_layer/layer_with_weights-1/bias/.ATTRIBUTES/VARIABLE_VALUE',\n",
       "  [768]),\n",
       " ('conv_tower/layer_with_weights-0/layer_with_weights-1/_layer/layer_with_weights-1/kernel/.ATTRIBUTES/VARIABLE_VALUE',\n",
       "  [1, 768, 768]),\n",
       " ('conv_tower/layer_with_weights-0/layer_with_weights-2/_logit_linear/kernel/.ATTRIBUTES/VARIABLE_VALUE',\n",
       "  [768, 768]),\n",
       " ('conv_tower/layer_with_weights-1/layer_with_weights-0/layer_with_weights-0/beta/.ATTRIBUTES/VARIABLE_VALUE',\n",
       "  [768]),\n",
       " ('conv_tower/layer_with_weights-1/layer_with_weights-0/layer_with_weights-0/gamma/.ATTRIBUTES/VARIABLE_VALUE',\n",
       "  [768]),\n",
       " ('conv_tower/layer_with_weights-1/layer_with_weights-0/layer_with_weights-0/moving_mean/.ATTRIBUTES/VARIABLE_VALUE',\n",
       "  [768]),\n",
       " ('conv_tower/layer_with_weights-1/layer_with_weights-0/layer_with_weights-0/moving_variance/.ATTRIBUTES/VARIABLE_VALUE',\n",
       "  [768]),\n",
       " ('conv_tower/layer_with_weights-1/layer_with_weights-0/layer_with_weights-1/bias/.ATTRIBUTES/VARIABLE_VALUE',\n",
       "  [896]),\n",
       " ('conv_tower/layer_with_weights-1/layer_with_weights-0/layer_with_weights-1/kernel/.ATTRIBUTES/VARIABLE_VALUE',\n",
       "  [5, 768, 896]),\n",
       " ('conv_tower/layer_with_weights-1/layer_with_weights-1/_layer/layer_with_weights-0/beta/.ATTRIBUTES/VARIABLE_VALUE',\n",
       "  [896]),\n",
       " ('conv_tower/layer_with_weights-1/layer_with_weights-1/_layer/layer_with_weights-0/gamma/.ATTRIBUTES/VARIABLE_VALUE',\n",
       "  [896]),\n",
       " ('conv_tower/layer_with_weights-1/layer_with_weights-1/_layer/layer_with_weights-0/moving_mean/.ATTRIBUTES/VARIABLE_VALUE',\n",
       "  [896]),\n",
       " ('conv_tower/layer_with_weights-1/layer_with_weights-1/_layer/layer_with_weights-0/moving_variance/.ATTRIBUTES/VARIABLE_VALUE',\n",
       "  [896]),\n",
       " ('conv_tower/layer_with_weights-1/layer_with_weights-1/_layer/layer_with_weights-1/bias/.ATTRIBUTES/VARIABLE_VALUE',\n",
       "  [896]),\n",
       " ('conv_tower/layer_with_weights-1/layer_with_weights-1/_layer/layer_with_weights-1/kernel/.ATTRIBUTES/VARIABLE_VALUE',\n",
       "  [1, 896, 896]),\n",
       " ('conv_tower/layer_with_weights-1/layer_with_weights-2/_logit_linear/kernel/.ATTRIBUTES/VARIABLE_VALUE',\n",
       "  [896, 896]),\n",
       " ('conv_tower/layer_with_weights-2/layer_with_weights-0/layer_with_weights-0/beta/.ATTRIBUTES/VARIABLE_VALUE',\n",
       "  [896]),\n",
       " ('conv_tower/layer_with_weights-2/layer_with_weights-0/layer_with_weights-0/gamma/.ATTRIBUTES/VARIABLE_VALUE',\n",
       "  [896]),\n",
       " ('conv_tower/layer_with_weights-2/layer_with_weights-0/layer_with_weights-0/moving_mean/.ATTRIBUTES/VARIABLE_VALUE',\n",
       "  [896]),\n",
       " ('conv_tower/layer_with_weights-2/layer_with_weights-0/layer_with_weights-0/moving_variance/.ATTRIBUTES/VARIABLE_VALUE',\n",
       "  [896]),\n",
       " ('conv_tower/layer_with_weights-2/layer_with_weights-0/layer_with_weights-1/bias/.ATTRIBUTES/VARIABLE_VALUE',\n",
       "  [1024]),\n",
       " ('conv_tower/layer_with_weights-2/layer_with_weights-0/layer_with_weights-1/kernel/.ATTRIBUTES/VARIABLE_VALUE',\n",
       "  [5, 896, 1024]),\n",
       " ('conv_tower/layer_with_weights-2/layer_with_weights-1/_layer/layer_with_weights-0/beta/.ATTRIBUTES/VARIABLE_VALUE',\n",
       "  [1024]),\n",
       " ('conv_tower/layer_with_weights-2/layer_with_weights-1/_layer/layer_with_weights-0/gamma/.ATTRIBUTES/VARIABLE_VALUE',\n",
       "  [1024]),\n",
       " ('conv_tower/layer_with_weights-2/layer_with_weights-1/_layer/layer_with_weights-0/moving_mean/.ATTRIBUTES/VARIABLE_VALUE',\n",
       "  [1024]),\n",
       " ('conv_tower/layer_with_weights-2/layer_with_weights-1/_layer/layer_with_weights-0/moving_variance/.ATTRIBUTES/VARIABLE_VALUE',\n",
       "  [1024]),\n",
       " ('conv_tower/layer_with_weights-2/layer_with_weights-1/_layer/layer_with_weights-1/bias/.ATTRIBUTES/VARIABLE_VALUE',\n",
       "  [1024]),\n",
       " ('conv_tower/layer_with_weights-2/layer_with_weights-1/_layer/layer_with_weights-1/kernel/.ATTRIBUTES/VARIABLE_VALUE',\n",
       "  [1, 1024, 1024]),\n",
       " ('conv_tower/layer_with_weights-2/layer_with_weights-2/_logit_linear/kernel/.ATTRIBUTES/VARIABLE_VALUE',\n",
       "  [1024, 1024]),\n",
       " ('conv_tower/layer_with_weights-3/layer_with_weights-0/layer_with_weights-0/beta/.ATTRIBUTES/VARIABLE_VALUE',\n",
       "  [1024]),\n",
       " ('conv_tower/layer_with_weights-3/layer_with_weights-0/layer_with_weights-0/gamma/.ATTRIBUTES/VARIABLE_VALUE',\n",
       "  [1024]),\n",
       " ('conv_tower/layer_with_weights-3/layer_with_weights-0/layer_with_weights-0/moving_mean/.ATTRIBUTES/VARIABLE_VALUE',\n",
       "  [1024]),\n",
       " ('conv_tower/layer_with_weights-3/layer_with_weights-0/layer_with_weights-0/moving_variance/.ATTRIBUTES/VARIABLE_VALUE',\n",
       "  [1024]),\n",
       " ('conv_tower/layer_with_weights-3/layer_with_weights-0/layer_with_weights-1/bias/.ATTRIBUTES/VARIABLE_VALUE',\n",
       "  [1152]),\n",
       " ('conv_tower/layer_with_weights-3/layer_with_weights-0/layer_with_weights-1/kernel/.ATTRIBUTES/VARIABLE_VALUE',\n",
       "  [5, 1024, 1152]),\n",
       " ('conv_tower/layer_with_weights-3/layer_with_weights-1/_layer/layer_with_weights-0/beta/.ATTRIBUTES/VARIABLE_VALUE',\n",
       "  [1152]),\n",
       " ('conv_tower/layer_with_weights-3/layer_with_weights-1/_layer/layer_with_weights-0/gamma/.ATTRIBUTES/VARIABLE_VALUE',\n",
       "  [1152]),\n",
       " ('conv_tower/layer_with_weights-3/layer_with_weights-1/_layer/layer_with_weights-0/moving_mean/.ATTRIBUTES/VARIABLE_VALUE',\n",
       "  [1152]),\n",
       " ('conv_tower/layer_with_weights-3/layer_with_weights-1/_layer/layer_with_weights-0/moving_variance/.ATTRIBUTES/VARIABLE_VALUE',\n",
       "  [1152]),\n",
       " ('conv_tower/layer_with_weights-3/layer_with_weights-1/_layer/layer_with_weights-1/bias/.ATTRIBUTES/VARIABLE_VALUE',\n",
       "  [1152]),\n",
       " ('conv_tower/layer_with_weights-3/layer_with_weights-1/_layer/layer_with_weights-1/kernel/.ATTRIBUTES/VARIABLE_VALUE',\n",
       "  [1, 1152, 1152]),\n",
       " ('conv_tower/layer_with_weights-3/layer_with_weights-2/_logit_linear/kernel/.ATTRIBUTES/VARIABLE_VALUE',\n",
       "  [1152, 1152]),\n",
       " ('conv_tower/layer_with_weights-4/layer_with_weights-0/layer_with_weights-0/beta/.ATTRIBUTES/VARIABLE_VALUE',\n",
       "  [1152]),\n",
       " ('conv_tower/layer_with_weights-4/layer_with_weights-0/layer_with_weights-0/gamma/.ATTRIBUTES/VARIABLE_VALUE',\n",
       "  [1152]),\n",
       " ('conv_tower/layer_with_weights-4/layer_with_weights-0/layer_with_weights-0/moving_mean/.ATTRIBUTES/VARIABLE_VALUE',\n",
       "  [1152]),\n",
       " ('conv_tower/layer_with_weights-4/layer_with_weights-0/layer_with_weights-0/moving_variance/.ATTRIBUTES/VARIABLE_VALUE',\n",
       "  [1152]),\n",
       " ('conv_tower/layer_with_weights-4/layer_with_weights-0/layer_with_weights-1/bias/.ATTRIBUTES/VARIABLE_VALUE',\n",
       "  [1280]),\n",
       " ('conv_tower/layer_with_weights-4/layer_with_weights-0/layer_with_weights-1/kernel/.ATTRIBUTES/VARIABLE_VALUE',\n",
       "  [5, 1152, 1280]),\n",
       " ('conv_tower/layer_with_weights-4/layer_with_weights-1/_layer/layer_with_weights-0/beta/.ATTRIBUTES/VARIABLE_VALUE',\n",
       "  [1280]),\n",
       " ('conv_tower/layer_with_weights-4/layer_with_weights-1/_layer/layer_with_weights-0/gamma/.ATTRIBUTES/VARIABLE_VALUE',\n",
       "  [1280]),\n",
       " ('conv_tower/layer_with_weights-4/layer_with_weights-1/_layer/layer_with_weights-0/moving_mean/.ATTRIBUTES/VARIABLE_VALUE',\n",
       "  [1280]),\n",
       " ('conv_tower/layer_with_weights-4/layer_with_weights-1/_layer/layer_with_weights-0/moving_variance/.ATTRIBUTES/VARIABLE_VALUE',\n",
       "  [1280]),\n",
       " ('conv_tower/layer_with_weights-4/layer_with_weights-1/_layer/layer_with_weights-1/bias/.ATTRIBUTES/VARIABLE_VALUE',\n",
       "  [1280]),\n",
       " ('conv_tower/layer_with_weights-4/layer_with_weights-1/_layer/layer_with_weights-1/kernel/.ATTRIBUTES/VARIABLE_VALUE',\n",
       "  [1, 1280, 1280]),\n",
       " ('conv_tower/layer_with_weights-4/layer_with_weights-2/_logit_linear/kernel/.ATTRIBUTES/VARIABLE_VALUE',\n",
       "  [1280, 1280]),\n",
       " ('conv_tower/layer_with_weights-5/layer_with_weights-0/layer_with_weights-0/beta/.ATTRIBUTES/VARIABLE_VALUE',\n",
       "  [1280]),\n",
       " ('conv_tower/layer_with_weights-5/layer_with_weights-0/layer_with_weights-0/gamma/.ATTRIBUTES/VARIABLE_VALUE',\n",
       "  [1280]),\n",
       " ('conv_tower/layer_with_weights-5/layer_with_weights-0/layer_with_weights-0/moving_mean/.ATTRIBUTES/VARIABLE_VALUE',\n",
       "  [1280]),\n",
       " ('conv_tower/layer_with_weights-5/layer_with_weights-0/layer_with_weights-0/moving_variance/.ATTRIBUTES/VARIABLE_VALUE',\n",
       "  [1280]),\n",
       " ('conv_tower/layer_with_weights-5/layer_with_weights-0/layer_with_weights-1/bias/.ATTRIBUTES/VARIABLE_VALUE',\n",
       "  [1536]),\n",
       " ('conv_tower/layer_with_weights-5/layer_with_weights-0/layer_with_weights-1/kernel/.ATTRIBUTES/VARIABLE_VALUE',\n",
       "  [5, 1280, 1536]),\n",
       " ('conv_tower/layer_with_weights-5/layer_with_weights-1/_layer/layer_with_weights-0/beta/.ATTRIBUTES/VARIABLE_VALUE',\n",
       "  [1536]),\n",
       " ('conv_tower/layer_with_weights-5/layer_with_weights-1/_layer/layer_with_weights-0/gamma/.ATTRIBUTES/VARIABLE_VALUE',\n",
       "  [1536]),\n",
       " ('conv_tower/layer_with_weights-5/layer_with_weights-1/_layer/layer_with_weights-0/moving_mean/.ATTRIBUTES/VARIABLE_VALUE',\n",
       "  [1536]),\n",
       " ('conv_tower/layer_with_weights-5/layer_with_weights-1/_layer/layer_with_weights-0/moving_variance/.ATTRIBUTES/VARIABLE_VALUE',\n",
       "  [1536]),\n",
       " ('conv_tower/layer_with_weights-5/layer_with_weights-1/_layer/layer_with_weights-1/bias/.ATTRIBUTES/VARIABLE_VALUE',\n",
       "  [1536]),\n",
       " ('conv_tower/layer_with_weights-5/layer_with_weights-1/_layer/layer_with_weights-1/kernel/.ATTRIBUTES/VARIABLE_VALUE',\n",
       "  [1, 1536, 1536]),\n",
       " ('conv_tower/layer_with_weights-5/layer_with_weights-2/_logit_linear/kernel/.ATTRIBUTES/VARIABLE_VALUE',\n",
       "  [1536, 1536]),\n",
       " ('final_pointwise_conv/layer_with_weights-0/beta/.ATTRIBUTES/VARIABLE_VALUE',\n",
       "  [1552]),\n",
       " ('final_pointwise_conv/layer_with_weights-0/gamma/.ATTRIBUTES/VARIABLE_VALUE',\n",
       "  [1552]),\n",
       " ('final_pointwise_conv/layer_with_weights-0/moving_mean/.ATTRIBUTES/VARIABLE_VALUE',\n",
       "  [1552]),\n",
       " ('final_pointwise_conv/layer_with_weights-0/moving_variance/.ATTRIBUTES/VARIABLE_VALUE',\n",
       "  [1552]),\n",
       " ('final_pointwise_conv/layer_with_weights-1/bias/.ATTRIBUTES/VARIABLE_VALUE',\n",
       "  [3072]),\n",
       " ('final_pointwise_conv/layer_with_weights-1/kernel/.ATTRIBUTES/VARIABLE_VALUE',\n",
       "  [1, 1552, 3072]),\n",
       " ('heads/human/bias/.ATTRIBUTES/VARIABLE_VALUE', [5313]),\n",
       " ('heads/human/kernel/.ATTRIBUTES/VARIABLE_VALUE', [3072, 5313]),\n",
       " ('heads/mouse/bias/.ATTRIBUTES/VARIABLE_VALUE', [1643]),\n",
       " ('heads/mouse/kernel/.ATTRIBUTES/VARIABLE_VALUE', [3072, 1643]),\n",
       " ('performer/layer_norm/beta/.ATTRIBUTES/VARIABLE_VALUE', [1552]),\n",
       " ('performer/layer_norm/gamma/.ATTRIBUTES/VARIABLE_VALUE', [1552]),\n",
       " ('performer/layers/0/FFN/FFN_dense_narrow/bias/.ATTRIBUTES/VARIABLE_VALUE',\n",
       "  [1552]),\n",
       " ('performer/layers/0/FFN/FFN_dense_narrow/kernel/.ATTRIBUTES/VARIABLE_VALUE',\n",
       "  [3104, 1552]),\n",
       " ('performer/layers/0/FFN/FFN_dense_wide/bias/.ATTRIBUTES/VARIABLE_VALUE',\n",
       "  [3104]),\n",
       " ('performer/layers/0/FFN/FFN_dense_wide/kernel/.ATTRIBUTES/VARIABLE_VALUE',\n",
       "  [1552, 3104]),\n",
       " ('performer/layers/0/FFN/FFN_layer_norm/beta/.ATTRIBUTES/VARIABLE_VALUE',\n",
       "  [1552]),\n",
       " ('performer/layers/0/FFN/FFN_layer_norm/gamma/.ATTRIBUTES/VARIABLE_VALUE',\n",
       "  [1552]),\n",
       " ('performer/layers/0/layer_norm/beta/.ATTRIBUTES/VARIABLE_VALUE', [1552]),\n",
       " ('performer/layers/0/layer_norm/gamma/.ATTRIBUTES/VARIABLE_VALUE', [1552]),\n",
       " ('performer/layers/0/self_attention/key_dense_layer/kernel/.ATTRIBUTES/VARIABLE_VALUE',\n",
       "  [1552, 4, 388]),\n",
       " ('performer/layers/0/self_attention/output_dense_layer/kernel/.ATTRIBUTES/VARIABLE_VALUE',\n",
       "  [4, 388, 1552]),\n",
       " ('performer/layers/0/self_attention/query_dense_layer/kernel/.ATTRIBUTES/VARIABLE_VALUE',\n",
       "  [1552, 4, 388]),\n",
       " ('performer/layers/0/self_attention/value_dense_layer/kernel/.ATTRIBUTES/VARIABLE_VALUE',\n",
       "  [1552, 4, 388]),\n",
       " ('performer/layers/1/FFN/FFN_dense_narrow/bias/.ATTRIBUTES/VARIABLE_VALUE',\n",
       "  [1552]),\n",
       " ('performer/layers/1/FFN/FFN_dense_narrow/kernel/.ATTRIBUTES/VARIABLE_VALUE',\n",
       "  [3104, 1552]),\n",
       " ('performer/layers/1/FFN/FFN_dense_wide/bias/.ATTRIBUTES/VARIABLE_VALUE',\n",
       "  [3104]),\n",
       " ('performer/layers/1/FFN/FFN_dense_wide/kernel/.ATTRIBUTES/VARIABLE_VALUE',\n",
       "  [1552, 3104]),\n",
       " ('performer/layers/1/FFN/FFN_layer_norm/beta/.ATTRIBUTES/VARIABLE_VALUE',\n",
       "  [1552]),\n",
       " ('performer/layers/1/FFN/FFN_layer_norm/gamma/.ATTRIBUTES/VARIABLE_VALUE',\n",
       "  [1552]),\n",
       " ('performer/layers/1/layer_norm/beta/.ATTRIBUTES/VARIABLE_VALUE', [1552]),\n",
       " ('performer/layers/1/layer_norm/gamma/.ATTRIBUTES/VARIABLE_VALUE', [1552]),\n",
       " ('performer/layers/1/self_attention/key_dense_layer/kernel/.ATTRIBUTES/VARIABLE_VALUE',\n",
       "  [1552, 4, 388]),\n",
       " ('performer/layers/1/self_attention/output_dense_layer/kernel/.ATTRIBUTES/VARIABLE_VALUE',\n",
       "  [4, 388, 1552]),\n",
       " ('performer/layers/1/self_attention/query_dense_layer/kernel/.ATTRIBUTES/VARIABLE_VALUE',\n",
       "  [1552, 4, 388]),\n",
       " ('performer/layers/1/self_attention/value_dense_layer/kernel/.ATTRIBUTES/VARIABLE_VALUE',\n",
       "  [1552, 4, 388]),\n",
       " ('performer/layers/2/FFN/FFN_dense_narrow/bias/.ATTRIBUTES/VARIABLE_VALUE',\n",
       "  [1552]),\n",
       " ('performer/layers/2/FFN/FFN_dense_narrow/kernel/.ATTRIBUTES/VARIABLE_VALUE',\n",
       "  [3104, 1552]),\n",
       " ('performer/layers/2/FFN/FFN_dense_wide/bias/.ATTRIBUTES/VARIABLE_VALUE',\n",
       "  [3104]),\n",
       " ('performer/layers/2/FFN/FFN_dense_wide/kernel/.ATTRIBUTES/VARIABLE_VALUE',\n",
       "  [1552, 3104]),\n",
       " ('performer/layers/2/FFN/FFN_layer_norm/beta/.ATTRIBUTES/VARIABLE_VALUE',\n",
       "  [1552]),\n",
       " ('performer/layers/2/FFN/FFN_layer_norm/gamma/.ATTRIBUTES/VARIABLE_VALUE',\n",
       "  [1552]),\n",
       " ('performer/layers/2/layer_norm/beta/.ATTRIBUTES/VARIABLE_VALUE', [1552]),\n",
       " ('performer/layers/2/layer_norm/gamma/.ATTRIBUTES/VARIABLE_VALUE', [1552]),\n",
       " ('performer/layers/2/self_attention/key_dense_layer/kernel/.ATTRIBUTES/VARIABLE_VALUE',\n",
       "  [1552, 4, 388]),\n",
       " ('performer/layers/2/self_attention/output_dense_layer/kernel/.ATTRIBUTES/VARIABLE_VALUE',\n",
       "  [4, 388, 1552]),\n",
       " ('performer/layers/2/self_attention/query_dense_layer/kernel/.ATTRIBUTES/VARIABLE_VALUE',\n",
       "  [1552, 4, 388]),\n",
       " ('performer/layers/2/self_attention/value_dense_layer/kernel/.ATTRIBUTES/VARIABLE_VALUE',\n",
       "  [1552, 4, 388]),\n",
       " ('performer/layers/3/FFN/FFN_dense_narrow/bias/.ATTRIBUTES/VARIABLE_VALUE',\n",
       "  [1552]),\n",
       " ('performer/layers/3/FFN/FFN_dense_narrow/kernel/.ATTRIBUTES/VARIABLE_VALUE',\n",
       "  [3104, 1552]),\n",
       " ('performer/layers/3/FFN/FFN_dense_wide/bias/.ATTRIBUTES/VARIABLE_VALUE',\n",
       "  [3104]),\n",
       " ('performer/layers/3/FFN/FFN_dense_wide/kernel/.ATTRIBUTES/VARIABLE_VALUE',\n",
       "  [1552, 3104]),\n",
       " ('performer/layers/3/FFN/FFN_layer_norm/beta/.ATTRIBUTES/VARIABLE_VALUE',\n",
       "  [1552]),\n",
       " ('performer/layers/3/FFN/FFN_layer_norm/gamma/.ATTRIBUTES/VARIABLE_VALUE',\n",
       "  [1552]),\n",
       " ('performer/layers/3/layer_norm/beta/.ATTRIBUTES/VARIABLE_VALUE', [1552]),\n",
       " ('performer/layers/3/layer_norm/gamma/.ATTRIBUTES/VARIABLE_VALUE', [1552]),\n",
       " ('performer/layers/3/self_attention/key_dense_layer/kernel/.ATTRIBUTES/VARIABLE_VALUE',\n",
       "  [1552, 4, 388]),\n",
       " ('performer/layers/3/self_attention/output_dense_layer/kernel/.ATTRIBUTES/VARIABLE_VALUE',\n",
       "  [4, 388, 1552]),\n",
       " ('performer/layers/3/self_attention/query_dense_layer/kernel/.ATTRIBUTES/VARIABLE_VALUE',\n",
       "  [1552, 4, 388]),\n",
       " ('performer/layers/3/self_attention/value_dense_layer/kernel/.ATTRIBUTES/VARIABLE_VALUE',\n",
       "  [1552, 4, 388]),\n",
       " ('performer/layers/4/FFN/FFN_dense_narrow/bias/.ATTRIBUTES/VARIABLE_VALUE',\n",
       "  [1552]),\n",
       " ('performer/layers/4/FFN/FFN_dense_narrow/kernel/.ATTRIBUTES/VARIABLE_VALUE',\n",
       "  [3104, 1552]),\n",
       " ('performer/layers/4/FFN/FFN_dense_wide/bias/.ATTRIBUTES/VARIABLE_VALUE',\n",
       "  [3104]),\n",
       " ('performer/layers/4/FFN/FFN_dense_wide/kernel/.ATTRIBUTES/VARIABLE_VALUE',\n",
       "  [1552, 3104]),\n",
       " ('performer/layers/4/FFN/FFN_layer_norm/beta/.ATTRIBUTES/VARIABLE_VALUE',\n",
       "  [1552]),\n",
       " ('performer/layers/4/FFN/FFN_layer_norm/gamma/.ATTRIBUTES/VARIABLE_VALUE',\n",
       "  [1552]),\n",
       " ('performer/layers/4/layer_norm/beta/.ATTRIBUTES/VARIABLE_VALUE', [1552]),\n",
       " ('performer/layers/4/layer_norm/gamma/.ATTRIBUTES/VARIABLE_VALUE', [1552]),\n",
       " ('performer/layers/4/self_attention/key_dense_layer/kernel/.ATTRIBUTES/VARIABLE_VALUE',\n",
       "  [1552, 4, 388]),\n",
       " ('performer/layers/4/self_attention/output_dense_layer/kernel/.ATTRIBUTES/VARIABLE_VALUE',\n",
       "  [4, 388, 1552]),\n",
       " ('performer/layers/4/self_attention/query_dense_layer/kernel/.ATTRIBUTES/VARIABLE_VALUE',\n",
       "  [1552, 4, 388]),\n",
       " ('performer/layers/4/self_attention/value_dense_layer/kernel/.ATTRIBUTES/VARIABLE_VALUE',\n",
       "  [1552, 4, 388]),\n",
       " ('performer/layers/5/FFN/FFN_dense_narrow/bias/.ATTRIBUTES/VARIABLE_VALUE',\n",
       "  [1552]),\n",
       " ('performer/layers/5/FFN/FFN_dense_narrow/kernel/.ATTRIBUTES/VARIABLE_VALUE',\n",
       "  [3104, 1552]),\n",
       " ('performer/layers/5/FFN/FFN_dense_wide/bias/.ATTRIBUTES/VARIABLE_VALUE',\n",
       "  [3104]),\n",
       " ('performer/layers/5/FFN/FFN_dense_wide/kernel/.ATTRIBUTES/VARIABLE_VALUE',\n",
       "  [1552, 3104]),\n",
       " ('performer/layers/5/FFN/FFN_layer_norm/beta/.ATTRIBUTES/VARIABLE_VALUE',\n",
       "  [1552]),\n",
       " ('performer/layers/5/FFN/FFN_layer_norm/gamma/.ATTRIBUTES/VARIABLE_VALUE',\n",
       "  [1552]),\n",
       " ('performer/layers/5/layer_norm/beta/.ATTRIBUTES/VARIABLE_VALUE', [1552]),\n",
       " ('performer/layers/5/layer_norm/gamma/.ATTRIBUTES/VARIABLE_VALUE', [1552]),\n",
       " ('performer/layers/5/self_attention/key_dense_layer/kernel/.ATTRIBUTES/VARIABLE_VALUE',\n",
       "  [1552, 4, 388]),\n",
       " ('performer/layers/5/self_attention/output_dense_layer/kernel/.ATTRIBUTES/VARIABLE_VALUE',\n",
       "  [4, 388, 1552]),\n",
       " ('performer/layers/5/self_attention/query_dense_layer/kernel/.ATTRIBUTES/VARIABLE_VALUE',\n",
       "  [1552, 4, 388]),\n",
       " ('performer/layers/5/self_attention/value_dense_layer/kernel/.ATTRIBUTES/VARIABLE_VALUE',\n",
       "  [1552, 4, 388]),\n",
       " ('stem_conv/bias/.ATTRIBUTES/VARIABLE_VALUE', [768]),\n",
       " ('stem_conv/kernel/.ATTRIBUTES/VARIABLE_VALUE', [15, 4, 768]),\n",
       " ('stem_conv_atac/bias/.ATTRIBUTES/VARIABLE_VALUE', [16]),\n",
       " ('stem_conv_atac/kernel/.ATTRIBUTES/VARIABLE_VALUE', [15, 1, 16]),\n",
       " ('stem_pool/_logit_linear/kernel/.ATTRIBUTES/VARIABLE_VALUE', [768, 768]),\n",
       " ('stem_res_conv/_layer/layer_with_weights-0/beta/.ATTRIBUTES/VARIABLE_VALUE',\n",
       "  [768]),\n",
       " ('stem_res_conv/_layer/layer_with_weights-0/gamma/.ATTRIBUTES/VARIABLE_VALUE',\n",
       "  [768]),\n",
       " ('stem_res_conv/_layer/layer_with_weights-0/moving_mean/.ATTRIBUTES/VARIABLE_VALUE',\n",
       "  [768]),\n",
       " ('stem_res_conv/_layer/layer_with_weights-0/moving_variance/.ATTRIBUTES/VARIABLE_VALUE',\n",
       "  [768]),\n",
       " ('stem_res_conv/_layer/layer_with_weights-1/bias/.ATTRIBUTES/VARIABLE_VALUE',\n",
       "  [768]),\n",
       " ('stem_res_conv/_layer/layer_with_weights-1/kernel/.ATTRIBUTES/VARIABLE_VALUE',\n",
       "  [1, 768, 768]),\n",
       " ('stem_res_conv_atac/_layer/layer_with_weights-0/beta/.ATTRIBUTES/VARIABLE_VALUE',\n",
       "  [16]),\n",
       " ('stem_res_conv_atac/_layer/layer_with_weights-0/gamma/.ATTRIBUTES/VARIABLE_VALUE',\n",
       "  [16]),\n",
       " ('stem_res_conv_atac/_layer/layer_with_weights-0/moving_mean/.ATTRIBUTES/VARIABLE_VALUE',\n",
       "  [16]),\n",
       " ('stem_res_conv_atac/_layer/layer_with_weights-0/moving_variance/.ATTRIBUTES/VARIABLE_VALUE',\n",
       "  [16]),\n",
       " ('stem_res_conv_atac/_layer/layer_with_weights-1/bias/.ATTRIBUTES/VARIABLE_VALUE',\n",
       "  [16]),\n",
       " ('stem_res_conv_atac/_layer/layer_with_weights-1/kernel/.ATTRIBUTES/VARIABLE_VALUE',\n",
       "  [1, 16, 16])]"
      ]
     },
     "execution_count": 14,
     "metadata": {},
     "output_type": "execute_result"
    }
   ],
   "source": [
    "inside_checkpoint"
   ]
  },
  {
   "cell_type": "code",
   "execution_count": null,
   "id": "95415017-6601-4cdc-9b2d-d2fd786d7394",
   "metadata": {},
   "outputs": [],
   "source": []
  }
 ],
 "metadata": {
  "environment": {
   "name": "tf2-cpu.2-6.m81",
   "type": "gcloud",
   "uri": "gcr.io/deeplearning-platform-release/tf2-cpu.2-6:m81"
  },
  "kernelspec": {
   "display_name": "Python 3",
   "language": "python",
   "name": "python3"
  },
  "language_info": {
   "codemirror_mode": {
    "name": "ipython",
    "version": 3
   },
   "file_extension": ".py",
   "mimetype": "text/x-python",
   "name": "python",
   "nbconvert_exporter": "python",
   "pygments_lexer": "ipython3",
   "version": "3.7.10"
  }
 },
 "nbformat": 4,
 "nbformat_minor": 5
}
