{
 "cells": [
  {
   "cell_type": "code",
   "execution_count": 12,
   "id": "eb74fd4f-551c-48e6-bff3-26eea6fc46b5",
   "metadata": {},
   "outputs": [],
   "source": [
    "import time\n",
    "import os\n",
    "import subprocess\n",
    "import sys\n",
    "import re\n",
    "import argparse\n",
    "import collections\n",
    "import gzip\n",
    "import math\n",
    "import shutil\n",
    "import matplotlib.pyplot as plt\n",
    "import wandb\n",
    "import numpy as np\n",
    "import time\n",
    "from datetime import datetime\n",
    "import random\n",
    "\n",
    "import seaborn as sns\n",
    "%matplotlib inline\n",
    "import logging\n",
    "from silence_tensorflow import silence_tensorflow\n",
    "#silence_tensorflow()\n",
    "os.environ['TPU_LOAD_LIBRARY']='0'\n",
    "os.environ['TF_ENABLE_EAGER_CLIENT_STREAMING_ENQUEUE']='False'\n",
    "import tensorflow as tf\n",
    "\n",
    "\n",
    "import tensorflow.experimental.numpy as tnp\n",
    "import tensorflow_addons as tfa\n",
    "from tensorflow import strings as tfs\n",
    "from tensorflow.keras import mixed_precision\n",
    "from scipy.stats.stats import pearsonr  \n",
    "from scipy.stats.stats import spearmanr  \n",
    "## custom modules\n",
    "import src.aformer_atac_cage_early as aformer\n",
    "#import src.aformer_TF as aformer\n",
    "from src.layers.layers import *\n",
    "import src.metrics as metrics\n",
    "from src.optimizers import *\n",
    "import src.schedulers as schedulers\n",
    "import src.utils as utils\n",
    "\n",
    "import training_utils_atac_cage_early as training_utils\n",
    "\n",
    "\n",
    "from scipy import stats\n",
    "\n"
   ]
  },
  {
   "cell_type": "code",
   "execution_count": 13,
   "id": "cdf5d5b9-5659-4e53-b1de-bb29f782dce6",
   "metadata": {},
   "outputs": [
    {
     "name": "stderr",
     "output_type": "stream",
     "text": [
      "2023-03-04 16:08:17.424940: I tensorflow/core/distributed_runtime/rpc/grpc_server_lib.cc:447] Started server with target: grpc://localhost:43763\n"
     ]
    },
    {
     "name": "stdout",
     "output_type": "stream",
     "text": [
      "INFO:tensorflow:Deallocate tpu buffers before initializing tpu system.\n"
     ]
    },
    {
     "name": "stderr",
     "output_type": "stream",
     "text": [
      "INFO:tensorflow:Deallocate tpu buffers before initializing tpu system.\n"
     ]
    },
    {
     "name": "stdout",
     "output_type": "stream",
     "text": [
      "INFO:tensorflow:Initializing the TPU system: node-5\n"
     ]
    },
    {
     "name": "stderr",
     "output_type": "stream",
     "text": [
      "INFO:tensorflow:Initializing the TPU system: node-5\n"
     ]
    },
    {
     "name": "stdout",
     "output_type": "stream",
     "text": [
      "INFO:tensorflow:Finished initializing TPU system.\n"
     ]
    },
    {
     "name": "stderr",
     "output_type": "stream",
     "text": [
      "INFO:tensorflow:Finished initializing TPU system.\n"
     ]
    },
    {
     "name": "stdout",
     "output_type": "stream",
     "text": [
      "INFO:tensorflow:Found TPU system:\n"
     ]
    },
    {
     "name": "stderr",
     "output_type": "stream",
     "text": [
      "INFO:tensorflow:Found TPU system:\n"
     ]
    },
    {
     "name": "stdout",
     "output_type": "stream",
     "text": [
      "INFO:tensorflow:*** Num TPU Cores: 8\n"
     ]
    },
    {
     "name": "stderr",
     "output_type": "stream",
     "text": [
      "INFO:tensorflow:*** Num TPU Cores: 8\n"
     ]
    },
    {
     "name": "stdout",
     "output_type": "stream",
     "text": [
      "INFO:tensorflow:*** Num TPU Workers: 1\n"
     ]
    },
    {
     "name": "stderr",
     "output_type": "stream",
     "text": [
      "INFO:tensorflow:*** Num TPU Workers: 1\n"
     ]
    },
    {
     "name": "stdout",
     "output_type": "stream",
     "text": [
      "INFO:tensorflow:*** Num TPU Cores Per Worker: 8\n"
     ]
    },
    {
     "name": "stderr",
     "output_type": "stream",
     "text": [
      "INFO:tensorflow:*** Num TPU Cores Per Worker: 8\n"
     ]
    },
    {
     "name": "stdout",
     "output_type": "stream",
     "text": [
      "INFO:tensorflow:*** Available Device: _DeviceAttributes(/job:localhost/replica:0/task:0/device:CPU:0, CPU, 0, 0)\n"
     ]
    },
    {
     "name": "stderr",
     "output_type": "stream",
     "text": [
      "INFO:tensorflow:*** Available Device: _DeviceAttributes(/job:localhost/replica:0/task:0/device:CPU:0, CPU, 0, 0)\n"
     ]
    },
    {
     "name": "stdout",
     "output_type": "stream",
     "text": [
      "INFO:tensorflow:*** Available Device: _DeviceAttributes(/job:worker/replica:0/task:0/device:CPU:0, CPU, 0, 0)\n"
     ]
    },
    {
     "name": "stderr",
     "output_type": "stream",
     "text": [
      "INFO:tensorflow:*** Available Device: _DeviceAttributes(/job:worker/replica:0/task:0/device:CPU:0, CPU, 0, 0)\n"
     ]
    },
    {
     "name": "stdout",
     "output_type": "stream",
     "text": [
      "INFO:tensorflow:*** Available Device: _DeviceAttributes(/job:worker/replica:0/task:0/device:TPU:0, TPU, 0, 0)\n"
     ]
    },
    {
     "name": "stderr",
     "output_type": "stream",
     "text": [
      "INFO:tensorflow:*** Available Device: _DeviceAttributes(/job:worker/replica:0/task:0/device:TPU:0, TPU, 0, 0)\n"
     ]
    },
    {
     "name": "stdout",
     "output_type": "stream",
     "text": [
      "INFO:tensorflow:*** Available Device: _DeviceAttributes(/job:worker/replica:0/task:0/device:TPU:1, TPU, 0, 0)\n"
     ]
    },
    {
     "name": "stderr",
     "output_type": "stream",
     "text": [
      "INFO:tensorflow:*** Available Device: _DeviceAttributes(/job:worker/replica:0/task:0/device:TPU:1, TPU, 0, 0)\n"
     ]
    },
    {
     "name": "stdout",
     "output_type": "stream",
     "text": [
      "INFO:tensorflow:*** Available Device: _DeviceAttributes(/job:worker/replica:0/task:0/device:TPU:2, TPU, 0, 0)\n"
     ]
    },
    {
     "name": "stderr",
     "output_type": "stream",
     "text": [
      "INFO:tensorflow:*** Available Device: _DeviceAttributes(/job:worker/replica:0/task:0/device:TPU:2, TPU, 0, 0)\n"
     ]
    },
    {
     "name": "stdout",
     "output_type": "stream",
     "text": [
      "INFO:tensorflow:*** Available Device: _DeviceAttributes(/job:worker/replica:0/task:0/device:TPU:3, TPU, 0, 0)\n"
     ]
    },
    {
     "name": "stderr",
     "output_type": "stream",
     "text": [
      "INFO:tensorflow:*** Available Device: _DeviceAttributes(/job:worker/replica:0/task:0/device:TPU:3, TPU, 0, 0)\n"
     ]
    },
    {
     "name": "stdout",
     "output_type": "stream",
     "text": [
      "INFO:tensorflow:*** Available Device: _DeviceAttributes(/job:worker/replica:0/task:0/device:TPU:4, TPU, 0, 0)\n"
     ]
    },
    {
     "name": "stderr",
     "output_type": "stream",
     "text": [
      "INFO:tensorflow:*** Available Device: _DeviceAttributes(/job:worker/replica:0/task:0/device:TPU:4, TPU, 0, 0)\n"
     ]
    },
    {
     "name": "stdout",
     "output_type": "stream",
     "text": [
      "INFO:tensorflow:*** Available Device: _DeviceAttributes(/job:worker/replica:0/task:0/device:TPU:5, TPU, 0, 0)\n"
     ]
    },
    {
     "name": "stderr",
     "output_type": "stream",
     "text": [
      "INFO:tensorflow:*** Available Device: _DeviceAttributes(/job:worker/replica:0/task:0/device:TPU:5, TPU, 0, 0)\n"
     ]
    },
    {
     "name": "stdout",
     "output_type": "stream",
     "text": [
      "INFO:tensorflow:*** Available Device: _DeviceAttributes(/job:worker/replica:0/task:0/device:TPU:6, TPU, 0, 0)\n"
     ]
    },
    {
     "name": "stderr",
     "output_type": "stream",
     "text": [
      "INFO:tensorflow:*** Available Device: _DeviceAttributes(/job:worker/replica:0/task:0/device:TPU:6, TPU, 0, 0)\n"
     ]
    },
    {
     "name": "stdout",
     "output_type": "stream",
     "text": [
      "INFO:tensorflow:*** Available Device: _DeviceAttributes(/job:worker/replica:0/task:0/device:TPU:7, TPU, 0, 0)\n"
     ]
    },
    {
     "name": "stderr",
     "output_type": "stream",
     "text": [
      "INFO:tensorflow:*** Available Device: _DeviceAttributes(/job:worker/replica:0/task:0/device:TPU:7, TPU, 0, 0)\n"
     ]
    },
    {
     "name": "stdout",
     "output_type": "stream",
     "text": [
      "INFO:tensorflow:*** Available Device: _DeviceAttributes(/job:worker/replica:0/task:0/device:TPU_SYSTEM:0, TPU_SYSTEM, 0, 0)\n"
     ]
    },
    {
     "name": "stderr",
     "output_type": "stream",
     "text": [
      "INFO:tensorflow:*** Available Device: _DeviceAttributes(/job:worker/replica:0/task:0/device:TPU_SYSTEM:0, TPU_SYSTEM, 0, 0)\n"
     ]
    },
    {
     "name": "stdout",
     "output_type": "stream",
     "text": [
      "INFO:tensorflow:*** Available Device: _DeviceAttributes(/job:worker/replica:0/task:0/device:XLA_CPU:0, XLA_CPU, 0, 0)\n"
     ]
    },
    {
     "name": "stderr",
     "output_type": "stream",
     "text": [
      "INFO:tensorflow:*** Available Device: _DeviceAttributes(/job:worker/replica:0/task:0/device:XLA_CPU:0, XLA_CPU, 0, 0)\n"
     ]
    }
   ],
   "source": [
    "resolver = tf.distribute.cluster_resolver.TPUClusterResolver(tpu='node-5')\n",
    "tf.config.experimental_connect_to_cluster(resolver)\n",
    "tf.tpu.experimental.initialize_tpu_system(resolver)\n",
    "strategy = tf.distribute.TPUStrategy(resolver)\n",
    "\n",
    "with strategy.scope():\n",
    "    options = tf.data.Options()\n",
    "    options.experimental_distribute.auto_shard_policy = tf.data.experimental.AutoShardPolicy.FILE\n",
    "    options.deterministic=False\n",
    "    #options.experimental_threading.max_intra_op_parallelism = 1\n",
    "    mixed_precision.set_global_policy('mixed_bfloat16')\n",
    "    tf.config.optimizer.set_jit(True)\n",
    "    #options.num_devices = 64\n",
    "\n",
    "    BATCH_SIZE_PER_REPLICA = 1\n",
    "    NUM_REPLICAS = strategy.num_replicas_in_sync\n",
    "    GLOBAL_BATCH_SIZE = BATCH_SIZE_PER_REPLICA * NUM_REPLICAS"
   ]
  },
  {
   "cell_type": "code",
   "execution_count": null,
   "id": "94e5418a-9351-42ab-8d6e-ba9ee4935fb8",
   "metadata": {},
   "outputs": [],
   "source": [
    "#with strategy.scope():\n",
    "\n",
    "model = aformer.aformer(kernel_transformation=\"relu_kernel_transformation\",\n",
    "                        dropout_rate=0.05,\n",
    "                        pointwise_dropout_rate=0.15,\n",
    "                        input_length=196608,\n",
    "                        output_length=1536,\n",
    "                        final_output_length=896,\n",
    "                        num_heads=4,\n",
    "                        numerical_stabilizer=0.0000001,\n",
    "                        nb_random_features=256,\n",
    "                        #hidden_size=wandb.config.hidden_size,\n",
    "                        #d_model=wandb.config.hidden_size,\n",
    "                        #dim=wandb.config.hidden_size // wandb.config.num_heads,\n",
    "                        max_seq_length=1536,\n",
    "                        rel_pos_bins=1536,\n",
    "                        norm=True,\n",
    "                        BN_momentum=0.90,\n",
    "                        use_rot_emb = True,\n",
    "                        use_mask_pos = False,\n",
    "                        normalize = True,\n",
    "                        predict_masked_atac_bool=True,\n",
    "                        num_transformer_layers=6,\n",
    "                        #inits=inits,\n",
    "                        #inits_type=\"enformer_conv\",\n",
    "                        #load_init=True,\n",
    "                        stable_variant=False,\n",
    "                        freeze_conv_layers=False,\n",
    "                        filter_list_seq=[768, 896, 1024, 1152, 1280, 1536],\n",
    "                        filter_list_atac=[32,64],\n",
    "                        learnable_PE=True,\n",
    "                        global_acc_size=128)\n",
    "\n",
    "test = tf.ones((1,196608,4)),tf.ones((1,49152,1)),tf.ones((1,1,1536))\n",
    "model(test,training=False)\n",
    "model.load_weights(\"gs://picard-testing-176520/paired_rampage_atac/genformer/models/aformer_baseline_GENFORMER_glob_accTrue_atac-True_mask-True_load-True_frz-False_LR1-5e-06_LR2-0.0001_T-6_D-0.05_2023-03-03_01:51:20/iteration_33/saved_model\")\n",
    "\n",
    "def predict_on_batch(model, inputs):\n",
    "    return model.predict_on_batch(inputs)\n",
    "\n",
    "@tf.function\n",
    "def contribution_input_grad(model, model_inputs):\n",
    "    seq, atac, tf_acc=model_inputs\n",
    "\n",
    "    with tf.GradientTape() as input_grad_tape:\n",
    "        input_grad_tape.watch(seq)\n",
    "        input_grad_tape.watch(atac)\n",
    "        input_grad_tape.watch(tf_acc)\n",
    "        inputs = seq,atac,tf_acc\n",
    "        prediction = model.predict_on_batch(inputs)\n",
    "\n",
    "\n",
    "    input_grads = input_grad_tape.gradient(prediction,inputs)\n",
    "\n",
    "\n",
    "    input_grads_seq = input_grads[0] \n",
    "    input_grads_atac = input_grads[1]\n",
    "    input_grads_tf_acc = input_grads[2]\n",
    "\n",
    "\n",
    "    seq_grads = tf.reduce_sum(input_grads_seq[0,:,1:] * seq[0,:,1:],\n",
    "                              axis=1)\n",
    "\n",
    "    tss_grads = input_grads_seq[0,:,0]\n",
    "\n",
    "    atac_grads = input_grads_atac[0,:,] * atac[0,:,]\n",
    "\n",
    "    tf_acc_grads = input_grads[2][0,:]\n",
    "\n",
    "    return seq_grads, tss_grads, atac_grads, tf_acc_grads, prediction\n",
    "\n"
   ]
  },
  {
   "cell_type": "code",
   "execution_count": null,
   "id": "441c5138-bf1c-403d-9036-bf9368866fb2",
   "metadata": {},
   "outputs": [],
   "source": [
    "def one_hot(sequence):\n",
    "    '''\n",
    "    convert input string tensor to one hot encoded\n",
    "    will replace all N character with 0 0 0 0\n",
    "    '''\n",
    "    vocabulary = tf.constant(['A', 'C', 'G', 'T'])\n",
    "    mapping = tf.constant([0, 1, 2, 3])\n",
    "\n",
    "    init = tf.lookup.KeyValueTensorInitializer(keys=vocabulary,\n",
    "                                               values=mapping)\n",
    "    table = tf.lookup.StaticHashTable(init, default_value=0)\n",
    "\n",
    "    input_characters = tfs.upper(tfs.unicode_split(sequence, 'UTF-8'))\n",
    "\n",
    "    out = tf.one_hot(table.lookup(input_characters), \n",
    "                      depth = 4, \n",
    "                      dtype=tf.float32)\n",
    "    return out\n",
    "\n",
    "\n",
    "    \n",
    "def deserialize_val_TSS(serialized_example,input_length,max_shift,output_length_ATAC,\n",
    "                        output_length,crop_size,output_res,predict_masked_atac_bool,atac_mask_dropout, use_global_acc, use_atac, log_atac,g):\n",
    "    \"\"\"Deserialize bytes stored in TFRecordFile.\"\"\"\n",
    "    feature_map = {\n",
    "        'sequence': tf.io.FixedLenFeature([], tf.string),\n",
    "        'atac': tf.io.FixedLenFeature([], tf.string),\n",
    "        'cage': tf.io.FixedLenFeature([], tf.string),\n",
    "        'tss_tokens': tf.io.FixedLenFeature([], tf.string),\n",
    "        'processed_gene_token': tf.io.FixedLenFeature([], tf.string),\n",
    "        'cell_type': tf.io.FixedLenFeature([], tf.string),\n",
    "        'cell_specific_conv_arr': tf.io.FixedLenFeature([], tf.string)\n",
    "    }\n",
    "    \n",
    "    seq_shift = 5\n",
    "    input_seq_length = input_length + max_shift\n",
    "\n",
    "    ### rev_comp\n",
    "    #rev_comp = random.randrange(0,2)\n",
    "\n",
    "    data = tf.io.parse_example(serialized_example, feature_map)\n",
    "    sequence = one_hot(tf.strings.substr(data['sequence'],\n",
    "                                 seq_shift,input_length))\n",
    "    \n",
    "    \n",
    "    #### parse ATAC and transform as specified\n",
    "    atac = tf.ensure_shape(tf.io.parse_tensor(data['atac'],\n",
    "                                              out_type=tf.float32),\n",
    "                           [output_length_ATAC,1])\n",
    "    #diff = tf.math.sqrt(tf.nn.relu(atac - 64.0 * tf.ones(atac.shape)))\n",
    "    #atac = tf.clip_by_value(atac, clip_value_min=0.0, clip_value_max=64.0) + diff\n",
    "    \n",
    "    if log_atac: \n",
    "        atac = tf.math.log1p(atac)\n",
    "    \n",
    "    if not use_atac:\n",
    "        atac = tf.math.abs(g.normal(atac.shape,\n",
    "                             mean=0.0,\n",
    "                             stddev=0.25,\n",
    "                             dtype=tf.float32))\n",
    "                           \n",
    "    ### here we generate a masked output vector length since we are predicting at 1536\n",
    "    atac_mask = tf.ones(output_length // 4,dtype=tf.float32)\n",
    "    atac_mask=tf.nn.experimental.stateless_dropout(atac_mask, \n",
    "                                                     rate=(atac_mask_dropout), \n",
    "                                                     seed=[0,seq_shift]) / (1. / (1.0-(atac_mask_dropout)))\n",
    "\n",
    "    atac_mask = tf.expand_dims(atac_mask,axis=1)\n",
    "    atac_mask = tf.tile(atac_mask, [1,4])\n",
    "    atac_mask = tf.reshape(atac_mask, [-1])\n",
    "    atac_mask = tf.expand_dims(atac_mask,axis=1)\n",
    "\n",
    "    atac_mask_store = 1.0 - atac_mask ## invert the mask, since we want to store which values were masked and loss should be computed over\n",
    "    atac_mask_store = tf.slice(atac_mask_store,\n",
    "                            [crop_size,0],\n",
    "                            [output_length-2*crop_size,-1])\n",
    "    tiling_req = output_length_ATAC // output_length\n",
    "    atac_mask = tf.expand_dims(tf.reshape(tf.tile(atac_mask, [1,tiling_req]),[-1]),axis=1)\n",
    "    \n",
    "\n",
    "    masked_atac = atac * atac_mask\n",
    "    \n",
    "    cage = tf.ensure_shape(tf.io.parse_tensor(data['cage'],\n",
    "                                              out_type=tf.float32),\n",
    "                           [output_length - 2*crop_size,1])\n",
    "    diff = tf.math.sqrt(tf.nn.relu(cage - 850.0 * tf.ones(cage.shape)))\n",
    "    cage = tf.clip_by_value(cage, clip_value_min=0.0, clip_value_max=850.0) + diff\n",
    "    cage = tf.cast(tf.cast(cage,dtype=tf.float16),dtype=tf.float32) ### round to be consistent with Enformer\n",
    "    \n",
    "    tss_tokens = tf.io.parse_tensor(data['tss_tokens'],\n",
    "                                  out_type=tf.int32)\n",
    "    tss_tokens = tf.expand_dims(tss_tokens,axis=1)\n",
    "    tss_tokens = tss_tokens / tf.reduce_max(tss_tokens)\n",
    "\n",
    "    gene_token= tf.io.parse_tensor(data['processed_gene_token'],\n",
    "                                   out_type=tf.int32)\n",
    "\n",
    "    cell_type = tf.io.parse_tensor(data['cell_type'],\n",
    "                                  out_type=tf.int32)\n",
    "    \n",
    "    global_acc = tf.ensure_shape(tf.io.parse_tensor(data['cell_specific_conv_arr'],\n",
    "                                              out_type=tf.float32),\n",
    "                           [1536])\n",
    "    global_acc=tf.expand_dims(global_acc,axis=0)\n",
    "    global_acc = tf.math.asinh(global_acc)\n",
    "    global_acc = (global_acc - tf.math.reduce_mean(global_acc)) / tf.math.reduce_std(global_acc)\n",
    "    \n",
    "    if not use_global_acc:\n",
    "        global_acc = g.normal(global_acc.shape,\n",
    "                              mean=0.0,\n",
    "                              stddev=0.025,\n",
    "                              dtype=tf.float32)\n",
    "\n",
    "    if predict_masked_atac_bool:\n",
    "        atac_out = tf.reduce_sum(tf.reshape(atac, [-1,tiling_req]),axis=1,keepdims=True)\n",
    "        atac_out = tf.slice(atac_out,\n",
    "                            [crop_size,0],\n",
    "                            [output_length-2*crop_size,-1])\n",
    "        target = tf.concat([atac_out,cage],axis=1)\n",
    "    \n",
    "\n",
    "    if predict_masked_atac_bool:\n",
    "        return {'sequence': tf.ensure_shape(sequence,\n",
    "                                            [input_length,4]),\n",
    "                'atac': tf.ensure_shape(masked_atac,\n",
    "                                          [output_length_ATAC,1]),\n",
    "                'atac_mask': tf.ensure_shape(atac_mask_store,\n",
    "                                          [output_length-crop_size*2,1]),\n",
    "                'target': tf.ensure_shape(target,\n",
    "                                          [output_length-crop_size*2,2]),\n",
    "                'tss_tokens': tf.ensure_shape(tss_tokens,\n",
    "                                          [output_length-2*crop_size,1]),\n",
    "                'global_acc': tf.ensure_shape(global_acc,\n",
    "                                          [1,1536]),\n",
    "                'gene_token':gene_token,\n",
    "                'cell_type': cell_type}\n",
    "    else:\n",
    "        return {'sequence': tf.ensure_shape(sequence,\n",
    "                                            [input_length,4]),\n",
    "                'atac': tf.ensure_shape(atac,\n",
    "                                          [output_length_ATAC,1]),\n",
    "                'target': tf.ensure_shape(cage,\n",
    "                                          [output_length-crop_size*2,1]),\n",
    "                'tss_tokens': tf.ensure_shape(tss_tokens,\n",
    "                                          [output_length-2*crop_size,1]),\n",
    "                'global_acc': tf.ensure_shape(global_acc,\n",
    "                                          [1,1536]),\n",
    "                'gene_token':gene_token,\n",
    "                'cell_type': cell_type}\n"
   ]
  },
  {
   "cell_type": "code",
   "execution_count": null,
   "id": "48e0ac30-08c5-46ba-a6b1-1f9ef87d74d6",
   "metadata": {},
   "outputs": [],
   "source": [
    "g = tf.random.Generator.from_seed(datetime.now().timestamp())\n",
    "dataset = tf.data.TFRecordDataset(\"gs://picard-testing-176520/genformer_atac_rampage_globalacc_conv_rpgc_TSS/valid/HG_ADRENAL_ENCDO451RUA.tfr\",\n",
    "                                  compression_type='ZLIB',\n",
    "                                  num_parallel_reads=4)\n",
    "dataset = dataset.map(lambda record: deserialize_val_TSS(record,\n",
    "                                                     196608,\n",
    "                                                     10,\n",
    "                                                         49152,\n",
    "                                                     1536,\n",
    "                                                     320,\n",
    "                                                     128,\n",
    "                                                        True,\n",
    "                                                        0.20,\n",
    "                                                        True, True,True,g),\n",
    "                      deterministic=False,\n",
    "                      num_parallel_calls=4)\n",
    "dataset = dataset.repeat(1).batch(1)\n",
    "iter_test = iter(dataset)\n"
   ]
  },
  {
   "cell_type": "code",
   "execution_count": null,
   "id": "65ec1569-28d8-4943-a2d5-0f42eb52ea9b",
   "metadata": {},
   "outputs": [],
   "source": [
    "test = next(iter_test)"
   ]
  },
  {
   "cell_type": "code",
   "execution_count": null,
   "id": "4b99c63b-c41a-40e5-bdd5-b84a8f5ef6b1",
   "metadata": {},
   "outputs": [],
   "source": [
    "np.nonzero(test['atac_mask'][0,:,0])"
   ]
  },
  {
   "cell_type": "code",
   "execution_count": null,
   "id": "50630b83-63c2-4b7c-90ea-3544066adc38",
   "metadata": {},
   "outputs": [],
   "source": [
    "np.nonzero(test['atac'][0,:,0])"
   ]
  },
  {
   "cell_type": "code",
   "execution_count": 54,
   "id": "22224dbb-4163-4920-83a0-b3175e6b6a29",
   "metadata": {},
   "outputs": [],
   "source": [
    "\n",
    "def plot_tracks(tracks, start,end, height=1.5):\n",
    "  fig, axes = plt.subplots(len(tracks), 1, figsize=(20, height * len(tracks)), sharex=True)\n",
    "  for ax, (title, y) in zip(axes, tracks.items()):\n",
    "    ax.fill_between(np.linspace(start, end, num=len(y)), y)\n",
    "    ax.set_title(title)\n",
    "    sns.despine(top=True, right=True, bottom=True)\n",
    "\n",
    "  plt.tight_layout()\n",
    "    \n",
    "\n",
    "inputs = test['sequence'], \\\n",
    "            test['atac'], \\\n",
    "                test['global_acc']\n",
    "predictions = model(inputs,training=False)"
   ]
  },
  {
   "cell_type": "code",
   "execution_count": 55,
   "id": "a97bd2a7-d60e-4812-8a6d-d5cc1976cd0b",
   "metadata": {},
   "outputs": [
    {
     "data": {
      "image/png": "[encoded data removed]",
      "text/plain": [
       "<Figure size 1440x324 with 3 Axes>"
      ]
     },
     "metadata": {
      "needs_background": "light"
     },
     "output_type": "display_data"
    }
   ],
   "source": [
    "mask_atac = tf.reduce_sum(tf.reshape(test['atac'][0,:,:], [1536,32]),axis=1,keepdims=True)[320:-320,:]\n",
    "mask_atac.shape\n",
    "tracks = {'pred ATAC': predictions[0,:, 0],\n",
    "          'mask ATAC': mask_atac[:,0],\n",
    "          'true ATAC': test['target'][0,:,0]}\n",
    "plot_tracks(tracks, 0,114688)"
   ]
  },
  {
   "cell_type": "code",
   "execution_count": 47,
   "id": "190db34c-181b-40ad-b042-d876ae725e4a",
   "metadata": {},
   "outputs": [
    {
     "data": {
      "image/png": "[encoded data removed]",
      "text/plain": [
       "<Figure size 1440x216 with 2 Axes>"
      ]
     },
     "metadata": {
      "needs_background": "light"
     },
     "output_type": "display_data"
    }
   ],
   "source": [
    "tracks = {'pred CAGE': np.log10(1.0+predictions[0,:, 1]),\n",
    "          'true CAGE': np.log10(1.0+test['target'][0,:,1])}\n",
    "plot_tracks(tracks, 0,114688)"
   ]
  },
  {
   "cell_type": "code",
   "execution_count": null,
   "id": "8f8d1b9d-c662-497d-b84c-37b6bdf1e13f",
   "metadata": {},
   "outputs": [],
   "source": [
    "with strategy.scope():\n",
    "    gcs_path = \"gs://picard-testing-176520/196k_individual_genes/MYC/HG_K562_U_U.tfr\"\n",
    "    myc_data = training_utils.return_dataset_interpret(gcs_path,\n",
    "                                                       strategy,\n",
    "                                                         1,\n",
    "                                                         196608,\n",
    "                                                         \"logTPM\",\n",
    "                                                         4,\n",
    "                                                         10,\n",
    "                                                         1637,\n",
    "                                                         False)\n",
    "    \n",
    "    \n",
    "    myc_input = next(myc_data)\n",
    "    inputs = myc_input['inputs'].values[0],myc_input['atac'].values[0], myc_input['TF_acc'].values[0]\n",
    "    myc_scores = contribution_input_grad(model,inputs)"
   ]
  },
  {
   "cell_type": "code",
   "execution_count": null,
   "id": "20b79f09-7a45-4832-9985-accbcdc795e6",
   "metadata": {},
   "outputs": [],
   "source": [
    "fig, ax = plt.subplots(figsize=(18, 2))\n",
    "ax.imshow(bin_vector(myc_input['tss_tokens'].values[0].numpy(),1536,128)[tf.newaxis], aspect = \"auto\", cmap=\"viridis\")\n",
    "#ax.gca().set_yticks([])\n",
    "ax.show()"
   ]
  },
  {
   "cell_type": "code",
   "execution_count": null,
   "id": "792dd7b4-a652-43df-bb6f-0e0daa5dae0c",
   "metadata": {},
   "outputs": [],
   "source": [
    "def plot_track_seq(input_arr, start, stop, height=1.5):\n",
    "    length=stop-start\n",
    "\n",
    "\n",
    "    # Set y-limit, making neg y-values not show in plot\n",
    "    #plt.ylim(start, stop)\n",
    "    x_vals = np.linspace(start,stop,num=length)\n",
    "    baseline = np.zeros_like(x_vals)\n",
    "    # Filling between line y3 and line y4\n",
    "    fig, ax = plt.subplots(figsize=(18, 2))\n",
    "    ax.fill_between(x_vals, baseline, input_arr[start:stop],alpha=0.9)\n",
    "\n",
    "    #ax.show()\n",
    "    "
   ]
  },
  {
   "cell_type": "code",
   "execution_count": null,
   "id": "44cdfb76-5465-4422-b993-4c2874ae8048",
   "metadata": {},
   "outputs": [],
   "source": [
    "def bin_vector(input_arr, num_bins, output_res):\n",
    "    return np.sum(np.abs(input_arr).reshape(num_bins, output_res), axis=1)\n",
    "\n",
    "\n",
    "plot_track_seq(bin_vector(myc_input['atac'].values[0].numpy(),1536,128), 0,1536)"
   ]
  }
 ],
 "metadata": {
  "environment": {
   "name": "tf2-cpu.2-6.m81",
   "type": "gcloud",
   "uri": "gcr.io/deeplearning-platform-release/tf2-cpu.2-6:m81"
  },
  "kernelspec": {
   "display_name": "Python 3",
   "language": "python",
   "name": "python3"
  },
  "language_info": {
   "codemirror_mode": {
    "name": "ipython",
    "version": 3
   },
   "file_extension": ".py",
   "mimetype": "text/x-python",
   "name": "python",
   "nbconvert_exporter": "python",
   "pygments_lexer": "ipython3",
   "version": "3.7.10"
  }
 },
 "nbformat": 4,
 "nbformat_minor": 5
}
