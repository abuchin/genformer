{
 "cells": [
  {
   "cell_type": "code",
   "execution_count": 2,
   "id": "67481b6c-9bc8-4342-83f8-14ff2f5713c5",
   "metadata": {},
   "outputs": [],
   "source": [
    "import time\n",
    "import os\n",
    "import subprocess\n",
    "import sys\n",
    "import re\n",
    "import argparse\n",
    "import collections\n",
    "import gzip\n",
    "import math\n",
    "import shutil\n",
    "import matplotlib.pyplot as plt\n",
    "import wandb\n",
    "import numpy as np\n",
    "import time\n",
    "from datetime import datetime\n",
    "import random\n",
    "\n",
    "import seaborn as sns\n",
    "%matplotlib inline\n",
    "import logging\n",
    "from silence_tensorflow import silence_tensorflow\n",
    "#silence_tensorflow()\n",
    "#os.environ['TPU_LOAD_LIBRARY']='0'\n",
    "#os.environ['TF_ENABLE_EAGER_CLIENT_STREAMING_ENQUEUE']='False'\n",
    "import tensorflow as tf\n",
    "\n",
    "\n",
    "import tensorflow.experimental.numpy as tnp\n",
    "import tensorflow_addons as tfa\n",
    "from tensorflow import strings as tfs\n",
    "from tensorflow.keras import mixed_precision\n",
    "from scipy.stats.stats import pearsonr  \n",
    "from scipy.stats.stats import spearmanr  \n",
    "## custom modules\n",
    "import src.aformer_atac as aformer\n",
    "#import src.aformer_TF as aformer\n",
    "from src.layers.layers_atac import *\n",
    "import src.metrics as metrics\n",
    "from src.optimizers import *\n",
    "import src.schedulers as schedulers\n",
    "import src.utils as utils\n",
    "\n",
    "import training_utils_atac as training_utils\n",
    "\n",
    "\n",
    "from scipy import stats\n",
    "\n"
   ]
  },
  {
   "cell_type": "code",
   "execution_count": 3,
   "id": "39a9ad50-d505-4e9e-a89f-a1240857228b",
   "metadata": {},
   "outputs": [
    {
     "name": "stderr",
     "output_type": "stream",
     "text": [
      "2022-09-14 18:40:31.046048: W tensorflow/stream_executor/platform/default/dso_loader.cc:64] Could not load dynamic library 'libcuda.so.1'; dlerror: libcuda.so.1: cannot open shared object file: No such file or directory\n",
      "2022-09-14 18:40:31.060850: W tensorflow/stream_executor/cuda/cuda_driver.cc:263] failed call to cuInit: UNKNOWN ERROR (303)\n",
      "2022-09-14 18:40:31.060934: I tensorflow/stream_executor/cuda/cuda_diagnostics.cc:156] kernel driver does not appear to be running on this host (tpu-genformer-v2-6): /proc/driver/nvidia/version does not exist\n"
     ]
    },
    {
     "name": "stdout",
     "output_type": "stream",
     "text": [
      "INFO:tensorflow:Deallocate tpu buffers before initializing tpu system.\n"
     ]
    },
    {
     "name": "stderr",
     "output_type": "stream",
     "text": [
      "2022-09-14 18:40:31.473521: I tensorflow/core/platform/cpu_feature_guard.cc:193] This TensorFlow binary is optimized with oneAPI Deep Neural Network Library (oneDNN) to use the following CPU instructions in performance-critical operations:  AVX2 FMA\n",
      "To enable them in other operations, rebuild TensorFlow with the appropriate compiler flags.\n",
      "2022-09-14 18:40:31.911724: I tensorflow/core/distributed_runtime/rpc/grpc_channel.cc:272] Initialize GrpcChannelCache for job worker -> {0 -> 10.115.216.98:8470}\n",
      "2022-09-14 18:40:31.911770: I tensorflow/core/distributed_runtime/rpc/grpc_channel.cc:272] Initialize GrpcChannelCache for job localhost -> {0 -> localhost:35779}\n",
      "2022-09-14 18:40:49.465331: I tensorflow/core/distributed_runtime/rpc/grpc_channel.cc:272] Initialize GrpcChannelCache for job worker -> {0 -> 10.115.216.98:8470}\n",
      "2022-09-14 18:40:49.465379: I tensorflow/core/distributed_runtime/rpc/grpc_channel.cc:272] Initialize GrpcChannelCache for job localhost -> {0 -> localhost:35779}\n",
      "2022-09-14 18:40:49.489503: I tensorflow/core/distributed_runtime/rpc/grpc_server_lib.cc:438] Started server with target: grpc://localhost:35779\n",
      "INFO:tensorflow:Deallocate tpu buffers before initializing tpu system.\n"
     ]
    },
    {
     "name": "stdout",
     "output_type": "stream",
     "text": [
      "INFO:tensorflow:Initializing the TPU system: node-15\n"
     ]
    },
    {
     "name": "stderr",
     "output_type": "stream",
     "text": [
      "INFO:tensorflow:Initializing the TPU system: node-15\n"
     ]
    },
    {
     "name": "stdout",
     "output_type": "stream",
     "text": [
      "INFO:tensorflow:Finished initializing TPU system.\n"
     ]
    },
    {
     "name": "stderr",
     "output_type": "stream",
     "text": [
      "INFO:tensorflow:Finished initializing TPU system.\n"
     ]
    },
    {
     "name": "stdout",
     "output_type": "stream",
     "text": [
      "INFO:tensorflow:Found TPU system:\n"
     ]
    },
    {
     "name": "stderr",
     "output_type": "stream",
     "text": [
      "INFO:tensorflow:Found TPU system:\n"
     ]
    },
    {
     "name": "stdout",
     "output_type": "stream",
     "text": [
      "INFO:tensorflow:*** Num TPU Cores: 8\n"
     ]
    },
    {
     "name": "stderr",
     "output_type": "stream",
     "text": [
      "INFO:tensorflow:*** Num TPU Cores: 8\n"
     ]
    },
    {
     "name": "stdout",
     "output_type": "stream",
     "text": [
      "INFO:tensorflow:*** Num TPU Workers: 1\n"
     ]
    },
    {
     "name": "stderr",
     "output_type": "stream",
     "text": [
      "INFO:tensorflow:*** Num TPU Workers: 1\n"
     ]
    },
    {
     "name": "stdout",
     "output_type": "stream",
     "text": [
      "INFO:tensorflow:*** Num TPU Cores Per Worker: 8\n"
     ]
    },
    {
     "name": "stderr",
     "output_type": "stream",
     "text": [
      "INFO:tensorflow:*** Num TPU Cores Per Worker: 8\n"
     ]
    },
    {
     "name": "stdout",
     "output_type": "stream",
     "text": [
      "INFO:tensorflow:*** Available Device: _DeviceAttributes(/job:localhost/replica:0/task:0/device:CPU:0, CPU, 0, 0)\n"
     ]
    },
    {
     "name": "stderr",
     "output_type": "stream",
     "text": [
      "INFO:tensorflow:*** Available Device: _DeviceAttributes(/job:localhost/replica:0/task:0/device:CPU:0, CPU, 0, 0)\n"
     ]
    },
    {
     "name": "stdout",
     "output_type": "stream",
     "text": [
      "INFO:tensorflow:*** Available Device: _DeviceAttributes(/job:worker/replica:0/task:0/device:CPU:0, CPU, 0, 0)\n"
     ]
    },
    {
     "name": "stderr",
     "output_type": "stream",
     "text": [
      "INFO:tensorflow:*** Available Device: _DeviceAttributes(/job:worker/replica:0/task:0/device:CPU:0, CPU, 0, 0)\n"
     ]
    },
    {
     "name": "stdout",
     "output_type": "stream",
     "text": [
      "INFO:tensorflow:*** Available Device: _DeviceAttributes(/job:worker/replica:0/task:0/device:TPU:0, TPU, 0, 0)\n"
     ]
    },
    {
     "name": "stderr",
     "output_type": "stream",
     "text": [
      "INFO:tensorflow:*** Available Device: _DeviceAttributes(/job:worker/replica:0/task:0/device:TPU:0, TPU, 0, 0)\n"
     ]
    },
    {
     "name": "stdout",
     "output_type": "stream",
     "text": [
      "INFO:tensorflow:*** Available Device: _DeviceAttributes(/job:worker/replica:0/task:0/device:TPU:1, TPU, 0, 0)\n"
     ]
    },
    {
     "name": "stderr",
     "output_type": "stream",
     "text": [
      "INFO:tensorflow:*** Available Device: _DeviceAttributes(/job:worker/replica:0/task:0/device:TPU:1, TPU, 0, 0)\n"
     ]
    },
    {
     "name": "stdout",
     "output_type": "stream",
     "text": [
      "INFO:tensorflow:*** Available Device: _DeviceAttributes(/job:worker/replica:0/task:0/device:TPU:2, TPU, 0, 0)\n"
     ]
    },
    {
     "name": "stderr",
     "output_type": "stream",
     "text": [
      "INFO:tensorflow:*** Available Device: _DeviceAttributes(/job:worker/replica:0/task:0/device:TPU:2, TPU, 0, 0)\n"
     ]
    },
    {
     "name": "stdout",
     "output_type": "stream",
     "text": [
      "INFO:tensorflow:*** Available Device: _DeviceAttributes(/job:worker/replica:0/task:0/device:TPU:3, TPU, 0, 0)\n"
     ]
    },
    {
     "name": "stderr",
     "output_type": "stream",
     "text": [
      "INFO:tensorflow:*** Available Device: _DeviceAttributes(/job:worker/replica:0/task:0/device:TPU:3, TPU, 0, 0)\n"
     ]
    },
    {
     "name": "stdout",
     "output_type": "stream",
     "text": [
      "INFO:tensorflow:*** Available Device: _DeviceAttributes(/job:worker/replica:0/task:0/device:TPU:4, TPU, 0, 0)\n"
     ]
    },
    {
     "name": "stderr",
     "output_type": "stream",
     "text": [
      "INFO:tensorflow:*** Available Device: _DeviceAttributes(/job:worker/replica:0/task:0/device:TPU:4, TPU, 0, 0)\n"
     ]
    },
    {
     "name": "stdout",
     "output_type": "stream",
     "text": [
      "INFO:tensorflow:*** Available Device: _DeviceAttributes(/job:worker/replica:0/task:0/device:TPU:5, TPU, 0, 0)\n"
     ]
    },
    {
     "name": "stderr",
     "output_type": "stream",
     "text": [
      "INFO:tensorflow:*** Available Device: _DeviceAttributes(/job:worker/replica:0/task:0/device:TPU:5, TPU, 0, 0)\n"
     ]
    },
    {
     "name": "stdout",
     "output_type": "stream",
     "text": [
      "INFO:tensorflow:*** Available Device: _DeviceAttributes(/job:worker/replica:0/task:0/device:TPU:6, TPU, 0, 0)\n"
     ]
    },
    {
     "name": "stderr",
     "output_type": "stream",
     "text": [
      "INFO:tensorflow:*** Available Device: _DeviceAttributes(/job:worker/replica:0/task:0/device:TPU:6, TPU, 0, 0)\n"
     ]
    },
    {
     "name": "stdout",
     "output_type": "stream",
     "text": [
      "INFO:tensorflow:*** Available Device: _DeviceAttributes(/job:worker/replica:0/task:0/device:TPU:7, TPU, 0, 0)\n"
     ]
    },
    {
     "name": "stderr",
     "output_type": "stream",
     "text": [
      "INFO:tensorflow:*** Available Device: _DeviceAttributes(/job:worker/replica:0/task:0/device:TPU:7, TPU, 0, 0)\n"
     ]
    },
    {
     "name": "stdout",
     "output_type": "stream",
     "text": [
      "INFO:tensorflow:*** Available Device: _DeviceAttributes(/job:worker/replica:0/task:0/device:TPU_SYSTEM:0, TPU_SYSTEM, 0, 0)\n"
     ]
    },
    {
     "name": "stderr",
     "output_type": "stream",
     "text": [
      "INFO:tensorflow:*** Available Device: _DeviceAttributes(/job:worker/replica:0/task:0/device:TPU_SYSTEM:0, TPU_SYSTEM, 0, 0)\n"
     ]
    },
    {
     "name": "stdout",
     "output_type": "stream",
     "text": [
      "INFO:tensorflow:*** Available Device: _DeviceAttributes(/job:worker/replica:0/task:0/device:XLA_CPU:0, XLA_CPU, 0, 0)\n"
     ]
    },
    {
     "name": "stderr",
     "output_type": "stream",
     "text": [
      "INFO:tensorflow:*** Available Device: _DeviceAttributes(/job:worker/replica:0/task:0/device:XLA_CPU:0, XLA_CPU, 0, 0)\n"
     ]
    }
   ],
   "source": [
    "resolver = tf.distribute.cluster_resolver.TPUClusterResolver(tpu='node-15')\n",
    "tf.config.experimental_connect_to_cluster(resolver)\n",
    "tf.tpu.experimental.initialize_tpu_system(resolver)\n",
    "strategy = tf.distribute.TPUStrategy(resolver)\n",
    "\n",
    "with strategy.scope():\n",
    "    options = tf.data.Options()\n",
    "    #options.experimental_distribute.auto_shard_policy = tf.data.experimental.AutoShardPolicy.FILE\n",
    "    options.deterministic=False\n",
    "    #options.experimental_threading.max_intra_op_parallelism = 1\n",
    "    mixed_precision.set_global_policy('mixed_bfloat16')\n",
    "    tf.config.optimizer.set_jit(True)\n",
    "    #options.num_devices = 64\n",
    "\n",
    "    BATCH_SIZE_PER_REPLICA = 8\n",
    "    NUM_REPLICAS = strategy.num_replicas_in_sync\n",
    "    GLOBAL_BATCH_SIZE = BATCH_SIZE_PER_REPLICA * NUM_REPLICAS"
   ]
  },
  {
   "cell_type": "code",
   "execution_count": 3,
   "id": "69e845e0-86a4-4ec9-b9b0-65e9c88c3a22",
   "metadata": {},
   "outputs": [],
   "source": [
    "with strategy.scope():\n",
    "\n",
    "    train_steps=100#3200#5165 #320\n",
    "    warmup_steps=100\n",
    "    val_steps=10#3200#757 ### 5562\n",
    "    num_epochs=10\n",
    "    lr_base=0.001\n",
    "    warmup_lr=1.0e-06\n",
    "\n",
    "    data_it_tr_list = []\n",
    "    data_it_val_list = []\n",
    "\n",
    "    ### create dataset iterators\n",
    "    heads_dict = {}\n",
    "    orgs = [\"hg\"]\n",
    "    for k, org in enumerate(orgs):\n",
    "        heads_dict[org] = int(k)\n",
    "        \n",
    "    data_dict_tr,data_dict_val = training_utils.return_distributed_iterators(heads_dict,\n",
    "                                                                             \"gs://picard-testing-176520/16k_genecentered_blacklist0.50_atacnormalized/val_holdout\",\n",
    "                                                                             GLOBAL_BATCH_SIZE,\n",
    "                                                                              16384,\n",
    "                                                                              300,\n",
    "                                                                              8,\n",
    "                                                                              num_epochs,\n",
    "                                                                              strategy,\n",
    "                                                                              options)\n"
   ]
  },
  {
   "cell_type": "code",
   "execution_count": 4,
   "id": "1b167152-4fbb-49ec-9aef-8b6c2ac4306f",
   "metadata": {},
   "outputs": [],
   "source": [
    "with strategy.scope():\n",
    "    model = aformer.aformer(kernel_transformation=\"softmax_kernel_transformation\",\n",
    "                                dropout_rate=0.25,\n",
    "                                input_length=16384,\n",
    "                                num_heads=8,\n",
    "                                numerical_stabilizer=0.0000001,\n",
    "                                nb_random_features=256,\n",
    "                                hidden_size=256,\n",
    "                                d_model=256,\n",
    "                                norm=True,\n",
    "                                dim=32,\n",
    "                                max_seq_length = 512,\n",
    "                                rel_pos_bins=128,\n",
    "                                widening = 2, ## ratio between first and second dense layer units in transformer block\n",
    "                                conv_filter_size_1_seq=15,\n",
    "                                conv_filter_size_2_seq=5,\n",
    "                                positional_dropout_rate=0.1,\n",
    "                                transformer_depth=2,\n",
    "                                momentum=0.90,\n",
    "                                channels_list=[192,192,224,224,256,256], \n",
    "                                kernel_regularizer=0.0000001,\n",
    "                                bottleneck_units_tf=64,\n",
    "                                use_mask_pos=False,\n",
    "                                use_rot_emb=True,\n",
    "                                heads_dict=heads_dict)\n",
    "    "
   ]
  },
  {
   "cell_type": "code",
   "execution_count": 5,
   "id": "8962db18-b334-4ec8-a4e9-0e306b7c41a8",
   "metadata": {},
   "outputs": [],
   "source": [
    "with strategy.scope():\n",
    "    scheduler= tf.keras.optimizers.schedules.CosineDecay(\n",
    "        initial_learning_rate=1.0e-04,\n",
    "        decay_steps=1000, alpha=(5.0e-08 / 5.0e-04))\n",
    "    scheduler=WarmUp(initial_learning_rate=1.0e-04,\n",
    "                                 warmup_steps=150,\n",
    "                                 decay_schedule_fn=scheduler)\n",
    "\n",
    "\n",
    "    optimizer = tfa.optimizers.AdamW(learning_rate=scheduler,\n",
    "                                     beta_1=0.9,\n",
    "                                     beta_2=0.999,\n",
    "                                     weight_decay=0.01)\n",
    "\n",
    "    optimizer=tfa.optimizers.Lookahead(optimizer,\n",
    "                                       sync_period=6,\n",
    "                                       slow_step_size=0.5)\n",
    "    "
   ]
  },
  {
   "cell_type": "code",
   "execution_count": 6,
   "id": "8d1770a4-6eb1-418c-9714-1e58fbddcfe4",
   "metadata": {},
   "outputs": [],
   "source": [
    "with strategy.scope():\n",
    "    metric_dict = {}\n",
    "    train_step, val_step, metric_dict = training_utils.return_train_val_functions(model,\n",
    "                                                                                 optimizer,\n",
    "                                                                                 strategy,\n",
    "                                                                                 metric_dict, \n",
    "                                                                                 train_steps,\n",
    "                                                                                 val_steps,\n",
    "                                                                                 GLOBAL_BATCH_SIZE,\n",
    "                                                                                 0.2,\n",
    "                                                                                 True,\n",
    "                                                                                 freq_limit=5000,\n",
    "                                                                                 fourier_loss_scale=1.0) # last is uncropped length\n"
   ]
  },
  {
   "cell_type": "code",
   "execution_count": null,
   "id": "212eac98-310d-4b1b-81ca-278d325d9688",
   "metadata": {},
   "outputs": [
    {
     "name": "stdout",
     "output_type": "stream",
     "text": [
      "hg_train_loss: 0.42095244\n",
      "hg_val_loss: 0.23478432\n",
      "hg_val_pearson: 0.42962533\n",
      "hg_val_R2: 0.0018172779\n",
      "completed epoch 1\n",
      "duration(mins): 2.1150352120399476\n",
      "patience counter at: 0\n",
      "hg_train_loss: 0.359233\n",
      "hg_val_loss: 0.21166821\n",
      "hg_val_pearson: 0.45217815\n",
      "hg_val_R2: 0.021625359\n",
      "completed epoch 2\n",
      "duration(mins): 1.3981056809425354\n",
      "patience counter at: 0\n",
      "hg_train_loss: 0.42707747\n",
      "hg_val_loss: 0.1626913\n",
      "hg_val_pearson: 0.45706415\n",
      "hg_val_R2: 0.029384997\n",
      "completed epoch 3\n",
      "duration(mins): 1.3991238872210185\n",
      "patience counter at: 0\n",
      "hg_train_loss: 0.49718848\n",
      "hg_val_loss: 0.18476918\n",
      "hg_val_pearson: 0.37506136\n",
      "hg_val_R2: 0.0837932\n",
      "completed epoch 4\n",
      "duration(mins): 1.3869090358416238\n",
      "patience counter at: 0\n",
      "hg_train_loss: 0.56810826\n",
      "hg_val_loss: 0.222676\n",
      "hg_val_pearson: 0.42043868\n",
      "hg_val_R2: -0.031031812\n",
      "completed epoch 5\n",
      "duration(mins): 1.3914875348409017\n",
      "patience counter at: 0\n",
      "hg_train_loss: 0.6076771\n",
      "hg_val_loss: 0.2234356\n",
      "hg_val_pearson: 0.41815025\n",
      "hg_val_R2: -0.013806015\n",
      "completed epoch 6\n",
      "duration(mins): 1.3884752869606019\n",
      "patience counter at: 0\n"
     ]
    }
   ],
   "source": [
    "from scipy.stats.stats import pearsonr  \n",
    "with strategy.scope():\n",
    "    def sum_log(x):\n",
    "        return np.log10(1.0 + np.nansum(x))\n",
    "    \n",
    "    global_step = 0\n",
    "    val_losses = []\n",
    "    val_pearsons = []\n",
    "    val_R2 = []\n",
    "    patience_counter = 0\n",
    "    stop_criteria = False\n",
    "    best_epoch = 0\n",
    "\n",
    "    for epoch_i in range(1, 15):\n",
    "        start = time.time()\n",
    "        #if epoch_i > 2 : \n",
    "        lr, it = train_step(data_dict_tr['hg'])\n",
    "\n",
    "                   #data_dict_tr['mm'],\n",
    "                   #data_dict_tr['rm'])\n",
    "        print('hg_train_loss: ' + str(metric_dict['hg_tr'].result().numpy()))\n",
    "        \n",
    "        #print('hg_lr: ' + str(lr.numpy()))\n",
    "        #print('hg_it: ' + str(it.numpy()))\n",
    "        \n",
    "        val_step(data_dict_val['hg'])\n",
    "  \n",
    "        val_losses.append(metric_dict['hg_val'].result().numpy())\n",
    "        print('hg_val_loss: ' + str(metric_dict['hg_val'].result().numpy()))\n",
    "        print('hg_val_pearson: ' + str(metric_dict['hg_corr_stats'].result()['pearsonR'].numpy()))\n",
    "        print('hg_val_R2: ' + str(metric_dict['hg_corr_stats'].result()['R2'].numpy()))\n",
    "\n",
    "        end = time.time()\n",
    "        duration = (end - start) / 60.\n",
    "        print('completed epoch ' + str(epoch_i))\n",
    "        print('duration(mins): ' + str(duration))\n",
    "        print('patience counter at: ' + str(patience_counter))\n",
    "\n",
    "        for key, item in metric_dict.items():\n",
    "            item.reset_state()"
   ]
  },
  {
   "cell_type": "code",
   "execution_count": null,
   "id": "a22e12a8-acff-4721-92e7-6dfb3411df2d",
   "metadata": {},
   "outputs": [],
   "source": [
    "test = tf.constant([[[1,2],[3,4]]])"
   ]
  },
  {
   "cell_type": "code",
   "execution_count": null,
   "id": "afaf8043-a021-4268-ad75-54df03e262fa",
   "metadata": {},
   "outputs": [],
   "source": [
    "test"
   ]
  },
  {
   "cell_type": "code",
   "execution_count": 19,
   "id": "0fa80f3f-f977-486a-88f1-395fd1c8ef70",
   "metadata": {},
   "outputs": [],
   "source": [
    "test1 = tf.constant([[[1,2],[3,4],[5,6]]])"
   ]
  },
  {
   "cell_type": "code",
   "execution_count": 20,
   "id": "b9c04a88-af9f-42ee-b3bd-a4fb627d4896",
   "metadata": {},
   "outputs": [
    {
     "data": {
      "text/plain": [
       "<tf.Tensor: shape=(1, 3, 2), dtype=int32, numpy=\n",
       "array([[[1, 2],\n",
       "        [3, 4],\n",
       "        [5, 6]]], dtype=int32)>"
      ]
     },
     "execution_count": 20,
     "metadata": {},
     "output_type": "execute_result"
    }
   ],
   "source": [
    "test1"
   ]
  },
  {
   "cell_type": "code",
   "execution_count": 24,
   "id": "ba36f9ac-7019-4051-ae0e-5e9e9c968ac6",
   "metadata": {},
   "outputs": [
    {
     "data": {
      "text/plain": [
       "<tf.Tensor: shape=(1, 5, 2), dtype=int32, numpy=\n",
       "array([[[1, 2],\n",
       "        [3, 4],\n",
       "        [1, 2],\n",
       "        [3, 4],\n",
       "        [5, 6]]], dtype=int32)>"
      ]
     },
     "execution_count": 24,
     "metadata": {},
     "output_type": "execute_result"
    }
   ],
   "source": [
    "tf.concat([test,test1],1)"
   ]
  },
  {
   "cell_type": "code",
   "execution_count": 5,
   "id": "54bc0439-0f71-466a-aa58-17411d4fe837",
   "metadata": {},
   "outputs": [
    {
     "data": {
      "text/plain": [
       "{'sequence': <tf.Tensor: shape=(196618, 4), dtype=float32, numpy=\n",
       " array([[1., 0., 0., 0.],\n",
       "        [0., 0., 1., 0.],\n",
       "        [0., 0., 0., 1.],\n",
       "        ...,\n",
       "        [0., 0., 0., 1.],\n",
       "        [0., 0., 1., 0.],\n",
       "        [1., 0., 0., 0.]], dtype=float32)>,\n",
       " 'target': <tf.Tensor: shape=(1536, 638), dtype=float32, numpy=\n",
       " array([[0.9145508 , 0.02076721, 0.4880371 , ..., 0.        , 0.3100586 ,\n",
       "         0.3515625 ],\n",
       "        [2.7988281 , 0.        , 0.        , ..., 0.        , 1.8173828 ,\n",
       "         3.3164062 ],\n",
       "        [1.6035156 , 0.7783203 , 0.        , ..., 0.        , 1.0400391 ,\n",
       "         1.5097656 ],\n",
       "        ...,\n",
       "        [0.        , 0.        , 0.9321289 , ..., 0.32641602, 0.        ,\n",
       "         0.        ],\n",
       "        [0.28588867, 0.        , 0.        , ..., 0.5761719 , 0.        ,\n",
       "         0.        ],\n",
       "        [0.6435547 , 0.08062744, 0.04122925, ..., 0.        , 0.        ,\n",
       "         0.07501221]], dtype=float32)>,\n",
       " 'tss_mask': <tf.Tensor: shape=(1536, 1), dtype=int32, numpy=\n",
       " array([[0],\n",
       "        [0],\n",
       "        [0],\n",
       "        ...,\n",
       "        [0],\n",
       "        [0],\n",
       "        [0]], dtype=int32)>,\n",
       " 'gene_name': <tf.Tensor: shape=(), dtype=string, numpy=b'RTF2'>}"
      ]
     },
     "execution_count": 5,
     "metadata": {},
     "output_type": "execute_result"
    }
   ],
   "source": [
    "def deserialize(serialized_example):\n",
    "    \"\"\"Deserialize bytes stored in TFRecordFile.\"\"\"\n",
    "    feature_map = {\n",
    "      'sequence': tf.io.FixedLenFeature([], tf.string),\n",
    "      'target': tf.io.FixedLenFeature([], tf.string),\n",
    "      'tss_mask': tf.io.FixedLenFeature([], tf.string),\n",
    "      'gene_name': tf.io.FixedLenFeature([], tf.string)\n",
    "    }\n",
    "\n",
    "    example = tf.io.parse_example(serialized_example, feature_map)\n",
    "    sequence = tf.io.decode_raw(example['sequence'], tf.bool)\n",
    "    #print(sequence)\n",
    "    sequence = tf.reshape(sequence, (196618, 4))\n",
    "    #print(sequence)\n",
    "    sequence = tf.cast(sequence, tf.float32)\n",
    "    #print(sequence)\n",
    "\n",
    "    target = tf.io.decode_raw(example['target'], tf.float16)\n",
    "\n",
    "    target = tf.reshape(target,\n",
    "                        (1536, 638))\n",
    "    target = tf.cast(target, tf.float32)\n",
    "\n",
    "    tss_mask = tf.ensure_shape(tf.io.parse_tensor(example['tss_mask'],\n",
    "                                              out_type=tf.int32),\n",
    "                           [1536,1])\n",
    "\n",
    "    return {'sequence': sequence,\n",
    "            'target': target,\n",
    "            'tss_mask': tss_mask,\n",
    "            'gene_name': example['gene_name']}\n",
    "\n",
    "dataset = tf.data.TFRecordDataset(\"gs://genformer_data/data/human_genecentered_validation/tfrecords/valid-0.tfr\",\n",
    "                                compression_type='ZLIB',\n",
    "                                num_parallel_reads=4)\n",
    "dataset = dataset.map(lambda record: deserialize(record),\n",
    "                    num_parallel_calls=4)\n",
    "iter_data = iter(dataset)\n",
    "\n",
    "next(iter_data)"
   ]
  },
  {
   "cell_type": "code",
   "execution_count": 6,
   "id": "440b8656-a70c-472b-a21e-940065c5e136",
   "metadata": {},
   "outputs": [],
   "source": [
    "out = next(iter_data)"
   ]
  },
  {
   "cell_type": "code",
   "execution_count": 7,
   "id": "1a2a6a06-3921-49ff-b150-e165f3a75abc",
   "metadata": {},
   "outputs": [
    {
     "data": {
      "text/plain": [
       "<tf.Tensor: shape=(), dtype=int32, numpy=6>"
      ]
     },
     "execution_count": 7,
     "metadata": {},
     "output_type": "execute_result"
    }
   ],
   "source": [
    "tf.reduce_sum(out['tss_mask'])"
   ]
  },
  {
   "cell_type": "code",
   "execution_count": 8,
   "id": "e95f7c61-2f73-46ea-a7c3-5b9ffb6dfcb6",
   "metadata": {},
   "outputs": [],
   "source": [
    "zero = tf.constant(0, dtype=tf.int32)\n",
    "where = tf.not_equal(out['tss_mask'], zero)"
   ]
  },
  {
   "cell_type": "code",
   "execution_count": 10,
   "id": "6e845f7a-1b02-4058-86b2-b29a4bdbed1a",
   "metadata": {},
   "outputs": [
    {
     "data": {
      "text/plain": [
       "<tf.Tensor: shape=(3, 2), dtype=int64, numpy=\n",
       "array([[4044,    0],\n",
       "       [4045,    0],\n",
       "       [4046,    0]])>"
      ]
     },
     "execution_count": 10,
     "metadata": {},
     "output_type": "execute_result"
    }
   ],
   "source": [
    "indices = tf.where(where)\n",
    "indices"
   ]
  },
  {
   "cell_type": "code",
   "execution_count": 11,
   "id": "f9268b9e-ecb7-40b9-99c7-75df9882b612",
   "metadata": {},
   "outputs": [
    {
     "data": {
      "text/plain": [
       "8090"
      ]
     },
     "execution_count": 11,
     "metadata": {},
     "output_type": "execute_result"
    }
   ],
   "source": [
    "4045 * 2 "
   ]
  },
  {
   "cell_type": "code",
   "execution_count": 12,
   "id": "3b810afa-af37-473e-9572-9b7a8a5cb77e",
   "metadata": {},
   "outputs": [
    {
     "data": {
      "text/plain": [
       "<tf.Tensor: shape=(4, 4), dtype=float32, numpy=\n",
       "array([[0., 0., 1., 0.],\n",
       "       [0., 1., 0., 0.],\n",
       "       [1., 0., 0., 0.],\n",
       "       [0., 0., 0., 1.]], dtype=float32)>"
      ]
     },
     "execution_count": 12,
     "metadata": {},
     "output_type": "execute_result"
    }
   ],
   "source": [
    "seq_rc = tf.gather(one_hot_encode('ATGC'), [3, 2, 1, 0], axis=-1)\n",
    "seq_rc = tf.reverse(seq_rc, axis=[0])\n",
    "seq_rc"
   ]
  },
  {
   "cell_type": "code",
   "execution_count": null,
   "id": "fb12d0cc-583f-4e42-a8aa-bb5b1818e167",
   "metadata": {},
   "outputs": [],
   "source": []
  }
 ],
 "metadata": {
  "environment": {
   "name": "tf2-cpu.2-6.m81",
   "type": "gcloud",
   "uri": "gcr.io/deeplearning-platform-release/tf2-cpu.2-6:m81"
  },
  "kernelspec": {
   "display_name": "Python 3",
   "language": "python",
   "name": "python3"
  },
  "language_info": {
   "codemirror_mode": {
    "name": "ipython",
    "version": 3
   },
   "file_extension": ".py",
   "mimetype": "text/x-python",
   "name": "python",
   "nbconvert_exporter": "python",
   "pygments_lexer": "ipython3",
   "version": "3.7.10"
  }
 },
 "nbformat": 4,
 "nbformat_minor": 5
}
